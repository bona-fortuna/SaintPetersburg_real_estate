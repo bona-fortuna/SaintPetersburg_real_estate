{
 "cells": [
  {
   "cell_type": "markdown",
   "metadata": {},
   "source": [
    "# Исследование рынка недвижимости Санкт-Петербурга на основе объявлений о продаже квартир\n",
    "\n",
    "<b>Контекст проекта:</b> <br>В нашем распоряжении данные сервиса Яндекс.Недвижимость — архив объявлений о продаже квартир в Санкт-Петербурге и соседних населённых пунктов за несколько лет. Нужно определить зависимость рыночной стоимости объектов недвижимости от различных параметров: от расстояния от центра, от площади квартиры, от количества комнат и т.д. Это позволит построить автоматизированную систему: она отследит аномалии и мошенническую деятельность. \n",
    "\n",
    "По каждой квартире на продажу доступны два вида данных. Первые вписаны пользователем, вторые — получены автоматически на основе картографических данных. Например, расстояние до центра, аэропорта, ближайшего парка и водоёма. "
   ]
  },
  {
   "cell_type": "markdown",
   "metadata": {},
   "source": [
    "## Импорт необходимых библиотек и данных для анализа "
   ]
  },
  {
   "cell_type": "code",
   "execution_count": 6,
   "metadata": {},
   "outputs": [],
   "source": [
    "# импорт библиотек\n",
    "import pandas as pd\n",
    "import matplotlib.pyplot as plt"
   ]
  },
  {
   "cell_type": "code",
   "execution_count": 3,
   "metadata": {},
   "outputs": [
    {
     "name": "stdout",
     "output_type": "stream",
     "text": [
      "<class 'pandas.core.frame.DataFrame'>\n",
      "RangeIndex: 23699 entries, 0 to 23698\n",
      "Data columns (total 22 columns):\n",
      " #   Column                Non-Null Count  Dtype  \n",
      "---  ------                --------------  -----  \n",
      " 0   total_images          23699 non-null  int64  \n",
      " 1   last_price            23699 non-null  float64\n",
      " 2   total_area            23699 non-null  float64\n",
      " 3   first_day_exposition  23699 non-null  object \n",
      " 4   rooms                 23699 non-null  int64  \n",
      " 5   ceiling_height        14504 non-null  float64\n",
      " 6   floors_total          23613 non-null  float64\n",
      " 7   living_area           21796 non-null  float64\n",
      " 8   floor                 23699 non-null  int64  \n",
      " 9   is_apartment          2775 non-null   object \n",
      " 10  studio                23699 non-null  bool   \n",
      " 11  open_plan             23699 non-null  bool   \n",
      " 12  kitchen_area          21421 non-null  float64\n",
      " 13  balcony               12180 non-null  float64\n",
      " 14  locality_name         23650 non-null  object \n",
      " 15  airports_nearest      18157 non-null  float64\n",
      " 16  cityCenters_nearest   18180 non-null  float64\n",
      " 17  parks_around3000      18181 non-null  float64\n",
      " 18  parks_nearest         8079 non-null   float64\n",
      " 19  ponds_around3000      18181 non-null  float64\n",
      " 20  ponds_nearest         9110 non-null   float64\n",
      " 21  days_exposition       20518 non-null  float64\n",
      "dtypes: bool(2), float64(14), int64(3), object(3)\n",
      "memory usage: 3.7+ MB\n"
     ]
    }
   ],
   "source": [
    "# импорт и знакомство с данными\n",
    "df = pd.read_csv('/datasets/real_estate_data.csv', sep='\\t')\n",
    "df.info()"
   ]
  },
  {
   "cell_type": "code",
   "execution_count": 4,
   "metadata": {},
   "outputs": [
    {
     "data": {
      "text/html": [
       "<div>\n",
       "<style scoped>\n",
       "    .dataframe tbody tr th:only-of-type {\n",
       "        vertical-align: middle;\n",
       "    }\n",
       "\n",
       "    .dataframe tbody tr th {\n",
       "        vertical-align: top;\n",
       "    }\n",
       "\n",
       "    .dataframe thead th {\n",
       "        text-align: right;\n",
       "    }\n",
       "</style>\n",
       "<table border=\"1\" class=\"dataframe\">\n",
       "  <thead>\n",
       "    <tr style=\"text-align: right;\">\n",
       "      <th></th>\n",
       "      <th>total_images</th>\n",
       "      <th>last_price</th>\n",
       "      <th>total_area</th>\n",
       "      <th>first_day_exposition</th>\n",
       "      <th>rooms</th>\n",
       "      <th>ceiling_height</th>\n",
       "      <th>floors_total</th>\n",
       "      <th>living_area</th>\n",
       "      <th>floor</th>\n",
       "      <th>is_apartment</th>\n",
       "      <th>...</th>\n",
       "      <th>kitchen_area</th>\n",
       "      <th>balcony</th>\n",
       "      <th>locality_name</th>\n",
       "      <th>airports_nearest</th>\n",
       "      <th>cityCenters_nearest</th>\n",
       "      <th>parks_around3000</th>\n",
       "      <th>parks_nearest</th>\n",
       "      <th>ponds_around3000</th>\n",
       "      <th>ponds_nearest</th>\n",
       "      <th>days_exposition</th>\n",
       "    </tr>\n",
       "  </thead>\n",
       "  <tbody>\n",
       "    <tr>\n",
       "      <th>0</th>\n",
       "      <td>20</td>\n",
       "      <td>13000000.0</td>\n",
       "      <td>108.0</td>\n",
       "      <td>2019-03-07T00:00:00</td>\n",
       "      <td>3</td>\n",
       "      <td>2.70</td>\n",
       "      <td>16.0</td>\n",
       "      <td>51.0</td>\n",
       "      <td>8</td>\n",
       "      <td>NaN</td>\n",
       "      <td>...</td>\n",
       "      <td>25.0</td>\n",
       "      <td>NaN</td>\n",
       "      <td>Санкт-Петербург</td>\n",
       "      <td>18863.0</td>\n",
       "      <td>16028.0</td>\n",
       "      <td>1.0</td>\n",
       "      <td>482.0</td>\n",
       "      <td>2.0</td>\n",
       "      <td>755.0</td>\n",
       "      <td>NaN</td>\n",
       "    </tr>\n",
       "    <tr>\n",
       "      <th>1</th>\n",
       "      <td>7</td>\n",
       "      <td>3350000.0</td>\n",
       "      <td>40.4</td>\n",
       "      <td>2018-12-04T00:00:00</td>\n",
       "      <td>1</td>\n",
       "      <td>NaN</td>\n",
       "      <td>11.0</td>\n",
       "      <td>18.6</td>\n",
       "      <td>1</td>\n",
       "      <td>NaN</td>\n",
       "      <td>...</td>\n",
       "      <td>11.0</td>\n",
       "      <td>2.0</td>\n",
       "      <td>посёлок Шушары</td>\n",
       "      <td>12817.0</td>\n",
       "      <td>18603.0</td>\n",
       "      <td>0.0</td>\n",
       "      <td>NaN</td>\n",
       "      <td>0.0</td>\n",
       "      <td>NaN</td>\n",
       "      <td>81.0</td>\n",
       "    </tr>\n",
       "    <tr>\n",
       "      <th>2</th>\n",
       "      <td>10</td>\n",
       "      <td>5196000.0</td>\n",
       "      <td>56.0</td>\n",
       "      <td>2015-08-20T00:00:00</td>\n",
       "      <td>2</td>\n",
       "      <td>NaN</td>\n",
       "      <td>5.0</td>\n",
       "      <td>34.3</td>\n",
       "      <td>4</td>\n",
       "      <td>NaN</td>\n",
       "      <td>...</td>\n",
       "      <td>8.3</td>\n",
       "      <td>0.0</td>\n",
       "      <td>Санкт-Петербург</td>\n",
       "      <td>21741.0</td>\n",
       "      <td>13933.0</td>\n",
       "      <td>1.0</td>\n",
       "      <td>90.0</td>\n",
       "      <td>2.0</td>\n",
       "      <td>574.0</td>\n",
       "      <td>558.0</td>\n",
       "    </tr>\n",
       "    <tr>\n",
       "      <th>3</th>\n",
       "      <td>0</td>\n",
       "      <td>64900000.0</td>\n",
       "      <td>159.0</td>\n",
       "      <td>2015-07-24T00:00:00</td>\n",
       "      <td>3</td>\n",
       "      <td>NaN</td>\n",
       "      <td>14.0</td>\n",
       "      <td>NaN</td>\n",
       "      <td>9</td>\n",
       "      <td>NaN</td>\n",
       "      <td>...</td>\n",
       "      <td>NaN</td>\n",
       "      <td>0.0</td>\n",
       "      <td>Санкт-Петербург</td>\n",
       "      <td>28098.0</td>\n",
       "      <td>6800.0</td>\n",
       "      <td>2.0</td>\n",
       "      <td>84.0</td>\n",
       "      <td>3.0</td>\n",
       "      <td>234.0</td>\n",
       "      <td>424.0</td>\n",
       "    </tr>\n",
       "    <tr>\n",
       "      <th>4</th>\n",
       "      <td>2</td>\n",
       "      <td>10000000.0</td>\n",
       "      <td>100.0</td>\n",
       "      <td>2018-06-19T00:00:00</td>\n",
       "      <td>2</td>\n",
       "      <td>3.03</td>\n",
       "      <td>14.0</td>\n",
       "      <td>32.0</td>\n",
       "      <td>13</td>\n",
       "      <td>NaN</td>\n",
       "      <td>...</td>\n",
       "      <td>41.0</td>\n",
       "      <td>NaN</td>\n",
       "      <td>Санкт-Петербург</td>\n",
       "      <td>31856.0</td>\n",
       "      <td>8098.0</td>\n",
       "      <td>2.0</td>\n",
       "      <td>112.0</td>\n",
       "      <td>1.0</td>\n",
       "      <td>48.0</td>\n",
       "      <td>121.0</td>\n",
       "    </tr>\n",
       "  </tbody>\n",
       "</table>\n",
       "<p>5 rows × 22 columns</p>\n",
       "</div>"
      ],
      "text/plain": [
       "   total_images  last_price  total_area first_day_exposition  rooms  \\\n",
       "0            20  13000000.0       108.0  2019-03-07T00:00:00      3   \n",
       "1             7   3350000.0        40.4  2018-12-04T00:00:00      1   \n",
       "2            10   5196000.0        56.0  2015-08-20T00:00:00      2   \n",
       "3             0  64900000.0       159.0  2015-07-24T00:00:00      3   \n",
       "4             2  10000000.0       100.0  2018-06-19T00:00:00      2   \n",
       "\n",
       "   ceiling_height  floors_total  living_area  floor is_apartment  ...  \\\n",
       "0            2.70          16.0         51.0      8          NaN  ...   \n",
       "1             NaN          11.0         18.6      1          NaN  ...   \n",
       "2             NaN           5.0         34.3      4          NaN  ...   \n",
       "3             NaN          14.0          NaN      9          NaN  ...   \n",
       "4            3.03          14.0         32.0     13          NaN  ...   \n",
       "\n",
       "   kitchen_area  balcony    locality_name  airports_nearest  \\\n",
       "0          25.0      NaN  Санкт-Петербург           18863.0   \n",
       "1          11.0      2.0   посёлок Шушары           12817.0   \n",
       "2           8.3      0.0  Санкт-Петербург           21741.0   \n",
       "3           NaN      0.0  Санкт-Петербург           28098.0   \n",
       "4          41.0      NaN  Санкт-Петербург           31856.0   \n",
       "\n",
       "  cityCenters_nearest  parks_around3000  parks_nearest  ponds_around3000  \\\n",
       "0             16028.0               1.0          482.0               2.0   \n",
       "1             18603.0               0.0            NaN               0.0   \n",
       "2             13933.0               1.0           90.0               2.0   \n",
       "3              6800.0               2.0           84.0               3.0   \n",
       "4              8098.0               2.0          112.0               1.0   \n",
       "\n",
       "   ponds_nearest  days_exposition  \n",
       "0          755.0              NaN  \n",
       "1            NaN             81.0  \n",
       "2          574.0            558.0  \n",
       "3          234.0            424.0  \n",
       "4           48.0            121.0  \n",
       "\n",
       "[5 rows x 22 columns]"
      ]
     },
     "execution_count": 4,
     "metadata": {},
     "output_type": "execute_result"
    }
   ],
   "source": [
    "# просмотр первых пяти записей\n",
    "df.head()"
   ]
  },
  {
   "cell_type": "code",
   "execution_count": 7,
   "metadata": {},
   "outputs": [
    {
     "data": {
      "image/png": "[encoded data removed]",
      "text/plain": [
       "<Figure size 1080x1440 with 20 Axes>"
      ]
     },
     "metadata": {
      "needs_background": "light"
     },
     "output_type": "display_data"
    }
   ],
   "source": [
    "# посмотрим на \"ознакомительные\" гистограммы по всем полям\n",
    "df.hist(figsize=(15, 20))\n",
    "plt.show()"
   ]
  },
  {
   "cell_type": "code",
   "execution_count": 4,
   "metadata": {},
   "outputs": [
    {
     "data": {
      "text/plain": [
       "(23699, 22)"
      ]
     },
     "execution_count": 4,
     "metadata": {},
     "output_type": "execute_result"
    }
   ],
   "source": [
    "df.shape"
   ]
  },
  {
   "cell_type": "markdown",
   "metadata": {},
   "source": [
    "**<font color=\"maroon\">В датафрейме 22 колонки и 23699 строк. Колонка total_images хорошо без пропусков заполнена, но в предстоящем анализе мы её не будем использовать. В колонке last_price сразу видно по гистограмме что есть очень мало очень больших значений, их мы исключим из анализа, так как редкие явления не помогают описывать казуальные явления. То же можно сказать про колонки содержащие информацию о площадях (общую, жилую, кухни), и о количестве комнат: будем исключать выбросы. Перед этим поработаем спропусками, с типами данных. В конце проведём исследовательский анализ данных на предмет поиска основных параметров влияющих на цену квартир.</font>**"
   ]
  },
  {
   "cell_type": "markdown",
   "metadata": {},
   "source": [
    "<div class=\"alert alert-block alert-warning\">\n",
    " \n",
    "### Комментарий ревьюера\n",
    "    \n",
    "#### Совет\n",
    "\n",
    "Классно, что ты вывел распределение по каждому столбцу. В конца знакомства с данными принято добавлять информацию о том, что мы обнаружили в ходе знакомства с датасетом. А еще, примерно накидывают план дальнейших действий. \n",
    "</div "
   ]
  },
  {
   "cell_type": "markdown",
   "metadata": {},
   "source": [
    "### Предобработка данных"
   ]
  },
  {
   "cell_type": "markdown",
   "metadata": {},
   "source": [
    "**2.1 Подсчёт количества пропусков по столбцам**"
   ]
  },
  {
   "cell_type": "code",
   "execution_count": 5,
   "metadata": {},
   "outputs": [],
   "source": [
    "#len(df) - 23699 всего строк\n",
    "#df['total_images'].isna().sum() - 0\n",
    "#df['last_price'].isna().sum() - 0\n",
    "#df['total_area'].isna().sum() - 0\n",
    "#df['first_day_exposition'].isna().sum() - 0\n",
    "#df['rooms'].isna().sum() - 0\n",
    "#df['ceiling_height'].isna().sum() - 9195\n",
    "#df['floors_total'].isna().sum() - 86\n",
    "#df['living_area'].isna().sum() - 1903\n",
    "#df['floor'].isna().sum() - 0\n",
    "#df['is_apartment'].isna().sum() - 20924\n",
    "#df['is_apartment'].value_counts()\n",
    "#df['studio'].isna().sum() - 0\n",
    "#df['open_plan'].isna().sum() - 0\n",
    "#df['kitchen_area'].isna().sum() - 2278\n",
    "#df['balcony'].isna().sum() - 11519\n",
    "df['balcony'] = df['balcony'].fillna(0) # заменили пропуски в этом столбце на 0\n",
    "#df['balcony'].isna().sum() - 0\n",
    "#df['locality_name'].isna().sum() - 49\n",
    "#df['airports_nearest'].isna().sum() - 5542\n",
    "#df['cityCenters_nearest'].isna().sum() - 5519\n",
    "#df['parks_around3000'].isna().sum() - 5518\n",
    "#df['parks_nearest'].isna().sum() - 15620\n",
    "#df['ponds_around3000'].isna().sum() - 5518\n",
    "#df['ponds_nearest'].isna().sum() - 14589\n",
    "#df['days_exposition'].isna().sum() - 3181"
   ]
  },
  {
   "cell_type": "markdown",
   "metadata": {},
   "source": [
    "- Пропуски в колонке высота потолка имеются почти в 9195 строках, продавцы не посчитали важным указать высоту потолка, т.к. возможно у них стандартная высота потолков, **<font color=\"maroon\">возможно люди не знают высоту своих потолков, возможно баг</font>**;\n",
    "- **<font color=\"maroon\">Пропуски в колонке количество этажей встречаются 86 раз. Предположу что эти люди не знают этажность своего дома.</font>**\n",
    "- Жилая площадь не указана у 1903 квартир, возможно это квартиры выведенные из жилого фонда, или апартаменты;\n",
    "- 20924 пропусков встречается в столбце 'is_apartment', **<font color=\"maroon\">возможно люди, как и я, не знают что такое апартаменты, возможно баг</font>**;\n",
    "- В столбце площадь кухни 2278 пропусков, возможно это квартиры без отдельной кухни, **<font color=\"maroon\">возможно люди не знают площадь кухни, возможно баг</font>**;\n",
    "- 11519 пропусков в столбце 'balcony', согласно условию пропуск означает отсутствие балкона - заменили эти пропуски на 0;\n",
    "- 49 пропусков в названии населённого пункта, ~~не могу понять причину, мне кажется ни о чём не говорят эти пропуски~~ **<font color=\"maroon\">думаю 49 человек не указали населённый пункт</font>**;\n",
    "- 5542 - в столбце 'airports_nearest', ~~не могу понять причину, мне кажется ни о чём не говорят эти пропуски~~ **<font color=\"maroon\">так как эта картографическая информация, возможно пользователь не указал адрес, или указал неточный/неполный адрес, или картографическая система дала сбой при определении местонахождения квартиры.</font>**;\n",
    "- 5519 - в столбце 'cityCenters_nearest' ~~не могу понять причину, мне кажется ни о чём не говорят эти пропуски~~ **<font color=\"maroon\">так как эта картографическая информация, возможно пользователь не указал адрес, или указал неточный/неполный адрес, или картографическая система дала сбой при определении местонахождения квартиры.</font>**;\n",
    "- 5518 - в столбце 'parks_around3000' ~~не могу понять причину, мне кажется ни о чём не говорят эти пропуски~~ **<font color=\"maroon\">так как эта картографическая информация, возможно пользователь не указал адрес, или указал неточный/неполный адрес, или картографическая система дала сбой при определении местонахождения квартиры.</font>**;\n",
    "- 15620 - в столбце 'parks_nearest' ~~не могу понять причину, мне кажется ни о чём не говорят эти пропуски~~ **<font color=\"maroon\">так как эта картографическая информация, возможно пользователь не указал адрес, или указал неточный/неполный адрес, или картографическая система дала сбой при определении местонахождения квартиры.</font>**;\n",
    "- 5518 - в столбце 'ponds_around3000' ~~не могу понять причину, мне кажется ни о чём не говорят эти пропуски~~ **<font color=\"maroon\">так как эта картографическая информация, возможно пользователь не указал адрес, или указал неточный/неполный адрес, или картографическая система дала сбой при определении местонахождения квартиры.</font>**;\n",
    "- 14589 - в столбце 'ponds_nearest' ~~не могу понять причину, мне кажется ни о чём не говорят эти пропуски~~ **<font color=\"maroon\">так как эта картографическая информация, возможно пользователь не указал адрес, или указал неточный/неполный адрес, или картографическая система дала сбой при определении местонахождения квартиры.</font>**;\n",
    "- 3181 - в столбце 'days_exposition' ~~не могу понять причину, мне кажется ни о чём не говорят эти пропуски~~ **<font color=\"maroon\">Возможно данные квартиры ещё не проданы поэтому, так как неизвестна конечная дата, продолжительность экспозиции не посчиталась.</font>**;"
   ]
  },
  {
   "cell_type": "markdown",
   "metadata": {},
   "source": [
    "<div class=\"alert alert-block alert-danger\">\n",
    " \n",
    "### Комментарий ревьюера\n",
    "    \n",
    "#### Ошибка\n",
    "    \n",
    "А вот тут можно посмотреть на данные более детально. Напримерно, у тебя есть пропуски в высоте потолков. Обычно, высота потолкой в домах +- стандартизированна. Это значит, тут можно заменить пропуски медианой и мы нигде сильно не отобьемся от общей логики. Дальше ты это сделаешь, но это просто как один из примеров проработки замены пропусков.\n",
    "\n",
    "\n",
    "Теперь о причинах возникновения. Так просто не пойдет. Вот смотри, пропуски в той же высоте потолков наверняка вызваны тем, что люди при заполнении объявления просто ее не знают. Вот по плодащям тут уже два фактора может быть. Люди не знают точно, сколько у них площадь кухни или жилая, и возможен технический баг, когда данные просто не доехали.\n",
    "    \n",
    "    \n",
    "Пропуски это очень ценная вещь, которая может сказать о многом. Важно пройтись хотя бы по основным столбцам. Попробуй высказать предположения.  \n",
    "</div "
   ]
  },
  {
   "cell_type": "markdown",
   "metadata": {},
   "source": [
    "<div class=\"alert alert-block alert-success\">\n",
    " \n",
    "# Комментарий ревьюера ver.2\n",
    "    \n",
    "#### Успех\n",
    "    \n",
    "Здесь отлично теперь получилось\n",
    "</div "
   ]
  },
  {
   "cell_type": "markdown",
   "metadata": {},
   "source": [
    "**2.2 Работа с типами данных**"
   ]
  },
  {
   "cell_type": "markdown",
   "metadata": {},
   "source": [
    "В столбце first_day_exposition указана дата размещения объявления, поменяем тип на datetime, при этом уберём бесполезные нули в H M S:"
   ]
  },
  {
   "cell_type": "code",
   "execution_count": 6,
   "metadata": {
    "scrolled": true
   },
   "outputs": [
    {
     "data": {
      "text/plain": [
       "0       2019-03-07\n",
       "1       2018-12-04\n",
       "2       2015-08-20\n",
       "3       2015-07-24\n",
       "4       2018-06-19\n",
       "           ...    \n",
       "23694   2017-03-21\n",
       "23695   2018-01-15\n",
       "23696   2018-02-11\n",
       "23697   2017-03-28\n",
       "23698   2017-07-21\n",
       "Name: first_day_exposition, Length: 23699, dtype: datetime64[ns]"
      ]
     },
     "execution_count": 6,
     "metadata": {},
     "output_type": "execute_result"
    }
   ],
   "source": [
    "df['first_day_exposition'] = pd.to_datetime(df['first_day_exposition'], format='%Y-%m-%d')\n",
    "df['first_day_exposition']"
   ]
  },
  {
   "cell_type": "markdown",
   "metadata": {},
   "source": [
    "<div class=\"alert alert-block alert-success\">\n",
    " \n",
    "### Комментарий ревьюера\n",
    "    \n",
    "#### Успех\n",
    "    \n",
    "Тут отличный перевод данных в формат даты. \n",
    "</div "
   ]
  },
  {
   "cell_type": "markdown",
   "metadata": {},
   "source": [
    "Столбец days_exposition тоже переведём в datetime формат, не трогая пропуски:"
   ]
  },
  {
   "cell_type": "code",
   "execution_count": 7,
   "metadata": {},
   "outputs": [
    {
     "data": {
      "text/plain": [
       "0            NaT\n",
       "1        81 days\n",
       "2       558 days\n",
       "3       424 days\n",
       "4       121 days\n",
       "          ...   \n",
       "23694        NaT\n",
       "23695    45 days\n",
       "23696        NaT\n",
       "23697   602 days\n",
       "23698        NaT\n",
       "Name: days_exposition_formatted, Length: 23699, dtype: timedelta64[ns]"
      ]
     },
     "execution_count": 7,
     "metadata": {},
     "output_type": "execute_result"
    }
   ],
   "source": [
    "df['days_exposition_formatted'] = pd.to_timedelta(df[~df['days_exposition'].isna()]['days_exposition'].astype(int), unit='d')\n",
    "df['days_exposition_formatted']"
   ]
  },
  {
   "cell_type": "markdown",
   "metadata": {},
   "source": [
    "Колонку с количеством балконов переведём в тип int:"
   ]
  },
  {
   "cell_type": "code",
   "execution_count": 8,
   "metadata": {},
   "outputs": [
    {
     "data": {
      "text/plain": [
       "0        0\n",
       "1        2\n",
       "2        0\n",
       "3        0\n",
       "4        0\n",
       "        ..\n",
       "23694    0\n",
       "23695    0\n",
       "23696    0\n",
       "23697    2\n",
       "23698    0\n",
       "Name: balcony, Length: 23699, dtype: int32"
      ]
     },
     "execution_count": 8,
     "metadata": {},
     "output_type": "execute_result"
    }
   ],
   "source": [
    "df['balcony'] = df['balcony'].astype('int32')\n",
    "df['balcony']"
   ]
  },
  {
   "cell_type": "markdown",
   "metadata": {},
   "source": [
    "<div class=\"alert alert-block alert-warning\">\n",
    " \n",
    "### Комментарий ревьюера\n",
    "    \n",
    "#### Совет\n",
    "    \n",
    "Для экономии вычислительной памяти можно перевести в формат int32 \n",
    "</div "
   ]
  },
  {
   "cell_type": "markdown",
   "metadata": {},
   "source": [
    "**<font color=\"maroon\">Заменил на int32. Но наш наставник Глеб Михайлов утверждал, что аналитикам данных в 99% случаев нету дела до экономии памяти и заботы о быстродействии кода.</font>**"
   ]
  },
  {
   "cell_type": "markdown",
   "metadata": {},
   "source": [
    "<div class=\"alert alert-block alert-success\">\n",
    " \n",
    "# Комментарий ревьюера ver.2\n",
    "    \n",
    "#### Успех\n",
    "    \n",
    "Ну да, это лишь просто рекомендация на будущее:) Вдруг столкнешься\n",
    "</div "
   ]
  },
  {
   "cell_type": "markdown",
   "metadata": {},
   "source": [
    "**2.3 Дубликаты в названиях населенных пунктов**"
   ]
  },
  {
   "cell_type": "code",
   "execution_count": 9,
   "metadata": {
    "scrolled": true
   },
   "outputs": [
    {
     "data": {
      "text/plain": [
       "True     23334\n",
       "False      365\n",
       "dtype: int64"
      ]
     },
     "execution_count": 9,
     "metadata": {},
     "output_type": "execute_result"
    }
   ],
   "source": [
    "df.duplicated(subset='locality_name').value_counts()"
   ]
  },
  {
   "cell_type": "code",
   "execution_count": 10,
   "metadata": {},
   "outputs": [
    {
     "data": {
      "text/plain": [
       "locality_name\n",
       "Санкт-Петербург                                            15721\n",
       "посёлок Мурино                                               522\n",
       "посёлок Шушары                                               440\n",
       "Всеволожск                                                   398\n",
       "Пушкин                                                       369\n",
       "Колпино                                                      338\n",
       "посёлок Парголово                                            327\n",
       "Гатчина                                                      307\n",
       "деревня Кудрово                                              299\n",
       "Выборг                                                       237\n",
       "Петергоф                                                     201\n",
       "Сестрорецк                                                   183\n",
       "Красное Село                                                 178\n",
       "Кудрово                                                      173\n",
       "деревня Новое Девяткино                                      144\n",
       "Сертолово                                                    142\n",
       "Ломоносов                                                    133\n",
       "Кириши                                                       125\n",
       "Сланцы                                                       112\n",
       "Волхов                                                       111\n",
       "Кингисепп                                                    104\n",
       "Тосно                                                        104\n",
       "Кронштадт                                                     96\n",
       "Никольское                                                    93\n",
       "Коммунар                                                      89\n",
       "Сосновый Бор                                                  87\n",
       "Кировск                                                       84\n",
       "Отрадное                                                      80\n",
       "посёлок Бугры                                                 69\n",
       "посёлок Металлострой                                          66\n",
       "Приозерск                                                     66\n",
       "деревня Старая                                                64\n",
       "городской посёлок Янино-1                                     61\n",
       "Шлиссельбург                                                  57\n",
       "Луга                                                          56\n",
       "Тихвин                                                        49\n",
       "поселок Бугры                                                 45\n",
       "посёлок Стрельна                                              44\n",
       "посёлок Тельмана                                              39\n",
       "Павловск                                                      38\n",
       "поселок Романовка                                             36\n",
       "Волосово                                                      36\n",
       "Мурино                                                        34\n",
       "поселок Мурино                                                34\n",
       "посёлок городского типа Сиверский                             29\n",
       "Ивангород                                                     28\n",
       "городской посёлок Новоселье                                   28\n",
       "городской посёлок Мга                                         27\n",
       "поселок городского типа имени Свердлова                       25\n",
       "Сясьстрой                                                     24\n",
       "Зеленогорск                                                   24\n",
       "посёлок Щеглово                                               23\n",
       "посёлок городского типа Кузьмоловский                         22\n",
       "поселок городского типа Синявино                              21\n",
       "деревня Вартемяги                                             20\n",
       "посёлок Понтонный                                             20\n",
       "деревня Лесколово                                             20\n",
       "Лодейное Поле                                                 20\n",
       "посёлок Новогорелово                                          20\n",
       "поселок городского типа Рощино                                19\n",
       "Подпорожье                                                    19\n",
       "посёлок Сосново                                               18\n",
       "Пикалёво                                                      18\n",
       "деревня Бегуницы                                              17\n",
       "посёлок городского типа имени Морозова                        17\n",
       "посёлок Новый Свет                                            17\n",
       "посёлок городского типа Токсово                               16\n",
       "Бокситогорск                                                  16\n",
       "деревня Большие Колпаны                                       16\n",
       "городской поселок Большая Ижора                               16\n",
       "поселок городского типа Дубровка                              15\n",
       "городской посёлок Назия                                       15\n",
       "деревня Горбунки                                              15\n",
       "посёлок городского типа Рощино                                15\n",
       "поселок городского типа Рахья                                 15\n",
       "Новая Ладога                                                  14\n",
       "поселок Елизаветино                                           13\n",
       "поселок городского типа Кузьмоловский                         13\n",
       "посёлок городского типа Кузнечное                             13\n",
       "посёлок городского типа Ульяновка                             13\n",
       "деревня Гарболово                                             13\n",
       "Каменногорск                                                  13\n",
       "поселок городского типа Вырица                                12\n",
       "деревня Нурма                                                 11\n",
       "деревня Белогорка                                             11\n",
       "деревня Малое Верево                                          11\n",
       "деревня Гостилицы                                             11\n",
       "Светогорск                                                    11\n",
       "деревня Мистолово                                             11\n",
       "деревня Колтуши                                               11\n",
       "посёлок городского типа Лебяжье                               11\n",
       "посёлок Аннино                                                11\n",
       "посёлок городского типа имени Свердлова                       11\n",
       "деревня Лаголово                                              10\n",
       "посёлок городского типа Вырица                                10\n",
       "поселок Войсковицы                                            10\n",
       "деревня Низино                                                10\n",
       "деревня Сяськелево                                            10\n",
       "деревня Малое Карлино                                          9\n",
       "село Русско-Высоцкое                                           9\n",
       "поселок городского типа Приладожский                           9\n",
       "деревня Батово                                                 9\n",
       "деревня Оржицы                                                 9\n",
       "посёлок Пудость                                                9\n",
       "поселок Сельцо                                                 9\n",
       "поселок Молодцово                                              9\n",
       "городской посёлок Павлово                                      9\n",
       "поселок городского типа Советский                              9\n",
       "Приморск                                                       8\n",
       "поселок Запорожское                                            8\n",
       "поселок Суходолье                                              8\n",
       "Любань                                                         8\n",
       "деревня Фёдоровское                                            8\n",
       "поселок Первомайское                                           8\n",
       "поселок Углово                                                 7\n",
       "деревня Куттузи                                                7\n",
       "городской посёлок Фёдоровское                                  7\n",
       "село Павлово                                                   7\n",
       "деревня Малые Колпаны                                          7\n",
       "деревня Извара                                                 7\n",
       "деревня Калитино                                               7\n",
       "деревня Кальтино                                               7\n",
       "поселок городского типа Никольский                             7\n",
       "деревня Кипень                                                 7\n",
       "деревня Кузьмолово                                             7\n",
       "городской поселок Янино-1                                      7\n",
       "деревня Яльгелево                                              6\n",
       "деревня Заневка                                                6\n",
       "посёлок городского типа Важины                                 6\n",
       "посёлок Ильичёво                                               6\n",
       "поселок Новый Учхоз                                            6\n",
       "посёлок Сапёрный                                               6\n",
       "посёлок городского типа Мга                                    6\n",
       "деревня Лопухинка                                              6\n",
       "поселок Кобринское                                             6\n",
       "посёлок городского типа Тайцы                                  6\n",
       "деревня Пеники                                                 6\n",
       "посёлок Мичуринское                                            6\n",
       "деревня Пудомяги                                               6\n",
       "поселок Ушаки                                                  6\n",
       "деревня Лампово                                                6\n",
       "посёлок Войскорово                                             5\n",
       "поселок городского типа Дружная Горка                          5\n",
       "поселок Глажево                                                5\n",
       "поселок Новый Свет                                             5\n",
       "посёлок Кобралово                                              5\n",
       "посёлок Молодёжное                                             5\n",
       "городской посёлок Рощино                                       5\n",
       "посёлок Стеклянный                                             5\n",
       "поселок Селезнёво                                              5\n",
       "поселок Аннино                                                 5\n",
       "село Копорье                                                   5\n",
       "поселок городского типа Красный Бор                            5\n",
       "деревня Юкки                                                   5\n",
       "посёлок Плодовое                                               5\n",
       "поселок Мичуринское                                            5\n",
       "поселок Семрино                                                5\n",
       "посёлок городского типа Форносово                              4\n",
       "посёлок Гаврилово                                              4\n",
       "поселок Гарболово                                              4\n",
       "посёлок Репино                                                 4\n",
       "посёлок Кикерино                                               4\n",
       "городской посёлок Будогощь                                     4\n",
       "Высоцк                                                         4\n",
       "поселок Кобралово                                              4\n",
       "деревня Агалатово                                              4\n",
       "посёлок Усть-Луга                                              4\n",
       "деревня Келози                                                 4\n",
       "поселок Цвелодубово                                            4\n",
       "деревня Парицы                                                 4\n",
       "деревня Разбегаево                                             4\n",
       "деревня Разметелево                                            4\n",
       "поселок городского типа Лебяжье                                4\n",
       "деревня Большая Вруда                                          4\n",
       "посёлок Песочный                                               4\n",
       "посёлок Поляны                                                 4\n",
       "посёлок Суйда                                                  4\n",
       "поселок станции Вещево                                         4\n",
       "посёлок Терволово                                              4\n",
       "поселок городского типа Токсово                                4\n",
       "посёлок Торфяное                                               4\n",
       "поселок Победа                                                 3\n",
       "поселок городского типа Ефимовский                             3\n",
       "посёлок Петровское                                             3\n",
       "поселок Котельский                                             3\n",
       "поселок Красная Долина                                         3\n",
       "посёлок Победа                                                 3\n",
       "поселок Торковичи                                              3\n",
       "поселок Лукаши                                                 3\n",
       "поселок Любань                                                 3\n",
       "поселок Мельниково                                             3\n",
       "поселок Стеклянный                                             3\n",
       "поселок городского типа Лесогорский                            3\n",
       "посёлок Перово                                                 3\n",
       "поселок Оредеж                                                 3\n",
       "деревня Старополье                                             3\n",
       "посёлок городского типа Красный Бор                            3\n",
       "поселок Громово                                                3\n",
       "деревня Торошковичи                                            3\n",
       "деревня Ваганово                                               3\n",
       "деревня Торосово                                               3\n",
       "посёлок станции Громово                                        3\n",
       "поселок Глебычево                                              3\n",
       "деревня Аро                                                    3\n",
       "село Рождествено                                               3\n",
       "деревня Старосиверская                                         3\n",
       "поселок Заводской                                              3\n",
       "поселок Зимитицы                                               3\n",
       "посёлок Пригородный                                            3\n",
       "городской посёлок Виллози                                      3\n",
       "деревня Заклинье                                               3\n",
       "посёлок городского типа Павлово                                2\n",
       "деревня Глинка                                                 2\n",
       "деревня Ненимяки                                               2\n",
       "деревня Мины                                                   2\n",
       "посёлок станции Свирь                                          2\n",
       "деревня Коркино                                                2\n",
       "деревня Рабитицы                                               2\n",
       "поселок городского типа Назия                                  2\n",
       "деревня Камышовка                                              2\n",
       "поселок Кингисеппский                                          2\n",
       "посёлок Мельниково                                             2\n",
       "деревня Выскатка                                               2\n",
       "поселок Терволово                                              2\n",
       "поселок городского типа Форносово                              2\n",
       "деревня Бор                                                    2\n",
       "село Путилово                                                  2\n",
       "посёлок Лисий Нос                                              2\n",
       "посёлок Ленинское                                              2\n",
       "поселок станции Приветнинское                                  2\n",
       "посёлок Александровская                                        2\n",
       "посёлок Возрождение                                            2\n",
       "городской посёлок Советский                                    2\n",
       "село Старая Ладога                                             2\n",
       "городской посёлок Лесогорский                                  2\n",
       "село Паша                                                      2\n",
       "посёлок Жилгородок                                             2\n",
       "поселок Тельмана                                               2\n",
       "поселок Рябово                                                 2\n",
       "поселок Лесное                                                 2\n",
       "поселок Ильичёво                                               2\n",
       "поселок Житково                                                2\n",
       "посёлок Сапёрное                                               2\n",
       "посёлок Старая Малукса                                         2\n",
       "поселок Барышево                                               2\n",
       "деревня Ям-Тесово                                              2\n",
       "поселок Петровское                                             2\n",
       "посёлок Усть-Ижора                                             2\n",
       "поселок Поляны                                                 2\n",
       "поселок Починок                                                2\n",
       "поселок Пушное                                                 2\n",
       "деревня Старая Пустошь                                         2\n",
       "деревня Фалилеево                                              2\n",
       "посёлок городского типа Вознесенье                             2\n",
       "поселок Старая Малукса                                         2\n",
       "деревня Тарасово                                               2\n",
       "поселок Совхозный                                              2\n",
       "поселок Серебрянский                                           2\n",
       "деревня Суоранда                                               2\n",
       "деревня Старые Бегуницы                                        2\n",
       "садовое товарищество Садко                                     1\n",
       "посёлок Платформа 69-й километр                                1\n",
       "посёлок Плоское                                                1\n",
       "посёлок городского типа Рябово                                 1\n",
       "посёлок Ропша                                                  1\n",
       "посёлок Коробицыно                                             1\n",
       "посёлок Левашово                                               1\n",
       "посёлок при железнодорожной станции Вещево                     1\n",
       "посёлок при железнодорожной станции Приветнинское              1\n",
       "посёлок Сумино                                                 1\n",
       "посёлок Пансионат Зелёный Бор                                  1\n",
       "садоводческое некоммерческое товарищество Лесная Поляна        1\n",
       "посёлок Петро-Славянка                                         1\n",
       "садовое товарищество Новая Ропша                               1\n",
       "садовое товарищество Приладожский                              1\n",
       "посёлок Форт Красная Горка                                     1\n",
       "посёлок Шугозеро                                               1\n",
       "село Никольское                                                1\n",
       "садовое товарищество Рахья                                     1\n",
       "посёлок Мыза-Ивановка                                          1\n",
       "поселок Жилпосёлок                                             1\n",
       "посёлок Дзержинского                                           1\n",
       "деревня Нижние Осельки                                         1\n",
       "деревня Новолисино                                             1\n",
       "деревня Пельгора                                               1\n",
       "деревня Пижма                                                  1\n",
       "деревня Пикколово                                              1\n",
       "деревня Пустынка                                               1\n",
       "деревня Пчева                                                  1\n",
       "деревня Раздолье                                               1\n",
       "деревня Рапполово                                              1\n",
       "деревня Реброво                                                1\n",
       "деревня Русско                                                 1\n",
       "деревня Сижно                                                  1\n",
       "деревня Снегирёвка                                             1\n",
       "деревня Старое Хинколово                                       1\n",
       "деревня Терпилицы                                              1\n",
       "деревня Тихковицы                                              1\n",
       "деревня Тойворово                                              1\n",
       "деревня Трубников Бор                                          1\n",
       "деревня Нижняя                                                 1\n",
       "деревня Меньково                                               1\n",
       "деревня Хязельки                                               1\n",
       "деревня Мануйлово                                              1\n",
       "городской посёлок Свирьстрой                                   1\n",
       "деревня Большая Пустомержа                                     1\n",
       "деревня Большое Рейзино                                        1\n",
       "деревня Большой Сабск                                          1\n",
       "деревня Борисова Грива                                         1\n",
       "деревня Вахнова Кара                                           1\n",
       "деревня Зимитицы                                               1\n",
       "деревня Иссад                                                  1\n",
       "деревня Каськово                                               1\n",
       "деревня Кисельня                                               1\n",
       "деревня Котлы                                                  1\n",
       "деревня Кривко                                                 1\n",
       "деревня Курковицы                                              1\n",
       "деревня Куровицы                                               1\n",
       "деревня Лаврики                                                1\n",
       "деревня Лупполово                                              1\n",
       "деревня Малая Романовка                                        1\n",
       "деревня Хапо-Ое                                                1\n",
       "деревня Чудской Бор                                            1\n",
       "посёлок Высокоключевой                                         1\n",
       "поселок Пансионат Зелёный Бор                                  1\n",
       "поселок Почап                                                  1\n",
       "поселок Пчевжа                                                 1\n",
       "поселок Рабитицы                                               1\n",
       "поселок Ромашки                                                1\n",
       "поселок Севастьяново                                           1\n",
       "поселок Семиозерье                                             1\n",
       "поселок Сумино                                                 1\n",
       "поселок Тёсово-4                                               1\n",
       "поселок Усть-Луга                                              1\n",
       "поселок Цвылёво                                                1\n",
       "поселок городского типа Большая Ижора                          1\n",
       "поселок городского типа Кондратьево                            1\n",
       "поселок городского типа Рябово                                 1\n",
       "поселок станции Корнево                                        1\n",
       "поселок станции Лужайка                                        1\n",
       "посёлок Алексеевка                                             1\n",
       "посёлок Белоостров                                             1\n",
       "поселок Перово                                                 1\n",
       "поселок Лисий Нос                                              1\n",
       "деревня Шпаньково                                              1\n",
       "поселок Красносельское                                         1\n",
       "деревня Щеглово                                                1\n",
       "деревня Ялгино                                                 1\n",
       "коттеджный поселок Кивеннапа Север                             1\n",
       "коттеджный поселок Счастье                                     1\n",
       "коттеджный посёлок Лесное                                      1\n",
       "поселок Возрождение                                            1\n",
       "поселок Володарское                                            1\n",
       "поселок Гаврилово                                              1\n",
       "поселок Гладкое                                                1\n",
       "поселок Гончарово                                              1\n",
       "поселок Дружноселье                                            1\n",
       "поселок Жилгородок                                             1\n",
       "поселок Калитино                                               1\n",
       "поселок Каложицы                                               1\n",
       "поселок Кирпичное                                              1\n",
       "поселок Коммунары                                              1\n",
       "поселок Коробицыно                                             1\n",
       "село Шум                                                       1\n",
       "dtype: int64"
      ]
     },
     "execution_count": 10,
     "metadata": {},
     "output_type": "execute_result"
    }
   ],
   "source": [
    "pd.set_option('display.max_rows', df.shape[0]+1)\n",
    "df.value_counts('locality_name')"
   ]
  },
  {
   "cell_type": "code",
   "execution_count": 11,
   "metadata": {},
   "outputs": [
    {
     "data": {
      "text/plain": [
       "364"
      ]
     },
     "execution_count": 11,
     "metadata": {},
     "output_type": "execute_result"
    }
   ],
   "source": [
    "len(df.value_counts('locality_name'))"
   ]
  },
  {
   "cell_type": "code",
   "execution_count": 12,
   "metadata": {},
   "outputs": [
    {
     "data": {
      "text/plain": [
       "clean_locality_name\n",
       "Санкт-Петербург            15721\n",
       "Мурино                       590\n",
       "Кудрово                      472\n",
       "Шушары                       440\n",
       "Всеволожск                   398\n",
       "Пушкин                       369\n",
       "Колпино                      338\n",
       "Парголово                    327\n",
       "Гатчина                      307\n",
       "Выборг                       237\n",
       "Петергоф                     201\n",
       "Сестрорецк                   183\n",
       "Красное Село                 178\n",
       "Новое Девяткино              144\n",
       "Сертолово                    142\n",
       "Ломоносов                    133\n",
       "Кириши                       125\n",
       "Бугры                        114\n",
       "Сланцы                       112\n",
       "Волхов                       111\n",
       "Кингисепп                    104\n",
       "Тосно                        104\n",
       "Кронштадт                     96\n",
       "Никольское                    94\n",
       "Коммунар                      89\n",
       "Сосновый Бор                  87\n",
       "Кировск                       84\n",
       "Отрадное                      80\n",
       "Янино-1                       68\n",
       "Приозерск                     66\n",
       "Металлострой                  66\n",
       "Старая                        64\n",
       "Шлиссельбург                  57\n",
       "Луга                          56\n",
       "Тихвин                        49\n",
       "Стрельна                      44\n",
       "Тельмана                      41\n",
       "Рощино                        39\n",
       "Павловск                      38\n",
       "Романовка                     36\n",
       "имени Свердлова               36\n",
       "Волосово                      36\n",
       "Кузьмоловский                 35\n",
       "Мга                           33\n",
       "Сиверский                     29\n",
       "Ивангород                     28\n",
       "Новоселье                     28\n",
       "Зеленогорск                   24\n",
       "Сясьстрой                     24\n",
       "Щеглово                       24\n",
       "Новый Свет                    22\n",
       "Вырица                        22\n",
       "Синявино                      21\n",
       "Лесколово                     20\n",
       "Новогорелово                  20\n",
       "Вартемяги                     20\n",
       "Лодейное Поле                 20\n",
       "Понтонный                     20\n",
       "Токсово                       20\n",
       "Подпорожье                    19\n",
       "Сосново                       18\n",
       "Павлово                       18\n",
       "Пикалёво                      18\n",
       "Бегуницы                      17\n",
       "Большая Ижора                 17\n",
       "имени Морозова                17\n",
       "Гарболово                     17\n",
       "Назия                         17\n",
       "Бокситогорск                  16\n",
       "Рахья                         16\n",
       "Аннино                        16\n",
       "Большие Колпаны               16\n",
       "Фёдоровское                   15\n",
       "Горбунки                      15\n",
       "Дубровка                      15\n",
       "Лебяжье                       15\n",
       "Новая Ладога                  14\n",
       "Кузнечное                     13\n",
       "Елизаветино                   13\n",
       "Каменногорск                  13\n",
       "Ульяновка                     13\n",
       "Нурма                         11\n",
       "Мичуринское                   11\n",
       "Любань                        11\n",
       "Белогорка                     11\n",
       "Гостилицы                     11\n",
       "Светогорск                    11\n",
       "Мистолово                     11\n",
       "Советский                     11\n",
       "Колтуши                       11\n",
       "Малое Верево                  11\n",
       "Лаголово                      10\n",
       "Низино                        10\n",
       "Войсковицы                    10\n",
       "Сяськелево                    10\n",
       "Приладожский                  10\n",
       "Русско-Высоцкое                9\n",
       "Кобралово                      9\n",
       "Батово                         9\n",
       "Молодцово                      9\n",
       "Оржицы                         9\n",
       "Сельцо                         9\n",
       "Пудость                        9\n",
       "Малое Карлино                  9\n",
       "Красный Бор                    8\n",
       "Приморск                       8\n",
       "Первомайское                   8\n",
       "Запорожское                    8\n",
       "Стеклянный                     8\n",
       "Суходолье                      8\n",
       "Ильичёво                       8\n",
       "Калитино                       8\n",
       "Малые Колпаны                  7\n",
       "Углово                         7\n",
       "Никольский                     7\n",
       "Кальтино                       7\n",
       "Извара                         7\n",
       "Куттузи                        7\n",
       "Кузьмолово                     7\n",
       "Кипень                         7\n",
       "Терволово                      6\n",
       "Громово                        6\n",
       "Пудомяги                       6\n",
       "Кобринское                     6\n",
       "Поляны                         6\n",
       "Заневка                        6\n",
       "Важины                         6\n",
       "Тайцы                          6\n",
       "Лампово                        6\n",
       "Сапёрный                       6\n",
       "Лопухинка                      6\n",
       "Ушаки                          6\n",
       "Форносово                      6\n",
       "Новый Учхоз                    6\n",
       "Пеники                         6\n",
       "Яльгелево                      6\n",
       "Победа                         6\n",
       "Плодовое                       5\n",
       "Петровское                     5\n",
       "Дружная Горка                  5\n",
       "Копорье                        5\n",
       "Молодёжное                     5\n",
       "Семрино                        5\n",
       "Селезнёво                      5\n",
       "Войскорово                     5\n",
       "Юкки                           5\n",
       "Лесогорский                    5\n",
       "Усть-Луга                      5\n",
       "Глажево                        5\n",
       "Вещево                         5\n",
       "Гаврилово                      5\n",
       "Мельниково                     5\n",
       "Разметелево                    4\n",
       "Зимитицы                       4\n",
       "Перово                         4\n",
       "Песочный                       4\n",
       "Большая Вруда                  4\n",
       "Цвелодубово                    4\n",
       "Рябово                         4\n",
       "Высоцк                         4\n",
       "Разбегаево                     4\n",
       "Торфяное                       4\n",
       "Будогощь                       4\n",
       "Суйда                          4\n",
       "Старая Малукса                 4\n",
       "Репино                         4\n",
       "Парицы                         4\n",
       "Агалатово                      4\n",
       "Кикерино                       4\n",
       "Келози                         4\n",
       "Котельский                     3\n",
       "Старосиверская                 3\n",
       "Красная Долина                 3\n",
       "Пригородный                    3\n",
       "Заводской                      3\n",
       "Виллози                        3\n",
       "Жилгородок                     3\n",
       "Старополье                     3\n",
       "Ваганово                       3\n",
       "Ефимовский                     3\n",
       "Возрождение                    3\n",
       "Рабитицы                       3\n",
       "Глебычево                      3\n",
       "Рождествено                    3\n",
       "Заклинье                       3\n",
       "Приветнинское                  3\n",
       "Лукаши                         3\n",
       "Торошковичи                    3\n",
       "Аро                            3\n",
       "Оредеж                         3\n",
       "Лисий Нос                      3\n",
       "Лесное                         3\n",
       "Торковичи                      3\n",
       "Торосово                       3\n",
       "Сапёрное                       2\n",
       "Ленинское                      2\n",
       "Глинка                         2\n",
       "Суоранда                       2\n",
       "Свирь                          2\n",
       "Ям-Тесово                      2\n",
       "Коробицыно                     2\n",
       "Серебрянский                   2\n",
       "Мины                           2\n",
       "Выскатка                       2\n",
       "Совхозный                      2\n",
       "Барышево                       2\n",
       "Старая Ладога                  2\n",
       "Старая Пустошь                 2\n",
       "Тарасово                       2\n",
       "Сумино                         2\n",
       "Фалилеево                      2\n",
       "Старые Бегуницы                2\n",
       "Вознесенье                     2\n",
       "Усть-Ижора                     2\n",
       "Бор                            2\n",
       "Коркино                        2\n",
       "Пансионат Зелёный Бор          2\n",
       "Починок                        2\n",
       "Александровская                2\n",
       "Камышовка                      2\n",
       "Паша                           2\n",
       "Ненимяки                       2\n",
       "Пушное                         2\n",
       "Кингисеппский                  2\n",
       "Путилово                       2\n",
       "Житково                        2\n",
       "Большое Рейзино                1\n",
       "Большой Сабск                  1\n",
       "Тёсово-4                       1\n",
       "Трубников Бор                  1\n",
       "Лужайка                        1\n",
       "Дзержинского                   1\n",
       "Пикколово                      1\n",
       "Курковицы                      1\n",
       "Платформа 69-й километр        1\n",
       "Новолисино                     1\n",
       "Борисова Грива                 1\n",
       "Тойворово                      1\n",
       "Тихковицы                      1\n",
       "Плоское                        1\n",
       "Терпилицы                      1\n",
       "Пижма                          1\n",
       "Петро-Славянка                 1\n",
       "Куровицы                       1\n",
       "Шпаньково                      1\n",
       "Алексеевка                     1\n",
       "Пельгора                       1\n",
       "Ялгино                         1\n",
       "Лаврики                        1\n",
       "Каськово                       1\n",
       "Белоостров                     1\n",
       "Шум                            1\n",
       "Шугозеро                       1\n",
       "Лесная Поляна                  1\n",
       "Кирпичное                      1\n",
       "Чудской Бор                    1\n",
       "Цвылёво                        1\n",
       "Иссад                          1\n",
       "Хязельки                       1\n",
       "Хапо-Ое                        1\n",
       "Большая Пустомержа             1\n",
       "Форт Красная Горка             1\n",
       "Кивеннапа Север                1\n",
       "Лупполово                      1\n",
       "Кривко                         1\n",
       "Новая Ропша                    1\n",
       "Малая Романовка                1\n",
       "Каложицы                       1\n",
       "Гладкое                        1\n",
       "Нижняя                         1\n",
       "Рапполово                      1\n",
       "Левашово                       1\n",
       "Семиозерье                     1\n",
       "Реброво                        1\n",
       "Корнево                        1\n",
       "Севастьяново                   1\n",
       "Свирьстрой                     1\n",
       "Нижние Осельки                 1\n",
       "Ромашки                        1\n",
       "Ропша                          1\n",
       "Гончарово                      1\n",
       "Садко                          1\n",
       "Мыза-Ивановка                  1\n",
       "Кондратьево                    1\n",
       "Сижно                          1\n",
       "Меньково                       1\n",
       "Высокоключевой                 1\n",
       "Пустынка                       1\n",
       "Русско                         1\n",
       "Вахнова Кара                   1\n",
       "Счастье                        1\n",
       "Красносельское                 1\n",
       "Кисельня                       1\n",
       "Почап                          1\n",
       "Жилпосёлок                     1\n",
       "Старое Хинколово               1\n",
       "Снегирёвка                     1\n",
       "Мануйлово                      1\n",
       "Пчева                          1\n",
       "Пчевжа                         1\n",
       "Котлы                          1\n",
       "Володарское                    1\n",
       "Коммунары                      1\n",
       "Раздолье                       1\n",
       "Дружноселье                    1\n",
       "dtype: int64"
      ]
     },
     "execution_count": 12,
     "metadata": {},
     "output_type": "execute_result"
    }
   ],
   "source": [
    "df['clean_locality_name'] = df['locality_name']\n",
    "to_replace = ['деревня ', 'село ', 'посёлок ', 'поселок ', 'городской посёлок ', 'городской поселок ', 'посёлок городского типа ',\n",
    "             'поселок городского типа ', 'садоводческое некоммерческое товарищество ', 'садовое товарищество ', 'коттеджный посёлок ',\n",
    "              'коттеджный ', 'городского типа ', 'станции ', 'при железнодорожной станции ', 'при железнодорожной ', 'городской ']\n",
    "for x in to_replace:\n",
    "    df['clean_locality_name'] = df['clean_locality_name'].replace(x,'', regex=True)\n",
    "df.value_counts('clean_locality_name')"
   ]
  },
  {
   "cell_type": "markdown",
   "metadata": {},
   "source": [
    "<div class=\"alert alert-block alert-success\">\n",
    " \n",
    "### Комментарий ревьюера\n",
    "    \n",
    "#### Успех\n",
    "    \n",
    "Классный метод проработки названий у тебя получился. Здорово. \n",
    "</div "
   ]
  },
  {
   "cell_type": "code",
   "execution_count": 13,
   "metadata": {},
   "outputs": [
    {
     "data": {
      "text/plain": [
       "305"
      ]
     },
     "execution_count": 13,
     "metadata": {},
     "output_type": "execute_result"
    }
   ],
   "source": [
    "len(df.value_counts('clean_locality_name'))"
   ]
  },
  {
   "cell_type": "code",
   "execution_count": 14,
   "metadata": {},
   "outputs": [
    {
     "data": {
      "text/plain": [
       "0"
      ]
     },
     "execution_count": 14,
     "metadata": {},
     "output_type": "execute_result"
    }
   ],
   "source": [
    "df.duplicated().sum()"
   ]
  },
  {
   "cell_type": "markdown",
   "metadata": {},
   "source": [
    "**2.4 Найдём и устраним редкие и выбивающиеся значения**"
   ]
  },
  {
   "cell_type": "markdown",
   "metadata": {},
   "source": [
    "**Столбец высота потолков**"
   ]
  },
  {
   "cell_type": "code",
   "execution_count": 15,
   "metadata": {
    "scrolled": true
   },
   "outputs": [
    {
     "data": {
      "text/plain": [
       "<AxesSubplot:>"
      ]
     },
     "execution_count": 15,
     "metadata": {},
     "output_type": "execute_result"
    },
    {
     "data": {
      "image/png": "[encoded data removed]",
      "text/plain": [
       "<Figure size 432x288 with 1 Axes>"
      ]
     },
     "metadata": {
      "needs_background": "light"
     },
     "output_type": "display_data"
    }
   ],
   "source": [
    "df['ceiling_height'].hist(bins=50, legend=True)"
   ]
  },
  {
   "cell_type": "markdown",
   "metadata": {},
   "source": [
    "<div class=\"alert alert-block alert-warning\">\n",
    " \n",
    "### Комментарий ревьюера\n",
    "    \n",
    "#### Совет\n",
    "    \n",
    "А еще, не забывай давать графикам названия. Так будет понятно, что ты на них хочешь показать. \n",
    "</div "
   ]
  },
  {
   "cell_type": "markdown",
   "metadata": {},
   "source": [
    "**<font color=\"maroon\">Добавил подписи к графикам</font>**"
   ]
  },
  {
   "cell_type": "markdown",
   "metadata": {},
   "source": [
    "<div class=\"alert alert-block alert-success\">\n",
    " \n",
    "# Комментарий ревьюера ver.2\n",
    "    \n",
    "#### Успех\n",
    "    \n",
    "И тут супер \n",
    "</div "
   ]
  },
  {
   "cell_type": "code",
   "execution_count": 16,
   "metadata": {},
   "outputs": [
    {
     "data": {
      "text/plain": [
       "2.50      3515\n",
       "2.60      1646\n",
       "2.70      1574\n",
       "3.00      1112\n",
       "2.80       993\n",
       "2.55       980\n",
       "2.75       910\n",
       "2.65       676\n",
       "3.20       277\n",
       "3.10       203\n",
       "2.90       164\n",
       "3.30       141\n",
       "2.56       139\n",
       "3.50       130\n",
       "2.57       103\n",
       "2.85       101\n",
       "3.40        92\n",
       "2.54        83\n",
       "2.64        81\n",
       "2.52        79\n",
       "2.53        67\n",
       "2.58        63\n",
       "2.77        61\n",
       "2.76        60\n",
       "3.15        57\n",
       "2.78        51\n",
       "2.95        47\n",
       "3.05        46\n",
       "4.00        39\n",
       "3.25        36\n",
       "3.60        36\n",
       "2.67        36\n",
       "2.73        35\n",
       "2.51        34\n",
       "2.72        31\n",
       "3.70        30\n",
       "2.74        28\n",
       "2.68        23\n",
       "2.40        23\n",
       "3.80        20\n",
       "2.84        19\n",
       "3.55        18\n",
       "2.82        18\n",
       "2.66        17\n",
       "3.12        17\n",
       "3.35        16\n",
       "2.45        15\n",
       "2.83        15\n",
       "2.59        14\n",
       "2.62        14\n",
       "3.90        14\n",
       "3.08        14\n",
       "2.71        13\n",
       "2.63        13\n",
       "2.88        12\n",
       "2.00        11\n",
       "3.18        11\n",
       "3.13        11\n",
       "3.06        11\n",
       "3.07        11\n",
       "3.33        10\n",
       "2.87        10\n",
       "2.79        10\n",
       "4.20        10\n",
       "2.81         9\n",
       "2.92         9\n",
       "3.45         9\n",
       "2.48         8\n",
       "3.95         8\n",
       "3.75         8\n",
       "3.38         8\n",
       "3.02         8\n",
       "27.00        8\n",
       "25.00        7\n",
       "3.11         7\n",
       "3.14         7\n",
       "3.16         7\n",
       "4.50         7\n",
       "3.54         6\n",
       "3.01         6\n",
       "3.27         6\n",
       "3.28         6\n",
       "3.04         6\n",
       "2.86         6\n",
       "3.32         6\n",
       "3.26         6\n",
       "3.47         6\n",
       "3.56         5\n",
       "3.17         5\n",
       "2.61         5\n",
       "3.36         5\n",
       "2.96         5\n",
       "3.65         4\n",
       "2.97         4\n",
       "2.93         4\n",
       "3.09         4\n",
       "2.91         4\n",
       "3.24         4\n",
       "3.46         4\n",
       "3.23         4\n",
       "3.03         4\n",
       "3.37         4\n",
       "2.30         4\n",
       "3.34         3\n",
       "4.40         3\n",
       "3.52         3\n",
       "2.94         3\n",
       "8.00         3\n",
       "3.22         3\n",
       "3.31         3\n",
       "3.66         3\n",
       "2.47         3\n",
       "3.21         3\n",
       "3.63         3\n",
       "3.67         3\n",
       "3.78         3\n",
       "3.57         3\n",
       "4.10         3\n",
       "3.53         3\n",
       "3.86         2\n",
       "32.00        2\n",
       "3.62         2\n",
       "4.70         2\n",
       "3.51         2\n",
       "3.49         2\n",
       "4.19         2\n",
       "2.46         2\n",
       "2.69         2\n",
       "5.30         2\n",
       "3.85         2\n",
       "4.45         2\n",
       "2.98         2\n",
       "3.69         1\n",
       "3.29         1\n",
       "3.83         1\n",
       "2.34         1\n",
       "1.00         1\n",
       "4.37         1\n",
       "3.98         1\n",
       "3.44         1\n",
       "5.60         1\n",
       "4.15         1\n",
       "2.99         1\n",
       "5.80         1\n",
       "1.20         1\n",
       "20.00        1\n",
       "3.43         1\n",
       "3.59         1\n",
       "3.48         1\n",
       "6.00         1\n",
       "4.06         1\n",
       "3.68         1\n",
       "1.75         1\n",
       "5.00         1\n",
       "4.80         1\n",
       "27.50        1\n",
       "5.50         1\n",
       "4.14         1\n",
       "100.00       1\n",
       "3.87         1\n",
       "3.82         1\n",
       "2.20         1\n",
       "3.42         1\n",
       "3.58         1\n",
       "4.30         1\n",
       "26.00        1\n",
       "2.49         1\n",
       "3.84         1\n",
       "2.89         1\n",
       "5.20         1\n",
       "4.90         1\n",
       "3.76         1\n",
       "22.60        1\n",
       "14.00        1\n",
       "2.25         1\n",
       "3.88         1\n",
       "24.00        1\n",
       "8.30         1\n",
       "4.25         1\n",
       "3.39         1\n",
       "3.93         1\n",
       "10.30        1\n",
       "4.65         1\n",
       "Name: ceiling_height, dtype: int64"
      ]
     },
     "execution_count": 16,
     "metadata": {},
     "output_type": "execute_result"
    }
   ],
   "source": [
    "df['ceiling_height'].value_counts()"
   ]
  },
  {
   "cell_type": "code",
   "execution_count": 17,
   "metadata": {},
   "outputs": [
    {
     "data": {
      "text/plain": [
       "<AxesSubplot:>"
      ]
     },
     "execution_count": 17,
     "metadata": {},
     "output_type": "execute_result"
    },
    {
     "data": {
      "image/png": "[encoded data removed]",
      "text/plain": [
       "<Figure size 432x288 with 1 Axes>"
      ]
     },
     "metadata": {
      "needs_background": "light"
     },
     "output_type": "display_data"
    }
   ],
   "source": [
    "df[(df['ceiling_height']>10)]['ceiling_height'].hist(bins=50, legend=True)"
   ]
  },
  {
   "cell_type": "code",
   "execution_count": 18,
   "metadata": {
    "scrolled": true
   },
   "outputs": [
    {
     "data": {
      "text/plain": [
       "<AxesSubplot:>"
      ]
     },
     "execution_count": 18,
     "metadata": {},
     "output_type": "execute_result"
    },
    {
     "data": {
      "image/png": "[encoded data removed]",
      "text/plain": [
       "<Figure size 432x288 with 1 Axes>"
      ]
     },
     "metadata": {
      "needs_background": "light"
     },
     "output_type": "display_data"
    }
   ],
   "source": [
    "df[(df['ceiling_height']<2)]['ceiling_height'].hist(bins=50, legend=True)"
   ]
  },
  {
   "cell_type": "code",
   "execution_count": 19,
   "metadata": {},
   "outputs": [
    {
     "data": {
      "text/plain": [
       "(23699, 24)"
      ]
     },
     "execution_count": 19,
     "metadata": {},
     "output_type": "execute_result"
    }
   ],
   "source": [
    "df.loc[df['ceiling_height']>=10, 'ceiling_height'] /= 10 #если высота потолка >10 делим её на 10\n",
    "df.shape"
   ]
  },
  {
   "cell_type": "code",
   "execution_count": 20,
   "metadata": {},
   "outputs": [
    {
     "data": {
      "text/plain": [
       "(23682, 24)"
      ]
     },
     "execution_count": 20,
     "metadata": {},
     "output_type": "execute_result"
    }
   ],
   "source": [
    "df = df[(df['ceiling_height'].isna())|(df['ceiling_height']>=2.2)] #удаляем все квартиры с высотой потолков до 2.2 м\n",
    "df.shape"
   ]
  },
  {
   "cell_type": "code",
   "execution_count": 21,
   "metadata": {},
   "outputs": [],
   "source": [
    "#df[df['ceiling_height']>3.5]['last_price'].count() \n",
    "df = df[(df['ceiling_height'].isna())|(df['ceiling_height']<=3.5)] #удаляем все квартиры с высотой потолков до 3.5 м как аномально-редкие"
   ]
  },
  {
   "cell_type": "markdown",
   "metadata": {},
   "source": [
    "<div class=\"alert alert-block alert-success\">\n",
    " \n",
    "### Комментарий ревьюера\n",
    "    \n",
    "#### Успех\n",
    "    \n",
    "Тут хорошо проработал с выбросами. \n",
    "</div "
   ]
  },
  {
   "cell_type": "code",
   "execution_count": 22,
   "metadata": {},
   "outputs": [
    {
     "data": {
      "text/plain": [
       "0"
      ]
     },
     "execution_count": 22,
     "metadata": {},
     "output_type": "execute_result"
    }
   ],
   "source": [
    "median_ceil = df['ceiling_height'].median()\n",
    "df['ceiling_height'] = df['ceiling_height'].fillna(median_ceil) #заменяем пропуски на медиану, т.к. предположительно пропуск подразумевает стандартные потолки\n",
    "df['ceiling_height'].isna().sum()"
   ]
  },
  {
   "cell_type": "code",
   "execution_count": 23,
   "metadata": {
    "scrolled": false
   },
   "outputs": [
    {
     "data": {
      "text/plain": [
       "<AxesSubplot:>"
      ]
     },
     "execution_count": 23,
     "metadata": {},
     "output_type": "execute_result"
    },
    {
     "data": {
      "image/png": "[encoded data removed]",
      "text/plain": [
       "<Figure size 432x288 with 1 Axes>"
      ]
     },
     "metadata": {
      "needs_background": "light"
     },
     "output_type": "display_data"
    }
   ],
   "source": [
    "df['ceiling_height'].hist(bins=10, legend=True) "
   ]
  },
  {
   "cell_type": "code",
   "execution_count": 24,
   "metadata": {},
   "outputs": [
    {
     "data": {
      "text/plain": [
       "(23402, 24)"
      ]
     },
     "execution_count": 24,
     "metadata": {},
     "output_type": "execute_result"
    }
   ],
   "source": [
    "df.shape"
   ]
  },
  {
   "cell_type": "markdown",
   "metadata": {},
   "source": [
    "**Столбец цена квартиры**"
   ]
  },
  {
   "cell_type": "code",
   "execution_count": 25,
   "metadata": {
    "scrolled": true
   },
   "outputs": [
    {
     "data": {
      "text/plain": [
       "<AxesSubplot:>"
      ]
     },
     "execution_count": 25,
     "metadata": {},
     "output_type": "execute_result"
    },
    {
     "data": {
      "image/png": "[encoded data removed]",
      "text/plain": [
       "<Figure size 432x288 with 1 Axes>"
      ]
     },
     "metadata": {
      "needs_background": "light"
     },
     "output_type": "display_data"
    }
   ],
   "source": [
    "df['last_price'].hist(bins=50, legend=True)"
   ]
  },
  {
   "cell_type": "code",
   "execution_count": 26,
   "metadata": {},
   "outputs": [
    {
     "data": {
      "text/plain": [
       "26"
      ]
     },
     "execution_count": 26,
     "metadata": {},
     "output_type": "execute_result"
    }
   ],
   "source": [
    "df[df['last_price']>1e8]['last_price'].count()"
   ]
  },
  {
   "cell_type": "code",
   "execution_count": 27,
   "metadata": {
    "scrolled": true
   },
   "outputs": [
    {
     "data": {
      "text/plain": [
       "<AxesSubplot:>"
      ]
     },
     "execution_count": 27,
     "metadata": {},
     "output_type": "execute_result"
    },
    {
     "data": {
      "image/png": "[encoded data removed]",
      "text/plain": [
       "<Figure size 432x288 with 1 Axes>"
      ]
     },
     "metadata": {
      "needs_background": "light"
     },
     "output_type": "display_data"
    }
   ],
   "source": [
    "df = df[df['last_price']<=1e8] #удаляем квартиры стоимостью более 100 млн как аномально дорогие, их всего 26 шт\n",
    "df['last_price'].hist(bins=20, legend=True)"
   ]
  },
  {
   "cell_type": "code",
   "execution_count": 28,
   "metadata": {
    "scrolled": false
   },
   "outputs": [
    {
     "data": {
      "text/plain": [
       "<AxesSubplot:>"
      ]
     },
     "execution_count": 28,
     "metadata": {},
     "output_type": "execute_result"
    },
    {
     "data": {
      "image/png": "[encoded data removed]",
      "text/plain": [
       "<Figure size 432x288 with 1 Axes>"
      ]
     },
     "metadata": {
      "needs_background": "light"
     },
     "output_type": "display_data"
    }
   ],
   "source": [
    "q1 = df['last_price'].quantile(0.01)\n",
    "q2 = df['last_price'].quantile(0.99)\n",
    "df = df[df['last_price'].between(q1,q2)] #удаляем 1% самых маленьких, и 1% самых больших значений\n",
    "df['last_price'].hist(bins=20, legend=True) #итоговая гистограмма цен на квартиры"
   ]
  },
  {
   "cell_type": "markdown",
   "metadata": {},
   "source": [
    "<div class=\"alert alert-block alert-success\">\n",
    " \n",
    "### Комментарий ревьюера\n",
    "    \n",
    "#### Успех\n",
    "    \n",
    "Да, вот и тут согласен. Уберем супер редкие значения. \n",
    "</div "
   ]
  },
  {
   "cell_type": "code",
   "execution_count": 29,
   "metadata": {
    "scrolled": true
   },
   "outputs": [
    {
     "data": {
      "text/plain": [
       "count    2.291800e+04\n",
       "mean     5.740427e+06\n",
       "std      3.986554e+06\n",
       "min      1.000000e+06\n",
       "25%      3.450000e+06\n",
       "50%      4.600000e+06\n",
       "75%      6.600000e+06\n",
       "max      3.089900e+07\n",
       "Name: last_price, dtype: float64"
      ]
     },
     "execution_count": 29,
     "metadata": {},
     "output_type": "execute_result"
    }
   ],
   "source": [
    "df['last_price'].describe() #медианная стоимость квартиры 4,6 млн"
   ]
  },
  {
   "cell_type": "markdown",
   "metadata": {},
   "source": [
    "**Столбец общая площадь квартиры**"
   ]
  },
  {
   "cell_type": "code",
   "execution_count": 30,
   "metadata": {},
   "outputs": [
    {
     "data": {
      "text/plain": [
       "count    22918.000000\n",
       "mean        58.090066\n",
       "std         27.905388\n",
       "min         12.000000\n",
       "25%         40.000000\n",
       "50%         51.500000\n",
       "75%         68.000000\n",
       "max        460.800000\n",
       "Name: total_area, dtype: float64"
      ]
     },
     "execution_count": 30,
     "metadata": {},
     "output_type": "execute_result"
    }
   ],
   "source": [
    "df['total_area'].describe()"
   ]
  },
  {
   "cell_type": "code",
   "execution_count": 31,
   "metadata": {
    "scrolled": true
   },
   "outputs": [
    {
     "data": {
      "text/plain": [
       "<AxesSubplot:>"
      ]
     },
     "execution_count": 31,
     "metadata": {},
     "output_type": "execute_result"
    },
    {
     "data": {
      "image/png": "[encoded data removed]",
      "text/plain": [
       "<Figure size 432x288 with 1 Axes>"
      ]
     },
     "metadata": {
      "needs_background": "light"
     },
     "output_type": "display_data"
    }
   ],
   "source": [
    "df['total_area'].hist(bins=50, legend=True)"
   ]
  },
  {
   "cell_type": "code",
   "execution_count": 32,
   "metadata": {
    "scrolled": true
   },
   "outputs": [
    {
     "data": {
      "text/plain": [
       "<AxesSubplot:>"
      ]
     },
     "execution_count": 32,
     "metadata": {},
     "output_type": "execute_result"
    },
    {
     "data": {
      "image/png": "[encoded data removed]",
      "text/plain": [
       "<Figure size 432x288 with 1 Axes>"
      ]
     },
     "metadata": {
      "needs_background": "light"
     },
     "output_type": "display_data"
    }
   ],
   "source": [
    "q1 = df['total_area'].quantile(0.01)\n",
    "q2 = df['total_area'].quantile(0.99)\n",
    "df = df[(df['total_area'].between(q1,q2))|(df['total_area'].isna())]\n",
    "#удаляем 1% самых маленьких, и 1% самых больших значений, не трогаем пропуски\n",
    "df['total_area'].hist(bins=30, legend=True) #итоговая гистограмма площади квартир"
   ]
  },
  {
   "cell_type": "markdown",
   "metadata": {},
   "source": [
    "<div class=\"alert alert-block alert-success\">\n",
    " \n",
    "### Комментарий ревьюера\n",
    "    \n",
    "#### Успех\n",
    "    \n",
    "Тут тоже хорошо получилось. \n",
    "</div "
   ]
  },
  {
   "cell_type": "code",
   "execution_count": 33,
   "metadata": {},
   "outputs": [
    {
     "data": {
      "text/plain": [
       "count    22458.000000\n",
       "mean        56.941488\n",
       "std         23.108528\n",
       "min         25.070000\n",
       "25%         40.000000\n",
       "50%         51.500000\n",
       "75%         67.892500\n",
       "max        162.900000\n",
       "Name: total_area, dtype: float64"
      ]
     },
     "execution_count": 33,
     "metadata": {},
     "output_type": "execute_result"
    }
   ],
   "source": [
    "df['total_area'].describe()"
   ]
  },
  {
   "cell_type": "markdown",
   "metadata": {},
   "source": [
    "**Столбец days_exposition**"
   ]
  },
  {
   "cell_type": "code",
   "execution_count": 34,
   "metadata": {},
   "outputs": [
    {
     "data": {
      "text/plain": [
       "count    19523.000000\n",
       "mean       178.996005\n",
       "std        217.535702\n",
       "min          1.000000\n",
       "25%         45.000000\n",
       "50%         95.000000\n",
       "75%        228.000000\n",
       "max       1580.000000\n",
       "Name: days_exposition, dtype: float64"
      ]
     },
     "execution_count": 34,
     "metadata": {},
     "output_type": "execute_result"
    }
   ],
   "source": [
    "df['days_exposition'].describe() #какая-то квартира продавалсь более 4 лет"
   ]
  },
  {
   "cell_type": "code",
   "execution_count": 35,
   "metadata": {},
   "outputs": [
    {
     "data": {
      "text/plain": [
       "<AxesSubplot:>"
      ]
     },
     "execution_count": 35,
     "metadata": {},
     "output_type": "execute_result"
    },
    {
     "data": {
      "image/png": "[encoded data removed]",
      "text/plain": [
       "<Figure size 432x288 with 1 Axes>"
      ]
     },
     "metadata": {
      "needs_background": "light"
     },
     "output_type": "display_data"
    }
   ],
   "source": [
    "q1 = df['days_exposition'].quantile(0.01)\n",
    "q2 = df['days_exposition'].quantile(0.99)\n",
    "df = df[(df['days_exposition'].between(q1,q2))|(df['days_exposition'].isna())]\n",
    "#удаляем 0,5% самых маленьких, и 0,5% самых больших значений, не трогаем пропуски\n",
    "df[df.days_exposition<120]['days_exposition'].hist(bins=30, legend=True)"
   ]
  },
  {
   "cell_type": "markdown",
   "metadata": {},
   "source": [
    "<div class=\"alert alert-block alert-warning\">\n",
    " \n",
    "### Комментарий ревьюера\n",
    "    \n",
    "#### Совет\n",
    "    \n",
    "Если ты посмотришь на график еще более детально, то заметишь выбросы в районе 45, 60 и 95 дней. В эти дни сайт убирает с продажи бесплатные объявления. \n",
    "</div "
   ]
  },
  {
   "cell_type": "markdown",
   "metadata": {},
   "source": [
    "**<font color=\"maroon\">Не думаю, что надо избавляться от этих выбросов. Или надо? Если надо то как? Я не представляю.</font>**"
   ]
  },
  {
   "cell_type": "markdown",
   "metadata": {},
   "source": [
    "<div class=\"alert alert-block alert-warning\">\n",
    " \n",
    "# Комментарий ревьюера ver.2\n",
    "    \n",
    "#### Совет\n",
    "    \n",
    "Тут на твое усмотрение, для идеального результата можно ограничить. \n",
    "</div "
   ]
  },
  {
   "cell_type": "code",
   "execution_count": 36,
   "metadata": {
    "scrolled": true
   },
   "outputs": [
    {
     "data": {
      "text/plain": [
       "count    19171.000000\n",
       "mean       169.909968\n",
       "std        192.039442\n",
       "min          4.000000\n",
       "25%         45.000000\n",
       "50%         94.000000\n",
       "75%        223.000000\n",
       "max       1059.000000\n",
       "Name: days_exposition, dtype: float64"
      ]
     },
     "execution_count": 36,
     "metadata": {},
     "output_type": "execute_result"
    }
   ],
   "source": [
    "df['days_exposition'].describe() #в среднем (медианно) квартиры продаются за 3 месяца"
   ]
  },
  {
   "cell_type": "markdown",
   "metadata": {},
   "source": [
    "**Столбец расстояние от центра города**"
   ]
  },
  {
   "cell_type": "code",
   "execution_count": 37,
   "metadata": {},
   "outputs": [
    {
     "data": {
      "text/plain": [
       "count    17015.000000\n",
       "mean     14537.455951\n",
       "std       8510.298191\n",
       "min        287.000000\n",
       "25%       9879.500000\n",
       "50%      13297.000000\n",
       "75%      16457.000000\n",
       "max      65952.000000\n",
       "Name: cityCenters_nearest, dtype: float64"
      ]
     },
     "execution_count": 37,
     "metadata": {},
     "output_type": "execute_result"
    }
   ],
   "source": [
    "df['cityCenters_nearest'].describe()"
   ]
  },
  {
   "cell_type": "code",
   "execution_count": 38,
   "metadata": {
    "scrolled": true
   },
   "outputs": [
    {
     "data": {
      "text/plain": [
       "<AxesSubplot:>"
      ]
     },
     "execution_count": 38,
     "metadata": {},
     "output_type": "execute_result"
    },
    {
     "data": {
      "image/png": "[encoded data removed]",
      "text/plain": [
       "<Figure size 432x288 with 1 Axes>"
      ]
     },
     "metadata": {
      "needs_background": "light"
     },
     "output_type": "display_data"
    }
   ],
   "source": [
    "df = df[(df['cityCenters_nearest']<50100)|(df['cityCenters_nearest'].isna())] #удаляем 0,5% самых удалённых от центра квартир\n",
    "df['cityCenters_nearest'].hist(bins=30, legend=True) "
   ]
  },
  {
   "cell_type": "code",
   "execution_count": 39,
   "metadata": {},
   "outputs": [
    {
     "data": {
      "text/plain": [
       "count    16845.000000\n",
       "mean     14156.014129\n",
       "std       7649.208577\n",
       "min        287.000000\n",
       "25%       9839.000000\n",
       "50%      13252.000000\n",
       "75%      16298.000000\n",
       "max      50075.000000\n",
       "Name: cityCenters_nearest, dtype: float64"
      ]
     },
     "execution_count": 39,
     "metadata": {},
     "output_type": "execute_result"
    }
   ],
   "source": [
    "df['cityCenters_nearest'].describe() #одна квартира удалена от центра на 50 км"
   ]
  },
  {
   "cell_type": "code",
   "execution_count": 40,
   "metadata": {},
   "outputs": [
    {
     "data": {
      "text/plain": [
       "(21936, 24)"
      ]
     },
     "execution_count": 40,
     "metadata": {},
     "output_type": "execute_result"
    }
   ],
   "source": [
    "df.shape #после очитски осталось 21936 квартир в нашем датафрейме, т.е. удалено 7,5% строк."
   ]
  },
  {
   "cell_type": "markdown",
   "metadata": {},
   "source": [
    "<div class=\"alert alert-block alert-danger\">\n",
    " \n",
    "### Комментарий ревьюера\n",
    "    \n",
    "#### Ошибка\n",
    "    \n",
    "Вот тут похвалить не могу. Ты слишком увлекся удалением и убрал больше 30% от датафрейма. Всегда придерживайся правила 10%. Оно говорит о том, что если удаляем, то в районе 10%, иначе наши выводы могут быть искажены. Надо бы оставить больше данных. \n",
    "</div "
   ]
  },
  {
   "cell_type": "markdown",
   "metadata": {},
   "source": [
    "**<font color=\"maroon\">Моя ошибка была в том что удалялись все NA значения. Исправил.</font>**"
   ]
  },
  {
   "cell_type": "markdown",
   "metadata": {},
   "source": [
    "<div class=\"alert alert-block alert-success\">\n",
    " \n",
    "# Комментарий ревьюера ver.2\n",
    "    \n",
    "#### Успех\n",
    "    \n",
    "А сейчас получилось супер. Ошибку устранили. \n",
    "</div "
   ]
  },
  {
   "cell_type": "markdown",
   "metadata": {},
   "source": [
    "### Посчитайте и добавьте в таблицу новые столбцы"
   ]
  },
  {
   "cell_type": "markdown",
   "metadata": {},
   "source": [
    "**Добавляем столбец цена 1 кв.м.**"
   ]
  },
  {
   "cell_type": "code",
   "execution_count": 41,
   "metadata": {
    "scrolled": true
   },
   "outputs": [
    {
     "data": {
      "text/plain": [
       "<AxesSubplot:>"
      ]
     },
     "execution_count": 41,
     "metadata": {},
     "output_type": "execute_result"
    },
    {
     "data": {
      "image/png": "[encoded data removed]",
      "text/plain": [
       "<Figure size 432x288 with 1 Axes>"
      ]
     },
     "metadata": {
      "needs_background": "light"
     },
     "output_type": "display_data"
    }
   ],
   "source": [
    "df['price_per_meter'] = df['last_price'] / df['total_area']\n",
    "df['price_per_meter'].hist(bins=20, legend=True)"
   ]
  },
  {
   "cell_type": "markdown",
   "metadata": {},
   "source": [
    "**Добавляем столбец день недели публикации объявления**"
   ]
  },
  {
   "cell_type": "code",
   "execution_count": 42,
   "metadata": {
    "scrolled": true
   },
   "outputs": [
    {
     "data": {
      "text/html": [
       "<div>\n",
       "<style scoped>\n",
       "    .dataframe tbody tr th:only-of-type {\n",
       "        vertical-align: middle;\n",
       "    }\n",
       "\n",
       "    .dataframe tbody tr th {\n",
       "        vertical-align: top;\n",
       "    }\n",
       "\n",
       "    .dataframe thead th {\n",
       "        text-align: right;\n",
       "    }\n",
       "</style>\n",
       "<table border=\"1\" class=\"dataframe\">\n",
       "  <thead>\n",
       "    <tr style=\"text-align: right;\">\n",
       "      <th></th>\n",
       "      <th>total_images</th>\n",
       "      <th>last_price</th>\n",
       "      <th>total_area</th>\n",
       "      <th>first_day_exposition</th>\n",
       "      <th>rooms</th>\n",
       "      <th>ceiling_height</th>\n",
       "      <th>floors_total</th>\n",
       "      <th>living_area</th>\n",
       "      <th>floor</th>\n",
       "      <th>is_apartment</th>\n",
       "      <th>...</th>\n",
       "      <th>cityCenters_nearest</th>\n",
       "      <th>parks_around3000</th>\n",
       "      <th>parks_nearest</th>\n",
       "      <th>ponds_around3000</th>\n",
       "      <th>ponds_nearest</th>\n",
       "      <th>days_exposition</th>\n",
       "      <th>days_exposition_formatted</th>\n",
       "      <th>clean_locality_name</th>\n",
       "      <th>price_per_meter</th>\n",
       "      <th>publicated_at_day_of_week</th>\n",
       "    </tr>\n",
       "  </thead>\n",
       "  <tbody>\n",
       "    <tr>\n",
       "      <th>0</th>\n",
       "      <td>20</td>\n",
       "      <td>13000000.0</td>\n",
       "      <td>108.0</td>\n",
       "      <td>2019-03-07</td>\n",
       "      <td>3</td>\n",
       "      <td>2.70</td>\n",
       "      <td>16.0</td>\n",
       "      <td>51.0</td>\n",
       "      <td>8</td>\n",
       "      <td>NaN</td>\n",
       "      <td>...</td>\n",
       "      <td>16028.0</td>\n",
       "      <td>1.0</td>\n",
       "      <td>482.0</td>\n",
       "      <td>2.0</td>\n",
       "      <td>755.0</td>\n",
       "      <td>NaN</td>\n",
       "      <td>NaT</td>\n",
       "      <td>Санкт-Петербург</td>\n",
       "      <td>120370.370370</td>\n",
       "      <td>3</td>\n",
       "    </tr>\n",
       "    <tr>\n",
       "      <th>1</th>\n",
       "      <td>7</td>\n",
       "      <td>3350000.0</td>\n",
       "      <td>40.4</td>\n",
       "      <td>2018-12-04</td>\n",
       "      <td>1</td>\n",
       "      <td>2.65</td>\n",
       "      <td>11.0</td>\n",
       "      <td>18.6</td>\n",
       "      <td>1</td>\n",
       "      <td>NaN</td>\n",
       "      <td>...</td>\n",
       "      <td>18603.0</td>\n",
       "      <td>0.0</td>\n",
       "      <td>NaN</td>\n",
       "      <td>0.0</td>\n",
       "      <td>NaN</td>\n",
       "      <td>81.0</td>\n",
       "      <td>81 days</td>\n",
       "      <td>Шушары</td>\n",
       "      <td>82920.792079</td>\n",
       "      <td>1</td>\n",
       "    </tr>\n",
       "    <tr>\n",
       "      <th>2</th>\n",
       "      <td>10</td>\n",
       "      <td>5196000.0</td>\n",
       "      <td>56.0</td>\n",
       "      <td>2015-08-20</td>\n",
       "      <td>2</td>\n",
       "      <td>2.65</td>\n",
       "      <td>5.0</td>\n",
       "      <td>34.3</td>\n",
       "      <td>4</td>\n",
       "      <td>NaN</td>\n",
       "      <td>...</td>\n",
       "      <td>13933.0</td>\n",
       "      <td>1.0</td>\n",
       "      <td>90.0</td>\n",
       "      <td>2.0</td>\n",
       "      <td>574.0</td>\n",
       "      <td>558.0</td>\n",
       "      <td>558 days</td>\n",
       "      <td>Санкт-Петербург</td>\n",
       "      <td>92785.714286</td>\n",
       "      <td>3</td>\n",
       "    </tr>\n",
       "    <tr>\n",
       "      <th>4</th>\n",
       "      <td>2</td>\n",
       "      <td>10000000.0</td>\n",
       "      <td>100.0</td>\n",
       "      <td>2018-06-19</td>\n",
       "      <td>2</td>\n",
       "      <td>3.03</td>\n",
       "      <td>14.0</td>\n",
       "      <td>32.0</td>\n",
       "      <td>13</td>\n",
       "      <td>NaN</td>\n",
       "      <td>...</td>\n",
       "      <td>8098.0</td>\n",
       "      <td>2.0</td>\n",
       "      <td>112.0</td>\n",
       "      <td>1.0</td>\n",
       "      <td>48.0</td>\n",
       "      <td>121.0</td>\n",
       "      <td>121 days</td>\n",
       "      <td>Санкт-Петербург</td>\n",
       "      <td>100000.000000</td>\n",
       "      <td>1</td>\n",
       "    </tr>\n",
       "    <tr>\n",
       "      <th>5</th>\n",
       "      <td>10</td>\n",
       "      <td>2890000.0</td>\n",
       "      <td>30.4</td>\n",
       "      <td>2018-09-10</td>\n",
       "      <td>1</td>\n",
       "      <td>2.65</td>\n",
       "      <td>12.0</td>\n",
       "      <td>14.4</td>\n",
       "      <td>5</td>\n",
       "      <td>NaN</td>\n",
       "      <td>...</td>\n",
       "      <td>NaN</td>\n",
       "      <td>NaN</td>\n",
       "      <td>NaN</td>\n",
       "      <td>NaN</td>\n",
       "      <td>NaN</td>\n",
       "      <td>55.0</td>\n",
       "      <td>55 days</td>\n",
       "      <td>Янино-1</td>\n",
       "      <td>95065.789474</td>\n",
       "      <td>0</td>\n",
       "    </tr>\n",
       "  </tbody>\n",
       "</table>\n",
       "<p>5 rows × 26 columns</p>\n",
       "</div>"
      ],
      "text/plain": [
       "   total_images  last_price  total_area first_day_exposition  rooms  \\\n",
       "0            20  13000000.0       108.0           2019-03-07      3   \n",
       "1             7   3350000.0        40.4           2018-12-04      1   \n",
       "2            10   5196000.0        56.0           2015-08-20      2   \n",
       "4             2  10000000.0       100.0           2018-06-19      2   \n",
       "5            10   2890000.0        30.4           2018-09-10      1   \n",
       "\n",
       "   ceiling_height  floors_total  living_area  floor is_apartment  ...  \\\n",
       "0            2.70          16.0         51.0      8          NaN  ...   \n",
       "1            2.65          11.0         18.6      1          NaN  ...   \n",
       "2            2.65           5.0         34.3      4          NaN  ...   \n",
       "4            3.03          14.0         32.0     13          NaN  ...   \n",
       "5            2.65          12.0         14.4      5          NaN  ...   \n",
       "\n",
       "   cityCenters_nearest  parks_around3000  parks_nearest  ponds_around3000  \\\n",
       "0              16028.0               1.0          482.0               2.0   \n",
       "1              18603.0               0.0            NaN               0.0   \n",
       "2              13933.0               1.0           90.0               2.0   \n",
       "4               8098.0               2.0          112.0               1.0   \n",
       "5                  NaN               NaN            NaN               NaN   \n",
       "\n",
       "  ponds_nearest  days_exposition  days_exposition_formatted  \\\n",
       "0         755.0              NaN                        NaT   \n",
       "1           NaN             81.0                    81 days   \n",
       "2         574.0            558.0                   558 days   \n",
       "4          48.0            121.0                   121 days   \n",
       "5           NaN             55.0                    55 days   \n",
       "\n",
       "   clean_locality_name  price_per_meter  publicated_at_day_of_week  \n",
       "0      Санкт-Петербург    120370.370370                          3  \n",
       "1               Шушары     82920.792079                          1  \n",
       "2      Санкт-Петербург     92785.714286                          3  \n",
       "4      Санкт-Петербург    100000.000000                          1  \n",
       "5              Янино-1     95065.789474                          0  \n",
       "\n",
       "[5 rows x 26 columns]"
      ]
     },
     "execution_count": 42,
     "metadata": {},
     "output_type": "execute_result"
    }
   ],
   "source": [
    "df['publicated_at_day_of_week'] = df['first_day_exposition'].dt.dayofweek\n",
    "df.head()"
   ]
  },
  {
   "cell_type": "markdown",
   "metadata": {},
   "source": [
    "**Добавляем столбец месяц публикации объявления**"
   ]
  },
  {
   "cell_type": "code",
   "execution_count": 43,
   "metadata": {
    "scrolled": true
   },
   "outputs": [
    {
     "data": {
      "text/html": [
       "<div>\n",
       "<style scoped>\n",
       "    .dataframe tbody tr th:only-of-type {\n",
       "        vertical-align: middle;\n",
       "    }\n",
       "\n",
       "    .dataframe tbody tr th {\n",
       "        vertical-align: top;\n",
       "    }\n",
       "\n",
       "    .dataframe thead th {\n",
       "        text-align: right;\n",
       "    }\n",
       "</style>\n",
       "<table border=\"1\" class=\"dataframe\">\n",
       "  <thead>\n",
       "    <tr style=\"text-align: right;\">\n",
       "      <th></th>\n",
       "      <th>total_images</th>\n",
       "      <th>last_price</th>\n",
       "      <th>total_area</th>\n",
       "      <th>first_day_exposition</th>\n",
       "      <th>rooms</th>\n",
       "      <th>ceiling_height</th>\n",
       "      <th>floors_total</th>\n",
       "      <th>living_area</th>\n",
       "      <th>floor</th>\n",
       "      <th>is_apartment</th>\n",
       "      <th>...</th>\n",
       "      <th>parks_around3000</th>\n",
       "      <th>parks_nearest</th>\n",
       "      <th>ponds_around3000</th>\n",
       "      <th>ponds_nearest</th>\n",
       "      <th>days_exposition</th>\n",
       "      <th>days_exposition_formatted</th>\n",
       "      <th>clean_locality_name</th>\n",
       "      <th>price_per_meter</th>\n",
       "      <th>publicated_at_day_of_week</th>\n",
       "      <th>publicated_at_month</th>\n",
       "    </tr>\n",
       "  </thead>\n",
       "  <tbody>\n",
       "    <tr>\n",
       "      <th>0</th>\n",
       "      <td>20</td>\n",
       "      <td>13000000.0</td>\n",
       "      <td>108.0</td>\n",
       "      <td>2019-03-07</td>\n",
       "      <td>3</td>\n",
       "      <td>2.70</td>\n",
       "      <td>16.0</td>\n",
       "      <td>51.0</td>\n",
       "      <td>8</td>\n",
       "      <td>NaN</td>\n",
       "      <td>...</td>\n",
       "      <td>1.0</td>\n",
       "      <td>482.0</td>\n",
       "      <td>2.0</td>\n",
       "      <td>755.0</td>\n",
       "      <td>NaN</td>\n",
       "      <td>NaT</td>\n",
       "      <td>Санкт-Петербург</td>\n",
       "      <td>120370.370370</td>\n",
       "      <td>3</td>\n",
       "      <td>3</td>\n",
       "    </tr>\n",
       "    <tr>\n",
       "      <th>1</th>\n",
       "      <td>7</td>\n",
       "      <td>3350000.0</td>\n",
       "      <td>40.4</td>\n",
       "      <td>2018-12-04</td>\n",
       "      <td>1</td>\n",
       "      <td>2.65</td>\n",
       "      <td>11.0</td>\n",
       "      <td>18.6</td>\n",
       "      <td>1</td>\n",
       "      <td>NaN</td>\n",
       "      <td>...</td>\n",
       "      <td>0.0</td>\n",
       "      <td>NaN</td>\n",
       "      <td>0.0</td>\n",
       "      <td>NaN</td>\n",
       "      <td>81.0</td>\n",
       "      <td>81 days</td>\n",
       "      <td>Шушары</td>\n",
       "      <td>82920.792079</td>\n",
       "      <td>1</td>\n",
       "      <td>12</td>\n",
       "    </tr>\n",
       "    <tr>\n",
       "      <th>2</th>\n",
       "      <td>10</td>\n",
       "      <td>5196000.0</td>\n",
       "      <td>56.0</td>\n",
       "      <td>2015-08-20</td>\n",
       "      <td>2</td>\n",
       "      <td>2.65</td>\n",
       "      <td>5.0</td>\n",
       "      <td>34.3</td>\n",
       "      <td>4</td>\n",
       "      <td>NaN</td>\n",
       "      <td>...</td>\n",
       "      <td>1.0</td>\n",
       "      <td>90.0</td>\n",
       "      <td>2.0</td>\n",
       "      <td>574.0</td>\n",
       "      <td>558.0</td>\n",
       "      <td>558 days</td>\n",
       "      <td>Санкт-Петербург</td>\n",
       "      <td>92785.714286</td>\n",
       "      <td>3</td>\n",
       "      <td>8</td>\n",
       "    </tr>\n",
       "    <tr>\n",
       "      <th>4</th>\n",
       "      <td>2</td>\n",
       "      <td>10000000.0</td>\n",
       "      <td>100.0</td>\n",
       "      <td>2018-06-19</td>\n",
       "      <td>2</td>\n",
       "      <td>3.03</td>\n",
       "      <td>14.0</td>\n",
       "      <td>32.0</td>\n",
       "      <td>13</td>\n",
       "      <td>NaN</td>\n",
       "      <td>...</td>\n",
       "      <td>2.0</td>\n",
       "      <td>112.0</td>\n",
       "      <td>1.0</td>\n",
       "      <td>48.0</td>\n",
       "      <td>121.0</td>\n",
       "      <td>121 days</td>\n",
       "      <td>Санкт-Петербург</td>\n",
       "      <td>100000.000000</td>\n",
       "      <td>1</td>\n",
       "      <td>6</td>\n",
       "    </tr>\n",
       "    <tr>\n",
       "      <th>5</th>\n",
       "      <td>10</td>\n",
       "      <td>2890000.0</td>\n",
       "      <td>30.4</td>\n",
       "      <td>2018-09-10</td>\n",
       "      <td>1</td>\n",
       "      <td>2.65</td>\n",
       "      <td>12.0</td>\n",
       "      <td>14.4</td>\n",
       "      <td>5</td>\n",
       "      <td>NaN</td>\n",
       "      <td>...</td>\n",
       "      <td>NaN</td>\n",
       "      <td>NaN</td>\n",
       "      <td>NaN</td>\n",
       "      <td>NaN</td>\n",
       "      <td>55.0</td>\n",
       "      <td>55 days</td>\n",
       "      <td>Янино-1</td>\n",
       "      <td>95065.789474</td>\n",
       "      <td>0</td>\n",
       "      <td>9</td>\n",
       "    </tr>\n",
       "  </tbody>\n",
       "</table>\n",
       "<p>5 rows × 27 columns</p>\n",
       "</div>"
      ],
      "text/plain": [
       "   total_images  last_price  total_area first_day_exposition  rooms  \\\n",
       "0            20  13000000.0       108.0           2019-03-07      3   \n",
       "1             7   3350000.0        40.4           2018-12-04      1   \n",
       "2            10   5196000.0        56.0           2015-08-20      2   \n",
       "4             2  10000000.0       100.0           2018-06-19      2   \n",
       "5            10   2890000.0        30.4           2018-09-10      1   \n",
       "\n",
       "   ceiling_height  floors_total  living_area  floor is_apartment  ...  \\\n",
       "0            2.70          16.0         51.0      8          NaN  ...   \n",
       "1            2.65          11.0         18.6      1          NaN  ...   \n",
       "2            2.65           5.0         34.3      4          NaN  ...   \n",
       "4            3.03          14.0         32.0     13          NaN  ...   \n",
       "5            2.65          12.0         14.4      5          NaN  ...   \n",
       "\n",
       "   parks_around3000  parks_nearest  ponds_around3000  ponds_nearest  \\\n",
       "0               1.0          482.0               2.0          755.0   \n",
       "1               0.0            NaN               0.0            NaN   \n",
       "2               1.0           90.0               2.0          574.0   \n",
       "4               2.0          112.0               1.0           48.0   \n",
       "5               NaN            NaN               NaN            NaN   \n",
       "\n",
       "  days_exposition  days_exposition_formatted  clean_locality_name  \\\n",
       "0             NaN                        NaT      Санкт-Петербург   \n",
       "1            81.0                    81 days               Шушары   \n",
       "2           558.0                   558 days      Санкт-Петербург   \n",
       "4           121.0                   121 days      Санкт-Петербург   \n",
       "5            55.0                    55 days              Янино-1   \n",
       "\n",
       "   price_per_meter  publicated_at_day_of_week  publicated_at_month  \n",
       "0    120370.370370                          3                    3  \n",
       "1     82920.792079                          1                   12  \n",
       "2     92785.714286                          3                    8  \n",
       "4    100000.000000                          1                    6  \n",
       "5     95065.789474                          0                    9  \n",
       "\n",
       "[5 rows x 27 columns]"
      ]
     },
     "execution_count": 43,
     "metadata": {},
     "output_type": "execute_result"
    }
   ],
   "source": [
    "df['publicated_at_month'] = df['first_day_exposition'].dt.month\n",
    "df.head()"
   ]
  },
  {
   "cell_type": "markdown",
   "metadata": {},
   "source": [
    "**Добавляем столбец год публикации объявления**"
   ]
  },
  {
   "cell_type": "code",
   "execution_count": 44,
   "metadata": {
    "scrolled": true
   },
   "outputs": [
    {
     "data": {
      "text/html": [
       "<div>\n",
       "<style scoped>\n",
       "    .dataframe tbody tr th:only-of-type {\n",
       "        vertical-align: middle;\n",
       "    }\n",
       "\n",
       "    .dataframe tbody tr th {\n",
       "        vertical-align: top;\n",
       "    }\n",
       "\n",
       "    .dataframe thead th {\n",
       "        text-align: right;\n",
       "    }\n",
       "</style>\n",
       "<table border=\"1\" class=\"dataframe\">\n",
       "  <thead>\n",
       "    <tr style=\"text-align: right;\">\n",
       "      <th></th>\n",
       "      <th>total_images</th>\n",
       "      <th>last_price</th>\n",
       "      <th>total_area</th>\n",
       "      <th>first_day_exposition</th>\n",
       "      <th>rooms</th>\n",
       "      <th>ceiling_height</th>\n",
       "      <th>floors_total</th>\n",
       "      <th>living_area</th>\n",
       "      <th>floor</th>\n",
       "      <th>is_apartment</th>\n",
       "      <th>...</th>\n",
       "      <th>parks_nearest</th>\n",
       "      <th>ponds_around3000</th>\n",
       "      <th>ponds_nearest</th>\n",
       "      <th>days_exposition</th>\n",
       "      <th>days_exposition_formatted</th>\n",
       "      <th>clean_locality_name</th>\n",
       "      <th>price_per_meter</th>\n",
       "      <th>publicated_at_day_of_week</th>\n",
       "      <th>publicated_at_month</th>\n",
       "      <th>publicated_at_year</th>\n",
       "    </tr>\n",
       "  </thead>\n",
       "  <tbody>\n",
       "    <tr>\n",
       "      <th>0</th>\n",
       "      <td>20</td>\n",
       "      <td>13000000.0</td>\n",
       "      <td>108.0</td>\n",
       "      <td>2019-03-07</td>\n",
       "      <td>3</td>\n",
       "      <td>2.70</td>\n",
       "      <td>16.0</td>\n",
       "      <td>51.0</td>\n",
       "      <td>8</td>\n",
       "      <td>NaN</td>\n",
       "      <td>...</td>\n",
       "      <td>482.0</td>\n",
       "      <td>2.0</td>\n",
       "      <td>755.0</td>\n",
       "      <td>NaN</td>\n",
       "      <td>NaT</td>\n",
       "      <td>Санкт-Петербург</td>\n",
       "      <td>120370.370370</td>\n",
       "      <td>3</td>\n",
       "      <td>3</td>\n",
       "      <td>2019</td>\n",
       "    </tr>\n",
       "    <tr>\n",
       "      <th>1</th>\n",
       "      <td>7</td>\n",
       "      <td>3350000.0</td>\n",
       "      <td>40.4</td>\n",
       "      <td>2018-12-04</td>\n",
       "      <td>1</td>\n",
       "      <td>2.65</td>\n",
       "      <td>11.0</td>\n",
       "      <td>18.6</td>\n",
       "      <td>1</td>\n",
       "      <td>NaN</td>\n",
       "      <td>...</td>\n",
       "      <td>NaN</td>\n",
       "      <td>0.0</td>\n",
       "      <td>NaN</td>\n",
       "      <td>81.0</td>\n",
       "      <td>81 days</td>\n",
       "      <td>Шушары</td>\n",
       "      <td>82920.792079</td>\n",
       "      <td>1</td>\n",
       "      <td>12</td>\n",
       "      <td>2018</td>\n",
       "    </tr>\n",
       "    <tr>\n",
       "      <th>2</th>\n",
       "      <td>10</td>\n",
       "      <td>5196000.0</td>\n",
       "      <td>56.0</td>\n",
       "      <td>2015-08-20</td>\n",
       "      <td>2</td>\n",
       "      <td>2.65</td>\n",
       "      <td>5.0</td>\n",
       "      <td>34.3</td>\n",
       "      <td>4</td>\n",
       "      <td>NaN</td>\n",
       "      <td>...</td>\n",
       "      <td>90.0</td>\n",
       "      <td>2.0</td>\n",
       "      <td>574.0</td>\n",
       "      <td>558.0</td>\n",
       "      <td>558 days</td>\n",
       "      <td>Санкт-Петербург</td>\n",
       "      <td>92785.714286</td>\n",
       "      <td>3</td>\n",
       "      <td>8</td>\n",
       "      <td>2015</td>\n",
       "    </tr>\n",
       "    <tr>\n",
       "      <th>4</th>\n",
       "      <td>2</td>\n",
       "      <td>10000000.0</td>\n",
       "      <td>100.0</td>\n",
       "      <td>2018-06-19</td>\n",
       "      <td>2</td>\n",
       "      <td>3.03</td>\n",
       "      <td>14.0</td>\n",
       "      <td>32.0</td>\n",
       "      <td>13</td>\n",
       "      <td>NaN</td>\n",
       "      <td>...</td>\n",
       "      <td>112.0</td>\n",
       "      <td>1.0</td>\n",
       "      <td>48.0</td>\n",
       "      <td>121.0</td>\n",
       "      <td>121 days</td>\n",
       "      <td>Санкт-Петербург</td>\n",
       "      <td>100000.000000</td>\n",
       "      <td>1</td>\n",
       "      <td>6</td>\n",
       "      <td>2018</td>\n",
       "    </tr>\n",
       "    <tr>\n",
       "      <th>5</th>\n",
       "      <td>10</td>\n",
       "      <td>2890000.0</td>\n",
       "      <td>30.4</td>\n",
       "      <td>2018-09-10</td>\n",
       "      <td>1</td>\n",
       "      <td>2.65</td>\n",
       "      <td>12.0</td>\n",
       "      <td>14.4</td>\n",
       "      <td>5</td>\n",
       "      <td>NaN</td>\n",
       "      <td>...</td>\n",
       "      <td>NaN</td>\n",
       "      <td>NaN</td>\n",
       "      <td>NaN</td>\n",
       "      <td>55.0</td>\n",
       "      <td>55 days</td>\n",
       "      <td>Янино-1</td>\n",
       "      <td>95065.789474</td>\n",
       "      <td>0</td>\n",
       "      <td>9</td>\n",
       "      <td>2018</td>\n",
       "    </tr>\n",
       "  </tbody>\n",
       "</table>\n",
       "<p>5 rows × 28 columns</p>\n",
       "</div>"
      ],
      "text/plain": [
       "   total_images  last_price  total_area first_day_exposition  rooms  \\\n",
       "0            20  13000000.0       108.0           2019-03-07      3   \n",
       "1             7   3350000.0        40.4           2018-12-04      1   \n",
       "2            10   5196000.0        56.0           2015-08-20      2   \n",
       "4             2  10000000.0       100.0           2018-06-19      2   \n",
       "5            10   2890000.0        30.4           2018-09-10      1   \n",
       "\n",
       "   ceiling_height  floors_total  living_area  floor is_apartment  ...  \\\n",
       "0            2.70          16.0         51.0      8          NaN  ...   \n",
       "1            2.65          11.0         18.6      1          NaN  ...   \n",
       "2            2.65           5.0         34.3      4          NaN  ...   \n",
       "4            3.03          14.0         32.0     13          NaN  ...   \n",
       "5            2.65          12.0         14.4      5          NaN  ...   \n",
       "\n",
       "   parks_nearest  ponds_around3000  ponds_nearest  days_exposition  \\\n",
       "0          482.0               2.0          755.0              NaN   \n",
       "1            NaN               0.0            NaN             81.0   \n",
       "2           90.0               2.0          574.0            558.0   \n",
       "4          112.0               1.0           48.0            121.0   \n",
       "5            NaN               NaN            NaN             55.0   \n",
       "\n",
       "  days_exposition_formatted  clean_locality_name  price_per_meter  \\\n",
       "0                       NaT      Санкт-Петербург    120370.370370   \n",
       "1                   81 days               Шушары     82920.792079   \n",
       "2                  558 days      Санкт-Петербург     92785.714286   \n",
       "4                  121 days      Санкт-Петербург    100000.000000   \n",
       "5                   55 days              Янино-1     95065.789474   \n",
       "\n",
       "   publicated_at_day_of_week  publicated_at_month  publicated_at_year  \n",
       "0                          3                    3                2019  \n",
       "1                          1                   12                2018  \n",
       "2                          3                    8                2015  \n",
       "4                          1                    6                2018  \n",
       "5                          0                    9                2018  \n",
       "\n",
       "[5 rows x 28 columns]"
      ]
     },
     "execution_count": 44,
     "metadata": {},
     "output_type": "execute_result"
    }
   ],
   "source": [
    "df['publicated_at_year'] = df['first_day_exposition'].dt.year\n",
    "df.head()"
   ]
  },
  {
   "cell_type": "markdown",
   "metadata": {},
   "source": [
    "<div class=\"alert alert-block alert-success\">\n",
    " \n",
    "### Комментарий ревьюера\n",
    "    \n",
    "#### Успех\n",
    "    \n",
    "С переводом в формат даты все отлично получилось. \n",
    "</div "
   ]
  },
  {
   "cell_type": "markdown",
   "metadata": {},
   "source": [
    "**Добавляем столбец тип этажа**"
   ]
  },
  {
   "cell_type": "code",
   "execution_count": 45,
   "metadata": {
    "scrolled": true
   },
   "outputs": [
    {
     "data": {
      "text/html": [
       "<div>\n",
       "<style scoped>\n",
       "    .dataframe tbody tr th:only-of-type {\n",
       "        vertical-align: middle;\n",
       "    }\n",
       "\n",
       "    .dataframe tbody tr th {\n",
       "        vertical-align: top;\n",
       "    }\n",
       "\n",
       "    .dataframe thead th {\n",
       "        text-align: right;\n",
       "    }\n",
       "</style>\n",
       "<table border=\"1\" class=\"dataframe\">\n",
       "  <thead>\n",
       "    <tr style=\"text-align: right;\">\n",
       "      <th></th>\n",
       "      <th>total_images</th>\n",
       "      <th>last_price</th>\n",
       "      <th>total_area</th>\n",
       "      <th>first_day_exposition</th>\n",
       "      <th>rooms</th>\n",
       "      <th>ceiling_height</th>\n",
       "      <th>floors_total</th>\n",
       "      <th>living_area</th>\n",
       "      <th>floor</th>\n",
       "      <th>is_apartment</th>\n",
       "      <th>...</th>\n",
       "      <th>ponds_around3000</th>\n",
       "      <th>ponds_nearest</th>\n",
       "      <th>days_exposition</th>\n",
       "      <th>days_exposition_formatted</th>\n",
       "      <th>clean_locality_name</th>\n",
       "      <th>price_per_meter</th>\n",
       "      <th>publicated_at_day_of_week</th>\n",
       "      <th>publicated_at_month</th>\n",
       "      <th>publicated_at_year</th>\n",
       "      <th>floor_type</th>\n",
       "    </tr>\n",
       "  </thead>\n",
       "  <tbody>\n",
       "    <tr>\n",
       "      <th>0</th>\n",
       "      <td>20</td>\n",
       "      <td>13000000.0</td>\n",
       "      <td>108.0</td>\n",
       "      <td>2019-03-07</td>\n",
       "      <td>3</td>\n",
       "      <td>2.70</td>\n",
       "      <td>16.0</td>\n",
       "      <td>51.0</td>\n",
       "      <td>8</td>\n",
       "      <td>NaN</td>\n",
       "      <td>...</td>\n",
       "      <td>2.0</td>\n",
       "      <td>755.0</td>\n",
       "      <td>NaN</td>\n",
       "      <td>NaT</td>\n",
       "      <td>Санкт-Петербург</td>\n",
       "      <td>120370.370370</td>\n",
       "      <td>3</td>\n",
       "      <td>3</td>\n",
       "      <td>2019</td>\n",
       "      <td>Другой</td>\n",
       "    </tr>\n",
       "    <tr>\n",
       "      <th>1</th>\n",
       "      <td>7</td>\n",
       "      <td>3350000.0</td>\n",
       "      <td>40.4</td>\n",
       "      <td>2018-12-04</td>\n",
       "      <td>1</td>\n",
       "      <td>2.65</td>\n",
       "      <td>11.0</td>\n",
       "      <td>18.6</td>\n",
       "      <td>1</td>\n",
       "      <td>NaN</td>\n",
       "      <td>...</td>\n",
       "      <td>0.0</td>\n",
       "      <td>NaN</td>\n",
       "      <td>81.0</td>\n",
       "      <td>81 days</td>\n",
       "      <td>Шушары</td>\n",
       "      <td>82920.792079</td>\n",
       "      <td>1</td>\n",
       "      <td>12</td>\n",
       "      <td>2018</td>\n",
       "      <td>Первый</td>\n",
       "    </tr>\n",
       "    <tr>\n",
       "      <th>2</th>\n",
       "      <td>10</td>\n",
       "      <td>5196000.0</td>\n",
       "      <td>56.0</td>\n",
       "      <td>2015-08-20</td>\n",
       "      <td>2</td>\n",
       "      <td>2.65</td>\n",
       "      <td>5.0</td>\n",
       "      <td>34.3</td>\n",
       "      <td>4</td>\n",
       "      <td>NaN</td>\n",
       "      <td>...</td>\n",
       "      <td>2.0</td>\n",
       "      <td>574.0</td>\n",
       "      <td>558.0</td>\n",
       "      <td>558 days</td>\n",
       "      <td>Санкт-Петербург</td>\n",
       "      <td>92785.714286</td>\n",
       "      <td>3</td>\n",
       "      <td>8</td>\n",
       "      <td>2015</td>\n",
       "      <td>Другой</td>\n",
       "    </tr>\n",
       "    <tr>\n",
       "      <th>4</th>\n",
       "      <td>2</td>\n",
       "      <td>10000000.0</td>\n",
       "      <td>100.0</td>\n",
       "      <td>2018-06-19</td>\n",
       "      <td>2</td>\n",
       "      <td>3.03</td>\n",
       "      <td>14.0</td>\n",
       "      <td>32.0</td>\n",
       "      <td>13</td>\n",
       "      <td>NaN</td>\n",
       "      <td>...</td>\n",
       "      <td>1.0</td>\n",
       "      <td>48.0</td>\n",
       "      <td>121.0</td>\n",
       "      <td>121 days</td>\n",
       "      <td>Санкт-Петербург</td>\n",
       "      <td>100000.000000</td>\n",
       "      <td>1</td>\n",
       "      <td>6</td>\n",
       "      <td>2018</td>\n",
       "      <td>Другой</td>\n",
       "    </tr>\n",
       "    <tr>\n",
       "      <th>5</th>\n",
       "      <td>10</td>\n",
       "      <td>2890000.0</td>\n",
       "      <td>30.4</td>\n",
       "      <td>2018-09-10</td>\n",
       "      <td>1</td>\n",
       "      <td>2.65</td>\n",
       "      <td>12.0</td>\n",
       "      <td>14.4</td>\n",
       "      <td>5</td>\n",
       "      <td>NaN</td>\n",
       "      <td>...</td>\n",
       "      <td>NaN</td>\n",
       "      <td>NaN</td>\n",
       "      <td>55.0</td>\n",
       "      <td>55 days</td>\n",
       "      <td>Янино-1</td>\n",
       "      <td>95065.789474</td>\n",
       "      <td>0</td>\n",
       "      <td>9</td>\n",
       "      <td>2018</td>\n",
       "      <td>Другой</td>\n",
       "    </tr>\n",
       "  </tbody>\n",
       "</table>\n",
       "<p>5 rows × 29 columns</p>\n",
       "</div>"
      ],
      "text/plain": [
       "   total_images  last_price  total_area first_day_exposition  rooms  \\\n",
       "0            20  13000000.0       108.0           2019-03-07      3   \n",
       "1             7   3350000.0        40.4           2018-12-04      1   \n",
       "2            10   5196000.0        56.0           2015-08-20      2   \n",
       "4             2  10000000.0       100.0           2018-06-19      2   \n",
       "5            10   2890000.0        30.4           2018-09-10      1   \n",
       "\n",
       "   ceiling_height  floors_total  living_area  floor is_apartment  ...  \\\n",
       "0            2.70          16.0         51.0      8          NaN  ...   \n",
       "1            2.65          11.0         18.6      1          NaN  ...   \n",
       "2            2.65           5.0         34.3      4          NaN  ...   \n",
       "4            3.03          14.0         32.0     13          NaN  ...   \n",
       "5            2.65          12.0         14.4      5          NaN  ...   \n",
       "\n",
       "   ponds_around3000  ponds_nearest  days_exposition  \\\n",
       "0               2.0          755.0              NaN   \n",
       "1               0.0            NaN             81.0   \n",
       "2               2.0          574.0            558.0   \n",
       "4               1.0           48.0            121.0   \n",
       "5               NaN            NaN             55.0   \n",
       "\n",
       "   days_exposition_formatted clean_locality_name  price_per_meter  \\\n",
       "0                        NaT     Санкт-Петербург    120370.370370   \n",
       "1                    81 days              Шушары     82920.792079   \n",
       "2                   558 days     Санкт-Петербург     92785.714286   \n",
       "4                   121 days     Санкт-Петербург    100000.000000   \n",
       "5                    55 days             Янино-1     95065.789474   \n",
       "\n",
       "   publicated_at_day_of_week  publicated_at_month  publicated_at_year  \\\n",
       "0                          3                    3                2019   \n",
       "1                          1                   12                2018   \n",
       "2                          3                    8                2015   \n",
       "4                          1                    6                2018   \n",
       "5                          0                    9                2018   \n",
       "\n",
       "   floor_type  \n",
       "0      Другой  \n",
       "1      Первый  \n",
       "2      Другой  \n",
       "4      Другой  \n",
       "5      Другой  \n",
       "\n",
       "[5 rows x 29 columns]"
      ]
     },
     "execution_count": 45,
     "metadata": {},
     "output_type": "execute_result"
    }
   ],
   "source": [
    "def floor_type(floor, floors_total):\n",
    "    if floor == 1: return 'Первый'\n",
    "    elif floor == floors_total: return 'Последний'\n",
    "    else: return 'Другой'\n",
    "df['floor_type'] = df[['floor','floors_total']].apply(lambda x: floor_type(*x), axis=1)\n",
    "df.head()"
   ]
  },
  {
   "cell_type": "markdown",
   "metadata": {},
   "source": [
    "**Добавляем столбец расстояние до центра города в километрах**"
   ]
  },
  {
   "cell_type": "code",
   "execution_count": 46,
   "metadata": {},
   "outputs": [
    {
     "data": {
      "text/html": [
       "<div>\n",
       "<style scoped>\n",
       "    .dataframe tbody tr th:only-of-type {\n",
       "        vertical-align: middle;\n",
       "    }\n",
       "\n",
       "    .dataframe tbody tr th {\n",
       "        vertical-align: top;\n",
       "    }\n",
       "\n",
       "    .dataframe thead th {\n",
       "        text-align: right;\n",
       "    }\n",
       "</style>\n",
       "<table border=\"1\" class=\"dataframe\">\n",
       "  <thead>\n",
       "    <tr style=\"text-align: right;\">\n",
       "      <th></th>\n",
       "      <th>total_images</th>\n",
       "      <th>last_price</th>\n",
       "      <th>total_area</th>\n",
       "      <th>first_day_exposition</th>\n",
       "      <th>rooms</th>\n",
       "      <th>ceiling_height</th>\n",
       "      <th>floors_total</th>\n",
       "      <th>living_area</th>\n",
       "      <th>floor</th>\n",
       "      <th>is_apartment</th>\n",
       "      <th>...</th>\n",
       "      <th>ponds_nearest</th>\n",
       "      <th>days_exposition</th>\n",
       "      <th>days_exposition_formatted</th>\n",
       "      <th>clean_locality_name</th>\n",
       "      <th>price_per_meter</th>\n",
       "      <th>publicated_at_day_of_week</th>\n",
       "      <th>publicated_at_month</th>\n",
       "      <th>publicated_at_year</th>\n",
       "      <th>floor_type</th>\n",
       "      <th>distance_km</th>\n",
       "    </tr>\n",
       "  </thead>\n",
       "  <tbody>\n",
       "    <tr>\n",
       "      <th>0</th>\n",
       "      <td>20</td>\n",
       "      <td>13000000.0</td>\n",
       "      <td>108.0</td>\n",
       "      <td>2019-03-07</td>\n",
       "      <td>3</td>\n",
       "      <td>2.70</td>\n",
       "      <td>16.0</td>\n",
       "      <td>51.0</td>\n",
       "      <td>8</td>\n",
       "      <td>NaN</td>\n",
       "      <td>...</td>\n",
       "      <td>755.0</td>\n",
       "      <td>NaN</td>\n",
       "      <td>NaT</td>\n",
       "      <td>Санкт-Петербург</td>\n",
       "      <td>120370.370370</td>\n",
       "      <td>3</td>\n",
       "      <td>3</td>\n",
       "      <td>2019</td>\n",
       "      <td>Другой</td>\n",
       "      <td>16</td>\n",
       "    </tr>\n",
       "    <tr>\n",
       "      <th>1</th>\n",
       "      <td>7</td>\n",
       "      <td>3350000.0</td>\n",
       "      <td>40.4</td>\n",
       "      <td>2018-12-04</td>\n",
       "      <td>1</td>\n",
       "      <td>2.65</td>\n",
       "      <td>11.0</td>\n",
       "      <td>18.6</td>\n",
       "      <td>1</td>\n",
       "      <td>NaN</td>\n",
       "      <td>...</td>\n",
       "      <td>NaN</td>\n",
       "      <td>81.0</td>\n",
       "      <td>81 days</td>\n",
       "      <td>Шушары</td>\n",
       "      <td>82920.792079</td>\n",
       "      <td>1</td>\n",
       "      <td>12</td>\n",
       "      <td>2018</td>\n",
       "      <td>Первый</td>\n",
       "      <td>18</td>\n",
       "    </tr>\n",
       "    <tr>\n",
       "      <th>2</th>\n",
       "      <td>10</td>\n",
       "      <td>5196000.0</td>\n",
       "      <td>56.0</td>\n",
       "      <td>2015-08-20</td>\n",
       "      <td>2</td>\n",
       "      <td>2.65</td>\n",
       "      <td>5.0</td>\n",
       "      <td>34.3</td>\n",
       "      <td>4</td>\n",
       "      <td>NaN</td>\n",
       "      <td>...</td>\n",
       "      <td>574.0</td>\n",
       "      <td>558.0</td>\n",
       "      <td>558 days</td>\n",
       "      <td>Санкт-Петербург</td>\n",
       "      <td>92785.714286</td>\n",
       "      <td>3</td>\n",
       "      <td>8</td>\n",
       "      <td>2015</td>\n",
       "      <td>Другой</td>\n",
       "      <td>13</td>\n",
       "    </tr>\n",
       "    <tr>\n",
       "      <th>4</th>\n",
       "      <td>2</td>\n",
       "      <td>10000000.0</td>\n",
       "      <td>100.0</td>\n",
       "      <td>2018-06-19</td>\n",
       "      <td>2</td>\n",
       "      <td>3.03</td>\n",
       "      <td>14.0</td>\n",
       "      <td>32.0</td>\n",
       "      <td>13</td>\n",
       "      <td>NaN</td>\n",
       "      <td>...</td>\n",
       "      <td>48.0</td>\n",
       "      <td>121.0</td>\n",
       "      <td>121 days</td>\n",
       "      <td>Санкт-Петербург</td>\n",
       "      <td>100000.000000</td>\n",
       "      <td>1</td>\n",
       "      <td>6</td>\n",
       "      <td>2018</td>\n",
       "      <td>Другой</td>\n",
       "      <td>8</td>\n",
       "    </tr>\n",
       "    <tr>\n",
       "      <th>5</th>\n",
       "      <td>10</td>\n",
       "      <td>2890000.0</td>\n",
       "      <td>30.4</td>\n",
       "      <td>2018-09-10</td>\n",
       "      <td>1</td>\n",
       "      <td>2.65</td>\n",
       "      <td>12.0</td>\n",
       "      <td>14.4</td>\n",
       "      <td>5</td>\n",
       "      <td>NaN</td>\n",
       "      <td>...</td>\n",
       "      <td>NaN</td>\n",
       "      <td>55.0</td>\n",
       "      <td>55 days</td>\n",
       "      <td>Янино-1</td>\n",
       "      <td>95065.789474</td>\n",
       "      <td>0</td>\n",
       "      <td>9</td>\n",
       "      <td>2018</td>\n",
       "      <td>Другой</td>\n",
       "      <td>0</td>\n",
       "    </tr>\n",
       "  </tbody>\n",
       "</table>\n",
       "<p>5 rows × 30 columns</p>\n",
       "</div>"
      ],
      "text/plain": [
       "   total_images  last_price  total_area first_day_exposition  rooms  \\\n",
       "0            20  13000000.0       108.0           2019-03-07      3   \n",
       "1             7   3350000.0        40.4           2018-12-04      1   \n",
       "2            10   5196000.0        56.0           2015-08-20      2   \n",
       "4             2  10000000.0       100.0           2018-06-19      2   \n",
       "5            10   2890000.0        30.4           2018-09-10      1   \n",
       "\n",
       "   ceiling_height  floors_total  living_area  floor is_apartment  ...  \\\n",
       "0            2.70          16.0         51.0      8          NaN  ...   \n",
       "1            2.65          11.0         18.6      1          NaN  ...   \n",
       "2            2.65           5.0         34.3      4          NaN  ...   \n",
       "4            3.03          14.0         32.0     13          NaN  ...   \n",
       "5            2.65          12.0         14.4      5          NaN  ...   \n",
       "\n",
       "   ponds_nearest  days_exposition  days_exposition_formatted  \\\n",
       "0          755.0              NaN                        NaT   \n",
       "1            NaN             81.0                    81 days   \n",
       "2          574.0            558.0                   558 days   \n",
       "4           48.0            121.0                   121 days   \n",
       "5            NaN             55.0                    55 days   \n",
       "\n",
       "   clean_locality_name price_per_meter  publicated_at_day_of_week  \\\n",
       "0      Санкт-Петербург   120370.370370                          3   \n",
       "1               Шушары    82920.792079                          1   \n",
       "2      Санкт-Петербург    92785.714286                          3   \n",
       "4      Санкт-Петербург   100000.000000                          1   \n",
       "5              Янино-1    95065.789474                          0   \n",
       "\n",
       "   publicated_at_month  publicated_at_year  floor_type  distance_km  \n",
       "0                    3                2019      Другой           16  \n",
       "1                   12                2018      Первый           18  \n",
       "2                    8                2015      Другой           13  \n",
       "4                    6                2018      Другой            8  \n",
       "5                    9                2018      Другой            0  \n",
       "\n",
       "[5 rows x 30 columns]"
      ]
     },
     "execution_count": 46,
     "metadata": {},
     "output_type": "execute_result"
    }
   ],
   "source": [
    "df['distance_km'] = (df['cityCenters_nearest']/1000).fillna(0).astype(int)\n",
    "df.head()"
   ]
  },
  {
   "cell_type": "markdown",
   "metadata": {},
   "source": [
    "<div class=\"alert alert-block alert-success\">\n",
    " \n",
    "### Комментарий ревьюера\n",
    "    \n",
    "#### Успех\n",
    "    \n",
    "Супер. Данные подготовили и можем идти дальше.  \n",
    "</div "
   ]
  },
  {
   "cell_type": "markdown",
   "metadata": {},
   "source": [
    "### Проведите исследовательский анализ данных"
   ]
  },
  {
   "cell_type": "markdown",
   "metadata": {},
   "source": [
    "**4.1 Изучаем параметры квартир**"
   ]
  },
  {
   "cell_type": "markdown",
   "metadata": {},
   "source": [
    "**Общая площадь**"
   ]
  },
  {
   "cell_type": "code",
   "execution_count": 47,
   "metadata": {
    "scrolled": true
   },
   "outputs": [
    {
     "data": {
      "text/plain": [
       "<AxesSubplot:>"
      ]
     },
     "execution_count": 47,
     "metadata": {},
     "output_type": "execute_result"
    },
    {
     "data": {
      "image/png": "[encoded data removed]",
      "text/plain": [
       "<Figure size 432x288 with 1 Axes>"
      ]
     },
     "metadata": {
      "needs_background": "light"
     },
     "output_type": "display_data"
    }
   ],
   "source": [
    "df['total_area'].hist(bins=80, legend=True)"
   ]
  },
  {
   "cell_type": "code",
   "execution_count": 48,
   "metadata": {
    "scrolled": true
   },
   "outputs": [
    {
     "data": {
      "text/plain": [
       "count    21936.000000\n",
       "mean        56.927498\n",
       "std         23.057594\n",
       "min         25.070000\n",
       "25%         40.000000\n",
       "50%         51.500000\n",
       "75%         67.900000\n",
       "max        162.900000\n",
       "Name: total_area, dtype: float64"
      ]
     },
     "execution_count": 48,
     "metadata": {},
     "output_type": "execute_result"
    }
   ],
   "source": [
    "df['total_area'].describe()"
   ]
  },
  {
   "cell_type": "markdown",
   "metadata": {},
   "source": [
    "В наших данных после очистки от аномамльных и редких значений представлены 21936 квартиры, общей площадью от 25 до 162 кв.м. Характер распределения я бы назвал нормальным, но тяготеющим в сторону минимальных значений. Маленьких квартир больше, чем просторных квартир.\n",
    "Половина от всех квартир имеет общую площадь в диапазоне от 40 до 67 кв.м. Среднее значение - 57 кв.м.\n",
    "Стандартное отклонение - 23 кв.м.\n",
    "Медианное значение - 51,5 кв.м."
   ]
  },
  {
   "cell_type": "markdown",
   "metadata": {},
   "source": [
    "<div class=\"alert alert-block alert-success\">\n",
    " \n",
    "### Комментарий ревьюера\n",
    "    \n",
    "#### Успех\n",
    "    \n",
    "С выводами по графику согласен. \n",
    "</div "
   ]
  },
  {
   "cell_type": "markdown",
   "metadata": {},
   "source": [
    "**Жилая площадь**"
   ]
  },
  {
   "cell_type": "code",
   "execution_count": 49,
   "metadata": {
    "scrolled": true
   },
   "outputs": [
    {
     "data": {
      "text/plain": [
       "<AxesSubplot:>"
      ]
     },
     "execution_count": 49,
     "metadata": {},
     "output_type": "execute_result"
    },
    {
     "data": {
      "image/png": "[encoded data removed]",
      "text/plain": [
       "<Figure size 432x288 with 1 Axes>"
      ]
     },
     "metadata": {
      "needs_background": "light"
     },
     "output_type": "display_data"
    }
   ],
   "source": [
    "df['living_area'].hist(bins=80, legend=True)"
   ]
  },
  {
   "cell_type": "code",
   "execution_count": 50,
   "metadata": {
    "scrolled": true
   },
   "outputs": [
    {
     "data": {
      "text/plain": [
       "count    20214.000000\n",
       "mean        32.473483\n",
       "std         15.595997\n",
       "min          2.000000\n",
       "25%         18.600000\n",
       "50%         30.000000\n",
       "75%         41.600000\n",
       "max        128.000000\n",
       "Name: living_area, dtype: float64"
      ]
     },
     "execution_count": 50,
     "metadata": {},
     "output_type": "execute_result"
    }
   ],
   "source": [
    "df['living_area'].describe()"
   ]
  },
  {
   "cell_type": "markdown",
   "metadata": {},
   "source": [
    "Информация о жилой площади имеется у 20214 квартир. Как и в случае общей площади видим смещение распределения в сторону нуля. Кроме этого отчётливо наблюдаются пики или \"горбы верблюда\". Возможно так выражаются квартиры типовой застройки: первый горб - это множество квартир студий (может и коммуналок, это же Питер) с жилой площадью до 20 кв.м., второй горб - это вероятно однушки с жилой площадью 30(+-5) кв.м., пик около 40+ - это наверное двушки. Медианная жилая площадь составляет 30 кв.м. почему-то сильно меньше медианной общей площади в 52 кв.м. на целых 12 кв.м."
   ]
  },
  {
   "cell_type": "markdown",
   "metadata": {},
   "source": [
    "**Площадь кухни**"
   ]
  },
  {
   "cell_type": "code",
   "execution_count": 51,
   "metadata": {},
   "outputs": [
    {
     "data": {
      "text/plain": [
       "<AxesSubplot:>"
      ]
     },
     "execution_count": 51,
     "metadata": {},
     "output_type": "execute_result"
    },
    {
     "data": {
      "image/png": "[encoded data removed]",
      "text/plain": [
       "<Figure size 432x288 with 1 Axes>"
      ]
     },
     "metadata": {
      "needs_background": "light"
     },
     "output_type": "display_data"
    }
   ],
   "source": [
    "df['kitchen_area'].hist(bins=80, legend=True)"
   ]
  },
  {
   "cell_type": "code",
   "execution_count": 52,
   "metadata": {},
   "outputs": [
    {
     "data": {
      "text/plain": [
       "count    19984.000000\n",
       "mean        10.207494\n",
       "std          4.830850\n",
       "min          1.300000\n",
       "25%          7.000000\n",
       "50%          9.000000\n",
       "75%         11.700000\n",
       "max         65.000000\n",
       "Name: kitchen_area, dtype: float64"
      ]
     },
     "execution_count": 52,
     "metadata": {},
     "output_type": "execute_result"
    }
   ],
   "source": [
    "df['kitchen_area'].describe()"
   ]
  },
  {
   "cell_type": "markdown",
   "metadata": {},
   "source": [
    "Площадь кухни указана в 19984 объявлениях. Среднее - 10,2 кв.м., стандартное отклонение - 4,83 кв.м., самая маленькая кухня - 1,3 кв.м., самая большая - 65 (скорее всего кухня-гостинная), половина значений расположено в диапазоне от 7 до 11,7 кв.м., мединное значение площади кухни - 9 кв.м."
   ]
  },
  {
   "cell_type": "markdown",
   "metadata": {},
   "source": [
    "<div class=\"alert alert-block alert-success\">\n",
    " \n",
    "### Комментарий ревьюера\n",
    "    \n",
    "#### Успех\n",
    "    \n",
    "Ну и здесь тоже по делу. \n",
    "</div "
   ]
  },
  {
   "cell_type": "markdown",
   "metadata": {},
   "source": [
    "**Цена объекта**"
   ]
  },
  {
   "cell_type": "code",
   "execution_count": 53,
   "metadata": {
    "scrolled": true
   },
   "outputs": [
    {
     "data": {
      "text/plain": [
       "<AxesSubplot:>"
      ]
     },
     "execution_count": 53,
     "metadata": {},
     "output_type": "execute_result"
    },
    {
     "data": {
      "image/png": "[encoded data removed]",
      "text/plain": [
       "<Figure size 432x288 with 1 Axes>"
      ]
     },
     "metadata": {
      "needs_background": "light"
     },
     "output_type": "display_data"
    }
   ],
   "source": [
    "df['last_price'].hist(bins=80, legend=True)"
   ]
  },
  {
   "cell_type": "code",
   "execution_count": 54,
   "metadata": {},
   "outputs": [],
   "source": [
    "pd.set_option('display.float_format', lambda x: '%.0f' % x)"
   ]
  },
  {
   "cell_type": "code",
   "execution_count": 55,
   "metadata": {},
   "outputs": [
    {
     "data": {
      "text/plain": [
       "count      21936\n",
       "mean     5621853\n",
       "std      3669109\n",
       "min      1000000\n",
       "25%      3469150\n",
       "50%      4600000\n",
       "75%      6500000\n",
       "max     30891300\n",
       "Name: last_price, dtype: float64"
      ]
     },
     "execution_count": 55,
     "metadata": {},
     "output_type": "execute_result"
    }
   ],
   "source": [
    "df['last_price'].describe()"
   ]
  },
  {
   "cell_type": "markdown",
   "metadata": {},
   "source": [
    "Распределение стоимости квартир нормальное, но с жирным хвостом в сторону больших значений. Не знаю можно ли так выразиться? Среднее значение 5,6 млн, стандартное отклонение 3,7 млн - больше половины среднего говорит о большем разбросе значений, минимальная стоимость - 1 млн, максимальная стоимость 30,9 млн, мединная стоимость - 4,6 млн."
   ]
  },
  {
   "cell_type": "markdown",
   "metadata": {},
   "source": [
    "**Количество комнат**"
   ]
  },
  {
   "cell_type": "code",
   "execution_count": 56,
   "metadata": {
    "scrolled": true
   },
   "outputs": [
    {
     "data": {
      "text/plain": [
       "<AxesSubplot:>"
      ]
     },
     "execution_count": 56,
     "metadata": {},
     "output_type": "execute_result"
    },
    {
     "data": {
      "image/png": "[encoded data removed]",
      "text/plain": [
       "<Figure size 432x288 with 1 Axes>"
      ]
     },
     "metadata": {
      "needs_background": "light"
     },
     "output_type": "display_data"
    }
   ],
   "source": [
    "df['rooms'].hist(bins=8, legend=True)"
   ]
  },
  {
   "cell_type": "code",
   "execution_count": 57,
   "metadata": {},
   "outputs": [
    {
     "data": {
      "text/plain": [
       "0     115\n",
       "1    7587\n",
       "2    7559\n",
       "3    5464\n",
       "4     986\n",
       "5     182\n",
       "6      31\n",
       "7      11\n",
       "8       1\n",
       "Name: rooms, dtype: int64"
      ]
     },
     "execution_count": 57,
     "metadata": {},
     "output_type": "execute_result"
    }
   ],
   "source": [
    "df['rooms'].value_counts().sort_index()"
   ]
  },
  {
   "cell_type": "code",
   "execution_count": 58,
   "metadata": {
    "scrolled": true
   },
   "outputs": [
    {
     "data": {
      "text/plain": [
       "count   21936\n",
       "mean        2\n",
       "std         1\n",
       "min         0\n",
       "25%         1\n",
       "50%         2\n",
       "75%         3\n",
       "max         8\n",
       "Name: rooms, dtype: float64"
      ]
     },
     "execution_count": 58,
     "metadata": {},
     "output_type": "execute_result"
    }
   ],
   "source": [
    "df['rooms'].describe()"
   ]
  },
  {
   "cell_type": "markdown",
   "metadata": {},
   "source": [
    "На рынке больше всего 1-комнатных квартир, затем двушек, трёшек и так далее, кроме этого обнаружено 115 объектов с 0 комнатами - вероятно коммуналки."
   ]
  },
  {
   "cell_type": "markdown",
   "metadata": {},
   "source": [
    "<div class=\"alert alert-block alert-success\">\n",
    " \n",
    "### Комментарий ревьюера\n",
    "    \n",
    "#### Успех\n",
    "    \n",
    "1-2 комнатные квартиры самые распространенные, что рядом с истиной. \n",
    "</div "
   ]
  },
  {
   "cell_type": "markdown",
   "metadata": {},
   "source": [
    "**Высота потолков**"
   ]
  },
  {
   "cell_type": "code",
   "execution_count": 59,
   "metadata": {},
   "outputs": [
    {
     "data": {
      "text/plain": [
       "<AxesSubplot:>"
      ]
     },
     "execution_count": 59,
     "metadata": {},
     "output_type": "execute_result"
    },
    {
     "data": {
      "image/png": "[encoded data removed]",
      "text/plain": [
       "<Figure size 432x288 with 1 Axes>"
      ]
     },
     "metadata": {
      "needs_background": "light"
     },
     "output_type": "display_data"
    }
   ],
   "source": [
    "df['ceiling_height'].hist(bins=20, legend=True)"
   ]
  },
  {
   "cell_type": "code",
   "execution_count": 60,
   "metadata": {},
   "outputs": [
    {
     "data": {
      "text/plain": [
       "count   21936.0\n",
       "mean        2.7\n",
       "std         0.2\n",
       "min         2.2\n",
       "25%         2.6\n",
       "50%         2.6\n",
       "75%         2.7\n",
       "max         3.5\n",
       "Name: ceiling_height, dtype: float64"
      ]
     },
     "execution_count": 60,
     "metadata": {},
     "output_type": "execute_result"
    }
   ],
   "source": [
    "pd.set_option('display.float_format', lambda x: '%.1f' % x)\n",
    "df['ceiling_height'].describe()"
   ]
  },
  {
   "cell_type": "markdown",
   "metadata": {},
   "source": [
    "Средняя и медианная высота потолков почти совпадают - 2,7 и 2,6 м соответственно, стандартное отклонение маленькое всего 0,2 м. Разброс значений высоты потолка минимальный. Но всё же встречаются объекты с высотой потолков от 2,2 до 3,5 м."
   ]
  },
  {
   "cell_type": "markdown",
   "metadata": {},
   "source": [
    "**Этаж квартиры**"
   ]
  },
  {
   "cell_type": "code",
   "execution_count": 61,
   "metadata": {},
   "outputs": [
    {
     "data": {
      "text/plain": [
       "<AxesSubplot:>"
      ]
     },
     "execution_count": 61,
     "metadata": {},
     "output_type": "execute_result"
    },
    {
     "data": {
      "image/png": "[encoded data removed]",
      "text/plain": [
       "<Figure size 432x288 with 1 Axes>"
      ]
     },
     "metadata": {
      "needs_background": "light"
     },
     "output_type": "display_data"
    }
   ],
   "source": [
    "df['floor'].hist(bins=33, legend=True)"
   ]
  },
  {
   "cell_type": "code",
   "execution_count": 62,
   "metadata": {},
   "outputs": [
    {
     "data": {
      "text/plain": [
       "count   21936.0\n",
       "mean        6.0\n",
       "std         4.9\n",
       "min         1.0\n",
       "25%         2.0\n",
       "50%         4.0\n",
       "75%         8.0\n",
       "max        33.0\n",
       "Name: floor, dtype: float64"
      ]
     },
     "execution_count": 62,
     "metadata": {},
     "output_type": "execute_result"
    }
   ],
   "source": [
    "df['floor'].describe()"
   ]
  },
  {
   "cell_type": "markdown",
   "metadata": {},
   "source": [
    "Больше всего квартир продаётся на этажах 1-5, количество квартир на 9 этаже тоже выбивается из тренда - всё это наверное отпечаток типового строительства 5-этажек и 9-этажек."
   ]
  },
  {
   "cell_type": "markdown",
   "metadata": {},
   "source": [
    "<div class=\"alert alert-block alert-success\">\n",
    " \n",
    "### Комментарий ревьюера\n",
    "    \n",
    "#### Успех\n",
    "    \n",
    "Верные выводы по этому графику ты делаешь. \n",
    "</div "
   ]
  },
  {
   "cell_type": "markdown",
   "metadata": {},
   "source": [
    "**Тип этажа квартиры**"
   ]
  },
  {
   "cell_type": "code",
   "execution_count": 63,
   "metadata": {},
   "outputs": [
    {
     "data": {
      "text/plain": [
       "<AxesSubplot:>"
      ]
     },
     "execution_count": 63,
     "metadata": {},
     "output_type": "execute_result"
    },
    {
     "data": {
      "image/png": "[encoded data removed]",
      "text/plain": [
       "<Figure size 432x288 with 1 Axes>"
      ]
     },
     "metadata": {
      "needs_background": "light"
     },
     "output_type": "display_data"
    }
   ],
   "source": [
    "df['floor_type'].hist(bins=3, legend=True)"
   ]
  },
  {
   "cell_type": "code",
   "execution_count": 64,
   "metadata": {},
   "outputs": [
    {
     "data": {
      "text/plain": [
       "Другой       16299\n",
       "Последний     2969\n",
       "Первый        2668\n",
       "Name: floor_type, dtype: int64"
      ]
     },
     "execution_count": 64,
     "metadata": {},
     "output_type": "execute_result"
    }
   ],
   "source": [
    "df['floor_type'].value_counts()"
   ]
  },
  {
   "cell_type": "markdown",
   "metadata": {},
   "source": [
    "На первом этаже продаётся 2668 квартир, на последнем 2969 квартир, остальные 16299 квартир расположены на промежуточных этажах."
   ]
  },
  {
   "cell_type": "markdown",
   "metadata": {},
   "source": [
    "<div class=\"alert alert-block alert-success\">\n",
    " \n",
    "### Комментарий ревьюера\n",
    "    \n",
    "#### Успех\n",
    "    \n",
    "Квартиры на 1-м этаже пользуются наименьшим спросом. \n",
    "</div "
   ]
  },
  {
   "cell_type": "markdown",
   "metadata": {},
   "source": [
    "**Общее количество этажей**"
   ]
  },
  {
   "cell_type": "code",
   "execution_count": 65,
   "metadata": {
    "scrolled": true
   },
   "outputs": [
    {
     "data": {
      "text/plain": [
       "<AxesSubplot:>"
      ]
     },
     "execution_count": 65,
     "metadata": {},
     "output_type": "execute_result"
    },
    {
     "data": {
      "image/png": "[encoded data removed]",
      "text/plain": [
       "<Figure size 432x288 with 1 Axes>"
      ]
     },
     "metadata": {
      "needs_background": "light"
     },
     "output_type": "display_data"
    }
   ],
   "source": [
    "df['floors_total'].hist(bins=60, legend=True)"
   ]
  },
  {
   "cell_type": "code",
   "execution_count": 66,
   "metadata": {},
   "outputs": [
    {
     "data": {
      "text/plain": [
       "count   21859.0\n",
       "mean       10.9\n",
       "std         6.6\n",
       "min         1.0\n",
       "25%         5.0\n",
       "50%         9.0\n",
       "75%        16.0\n",
       "max        60.0\n",
       "Name: floors_total, dtype: float64"
      ]
     },
     "execution_count": 66,
     "metadata": {},
     "output_type": "execute_result"
    }
   ],
   "source": [
    "df['floors_total'].describe()"
   ]
  },
  {
   "cell_type": "code",
   "execution_count": 67,
   "metadata": {
    "scrolled": true
   },
   "outputs": [
    {
     "data": {
      "text/plain": [
       "1.0       18\n",
       "2.0      299\n",
       "3.0      570\n",
       "4.0     1039\n",
       "5.0     5269\n",
       "6.0      747\n",
       "7.0      516\n",
       "8.0      319\n",
       "9.0     3624\n",
       "10.0    1129\n",
       "11.0     186\n",
       "12.0    1313\n",
       "13.0     215\n",
       "14.0     534\n",
       "15.0     346\n",
       "16.0    1320\n",
       "17.0     806\n",
       "18.0     475\n",
       "19.0     310\n",
       "20.0     261\n",
       "21.0     147\n",
       "22.0     274\n",
       "23.0     331\n",
       "24.0     444\n",
       "25.0    1034\n",
       "26.0     123\n",
       "27.0     160\n",
       "28.0      21\n",
       "29.0       1\n",
       "33.0       1\n",
       "34.0       1\n",
       "35.0      21\n",
       "36.0       3\n",
       "52.0       1\n",
       "60.0       1\n",
       "Name: floors_total, dtype: int64"
      ]
     },
     "execution_count": 67,
     "metadata": {},
     "output_type": "execute_result"
    }
   ],
   "source": [
    "df['floors_total'].value_counts().sort_index()"
   ]
  },
  {
   "cell_type": "markdown",
   "metadata": {},
   "source": [
    "Да как и предполагалось выше, мы тут видим пики на гистограмме - это наиболее распространённые типовые 5-этажки, 9-этажки, 12-этажки, 16-этажки и 25-этажки."
   ]
  },
  {
   "cell_type": "markdown",
   "metadata": {},
   "source": [
    "**Расстояние до центра города в метрах**"
   ]
  },
  {
   "cell_type": "code",
   "execution_count": 68,
   "metadata": {},
   "outputs": [
    {
     "data": {
      "text/plain": [
       "count   16845.0\n",
       "mean    14156.0\n",
       "std      7649.2\n",
       "min       287.0\n",
       "25%      9839.0\n",
       "50%     13252.0\n",
       "75%     16298.0\n",
       "max     50075.0\n",
       "Name: cityCenters_nearest, dtype: float64"
      ]
     },
     "execution_count": 68,
     "metadata": {},
     "output_type": "execute_result"
    }
   ],
   "source": [
    "df['cityCenters_nearest'].describe()"
   ]
  },
  {
   "cell_type": "code",
   "execution_count": 69,
   "metadata": {
    "scrolled": true
   },
   "outputs": [
    {
     "data": {
      "text/plain": [
       "<AxesSubplot:>"
      ]
     },
     "execution_count": 69,
     "metadata": {},
     "output_type": "execute_result"
    },
    {
     "data": {
      "image/png": "[encoded data removed]",
      "text/plain": [
       "<Figure size 432x288 with 1 Axes>"
      ]
     },
     "metadata": {
      "needs_background": "light"
     },
     "output_type": "display_data"
    }
   ],
   "source": [
    "df['cityCenters_nearest'].hist(bins=100, legend=True)"
   ]
  },
  {
   "cell_type": "markdown",
   "metadata": {},
   "source": [
    "В горбатом распределении расстояния до центра города, знающие Питер люди, наверное, могут выделить основные районы/посёлки/агломерации в районе Питера."
   ]
  },
  {
   "cell_type": "markdown",
   "metadata": {},
   "source": [
    "<div class=\"alert alert-block alert-success\">\n",
    " \n",
    "### Комментарий ревьюера\n",
    "    \n",
    "#### Успех\n",
    "    \n",
    "Тоже верно. Соглашусь с тобой. \n",
    "</div "
   ]
  },
  {
   "cell_type": "markdown",
   "metadata": {},
   "source": [
    "**Расстояние до ближайшего аэропорта**"
   ]
  },
  {
   "cell_type": "code",
   "execution_count": 70,
   "metadata": {},
   "outputs": [
    {
     "data": {
      "text/plain": [
       "count   16825.0\n",
       "mean    28650.8\n",
       "std     12503.2\n",
       "min         0.0\n",
       "25%     18321.0\n",
       "50%     26902.0\n",
       "75%     37273.0\n",
       "max     68338.0\n",
       "Name: airports_nearest, dtype: float64"
      ]
     },
     "execution_count": 70,
     "metadata": {},
     "output_type": "execute_result"
    }
   ],
   "source": [
    "df['airports_nearest'].describe()"
   ]
  },
  {
   "cell_type": "code",
   "execution_count": 71,
   "metadata": {},
   "outputs": [
    {
     "data": {
      "text/plain": [
       "<AxesSubplot:>"
      ]
     },
     "execution_count": 71,
     "metadata": {},
     "output_type": "execute_result"
    },
    {
     "data": {
      "image/png": "[encoded data removed]",
      "text/plain": [
       "<Figure size 432x288 with 1 Axes>"
      ]
     },
     "metadata": {
      "needs_background": "light"
     },
     "output_type": "display_data"
    }
   ],
   "source": [
    "df['airports_nearest'].hist(bins=100, legend=True)"
   ]
  },
  {
   "cell_type": "markdown",
   "metadata": {},
   "source": [
    "В среднем расстояние до ближайшего аэропорта - 28,6 км, стандартное отклонение - 12,5 км, одна квартира расположена прямо в каком-то аэропорту, расстояние 0, одна квартира рассположена на расстоянии в 68 км от аэропорта, медианное расстояние - 27 км."
   ]
  },
  {
   "cell_type": "markdown",
   "metadata": {},
   "source": [
    "**Расстояние до ближайшего парка**"
   ]
  },
  {
   "cell_type": "code",
   "execution_count": 72,
   "metadata": {},
   "outputs": [
    {
     "data": {
      "text/plain": [
       "count   7310.0\n",
       "mean     495.7\n",
       "std      340.7\n",
       "min        1.0\n",
       "25%      294.0\n",
       "50%      458.0\n",
       "75%      617.0\n",
       "max     3190.0\n",
       "Name: parks_nearest, dtype: float64"
      ]
     },
     "execution_count": 72,
     "metadata": {},
     "output_type": "execute_result"
    }
   ],
   "source": [
    "df['parks_nearest'].describe()"
   ]
  },
  {
   "cell_type": "code",
   "execution_count": 73,
   "metadata": {},
   "outputs": [
    {
     "data": {
      "text/plain": [
       "<AxesSubplot:>"
      ]
     },
     "execution_count": 73,
     "metadata": {},
     "output_type": "execute_result"
    },
    {
     "data": {
      "image/png": "[encoded data removed]",
      "text/plain": [
       "<Figure size 432x288 with 1 Axes>"
      ]
     },
     "metadata": {
      "needs_background": "light"
     },
     "output_type": "display_data"
    }
   ],
   "source": [
    "df['parks_nearest'].hist(bins=100, legend=True)"
   ]
  },
  {
   "cell_type": "markdown",
   "metadata": {},
   "source": [
    "75% квартир расположены на расстоянии до 617 м до парка, что довольно близко по-моему, наверное очень много парков в Питере."
   ]
  },
  {
   "cell_type": "markdown",
   "metadata": {},
   "source": [
    "**День и месяц публикации объявления**"
   ]
  },
  {
   "cell_type": "code",
   "execution_count": 74,
   "metadata": {},
   "outputs": [
    {
     "data": {
      "text/html": [
       "<div>\n",
       "<style scoped>\n",
       "    .dataframe tbody tr th:only-of-type {\n",
       "        vertical-align: middle;\n",
       "    }\n",
       "\n",
       "    .dataframe tbody tr th {\n",
       "        vertical-align: top;\n",
       "    }\n",
       "\n",
       "    .dataframe thead th {\n",
       "        text-align: right;\n",
       "    }\n",
       "</style>\n",
       "<table border=\"1\" class=\"dataframe\">\n",
       "  <thead>\n",
       "    <tr style=\"text-align: right;\">\n",
       "      <th></th>\n",
       "      <th>total_images</th>\n",
       "      <th>last_price</th>\n",
       "      <th>total_area</th>\n",
       "      <th>first_day_exposition</th>\n",
       "      <th>rooms</th>\n",
       "      <th>ceiling_height</th>\n",
       "      <th>floors_total</th>\n",
       "      <th>living_area</th>\n",
       "      <th>floor</th>\n",
       "      <th>is_apartment</th>\n",
       "      <th>...</th>\n",
       "      <th>days_exposition</th>\n",
       "      <th>days_exposition_formatted</th>\n",
       "      <th>clean_locality_name</th>\n",
       "      <th>price_per_meter</th>\n",
       "      <th>publicated_at_day_of_week</th>\n",
       "      <th>publicated_at_month</th>\n",
       "      <th>publicated_at_year</th>\n",
       "      <th>floor_type</th>\n",
       "      <th>distance_km</th>\n",
       "      <th>DD-MM</th>\n",
       "    </tr>\n",
       "  </thead>\n",
       "  <tbody>\n",
       "    <tr>\n",
       "      <th>0</th>\n",
       "      <td>20</td>\n",
       "      <td>13000000.0</td>\n",
       "      <td>108.0</td>\n",
       "      <td>2019-03-07</td>\n",
       "      <td>3</td>\n",
       "      <td>2.7</td>\n",
       "      <td>16.0</td>\n",
       "      <td>51.0</td>\n",
       "      <td>8</td>\n",
       "      <td>NaN</td>\n",
       "      <td>...</td>\n",
       "      <td>NaN</td>\n",
       "      <td>NaT</td>\n",
       "      <td>Санкт-Петербург</td>\n",
       "      <td>120370.4</td>\n",
       "      <td>3</td>\n",
       "      <td>3</td>\n",
       "      <td>2019</td>\n",
       "      <td>Другой</td>\n",
       "      <td>16</td>\n",
       "      <td>07-03</td>\n",
       "    </tr>\n",
       "    <tr>\n",
       "      <th>1</th>\n",
       "      <td>7</td>\n",
       "      <td>3350000.0</td>\n",
       "      <td>40.4</td>\n",
       "      <td>2018-12-04</td>\n",
       "      <td>1</td>\n",
       "      <td>2.6</td>\n",
       "      <td>11.0</td>\n",
       "      <td>18.6</td>\n",
       "      <td>1</td>\n",
       "      <td>NaN</td>\n",
       "      <td>...</td>\n",
       "      <td>81.0</td>\n",
       "      <td>81 days</td>\n",
       "      <td>Шушары</td>\n",
       "      <td>82920.8</td>\n",
       "      <td>1</td>\n",
       "      <td>12</td>\n",
       "      <td>2018</td>\n",
       "      <td>Первый</td>\n",
       "      <td>18</td>\n",
       "      <td>04-12</td>\n",
       "    </tr>\n",
       "    <tr>\n",
       "      <th>2</th>\n",
       "      <td>10</td>\n",
       "      <td>5196000.0</td>\n",
       "      <td>56.0</td>\n",
       "      <td>2015-08-20</td>\n",
       "      <td>2</td>\n",
       "      <td>2.6</td>\n",
       "      <td>5.0</td>\n",
       "      <td>34.3</td>\n",
       "      <td>4</td>\n",
       "      <td>NaN</td>\n",
       "      <td>...</td>\n",
       "      <td>558.0</td>\n",
       "      <td>558 days</td>\n",
       "      <td>Санкт-Петербург</td>\n",
       "      <td>92785.7</td>\n",
       "      <td>3</td>\n",
       "      <td>8</td>\n",
       "      <td>2015</td>\n",
       "      <td>Другой</td>\n",
       "      <td>13</td>\n",
       "      <td>20-08</td>\n",
       "    </tr>\n",
       "    <tr>\n",
       "      <th>4</th>\n",
       "      <td>2</td>\n",
       "      <td>10000000.0</td>\n",
       "      <td>100.0</td>\n",
       "      <td>2018-06-19</td>\n",
       "      <td>2</td>\n",
       "      <td>3.0</td>\n",
       "      <td>14.0</td>\n",
       "      <td>32.0</td>\n",
       "      <td>13</td>\n",
       "      <td>NaN</td>\n",
       "      <td>...</td>\n",
       "      <td>121.0</td>\n",
       "      <td>121 days</td>\n",
       "      <td>Санкт-Петербург</td>\n",
       "      <td>100000.0</td>\n",
       "      <td>1</td>\n",
       "      <td>6</td>\n",
       "      <td>2018</td>\n",
       "      <td>Другой</td>\n",
       "      <td>8</td>\n",
       "      <td>19-06</td>\n",
       "    </tr>\n",
       "    <tr>\n",
       "      <th>5</th>\n",
       "      <td>10</td>\n",
       "      <td>2890000.0</td>\n",
       "      <td>30.4</td>\n",
       "      <td>2018-09-10</td>\n",
       "      <td>1</td>\n",
       "      <td>2.6</td>\n",
       "      <td>12.0</td>\n",
       "      <td>14.4</td>\n",
       "      <td>5</td>\n",
       "      <td>NaN</td>\n",
       "      <td>...</td>\n",
       "      <td>55.0</td>\n",
       "      <td>55 days</td>\n",
       "      <td>Янино-1</td>\n",
       "      <td>95065.8</td>\n",
       "      <td>0</td>\n",
       "      <td>9</td>\n",
       "      <td>2018</td>\n",
       "      <td>Другой</td>\n",
       "      <td>0</td>\n",
       "      <td>10-09</td>\n",
       "    </tr>\n",
       "  </tbody>\n",
       "</table>\n",
       "<p>5 rows × 31 columns</p>\n",
       "</div>"
      ],
      "text/plain": [
       "   total_images  last_price  total_area first_day_exposition  rooms  \\\n",
       "0            20  13000000.0       108.0           2019-03-07      3   \n",
       "1             7   3350000.0        40.4           2018-12-04      1   \n",
       "2            10   5196000.0        56.0           2015-08-20      2   \n",
       "4             2  10000000.0       100.0           2018-06-19      2   \n",
       "5            10   2890000.0        30.4           2018-09-10      1   \n",
       "\n",
       "   ceiling_height  floors_total  living_area  floor is_apartment  ...  \\\n",
       "0             2.7          16.0         51.0      8          NaN  ...   \n",
       "1             2.6          11.0         18.6      1          NaN  ...   \n",
       "2             2.6           5.0         34.3      4          NaN  ...   \n",
       "4             3.0          14.0         32.0     13          NaN  ...   \n",
       "5             2.6          12.0         14.4      5          NaN  ...   \n",
       "\n",
       "   days_exposition  days_exposition_formatted  clean_locality_name  \\\n",
       "0              NaN                        NaT      Санкт-Петербург   \n",
       "1             81.0                    81 days               Шушары   \n",
       "2            558.0                   558 days      Санкт-Петербург   \n",
       "4            121.0                   121 days      Санкт-Петербург   \n",
       "5             55.0                    55 days              Янино-1   \n",
       "\n",
       "   price_per_meter publicated_at_day_of_week  publicated_at_month  \\\n",
       "0         120370.4                         3                    3   \n",
       "1          82920.8                         1                   12   \n",
       "2          92785.7                         3                    8   \n",
       "4         100000.0                         1                    6   \n",
       "5          95065.8                         0                    9   \n",
       "\n",
       "   publicated_at_year  floor_type  distance_km  DD-MM  \n",
       "0                2019      Другой           16  07-03  \n",
       "1                2018      Первый           18  04-12  \n",
       "2                2015      Другой           13  20-08  \n",
       "4                2018      Другой            8  19-06  \n",
       "5                2018      Другой            0  10-09  \n",
       "\n",
       "[5 rows x 31 columns]"
      ]
     },
     "execution_count": 74,
     "metadata": {},
     "output_type": "execute_result"
    }
   ],
   "source": [
    "df['DD-MM'] = df['first_day_exposition'].dt.strftime('%d-%m') #добавим столбец день и месяц подачи объявления\n",
    "df.head()"
   ]
  },
  {
   "cell_type": "code",
   "execution_count": 75,
   "metadata": {},
   "outputs": [
    {
     "data": {
      "text/plain": [
       "<AxesSubplot:>"
      ]
     },
     "execution_count": 75,
     "metadata": {},
     "output_type": "execute_result"
    },
    {
     "data": {
      "image/png": "[encoded data removed]",
      "text/plain": [
       "<Figure size 864x360 with 1 Axes>"
      ]
     },
     "metadata": {
      "needs_background": "light"
     },
     "output_type": "display_data"
    }
   ],
   "source": [
    "df['publicated_at_month'].hist(bins=12, figsize=(12, 5), grid=False, xrot=90, legend=True)"
   ]
  },
  {
   "cell_type": "markdown",
   "metadata": {},
   "source": [
    "<div class=\"alert alert-block alert-danger\">\n",
    " \n",
    "### Комментарий ревьюера\n",
    "    \n",
    "#### Ошибка\n",
    "    \n",
    "Вот тут не пойдет так. Согласись, что на данных получилась мешанина, так как их очень много. Тут лучше не по датам на это смотерть, а хотя бы по месяцам. \n",
    "</div "
   ]
  },
  {
   "cell_type": "markdown",
   "metadata": {},
   "source": [
    "**<font color=\"maroon\">Согласен. Заменил на месяца. Отчётливо видны провалы в декабре, январе и мае. Видимо люди не думают о продаже квартир в праздники.</font>**"
   ]
  },
  {
   "cell_type": "code",
   "execution_count": 76,
   "metadata": {},
   "outputs": [
    {
     "data": {
      "text/plain": [
       "DD-MM\n",
       "31-12      7\n",
       "03-01     11\n",
       "24-12     12\n",
       "02-01     12\n",
       "07-05     13\n",
       "04-01     13\n",
       "29-02     14\n",
       "31-01     15\n",
       "29-12     15\n",
       "09-05     16\n",
       "04-06     16\n",
       "07-01     18\n",
       "06-01     19\n",
       "08-05     19\n",
       "23-09     19\n",
       "28-05     19\n",
       "26-08     20\n",
       "14-05     20\n",
       "05-11     21\n",
       "21-05     23\n",
       "11-06     23\n",
       "08-01     24\n",
       "02-12     24\n",
       "06-05     25\n",
       "23-12     25\n",
       "28-12     25\n",
       "14-01     26\n",
       "27-01     26\n",
       "12-08     27\n",
       "25-12     27\n",
       "20-05     27\n",
       "28-10     27\n",
       "30-12     27\n",
       "15-07     27\n",
       "13-06     28\n",
       "27-05     28\n",
       "22-07     28\n",
       "02-09     28\n",
       "27-12     29\n",
       "29-07     29\n",
       "12-06     30\n",
       "19-08     30\n",
       "30-09     30\n",
       "08-03     31\n",
       "05-01     32\n",
       "04-02     32\n",
       "26-12     32\n",
       "07-10     32\n",
       "29-05     32\n",
       "24-09     32\n",
       "13-07     32\n",
       "02-05     33\n",
       "23-05     33\n",
       "16-09     33\n",
       "20-08     34\n",
       "22-12     34\n",
       "30-01     34\n",
       "10-06     34\n",
       "28-07     34\n",
       "28-01     34\n",
       "05-06     34\n",
       "03-06     34\n",
       "31-05     35\n",
       "13-05     36\n",
       "23-02     37\n",
       "06-02     37\n",
       "04-11     38\n",
       "10-05     38\n",
       "05-08     38\n",
       "22-10     39\n",
       "30-11     39\n",
       "21-12     39\n",
       "18-06     39\n",
       "27-08     39\n",
       "11-08     39\n",
       "20-12     39\n",
       "09-07     39\n",
       "15-05     40\n",
       "18-01     40\n",
       "18-02     40\n",
       "03-07     40\n",
       "13-04     41\n",
       "18-09     41\n",
       "06-08     41\n",
       "02-08     41\n",
       "03-09     41\n",
       "30-05     41\n",
       "06-10     41\n",
       "04-12     41\n",
       "25-08     41\n",
       "16-05     42\n",
       "04-08     42\n",
       "26-05     42\n",
       "22-05     42\n",
       "05-03     42\n",
       "09-09     42\n",
       "23-07     42\n",
       "24-02     42\n",
       "16-01     43\n",
       "31-07     43\n",
       "17-01     44\n",
       "14-07     44\n",
       "01-05     44\n",
       "30-07     44\n",
       "06-06     44\n",
       "03-05     45\n",
       "27-07     45\n",
       "03-12     45\n",
       "21-10     45\n",
       "04-05     45\n",
       "24-07     45\n",
       "17-09     45\n",
       "17-12     45\n",
       "06-07     45\n",
       "05-02     45\n",
       "05-05     45\n",
       "24-06     45\n",
       "16-12     46\n",
       "08-07     46\n",
       "30-04     46\n",
       "06-11     46\n",
       "13-08     46\n",
       "13-01     46\n",
       "19-04     46\n",
       "21-01     46\n",
       "17-07     47\n",
       "12-04     47\n",
       "16-07     47\n",
       "10-08     47\n",
       "18-08     47\n",
       "25-11     47\n",
       "19-11     48\n",
       "29-08     48\n",
       "07-06     48\n",
       "19-01     49\n",
       "16-03     49\n",
       "03-02     49\n",
       "21-07     50\n",
       "07-04     50\n",
       "20-07     50\n",
       "15-09     50\n",
       "26-01     50\n",
       "09-03     51\n",
       "07-07     51\n",
       "25-06     51\n",
       "25-05     51\n",
       "18-05     51\n",
       "19-05     51\n",
       "11-07     51\n",
       "29-09     52\n",
       "11-05     52\n",
       "21-09     52\n",
       "24-08     52\n",
       "23-04     52\n",
       "08-09     52\n",
       "16-08     52\n",
       "05-07     52\n",
       "27-06     53\n",
       "29-01     53\n",
       "03-03     53\n",
       "15-02     53\n",
       "17-11     53\n",
       "30-06     53\n",
       "30-08     53\n",
       "20-10     53\n",
       "25-07     54\n",
       "08-10     54\n",
       "17-02     54\n",
       "18-07     54\n",
       "10-03     54\n",
       "14-10     54\n",
       "30-10     54\n",
       "01-06     54\n",
       "01-01     55\n",
       "01-09     55\n",
       "19-12     55\n",
       "06-12     55\n",
       "01-08     55\n",
       "21-04     55\n",
       "17-05     55\n",
       "22-08     56\n",
       "09-04     56\n",
       "24-11     56\n",
       "22-09     56\n",
       "25-01     57\n",
       "08-06     57\n",
       "19-07     57\n",
       "31-08     57\n",
       "11-10     57\n",
       "05-12     57\n",
       "03-11     57\n",
       "02-03     58\n",
       "18-11     58\n",
       "06-09     58\n",
       "10-09     58\n",
       "04-09     58\n",
       "20-01     58\n",
       "15-01     58\n",
       "31-03     59\n",
       "12-07     59\n",
       "14-09     59\n",
       "15-04     59\n",
       "07-03     59\n",
       "14-06     59\n",
       "24-01     60\n",
       "26-07     60\n",
       "16-04     60\n",
       "26-06     60\n",
       "09-06     60\n",
       "28-08     60\n",
       "02-07     60\n",
       "01-12     61\n",
       "09-01     61\n",
       "25-02     61\n",
       "17-06     61\n",
       "21-08     61\n",
       "23-10     61\n",
       "09-10     61\n",
       "16-06     61\n",
       "03-08     61\n",
       "17-03     62\n",
       "01-07     62\n",
       "05-10     62\n",
       "15-11     62\n",
       "23-08     62\n",
       "05-09     62\n",
       "15-10     62\n",
       "10-04     63\n",
       "19-06     63\n",
       "27-03     63\n",
       "26-11     64\n",
       "24-04     64\n",
       "20-03     64\n",
       "24-05     65\n",
       "16-10     65\n",
       "13-11     65\n",
       "24-03     65\n",
       "13-12     65\n",
       "19-09     66\n",
       "27-04     66\n",
       "02-10     66\n",
       "12-11     66\n",
       "04-10     67\n",
       "18-10     67\n",
       "29-10     68\n",
       "11-03     68\n",
       "11-11     68\n",
       "12-03     68\n",
       "02-02     68\n",
       "12-05     69\n",
       "08-04     69\n",
       "11-12     69\n",
       "09-12     70\n",
       "27-10     70\n",
       "29-11     70\n",
       "14-08     71\n",
       "25-10     71\n",
       "10-10     71\n",
       "01-03     71\n",
       "07-12     72\n",
       "28-11     72\n",
       "10-01     72\n",
       "29-04     72\n",
       "17-10     72\n",
       "07-09     72\n",
       "15-12     72\n",
       "22-04     73\n",
       "17-08     73\n",
       "25-03     73\n",
       "13-09     73\n",
       "19-10     73\n",
       "26-10     73\n",
       "11-04     74\n",
       "28-04     74\n",
       "23-06     75\n",
       "15-06     75\n",
       "23-11     75\n",
       "20-09     76\n",
       "02-11     76\n",
       "02-06     77\n",
       "30-03     77\n",
       "22-06     77\n",
       "01-10     77\n",
       "12-10     77\n",
       "31-10     78\n",
       "04-03     78\n",
       "21-06     78\n",
       "21-11     78\n",
       "20-06     78\n",
       "23-01     79\n",
       "10-12     79\n",
       "14-12     79\n",
       "28-02     79\n",
       "01-11     79\n",
       "22-11     80\n",
       "22-01     80\n",
       "12-09     80\n",
       "10-02     80\n",
       "25-09     81\n",
       "11-02     81\n",
       "18-03     81\n",
       "18-12     81\n",
       "09-08     81\n",
       "24-10     81\n",
       "08-12     81\n",
       "07-08     81\n",
       "11-01     81\n",
       "29-06     83\n",
       "19-02     84\n",
       "08-08     84\n",
       "02-04     84\n",
       "07-11     84\n",
       "25-04     85\n",
       "12-01     85\n",
       "28-06     86\n",
       "22-02     86\n",
       "19-03     86\n",
       "28-03     86\n",
       "03-04     87\n",
       "20-11     87\n",
       "16-02     87\n",
       "17-04     87\n",
       "08-11     88\n",
       "12-12     88\n",
       "03-10     88\n",
       "16-11     88\n",
       "14-02     88\n",
       "22-03     89\n",
       "09-02     89\n",
       "14-04     89\n",
       "09-11     89\n",
       "15-08     89\n",
       "14-11     90\n",
       "06-04     90\n",
       "27-11     92\n",
       "26-09     93\n",
       "27-02     93\n",
       "26-04     93\n",
       "26-02     94\n",
       "01-04     97\n",
       "04-07     99\n",
       "13-03     99\n",
       "23-03    100\n",
       "29-03    100\n",
       "07-02    101\n",
       "14-03    101\n",
       "05-04    103\n",
       "11-09    105\n",
       "13-02    109\n",
       "21-02    110\n",
       "15-03    111\n",
       "21-03    113\n",
       "28-09    114\n",
       "12-02    114\n",
       "04-04    115\n",
       "06-03    116\n",
       "18-04    116\n",
       "20-04    116\n",
       "08-02    122\n",
       "10-07    124\n",
       "20-02    130\n",
       "27-09    133\n",
       "13-10    137\n",
       "26-03    152\n",
       "10-11    254\n",
       "01-02    362\n",
       "Name: last_price, dtype: int64"
      ]
     },
     "execution_count": 76,
     "metadata": {},
     "output_type": "execute_result"
    }
   ],
   "source": [
    "df.groupby('DD-MM')['last_price'].count().sort_values()"
   ]
  },
  {
   "cell_type": "markdown",
   "metadata": {},
   "source": [
    "Меньше всего объявлений подаётся в праздничные дни, напрмер 31 декабря подано - 4 шт, даже на дату 29 февраля приходится больше объявлений - 11 шт. А вот 1 февраля и 10 ноября подано аномально много объявлений. Возможно это ошибка в данных."
   ]
  },
  {
   "cell_type": "markdown",
   "metadata": {},
   "source": [
    "**4.2. Скорость продажи**"
   ]
  },
  {
   "cell_type": "code",
   "execution_count": 77,
   "metadata": {},
   "outputs": [
    {
     "data": {
      "text/plain": [
       "count   19028.0\n",
       "mean      169.7\n",
       "std       191.9\n",
       "min         4.0\n",
       "25%        45.0\n",
       "50%        94.0\n",
       "75%       222.0\n",
       "max      1059.0\n",
       "Name: days_exposition, dtype: float64"
      ]
     },
     "execution_count": 77,
     "metadata": {},
     "output_type": "execute_result"
    }
   ],
   "source": [
    "df['days_exposition'].describe()"
   ]
  },
  {
   "cell_type": "code",
   "execution_count": 78,
   "metadata": {
    "scrolled": true
   },
   "outputs": [
    {
     "data": {
      "text/plain": [
       "<AxesSubplot:>"
      ]
     },
     "execution_count": 78,
     "metadata": {},
     "output_type": "execute_result"
    },
    {
     "data": {
      "image/png": "[encoded data removed]",
      "text/plain": [
       "<Figure size 432x288 with 1 Axes>"
      ]
     },
     "metadata": {
      "needs_background": "light"
     },
     "output_type": "display_data"
    }
   ],
   "source": [
    "df['days_exposition'].hist(bins=20, legend=True)"
   ]
  },
  {
   "cell_type": "markdown",
   "metadata": {},
   "source": [
    "- Средний срок продажи - 170 дней\n",
    "- Медианный срок продажи - 94 дня\n",
    "- Быстрыми можно назвать продажи в срок до трёх месяцев"
   ]
  },
  {
   "cell_type": "markdown",
   "metadata": {},
   "source": [
    "<div class=\"alert alert-block alert-success\">\n",
    " \n",
    "### Комментарий ревьюера\n",
    "    \n",
    "#### Успех\n",
    "    \n",
    "В целом, согласен. \n",
    "</div "
   ]
  },
  {
   "cell_type": "markdown",
   "metadata": {},
   "source": [
    "**4.3. Факторы влияющие на стоимость**"
   ]
  },
  {
   "cell_type": "code",
   "execution_count": 79,
   "metadata": {
    "scrolled": true
   },
   "outputs": [
    {
     "data": {
      "text/html": [
       "<div>\n",
       "<style scoped>\n",
       "    .dataframe tbody tr th:only-of-type {\n",
       "        vertical-align: middle;\n",
       "    }\n",
       "\n",
       "    .dataframe tbody tr th {\n",
       "        vertical-align: top;\n",
       "    }\n",
       "\n",
       "    .dataframe thead th {\n",
       "        text-align: right;\n",
       "    }\n",
       "</style>\n",
       "<table border=\"1\" class=\"dataframe\">\n",
       "  <thead>\n",
       "    <tr style=\"text-align: right;\">\n",
       "      <th></th>\n",
       "      <th>last_price</th>\n",
       "      <th>total_area</th>\n",
       "      <th>living_area</th>\n",
       "      <th>kitchen_area</th>\n",
       "      <th>rooms</th>\n",
       "    </tr>\n",
       "  </thead>\n",
       "  <tbody>\n",
       "    <tr>\n",
       "      <th>last_price</th>\n",
       "      <td>1.0</td>\n",
       "      <td>0.8</td>\n",
       "      <td>0.6</td>\n",
       "      <td>0.6</td>\n",
       "      <td>0.5</td>\n",
       "    </tr>\n",
       "    <tr>\n",
       "      <th>total_area</th>\n",
       "      <td>0.8</td>\n",
       "      <td>1.0</td>\n",
       "      <td>0.9</td>\n",
       "      <td>0.5</td>\n",
       "      <td>0.8</td>\n",
       "    </tr>\n",
       "    <tr>\n",
       "      <th>living_area</th>\n",
       "      <td>0.6</td>\n",
       "      <td>0.9</td>\n",
       "      <td>1.0</td>\n",
       "      <td>0.3</td>\n",
       "      <td>0.9</td>\n",
       "    </tr>\n",
       "    <tr>\n",
       "      <th>kitchen_area</th>\n",
       "      <td>0.6</td>\n",
       "      <td>0.5</td>\n",
       "      <td>0.3</td>\n",
       "      <td>1.0</td>\n",
       "      <td>0.1</td>\n",
       "    </tr>\n",
       "    <tr>\n",
       "      <th>rooms</th>\n",
       "      <td>0.5</td>\n",
       "      <td>0.8</td>\n",
       "      <td>0.9</td>\n",
       "      <td>0.1</td>\n",
       "      <td>1.0</td>\n",
       "    </tr>\n",
       "  </tbody>\n",
       "</table>\n",
       "</div>"
      ],
      "text/plain": [
       "              last_price  total_area  living_area  kitchen_area  rooms\n",
       "last_price           1.0         0.8          0.6           0.6    0.5\n",
       "total_area           0.8         1.0          0.9           0.5    0.8\n",
       "living_area          0.6         0.9          1.0           0.3    0.9\n",
       "kitchen_area         0.6         0.5          0.3           1.0    0.1\n",
       "rooms                0.5         0.8          0.9           0.1    1.0"
      ]
     },
     "execution_count": 79,
     "metadata": {},
     "output_type": "execute_result"
    }
   ],
   "source": [
    "df[['last_price', 'total_area', 'living_area', 'kitchen_area', 'rooms', 'floor_type']].corr()"
   ]
  },
  {
   "cell_type": "markdown",
   "metadata": {},
   "source": [
    "**<font color=\"maroon\">Как видим, цена квартиры имеет корреляцию с общей площадью, чуть меньше корреляция от площади кухни и жилой площади, и ещё меньше зависит от количества комнат.</font>**"
   ]
  },
  {
   "cell_type": "markdown",
   "metadata": {},
   "source": [
    "<div class=\"alert alert-block alert-danger\">\n",
    " \n",
    "### Комментарий ревьюера\n",
    "    \n",
    "#### Ошибка\n",
    "    \n",
    "От времени размещения она не будет зависеть, так как у них нет линейной связи. Отсюда надо убрать подсчет коррелации по времени. Зависимость надо смотреть для этого параметра просто по графику. \n",
    "</div "
   ]
  },
  {
   "cell_type": "markdown",
   "metadata": {},
   "source": [
    "**<font color=\"maroon\">Понял. Принял. Сделал.</font>**"
   ]
  },
  {
   "cell_type": "markdown",
   "metadata": {},
   "source": [
    "<div class=\"alert alert-block alert-success\">\n",
    " \n",
    "# Комментарий ревьюера ver.2\n",
    "    \n",
    "#### Успех\n",
    "    \n",
    "Идеально\n",
    "</div "
   ]
  },
  {
   "cell_type": "markdown",
   "metadata": {},
   "source": [
    "**Зависимость цены от общей площади:**"
   ]
  },
  {
   "cell_type": "code",
   "execution_count": 80,
   "metadata": {},
   "outputs": [],
   "source": [
    "df['total_area_groups'] = pd.qcut(df['total_area'],5)"
   ]
  },
  {
   "cell_type": "code",
   "execution_count": 81,
   "metadata": {},
   "outputs": [
    {
     "data": {
      "text/html": [
       "<div>\n",
       "<style scoped>\n",
       "    .dataframe tbody tr th:only-of-type {\n",
       "        vertical-align: middle;\n",
       "    }\n",
       "\n",
       "    .dataframe tbody tr th {\n",
       "        vertical-align: top;\n",
       "    }\n",
       "\n",
       "    .dataframe thead th {\n",
       "        text-align: right;\n",
       "    }\n",
       "</style>\n",
       "<table border=\"1\" class=\"dataframe\">\n",
       "  <thead>\n",
       "    <tr style=\"text-align: right;\">\n",
       "      <th></th>\n",
       "      <th>count</th>\n",
       "      <th>mean</th>\n",
       "      <th>median</th>\n",
       "    </tr>\n",
       "    <tr>\n",
       "      <th>total_area_groups</th>\n",
       "      <th></th>\n",
       "      <th></th>\n",
       "      <th></th>\n",
       "    </tr>\n",
       "  </thead>\n",
       "  <tbody>\n",
       "    <tr>\n",
       "      <th>(25.069, 38.0]</th>\n",
       "      <td>4585</td>\n",
       "      <td>3277755.2</td>\n",
       "      <td>3280000.0</td>\n",
       "    </tr>\n",
       "    <tr>\n",
       "      <th>(38.0, 45.8]</th>\n",
       "      <td>4201</td>\n",
       "      <td>3964950.4</td>\n",
       "      <td>3950000.0</td>\n",
       "    </tr>\n",
       "    <tr>\n",
       "      <th>(45.8, 57.5]</th>\n",
       "      <td>4406</td>\n",
       "      <td>4659679.2</td>\n",
       "      <td>4610003.0</td>\n",
       "    </tr>\n",
       "    <tr>\n",
       "      <th>(57.5, 72.9]</th>\n",
       "      <td>4365</td>\n",
       "      <td>5986142.5</td>\n",
       "      <td>5700000.0</td>\n",
       "    </tr>\n",
       "    <tr>\n",
       "      <th>(72.9, 162.9]</th>\n",
       "      <td>4379</td>\n",
       "      <td>10270756.0</td>\n",
       "      <td>9000000.0</td>\n",
       "    </tr>\n",
       "  </tbody>\n",
       "</table>\n",
       "</div>"
      ],
      "text/plain": [
       "                   count       mean    median\n",
       "total_area_groups                            \n",
       "(25.069, 38.0]      4585  3277755.2 3280000.0\n",
       "(38.0, 45.8]        4201  3964950.4 3950000.0\n",
       "(45.8, 57.5]        4406  4659679.2 4610003.0\n",
       "(57.5, 72.9]        4365  5986142.5 5700000.0\n",
       "(72.9, 162.9]       4379 10270756.0 9000000.0"
      ]
     },
     "execution_count": 81,
     "metadata": {},
     "output_type": "execute_result"
    }
   ],
   "source": [
    "df.groupby('total_area_groups')['last_price'].agg(['count','mean','median'])"
   ]
  },
  {
   "cell_type": "code",
   "execution_count": 82,
   "metadata": {},
   "outputs": [
    {
     "data": {
      "text/plain": [
       "<AxesSubplot:xlabel='total_area_groups'>"
      ]
     },
     "execution_count": 82,
     "metadata": {},
     "output_type": "execute_result"
    },
    {
     "data": {
      "image/png": "[encoded data removed]",
      "text/plain": [
       "<Figure size 432x288 with 1 Axes>"
      ]
     },
     "metadata": {
      "needs_background": "light"
     },
     "output_type": "display_data"
    }
   ],
   "source": [
    "df.groupby('total_area_groups')['last_price'].median().plot(kind='bar') #График зависимости стоимости от общей площади"
   ]
  },
  {
   "cell_type": "markdown",
   "metadata": {},
   "source": [
    "**Зависимость цены от жилой площади**"
   ]
  },
  {
   "cell_type": "code",
   "execution_count": 83,
   "metadata": {},
   "outputs": [
    {
     "data": {
      "text/html": [
       "<div>\n",
       "<style scoped>\n",
       "    .dataframe tbody tr th:only-of-type {\n",
       "        vertical-align: middle;\n",
       "    }\n",
       "\n",
       "    .dataframe tbody tr th {\n",
       "        vertical-align: top;\n",
       "    }\n",
       "\n",
       "    .dataframe thead th {\n",
       "        text-align: right;\n",
       "    }\n",
       "</style>\n",
       "<table border=\"1\" class=\"dataframe\">\n",
       "  <thead>\n",
       "    <tr style=\"text-align: right;\">\n",
       "      <th></th>\n",
       "      <th>count</th>\n",
       "      <th>mean</th>\n",
       "      <th>median</th>\n",
       "    </tr>\n",
       "    <tr>\n",
       "      <th>living_area_groups</th>\n",
       "      <th></th>\n",
       "      <th></th>\n",
       "      <th></th>\n",
       "    </tr>\n",
       "  </thead>\n",
       "  <tbody>\n",
       "    <tr>\n",
       "      <th>(1.999, 18.0]</th>\n",
       "      <td>4650</td>\n",
       "      <td>3595821.0</td>\n",
       "      <td>3450000.0</td>\n",
       "    </tr>\n",
       "    <tr>\n",
       "      <th>(18.0, 27.4]</th>\n",
       "      <td>3494</td>\n",
       "      <td>4308018.7</td>\n",
       "      <td>4090000.0</td>\n",
       "    </tr>\n",
       "    <tr>\n",
       "      <th>(27.4, 33.0]</th>\n",
       "      <td>4132</td>\n",
       "      <td>4668819.0</td>\n",
       "      <td>4400000.0</td>\n",
       "    </tr>\n",
       "    <tr>\n",
       "      <th>(33.0, 44.0]</th>\n",
       "      <td>4043</td>\n",
       "      <td>6212522.8</td>\n",
       "      <td>5600000.0</td>\n",
       "    </tr>\n",
       "    <tr>\n",
       "      <th>(44.0, 128.0]</th>\n",
       "      <td>3895</td>\n",
       "      <td>9521861.3</td>\n",
       "      <td>8400000.0</td>\n",
       "    </tr>\n",
       "  </tbody>\n",
       "</table>\n",
       "</div>"
      ],
      "text/plain": [
       "                    count      mean    median\n",
       "living_area_groups                           \n",
       "(1.999, 18.0]        4650 3595821.0 3450000.0\n",
       "(18.0, 27.4]         3494 4308018.7 4090000.0\n",
       "(27.4, 33.0]         4132 4668819.0 4400000.0\n",
       "(33.0, 44.0]         4043 6212522.8 5600000.0\n",
       "(44.0, 128.0]        3895 9521861.3 8400000.0"
      ]
     },
     "execution_count": 83,
     "metadata": {},
     "output_type": "execute_result"
    }
   ],
   "source": [
    "df['living_area_groups'] = pd.qcut(df['living_area'],5)\n",
    "df.groupby('living_area_groups')['last_price'].agg(['count','mean','median'])"
   ]
  },
  {
   "cell_type": "code",
   "execution_count": 84,
   "metadata": {},
   "outputs": [
    {
     "data": {
      "text/plain": [
       "<AxesSubplot:xlabel='living_area_groups'>"
      ]
     },
     "execution_count": 84,
     "metadata": {},
     "output_type": "execute_result"
    },
    {
     "data": {
      "image/png": "[encoded data removed]",
      "text/plain": [
       "<Figure size 432x288 with 1 Axes>"
      ]
     },
     "metadata": {
      "needs_background": "light"
     },
     "output_type": "display_data"
    }
   ],
   "source": [
    "df.groupby('living_area_groups')['last_price'].median().plot(kind='bar') #График зависимости стоимости от жилой площади"
   ]
  },
  {
   "cell_type": "markdown",
   "metadata": {},
   "source": [
    "**Зависимость цены от площади кухни**"
   ]
  },
  {
   "cell_type": "code",
   "execution_count": 85,
   "metadata": {},
   "outputs": [
    {
     "data": {
      "text/html": [
       "<div>\n",
       "<style scoped>\n",
       "    .dataframe tbody tr th:only-of-type {\n",
       "        vertical-align: middle;\n",
       "    }\n",
       "\n",
       "    .dataframe tbody tr th {\n",
       "        vertical-align: top;\n",
       "    }\n",
       "\n",
       "    .dataframe thead th {\n",
       "        text-align: right;\n",
       "    }\n",
       "</style>\n",
       "<table border=\"1\" class=\"dataframe\">\n",
       "  <thead>\n",
       "    <tr style=\"text-align: right;\">\n",
       "      <th></th>\n",
       "      <th>count</th>\n",
       "      <th>mean</th>\n",
       "      <th>median</th>\n",
       "    </tr>\n",
       "    <tr>\n",
       "      <th>kitchen_area_groups</th>\n",
       "      <th></th>\n",
       "      <th></th>\n",
       "      <th></th>\n",
       "    </tr>\n",
       "  </thead>\n",
       "  <tbody>\n",
       "    <tr>\n",
       "      <th>(1.2990000000000002, 6.8]</th>\n",
       "      <td>4031</td>\n",
       "      <td>3610123.9</td>\n",
       "      <td>3500000.0</td>\n",
       "    </tr>\n",
       "    <tr>\n",
       "      <th>(6.8, 8.4]</th>\n",
       "      <td>4078</td>\n",
       "      <td>4508615.7</td>\n",
       "      <td>4250000.0</td>\n",
       "    </tr>\n",
       "    <tr>\n",
       "      <th>(8.4, 10.0]</th>\n",
       "      <td>4180</td>\n",
       "      <td>4948627.6</td>\n",
       "      <td>4500000.0</td>\n",
       "    </tr>\n",
       "    <tr>\n",
       "      <th>(10.0, 12.4]</th>\n",
       "      <td>3749</td>\n",
       "      <td>6033506.6</td>\n",
       "      <td>5300000.0</td>\n",
       "    </tr>\n",
       "    <tr>\n",
       "      <th>(12.4, 65.0]</th>\n",
       "      <td>3946</td>\n",
       "      <td>9238878.6</td>\n",
       "      <td>7900000.0</td>\n",
       "    </tr>\n",
       "  </tbody>\n",
       "</table>\n",
       "</div>"
      ],
      "text/plain": [
       "                           count      mean    median\n",
       "kitchen_area_groups                                 \n",
       "(1.2990000000000002, 6.8]   4031 3610123.9 3500000.0\n",
       "(6.8, 8.4]                  4078 4508615.7 4250000.0\n",
       "(8.4, 10.0]                 4180 4948627.6 4500000.0\n",
       "(10.0, 12.4]                3749 6033506.6 5300000.0\n",
       "(12.4, 65.0]                3946 9238878.6 7900000.0"
      ]
     },
     "execution_count": 85,
     "metadata": {},
     "output_type": "execute_result"
    }
   ],
   "source": [
    "df['kitchen_area_groups'] = pd.qcut(df['kitchen_area'],5)\n",
    "df.groupby('kitchen_area_groups')['last_price'].agg(['count','mean','median'])"
   ]
  },
  {
   "cell_type": "code",
   "execution_count": 86,
   "metadata": {},
   "outputs": [
    {
     "data": {
      "text/plain": [
       "<AxesSubplot:xlabel='kitchen_area_groups'>"
      ]
     },
     "execution_count": 86,
     "metadata": {},
     "output_type": "execute_result"
    },
    {
     "data": {
      "image/png": "[encoded data removed]",
      "text/plain": [
       "<Figure size 432x288 with 1 Axes>"
      ]
     },
     "metadata": {
      "needs_background": "light"
     },
     "output_type": "display_data"
    }
   ],
   "source": [
    "df.groupby('kitchen_area_groups')['last_price'].median().plot(kind='bar') #График зависимости стоимости от площади кухни"
   ]
  },
  {
   "cell_type": "markdown",
   "metadata": {},
   "source": [
    "**Зависимость цены от количества комнат**"
   ]
  },
  {
   "cell_type": "code",
   "execution_count": 87,
   "metadata": {
    "scrolled": true
   },
   "outputs": [
    {
     "data": {
      "text/html": [
       "<div>\n",
       "<style scoped>\n",
       "    .dataframe tbody tr th:only-of-type {\n",
       "        vertical-align: middle;\n",
       "    }\n",
       "\n",
       "    .dataframe tbody tr th {\n",
       "        vertical-align: top;\n",
       "    }\n",
       "\n",
       "    .dataframe thead th {\n",
       "        text-align: right;\n",
       "    }\n",
       "</style>\n",
       "<table border=\"1\" class=\"dataframe\">\n",
       "  <thead>\n",
       "    <tr style=\"text-align: right;\">\n",
       "      <th></th>\n",
       "      <th>count</th>\n",
       "      <th>mean</th>\n",
       "      <th>median</th>\n",
       "    </tr>\n",
       "    <tr>\n",
       "      <th>rooms</th>\n",
       "      <th></th>\n",
       "      <th></th>\n",
       "      <th></th>\n",
       "    </tr>\n",
       "  </thead>\n",
       "  <tbody>\n",
       "    <tr>\n",
       "      <th>0</th>\n",
       "      <td>115</td>\n",
       "      <td>3228369.6</td>\n",
       "      <td>3000000.0</td>\n",
       "    </tr>\n",
       "    <tr>\n",
       "      <th>1</th>\n",
       "      <td>7587</td>\n",
       "      <td>3868367.9</td>\n",
       "      <td>3620000.0</td>\n",
       "    </tr>\n",
       "    <tr>\n",
       "      <th>2</th>\n",
       "      <td>7559</td>\n",
       "      <td>5474323.6</td>\n",
       "      <td>4800000.0</td>\n",
       "    </tr>\n",
       "    <tr>\n",
       "      <th>3</th>\n",
       "      <td>5464</td>\n",
       "      <td>7330113.6</td>\n",
       "      <td>6100000.0</td>\n",
       "    </tr>\n",
       "    <tr>\n",
       "      <th>4</th>\n",
       "      <td>986</td>\n",
       "      <td>9637655.4</td>\n",
       "      <td>8290000.0</td>\n",
       "    </tr>\n",
       "    <tr>\n",
       "      <th>5</th>\n",
       "      <td>182</td>\n",
       "      <td>11340564.1</td>\n",
       "      <td>10750000.0</td>\n",
       "    </tr>\n",
       "    <tr>\n",
       "      <th>6</th>\n",
       "      <td>31</td>\n",
       "      <td>12321612.9</td>\n",
       "      <td>12000000.0</td>\n",
       "    </tr>\n",
       "    <tr>\n",
       "      <th>7</th>\n",
       "      <td>11</td>\n",
       "      <td>18496363.6</td>\n",
       "      <td>15350000.0</td>\n",
       "    </tr>\n",
       "    <tr>\n",
       "      <th>8</th>\n",
       "      <td>1</td>\n",
       "      <td>16100000.0</td>\n",
       "      <td>16100000.0</td>\n",
       "    </tr>\n",
       "  </tbody>\n",
       "</table>\n",
       "</div>"
      ],
      "text/plain": [
       "       count       mean     median\n",
       "rooms                             \n",
       "0        115  3228369.6  3000000.0\n",
       "1       7587  3868367.9  3620000.0\n",
       "2       7559  5474323.6  4800000.0\n",
       "3       5464  7330113.6  6100000.0\n",
       "4        986  9637655.4  8290000.0\n",
       "5        182 11340564.1 10750000.0\n",
       "6         31 12321612.9 12000000.0\n",
       "7         11 18496363.6 15350000.0\n",
       "8          1 16100000.0 16100000.0"
      ]
     },
     "execution_count": 87,
     "metadata": {},
     "output_type": "execute_result"
    }
   ],
   "source": [
    "df.groupby('rooms')['last_price'].agg(['count','mean','median'])"
   ]
  },
  {
   "cell_type": "code",
   "execution_count": 88,
   "metadata": {},
   "outputs": [
    {
     "data": {
      "text/plain": [
       "<AxesSubplot:xlabel='rooms'>"
      ]
     },
     "execution_count": 88,
     "metadata": {},
     "output_type": "execute_result"
    },
    {
     "data": {
      "image/png": "[encoded data removed]",
      "text/plain": [
       "<Figure size 432x288 with 1 Axes>"
      ]
     },
     "metadata": {
      "needs_background": "light"
     },
     "output_type": "display_data"
    }
   ],
   "source": [
    "df.groupby('rooms')['last_price'].median().plot(kind='bar', legend=True) #График зависимости стоимости от количества комнат"
   ]
  },
  {
   "cell_type": "markdown",
   "metadata": {},
   "source": [
    "<div class=\"alert alert-block alert-success\">\n",
    " \n",
    "### Комментарий ревьюера\n",
    "    \n",
    "#### Успех\n",
    "    \n",
    "Тут логично, чем дороже квартира, тем и комнат больше. \n",
    "</div "
   ]
  },
  {
   "cell_type": "markdown",
   "metadata": {},
   "source": [
    "**Зависимость цены от этажа**"
   ]
  },
  {
   "cell_type": "code",
   "execution_count": 89,
   "metadata": {
    "scrolled": true
   },
   "outputs": [
    {
     "data": {
      "text/html": [
       "<div>\n",
       "<style scoped>\n",
       "    .dataframe tbody tr th:only-of-type {\n",
       "        vertical-align: middle;\n",
       "    }\n",
       "\n",
       "    .dataframe tbody tr th {\n",
       "        vertical-align: top;\n",
       "    }\n",
       "\n",
       "    .dataframe thead th {\n",
       "        text-align: right;\n",
       "    }\n",
       "</style>\n",
       "<table border=\"1\" class=\"dataframe\">\n",
       "  <thead>\n",
       "    <tr style=\"text-align: right;\">\n",
       "      <th></th>\n",
       "      <th>count</th>\n",
       "      <th>mean</th>\n",
       "      <th>median</th>\n",
       "    </tr>\n",
       "    <tr>\n",
       "      <th>floor_type</th>\n",
       "      <th></th>\n",
       "      <th></th>\n",
       "      <th></th>\n",
       "    </tr>\n",
       "  </thead>\n",
       "  <tbody>\n",
       "    <tr>\n",
       "      <th>Другой</th>\n",
       "      <td>16299</td>\n",
       "      <td>5853734.3</td>\n",
       "      <td>4800000.0</td>\n",
       "    </tr>\n",
       "    <tr>\n",
       "      <th>Первый</th>\n",
       "      <td>2668</td>\n",
       "      <td>4567652.2</td>\n",
       "      <td>3950067.0</td>\n",
       "    </tr>\n",
       "    <tr>\n",
       "      <th>Последний</th>\n",
       "      <td>2969</td>\n",
       "      <td>5296211.2</td>\n",
       "      <td>4250000.0</td>\n",
       "    </tr>\n",
       "  </tbody>\n",
       "</table>\n",
       "</div>"
      ],
      "text/plain": [
       "            count      mean    median\n",
       "floor_type                           \n",
       "Другой      16299 5853734.3 4800000.0\n",
       "Первый       2668 4567652.2 3950067.0\n",
       "Последний    2969 5296211.2 4250000.0"
      ]
     },
     "execution_count": 89,
     "metadata": {},
     "output_type": "execute_result"
    }
   ],
   "source": [
    "df.groupby('floor_type')['last_price'].agg(['count','mean','median'])"
   ]
  },
  {
   "cell_type": "code",
   "execution_count": 90,
   "metadata": {
    "scrolled": true
   },
   "outputs": [
    {
     "data": {
      "text/plain": [
       "<AxesSubplot:xlabel='floor_type'>"
      ]
     },
     "execution_count": 90,
     "metadata": {},
     "output_type": "execute_result"
    },
    {
     "data": {
      "image/png": "[encoded data removed]",
      "text/plain": [
       "<Figure size 432x288 with 1 Axes>"
      ]
     },
     "metadata": {
      "needs_background": "light"
     },
     "output_type": "display_data"
    }
   ],
   "source": [
    "df.groupby('floor_type')['last_price'].median().plot(kind='bar', legend=True) #График зависимости стоимости от типа этажа"
   ]
  },
  {
   "cell_type": "code",
   "execution_count": 91,
   "metadata": {
    "scrolled": true
   },
   "outputs": [
    {
     "data": {
      "text/plain": [
       "<AxesSubplot:xlabel='floor_type'>"
      ]
     },
     "execution_count": 91,
     "metadata": {},
     "output_type": "execute_result"
    },
    {
     "data": {
      "image/png": "[encoded data removed]",
      "text/plain": [
       "<Figure size 432x288 with 1 Axes>"
      ]
     },
     "metadata": {
      "needs_background": "light"
     },
     "output_type": "display_data"
    }
   ],
   "source": [
    "df[df['rooms'].between(2,4)].groupby('floor_type')['last_price'].median().plot(kind='bar', legend=True) #отдельно для двух-четырёхкомнатных квартир"
   ]
  },
  {
   "cell_type": "markdown",
   "metadata": {},
   "source": [
    "<div class=\"alert alert-block alert-success\">\n",
    " \n",
    "### Комментарий ревьюера\n",
    "    \n",
    "#### Успех\n",
    "    \n",
    "На первом этаже самые недорогие квартиры. Логично. \n",
    "</div "
   ]
  },
  {
   "cell_type": "markdown",
   "metadata": {},
   "source": [
    "**Зависимость цены от дня недели подачи объявления** **<font color=\"maroon\">Новое</font>**"
   ]
  },
  {
   "cell_type": "code",
   "execution_count": 99,
   "metadata": {},
   "outputs": [
    {
     "data": {
      "text/plain": [
       "<AxesSubplot:xlabel='publicated_at_day_of_week'>"
      ]
     },
     "execution_count": 99,
     "metadata": {},
     "output_type": "execute_result"
    },
    {
     "data": {
      "image/png": "[encoded data removed]",
      "text/plain": [
       "<Figure size 432x288 with 1 Axes>"
      ]
     },
     "metadata": {
      "needs_background": "light"
     },
     "output_type": "display_data"
    }
   ],
   "source": [
    "df.groupby('publicated_at_day_of_week')['last_price'].median().plot(kind='bar', legend=False)"
   ]
  },
  {
   "cell_type": "markdown",
   "metadata": {},
   "source": [
    "**<font color=\"maroon\">Судя по графику, во вторник и среду публикуются объявления о продаже чуть более дорогих квартир, чем в остальные дни недели</font>**"
   ]
  },
  {
   "cell_type": "markdown",
   "metadata": {},
   "source": [
    "**Зависимость цены от месяца подачи объявления** **<font color=\"maroon\">Новое</font>**"
   ]
  },
  {
   "cell_type": "code",
   "execution_count": 101,
   "metadata": {
    "scrolled": true
   },
   "outputs": [
    {
     "data": {
      "text/plain": [
       "<AxesSubplot:xlabel='publicated_at_month'>"
      ]
     },
     "execution_count": 101,
     "metadata": {},
     "output_type": "execute_result"
    },
    {
     "data": {
      "image/png": "[encoded data removed]",
      "text/plain": [
       "<Figure size 432x288 with 1 Axes>"
      ]
     },
     "metadata": {
      "needs_background": "light"
     },
     "output_type": "display_data"
    }
   ],
   "source": [
    "df.groupby('publicated_at_month')['last_price'].median().plot(kind='bar', legend=False)"
   ]
  },
  {
   "cell_type": "markdown",
   "metadata": {},
   "source": [
    "**<font color=\"maroon\">Самые дорогие квартиры публикуются в апреле, в начале лета в мае и июне дорогие квартиры публикуются реже чем в среднем по году</font>**"
   ]
  },
  {
   "cell_type": "markdown",
   "metadata": {},
   "source": [
    "**Зависимость цены от года подачи объявления** **<font color=\"maroon\">Новое</font>**"
   ]
  },
  {
   "cell_type": "code",
   "execution_count": 104,
   "metadata": {},
   "outputs": [
    {
     "data": {
      "text/plain": [
       "<AxesSubplot:xlabel='publicated_at_year'>"
      ]
     },
     "execution_count": 104,
     "metadata": {},
     "output_type": "execute_result"
    },
    {
     "data": {
      "image/png": "[encoded data removed]",
      "text/plain": [
       "<Figure size 432x288 with 1 Axes>"
      ]
     },
     "metadata": {
      "needs_background": "light"
     },
     "output_type": "display_data"
    }
   ],
   "source": [
    "df.groupby('publicated_at_year')['last_price'].median().plot(kind='bar', legend=False)"
   ]
  },
  {
   "cell_type": "markdown",
   "metadata": {},
   "source": [
    "**<font color=\"maroon\">А вот это неожиданно. Цена на квартиры падала с 2014 по 2016 гг. Не ошибка ли это в данных? Или цены были пересчитаны по курсу доллара?</font>**"
   ]
  },
  {
   "cell_type": "markdown",
   "metadata": {},
   "source": [
    "<div class=\"alert alert-block alert-success\">\n",
    " \n",
    "# Комментарий ревьюера ver.2\n",
    "    \n",
    "#### Успех\n",
    "    \n",
    "Тут скорее привязка к курсу, ты прав. \n",
    "</div "
   ]
  },
  {
   "cell_type": "markdown",
   "metadata": {},
   "source": [
    "**4.4. Цены по населённым пунктам**"
   ]
  },
  {
   "cell_type": "code",
   "execution_count": 93,
   "metadata": {},
   "outputs": [
    {
     "data": {
      "text/plain": [
       "Index(['Санкт-Петербург', 'Мурино', 'Кудрово', 'Шушары', 'Всеволожск',\n",
       "       'Пушкин', 'Колпино', 'Парголово', 'Гатчина', 'Выборг'],\n",
       "      dtype='object', name='clean_locality_name')"
      ]
     },
     "execution_count": 93,
     "metadata": {},
     "output_type": "execute_result"
    }
   ],
   "source": [
    "df.value_counts('clean_locality_name')[:10].index"
   ]
  },
  {
   "cell_type": "code",
   "execution_count": 94,
   "metadata": {},
   "outputs": [
    {
     "data": {
      "text/html": [
       "<div>\n",
       "<style scoped>\n",
       "    .dataframe tbody tr th:only-of-type {\n",
       "        vertical-align: middle;\n",
       "    }\n",
       "\n",
       "    .dataframe tbody tr th {\n",
       "        vertical-align: top;\n",
       "    }\n",
       "\n",
       "    .dataframe thead th {\n",
       "        text-align: right;\n",
       "    }\n",
       "</style>\n",
       "<table border=\"1\" class=\"dataframe\">\n",
       "  <thead>\n",
       "    <tr style=\"text-align: right;\">\n",
       "      <th></th>\n",
       "      <th>total_images</th>\n",
       "      <th>last_price</th>\n",
       "      <th>total_area</th>\n",
       "      <th>first_day_exposition</th>\n",
       "      <th>rooms</th>\n",
       "      <th>ceiling_height</th>\n",
       "      <th>floors_total</th>\n",
       "      <th>living_area</th>\n",
       "      <th>floor</th>\n",
       "      <th>is_apartment</th>\n",
       "      <th>studio</th>\n",
       "      <th>open_plan</th>\n",
       "      <th>kitchen_area</th>\n",
       "      <th>balcony</th>\n",
       "      <th>locality_name</th>\n",
       "      <th>airports_nearest</th>\n",
       "      <th>cityCenters_nearest</th>\n",
       "      <th>parks_around3000</th>\n",
       "      <th>parks_nearest</th>\n",
       "      <th>ponds_around3000</th>\n",
       "      <th>ponds_nearest</th>\n",
       "      <th>days_exposition</th>\n",
       "      <th>days_exposition_formatted</th>\n",
       "      <th>clean_locality_name</th>\n",
       "      <th>price_per_meter</th>\n",
       "      <th>publicated_at_day_of_week</th>\n",
       "      <th>publicated_at_month</th>\n",
       "      <th>publicated_at_year</th>\n",
       "      <th>floor_type</th>\n",
       "      <th>distance_km</th>\n",
       "      <th>DD-MM</th>\n",
       "      <th>total_area_groups</th>\n",
       "      <th>living_area_groups</th>\n",
       "      <th>kitchen_area_groups</th>\n",
       "    </tr>\n",
       "  </thead>\n",
       "  <tbody>\n",
       "    <tr>\n",
       "      <th>0</th>\n",
       "      <td>20</td>\n",
       "      <td>13000000.0</td>\n",
       "      <td>108.0</td>\n",
       "      <td>2019-03-07</td>\n",
       "      <td>3</td>\n",
       "      <td>2.7</td>\n",
       "      <td>16.0</td>\n",
       "      <td>51.0</td>\n",
       "      <td>8</td>\n",
       "      <td>NaN</td>\n",
       "      <td>False</td>\n",
       "      <td>False</td>\n",
       "      <td>25.0</td>\n",
       "      <td>0</td>\n",
       "      <td>Санкт-Петербург</td>\n",
       "      <td>18863.0</td>\n",
       "      <td>16028.0</td>\n",
       "      <td>1.0</td>\n",
       "      <td>482.0</td>\n",
       "      <td>2.0</td>\n",
       "      <td>755.0</td>\n",
       "      <td>NaN</td>\n",
       "      <td>NaT</td>\n",
       "      <td>Санкт-Петербург</td>\n",
       "      <td>120370.4</td>\n",
       "      <td>3</td>\n",
       "      <td>3</td>\n",
       "      <td>2019</td>\n",
       "      <td>Другой</td>\n",
       "      <td>16</td>\n",
       "      <td>07-03</td>\n",
       "      <td>(72.9, 162.9]</td>\n",
       "      <td>(44.0, 128.0]</td>\n",
       "      <td>(12.4, 65.0]</td>\n",
       "    </tr>\n",
       "    <tr>\n",
       "      <th>1</th>\n",
       "      <td>7</td>\n",
       "      <td>3350000.0</td>\n",
       "      <td>40.4</td>\n",
       "      <td>2018-12-04</td>\n",
       "      <td>1</td>\n",
       "      <td>2.6</td>\n",
       "      <td>11.0</td>\n",
       "      <td>18.6</td>\n",
       "      <td>1</td>\n",
       "      <td>NaN</td>\n",
       "      <td>False</td>\n",
       "      <td>False</td>\n",
       "      <td>11.0</td>\n",
       "      <td>2</td>\n",
       "      <td>посёлок Шушары</td>\n",
       "      <td>12817.0</td>\n",
       "      <td>18603.0</td>\n",
       "      <td>0.0</td>\n",
       "      <td>NaN</td>\n",
       "      <td>0.0</td>\n",
       "      <td>NaN</td>\n",
       "      <td>81.0</td>\n",
       "      <td>81 days</td>\n",
       "      <td>Шушары</td>\n",
       "      <td>82920.8</td>\n",
       "      <td>1</td>\n",
       "      <td>12</td>\n",
       "      <td>2018</td>\n",
       "      <td>Первый</td>\n",
       "      <td>18</td>\n",
       "      <td>04-12</td>\n",
       "      <td>(38.0, 45.8]</td>\n",
       "      <td>(18.0, 27.4]</td>\n",
       "      <td>(10.0, 12.4]</td>\n",
       "    </tr>\n",
       "    <tr>\n",
       "      <th>2</th>\n",
       "      <td>10</td>\n",
       "      <td>5196000.0</td>\n",
       "      <td>56.0</td>\n",
       "      <td>2015-08-20</td>\n",
       "      <td>2</td>\n",
       "      <td>2.6</td>\n",
       "      <td>5.0</td>\n",
       "      <td>34.3</td>\n",
       "      <td>4</td>\n",
       "      <td>NaN</td>\n",
       "      <td>False</td>\n",
       "      <td>False</td>\n",
       "      <td>8.3</td>\n",
       "      <td>0</td>\n",
       "      <td>Санкт-Петербург</td>\n",
       "      <td>21741.0</td>\n",
       "      <td>13933.0</td>\n",
       "      <td>1.0</td>\n",
       "      <td>90.0</td>\n",
       "      <td>2.0</td>\n",
       "      <td>574.0</td>\n",
       "      <td>558.0</td>\n",
       "      <td>558 days</td>\n",
       "      <td>Санкт-Петербург</td>\n",
       "      <td>92785.7</td>\n",
       "      <td>3</td>\n",
       "      <td>8</td>\n",
       "      <td>2015</td>\n",
       "      <td>Другой</td>\n",
       "      <td>13</td>\n",
       "      <td>20-08</td>\n",
       "      <td>(45.8, 57.5]</td>\n",
       "      <td>(33.0, 44.0]</td>\n",
       "      <td>(6.8, 8.4]</td>\n",
       "    </tr>\n",
       "    <tr>\n",
       "      <th>4</th>\n",
       "      <td>2</td>\n",
       "      <td>10000000.0</td>\n",
       "      <td>100.0</td>\n",
       "      <td>2018-06-19</td>\n",
       "      <td>2</td>\n",
       "      <td>3.0</td>\n",
       "      <td>14.0</td>\n",
       "      <td>32.0</td>\n",
       "      <td>13</td>\n",
       "      <td>NaN</td>\n",
       "      <td>False</td>\n",
       "      <td>False</td>\n",
       "      <td>41.0</td>\n",
       "      <td>0</td>\n",
       "      <td>Санкт-Петербург</td>\n",
       "      <td>31856.0</td>\n",
       "      <td>8098.0</td>\n",
       "      <td>2.0</td>\n",
       "      <td>112.0</td>\n",
       "      <td>1.0</td>\n",
       "      <td>48.0</td>\n",
       "      <td>121.0</td>\n",
       "      <td>121 days</td>\n",
       "      <td>Санкт-Петербург</td>\n",
       "      <td>100000.0</td>\n",
       "      <td>1</td>\n",
       "      <td>6</td>\n",
       "      <td>2018</td>\n",
       "      <td>Другой</td>\n",
       "      <td>8</td>\n",
       "      <td>19-06</td>\n",
       "      <td>(72.9, 162.9]</td>\n",
       "      <td>(27.4, 33.0]</td>\n",
       "      <td>(12.4, 65.0]</td>\n",
       "    </tr>\n",
       "    <tr>\n",
       "      <th>5</th>\n",
       "      <td>10</td>\n",
       "      <td>2890000.0</td>\n",
       "      <td>30.4</td>\n",
       "      <td>2018-09-10</td>\n",
       "      <td>1</td>\n",
       "      <td>2.6</td>\n",
       "      <td>12.0</td>\n",
       "      <td>14.4</td>\n",
       "      <td>5</td>\n",
       "      <td>NaN</td>\n",
       "      <td>False</td>\n",
       "      <td>False</td>\n",
       "      <td>9.1</td>\n",
       "      <td>0</td>\n",
       "      <td>городской посёлок Янино-1</td>\n",
       "      <td>NaN</td>\n",
       "      <td>NaN</td>\n",
       "      <td>NaN</td>\n",
       "      <td>NaN</td>\n",
       "      <td>NaN</td>\n",
       "      <td>NaN</td>\n",
       "      <td>55.0</td>\n",
       "      <td>55 days</td>\n",
       "      <td>Янино-1</td>\n",
       "      <td>95065.8</td>\n",
       "      <td>0</td>\n",
       "      <td>9</td>\n",
       "      <td>2018</td>\n",
       "      <td>Другой</td>\n",
       "      <td>0</td>\n",
       "      <td>10-09</td>\n",
       "      <td>(25.069, 38.0]</td>\n",
       "      <td>(1.999, 18.0]</td>\n",
       "      <td>(8.4, 10.0]</td>\n",
       "    </tr>\n",
       "  </tbody>\n",
       "</table>\n",
       "</div>"
      ],
      "text/plain": [
       "   total_images  last_price  total_area first_day_exposition  rooms  \\\n",
       "0            20  13000000.0       108.0           2019-03-07      3   \n",
       "1             7   3350000.0        40.4           2018-12-04      1   \n",
       "2            10   5196000.0        56.0           2015-08-20      2   \n",
       "4             2  10000000.0       100.0           2018-06-19      2   \n",
       "5            10   2890000.0        30.4           2018-09-10      1   \n",
       "\n",
       "   ceiling_height  floors_total  living_area  floor is_apartment  studio  \\\n",
       "0             2.7          16.0         51.0      8          NaN   False   \n",
       "1             2.6          11.0         18.6      1          NaN   False   \n",
       "2             2.6           5.0         34.3      4          NaN   False   \n",
       "4             3.0          14.0         32.0     13          NaN   False   \n",
       "5             2.6          12.0         14.4      5          NaN   False   \n",
       "\n",
       "   open_plan  kitchen_area  balcony              locality_name  \\\n",
       "0      False          25.0        0            Санкт-Петербург   \n",
       "1      False          11.0        2             посёлок Шушары   \n",
       "2      False           8.3        0            Санкт-Петербург   \n",
       "4      False          41.0        0            Санкт-Петербург   \n",
       "5      False           9.1        0  городской посёлок Янино-1   \n",
       "\n",
       "   airports_nearest  cityCenters_nearest  parks_around3000  parks_nearest  \\\n",
       "0           18863.0              16028.0               1.0          482.0   \n",
       "1           12817.0              18603.0               0.0            NaN   \n",
       "2           21741.0              13933.0               1.0           90.0   \n",
       "4           31856.0               8098.0               2.0          112.0   \n",
       "5               NaN                  NaN               NaN            NaN   \n",
       "\n",
       "   ponds_around3000  ponds_nearest  days_exposition days_exposition_formatted  \\\n",
       "0               2.0          755.0              NaN                       NaT   \n",
       "1               0.0            NaN             81.0                   81 days   \n",
       "2               2.0          574.0            558.0                  558 days   \n",
       "4               1.0           48.0            121.0                  121 days   \n",
       "5               NaN            NaN             55.0                   55 days   \n",
       "\n",
       "  clean_locality_name  price_per_meter  publicated_at_day_of_week  \\\n",
       "0     Санкт-Петербург         120370.4                          3   \n",
       "1              Шушары          82920.8                          1   \n",
       "2     Санкт-Петербург          92785.7                          3   \n",
       "4     Санкт-Петербург         100000.0                          1   \n",
       "5             Янино-1          95065.8                          0   \n",
       "\n",
       "   publicated_at_month  publicated_at_year floor_type  distance_km  DD-MM  \\\n",
       "0                    3                2019     Другой           16  07-03   \n",
       "1                   12                2018     Первый           18  04-12   \n",
       "2                    8                2015     Другой           13  20-08   \n",
       "4                    6                2018     Другой            8  19-06   \n",
       "5                    9                2018     Другой            0  10-09   \n",
       "\n",
       "  total_area_groups living_area_groups kitchen_area_groups  \n",
       "0     (72.9, 162.9]      (44.0, 128.0]        (12.4, 65.0]  \n",
       "1      (38.0, 45.8]       (18.0, 27.4]        (10.0, 12.4]  \n",
       "2      (45.8, 57.5]       (33.0, 44.0]          (6.8, 8.4]  \n",
       "4     (72.9, 162.9]       (27.4, 33.0]        (12.4, 65.0]  \n",
       "5    (25.069, 38.0]      (1.999, 18.0]         (8.4, 10.0]  "
      ]
     },
     "execution_count": 94,
     "metadata": {},
     "output_type": "execute_result"
    }
   ],
   "source": [
    "pd.set_option('max_columns', None)\n",
    "df.head()"
   ]
  },
  {
   "cell_type": "code",
   "execution_count": 95,
   "metadata": {},
   "outputs": [
    {
     "data": {
      "text/html": [
       "<div>\n",
       "<style scoped>\n",
       "    .dataframe tbody tr th:only-of-type {\n",
       "        vertical-align: middle;\n",
       "    }\n",
       "\n",
       "    .dataframe tbody tr th {\n",
       "        vertical-align: top;\n",
       "    }\n",
       "\n",
       "    .dataframe thead th {\n",
       "        text-align: right;\n",
       "    }\n",
       "</style>\n",
       "<table border=\"1\" class=\"dataframe\">\n",
       "  <thead>\n",
       "    <tr style=\"text-align: right;\">\n",
       "      <th></th>\n",
       "      <th>count</th>\n",
       "      <th>median</th>\n",
       "    </tr>\n",
       "    <tr>\n",
       "      <th>clean_locality_name</th>\n",
       "      <th></th>\n",
       "      <th></th>\n",
       "    </tr>\n",
       "  </thead>\n",
       "  <tbody>\n",
       "    <tr>\n",
       "      <th>Санкт-Петербург</th>\n",
       "      <td>14627</td>\n",
       "      <td>103921.6</td>\n",
       "    </tr>\n",
       "    <tr>\n",
       "      <th>Мурино</th>\n",
       "      <td>544</td>\n",
       "      <td>84255.7</td>\n",
       "    </tr>\n",
       "    <tr>\n",
       "      <th>Кудрово</th>\n",
       "      <td>435</td>\n",
       "      <td>94972.1</td>\n",
       "    </tr>\n",
       "    <tr>\n",
       "      <th>Шушары</th>\n",
       "      <td>426</td>\n",
       "      <td>76573.5</td>\n",
       "    </tr>\n",
       "    <tr>\n",
       "      <th>Всеволожск</th>\n",
       "      <td>388</td>\n",
       "      <td>65789.5</td>\n",
       "    </tr>\n",
       "    <tr>\n",
       "      <th>Пушкин</th>\n",
       "      <td>352</td>\n",
       "      <td>99865.7</td>\n",
       "    </tr>\n",
       "    <tr>\n",
       "      <th>Колпино</th>\n",
       "      <td>330</td>\n",
       "      <td>74689.9</td>\n",
       "    </tr>\n",
       "    <tr>\n",
       "      <th>Парголово</th>\n",
       "      <td>320</td>\n",
       "      <td>91579.7</td>\n",
       "    </tr>\n",
       "    <tr>\n",
       "      <th>Гатчина</th>\n",
       "      <td>302</td>\n",
       "      <td>67860.6</td>\n",
       "    </tr>\n",
       "    <tr>\n",
       "      <th>Выборг</th>\n",
       "      <td>217</td>\n",
       "      <td>58407.1</td>\n",
       "    </tr>\n",
       "  </tbody>\n",
       "</table>\n",
       "</div>"
      ],
      "text/plain": [
       "                     count   median\n",
       "clean_locality_name                \n",
       "Санкт-Петербург      14627 103921.6\n",
       "Мурино                 544  84255.7\n",
       "Кудрово                435  94972.1\n",
       "Шушары                 426  76573.5\n",
       "Всеволожск             388  65789.5\n",
       "Пушкин                 352  99865.7\n",
       "Колпино                330  74689.9\n",
       "Парголово              320  91579.7\n",
       "Гатчина                302  67860.6\n",
       "Выборг                 217  58407.1"
      ]
     },
     "execution_count": 95,
     "metadata": {},
     "output_type": "execute_result"
    }
   ],
   "source": [
    "df[df['clean_locality_name'].isin(df.value_counts('clean_locality_name')[:10].index)].groupby('clean_locality_name')['price_per_meter'].agg(['count','median']).sort_values('count', ascending=False)"
   ]
  },
  {
   "cell_type": "markdown",
   "metadata": {},
   "source": [
    "<div class=\"alert alert-block alert-success\">\n",
    " \n",
    "### Комментарий ревьюера\n",
    "    \n",
    "#### Успех\n",
    "    \n",
    "Топ-10 определен. Супер. \n",
    "</div "
   ]
  },
  {
   "cell_type": "code",
   "execution_count": 96,
   "metadata": {},
   "outputs": [
    {
     "data": {
      "text/html": [
       "<div>\n",
       "<style scoped>\n",
       "    .dataframe tbody tr th:only-of-type {\n",
       "        vertical-align: middle;\n",
       "    }\n",
       "\n",
       "    .dataframe tbody tr th {\n",
       "        vertical-align: top;\n",
       "    }\n",
       "\n",
       "    .dataframe thead th {\n",
       "        text-align: right;\n",
       "    }\n",
       "</style>\n",
       "<table border=\"1\" class=\"dataframe\">\n",
       "  <thead>\n",
       "    <tr style=\"text-align: right;\">\n",
       "      <th></th>\n",
       "      <th>count</th>\n",
       "      <th>median</th>\n",
       "    </tr>\n",
       "    <tr>\n",
       "      <th>clean_locality_name</th>\n",
       "      <th></th>\n",
       "      <th></th>\n",
       "    </tr>\n",
       "  </thead>\n",
       "  <tbody>\n",
       "    <tr>\n",
       "      <th>Житково</th>\n",
       "      <td>1</td>\n",
       "      <td>15648.3</td>\n",
       "    </tr>\n",
       "    <tr>\n",
       "      <th>Сланцы</th>\n",
       "      <td>29</td>\n",
       "      <td>19230.8</td>\n",
       "    </tr>\n",
       "    <tr>\n",
       "      <th>Никольский</th>\n",
       "      <td>3</td>\n",
       "      <td>19298.2</td>\n",
       "    </tr>\n",
       "    <tr>\n",
       "      <th>Бокситогорск</th>\n",
       "      <td>2</td>\n",
       "      <td>19600.1</td>\n",
       "    </tr>\n",
       "    <tr>\n",
       "      <th>Лесогорский</th>\n",
       "      <td>5</td>\n",
       "      <td>19833.3</td>\n",
       "    </tr>\n",
       "    <tr>\n",
       "      <th>Оредеж</th>\n",
       "      <td>1</td>\n",
       "      <td>19877.7</td>\n",
       "    </tr>\n",
       "    <tr>\n",
       "      <th>Торковичи</th>\n",
       "      <td>3</td>\n",
       "      <td>20458.9</td>\n",
       "    </tr>\n",
       "    <tr>\n",
       "      <th>Пикалёво</th>\n",
       "      <td>7</td>\n",
       "      <td>20905.9</td>\n",
       "    </tr>\n",
       "    <tr>\n",
       "      <th>Кисельня</th>\n",
       "      <td>1</td>\n",
       "      <td>20909.1</td>\n",
       "    </tr>\n",
       "    <tr>\n",
       "      <th>Плоское</th>\n",
       "      <td>1</td>\n",
       "      <td>20912.5</td>\n",
       "    </tr>\n",
       "    <tr>\n",
       "      <th>Алексеевка</th>\n",
       "      <td>1</td>\n",
       "      <td>22222.2</td>\n",
       "    </tr>\n",
       "    <tr>\n",
       "      <th>Лесная Поляна</th>\n",
       "      <td>1</td>\n",
       "      <td>22580.6</td>\n",
       "    </tr>\n",
       "    <tr>\n",
       "      <th>Куровицы</th>\n",
       "      <td>1</td>\n",
       "      <td>22593.3</td>\n",
       "    </tr>\n",
       "    <tr>\n",
       "      <th>Пижма</th>\n",
       "      <td>1</td>\n",
       "      <td>22641.5</td>\n",
       "    </tr>\n",
       "    <tr>\n",
       "      <th>Важины</th>\n",
       "      <td>3</td>\n",
       "      <td>23706.9</td>\n",
       "    </tr>\n",
       "    <tr>\n",
       "      <th>Мануйлово</th>\n",
       "      <td>1</td>\n",
       "      <td>24477.0</td>\n",
       "    </tr>\n",
       "    <tr>\n",
       "      <th>Котлы</th>\n",
       "      <td>1</td>\n",
       "      <td>24886.9</td>\n",
       "    </tr>\n",
       "    <tr>\n",
       "      <th>Сумино</th>\n",
       "      <td>2</td>\n",
       "      <td>24979.8</td>\n",
       "    </tr>\n",
       "    <tr>\n",
       "      <th>Коммунары</th>\n",
       "      <td>1</td>\n",
       "      <td>25139.7</td>\n",
       "    </tr>\n",
       "    <tr>\n",
       "      <th>Платформа 69-й километр</th>\n",
       "      <td>1</td>\n",
       "      <td>25616.7</td>\n",
       "    </tr>\n",
       "    <tr>\n",
       "      <th>Рабитицы</th>\n",
       "      <td>3</td>\n",
       "      <td>26073.6</td>\n",
       "    </tr>\n",
       "    <tr>\n",
       "      <th>Каложицы</th>\n",
       "      <td>1</td>\n",
       "      <td>26715.7</td>\n",
       "    </tr>\n",
       "    <tr>\n",
       "      <th>Пчева</th>\n",
       "      <td>1</td>\n",
       "      <td>26829.3</td>\n",
       "    </tr>\n",
       "    <tr>\n",
       "      <th>Извара</th>\n",
       "      <td>5</td>\n",
       "      <td>27027.0</td>\n",
       "    </tr>\n",
       "    <tr>\n",
       "      <th>Кузнечное</th>\n",
       "      <td>10</td>\n",
       "      <td>27303.5</td>\n",
       "    </tr>\n",
       "    <tr>\n",
       "      <th>Шпаньково</th>\n",
       "      <td>1</td>\n",
       "      <td>27352.9</td>\n",
       "    </tr>\n",
       "    <tr>\n",
       "      <th>Каменногорск</th>\n",
       "      <td>12</td>\n",
       "      <td>27412.7</td>\n",
       "    </tr>\n",
       "    <tr>\n",
       "      <th>Красносельское</th>\n",
       "      <td>1</td>\n",
       "      <td>27419.4</td>\n",
       "    </tr>\n",
       "    <tr>\n",
       "      <th>Паша</th>\n",
       "      <td>1</td>\n",
       "      <td>27627.1</td>\n",
       "    </tr>\n",
       "    <tr>\n",
       "      <th>Свирьстрой</th>\n",
       "      <td>1</td>\n",
       "      <td>27692.3</td>\n",
       "    </tr>\n",
       "    <tr>\n",
       "      <th>Подпорожье</th>\n",
       "      <td>16</td>\n",
       "      <td>27907.0</td>\n",
       "    </tr>\n",
       "    <tr>\n",
       "      <th>Большая Пустомержа</th>\n",
       "      <td>1</td>\n",
       "      <td>28037.4</td>\n",
       "    </tr>\n",
       "    <tr>\n",
       "      <th>Лодейное Поле</th>\n",
       "      <td>19</td>\n",
       "      <td>28448.3</td>\n",
       "    </tr>\n",
       "    <tr>\n",
       "      <th>Глажево</th>\n",
       "      <td>3</td>\n",
       "      <td>28571.4</td>\n",
       "    </tr>\n",
       "    <tr>\n",
       "      <th>Возрождение</th>\n",
       "      <td>3</td>\n",
       "      <td>28708.1</td>\n",
       "    </tr>\n",
       "    <tr>\n",
       "      <th>Меньково</th>\n",
       "      <td>1</td>\n",
       "      <td>28828.8</td>\n",
       "    </tr>\n",
       "    <tr>\n",
       "      <th>Гаврилово</th>\n",
       "      <td>4</td>\n",
       "      <td>28833.1</td>\n",
       "    </tr>\n",
       "    <tr>\n",
       "      <th>Громово</th>\n",
       "      <td>5</td>\n",
       "      <td>28888.9</td>\n",
       "    </tr>\n",
       "    <tr>\n",
       "      <th>Суйда</th>\n",
       "      <td>4</td>\n",
       "      <td>29155.4</td>\n",
       "    </tr>\n",
       "    <tr>\n",
       "      <th>Торосово</th>\n",
       "      <td>2</td>\n",
       "      <td>29245.7</td>\n",
       "    </tr>\n",
       "    <tr>\n",
       "      <th>Дружная Горка</th>\n",
       "      <td>5</td>\n",
       "      <td>29268.3</td>\n",
       "    </tr>\n",
       "    <tr>\n",
       "      <th>Батово</th>\n",
       "      <td>9</td>\n",
       "      <td>29411.8</td>\n",
       "    </tr>\n",
       "    <tr>\n",
       "      <th>Зимитицы</th>\n",
       "      <td>4</td>\n",
       "      <td>30330.7</td>\n",
       "    </tr>\n",
       "    <tr>\n",
       "      <th>Борисова Грива</th>\n",
       "      <td>1</td>\n",
       "      <td>30470.9</td>\n",
       "    </tr>\n",
       "    <tr>\n",
       "      <th>Старая Малукса</th>\n",
       "      <td>4</td>\n",
       "      <td>30482.5</td>\n",
       "    </tr>\n",
       "    <tr>\n",
       "      <th>Большая Вруда</th>\n",
       "      <td>3</td>\n",
       "      <td>30526.3</td>\n",
       "    </tr>\n",
       "    <tr>\n",
       "      <th>Победа</th>\n",
       "      <td>5</td>\n",
       "      <td>30612.2</td>\n",
       "    </tr>\n",
       "    <tr>\n",
       "      <th>Мыза-Ивановка</th>\n",
       "      <td>1</td>\n",
       "      <td>30694.7</td>\n",
       "    </tr>\n",
       "    <tr>\n",
       "      <th>Гладкое</th>\n",
       "      <td>1</td>\n",
       "      <td>30769.2</td>\n",
       "    </tr>\n",
       "    <tr>\n",
       "      <th>Заклинье</th>\n",
       "      <td>3</td>\n",
       "      <td>30821.9</td>\n",
       "    </tr>\n",
       "    <tr>\n",
       "      <th>Кингисеппский</th>\n",
       "      <td>2</td>\n",
       "      <td>31109.8</td>\n",
       "    </tr>\n",
       "    <tr>\n",
       "      <th>Сапёрное</th>\n",
       "      <td>2</td>\n",
       "      <td>31146.0</td>\n",
       "    </tr>\n",
       "    <tr>\n",
       "      <th>Лампово</th>\n",
       "      <td>6</td>\n",
       "      <td>31547.5</td>\n",
       "    </tr>\n",
       "    <tr>\n",
       "      <th>Ивангород</th>\n",
       "      <td>23</td>\n",
       "      <td>31645.6</td>\n",
       "    </tr>\n",
       "    <tr>\n",
       "      <th>Плодовое</th>\n",
       "      <td>3</td>\n",
       "      <td>31818.2</td>\n",
       "    </tr>\n",
       "    <tr>\n",
       "      <th>Барышево</th>\n",
       "      <td>2</td>\n",
       "      <td>31841.2</td>\n",
       "    </tr>\n",
       "    <tr>\n",
       "      <th>Назия</th>\n",
       "      <td>17</td>\n",
       "      <td>31847.1</td>\n",
       "    </tr>\n",
       "    <tr>\n",
       "      <th>Красная Долина</th>\n",
       "      <td>2</td>\n",
       "      <td>32110.9</td>\n",
       "    </tr>\n",
       "    <tr>\n",
       "      <th>Садко</th>\n",
       "      <td>1</td>\n",
       "      <td>32142.9</td>\n",
       "    </tr>\n",
       "    <tr>\n",
       "      <th>Вознесенье</th>\n",
       "      <td>2</td>\n",
       "      <td>32222.4</td>\n",
       "    </tr>\n",
       "    <tr>\n",
       "      <th>Елизаветино</th>\n",
       "      <td>12</td>\n",
       "      <td>32299.1</td>\n",
       "    </tr>\n",
       "    <tr>\n",
       "      <th>Жилпосёлок</th>\n",
       "      <td>1</td>\n",
       "      <td>32480.3</td>\n",
       "    </tr>\n",
       "    <tr>\n",
       "      <th>Камышовка</th>\n",
       "      <td>2</td>\n",
       "      <td>32569.3</td>\n",
       "    </tr>\n",
       "    <tr>\n",
       "      <th>Раздолье</th>\n",
       "      <td>1</td>\n",
       "      <td>32812.5</td>\n",
       "    </tr>\n",
       "    <tr>\n",
       "      <th>Тойворово</th>\n",
       "      <td>1</td>\n",
       "      <td>33009.7</td>\n",
       "    </tr>\n",
       "    <tr>\n",
       "      <th>Кирпичное</th>\n",
       "      <td>1</td>\n",
       "      <td>33105.0</td>\n",
       "    </tr>\n",
       "    <tr>\n",
       "      <th>Старосиверская</th>\n",
       "      <td>2</td>\n",
       "      <td>33291.4</td>\n",
       "    </tr>\n",
       "    <tr>\n",
       "      <th>Рябово</th>\n",
       "      <td>3</td>\n",
       "      <td>33422.5</td>\n",
       "    </tr>\n",
       "    <tr>\n",
       "      <th>Дзержинского</th>\n",
       "      <td>1</td>\n",
       "      <td>33439.5</td>\n",
       "    </tr>\n",
       "    <tr>\n",
       "      <th>Лопухинка</th>\n",
       "      <td>6</td>\n",
       "      <td>33470.1</td>\n",
       "    </tr>\n",
       "    <tr>\n",
       "      <th>Кикерино</th>\n",
       "      <td>4</td>\n",
       "      <td>33660.2</td>\n",
       "    </tr>\n",
       "    <tr>\n",
       "      <th>Цвелодубово</th>\n",
       "      <td>4</td>\n",
       "      <td>33675.0</td>\n",
       "    </tr>\n",
       "    <tr>\n",
       "      <th>Починок</th>\n",
       "      <td>2</td>\n",
       "      <td>33879.5</td>\n",
       "    </tr>\n",
       "    <tr>\n",
       "      <th>Шум</th>\n",
       "      <td>1</td>\n",
       "      <td>33898.3</td>\n",
       "    </tr>\n",
       "    <tr>\n",
       "      <th>Высоцк</th>\n",
       "      <td>4</td>\n",
       "      <td>34005.7</td>\n",
       "    </tr>\n",
       "    <tr>\n",
       "      <th>Старая Ладога</th>\n",
       "      <td>2</td>\n",
       "      <td>34697.0</td>\n",
       "    </tr>\n",
       "    <tr>\n",
       "      <th>Иссад</th>\n",
       "      <td>1</td>\n",
       "      <td>34848.5</td>\n",
       "    </tr>\n",
       "    <tr>\n",
       "      <th>Котельский</th>\n",
       "      <td>2</td>\n",
       "      <td>34896.1</td>\n",
       "    </tr>\n",
       "    <tr>\n",
       "      <th>Высокоключевой</th>\n",
       "      <td>1</td>\n",
       "      <td>34931.5</td>\n",
       "    </tr>\n",
       "    <tr>\n",
       "      <th>Суходолье</th>\n",
       "      <td>8</td>\n",
       "      <td>35059.4</td>\n",
       "    </tr>\n",
       "    <tr>\n",
       "      <th>Вещево</th>\n",
       "      <td>2</td>\n",
       "      <td>35100.2</td>\n",
       "    </tr>\n",
       "    <tr>\n",
       "      <th>Сясьстрой</th>\n",
       "      <td>23</td>\n",
       "      <td>35185.2</td>\n",
       "    </tr>\n",
       "    <tr>\n",
       "      <th>Белогорка</th>\n",
       "      <td>9</td>\n",
       "      <td>35185.2</td>\n",
       "    </tr>\n",
       "    <tr>\n",
       "      <th>Волхов</th>\n",
       "      <td>108</td>\n",
       "      <td>35187.8</td>\n",
       "    </tr>\n",
       "    <tr>\n",
       "      <th>Старые Бегуницы</th>\n",
       "      <td>2</td>\n",
       "      <td>35350.3</td>\n",
       "    </tr>\n",
       "    <tr>\n",
       "      <th>Любань</th>\n",
       "      <td>10</td>\n",
       "      <td>35404.1</td>\n",
       "    </tr>\n",
       "    <tr>\n",
       "      <th>Семиозерье</th>\n",
       "      <td>1</td>\n",
       "      <td>35714.3</td>\n",
       "    </tr>\n",
       "    <tr>\n",
       "      <th>Перово</th>\n",
       "      <td>4</td>\n",
       "      <td>35808.4</td>\n",
       "    </tr>\n",
       "    <tr>\n",
       "      <th>Глебычево</th>\n",
       "      <td>3</td>\n",
       "      <td>35830.6</td>\n",
       "    </tr>\n",
       "    <tr>\n",
       "      <th>Заводской</th>\n",
       "      <td>3</td>\n",
       "      <td>35869.6</td>\n",
       "    </tr>\n",
       "    <tr>\n",
       "      <th>Рождествено</th>\n",
       "      <td>3</td>\n",
       "      <td>35897.4</td>\n",
       "    </tr>\n",
       "    <tr>\n",
       "      <th>Сяськелево</th>\n",
       "      <td>10</td>\n",
       "      <td>36073.6</td>\n",
       "    </tr>\n",
       "    <tr>\n",
       "      <th>Ропша</th>\n",
       "      <td>1</td>\n",
       "      <td>36111.1</td>\n",
       "    </tr>\n",
       "    <tr>\n",
       "      <th>Мельниково</th>\n",
       "      <td>5</td>\n",
       "      <td>36274.5</td>\n",
       "    </tr>\n",
       "    <tr>\n",
       "      <th>Калитино</th>\n",
       "      <td>6</td>\n",
       "      <td>36325.3</td>\n",
       "    </tr>\n",
       "    <tr>\n",
       "      <th>Кивеннапа Север</th>\n",
       "      <td>1</td>\n",
       "      <td>36363.6</td>\n",
       "    </tr>\n",
       "    <tr>\n",
       "      <th>Усть-Луга</th>\n",
       "      <td>5</td>\n",
       "      <td>36363.6</td>\n",
       "    </tr>\n",
       "    <tr>\n",
       "      <th>Светогорск</th>\n",
       "      <td>10</td>\n",
       "      <td>36515.0</td>\n",
       "    </tr>\n",
       "    <tr>\n",
       "      <th>Кривко</th>\n",
       "      <td>1</td>\n",
       "      <td>36619.7</td>\n",
       "    </tr>\n",
       "    <tr>\n",
       "      <th>Коробицыно</th>\n",
       "      <td>2</td>\n",
       "      <td>36770.8</td>\n",
       "    </tr>\n",
       "    <tr>\n",
       "      <th>Каськово</th>\n",
       "      <td>1</td>\n",
       "      <td>37000.0</td>\n",
       "    </tr>\n",
       "    <tr>\n",
       "      <th>Трубников Бор</th>\n",
       "      <td>1</td>\n",
       "      <td>37523.5</td>\n",
       "    </tr>\n",
       "    <tr>\n",
       "      <th>Нурма</th>\n",
       "      <td>9</td>\n",
       "      <td>37610.6</td>\n",
       "    </tr>\n",
       "    <tr>\n",
       "      <th>Новая Ладога</th>\n",
       "      <td>13</td>\n",
       "      <td>37735.8</td>\n",
       "    </tr>\n",
       "    <tr>\n",
       "      <th>Пушное</th>\n",
       "      <td>2</td>\n",
       "      <td>37835.4</td>\n",
       "    </tr>\n",
       "    <tr>\n",
       "      <th>Пригородный</th>\n",
       "      <td>3</td>\n",
       "      <td>37837.8</td>\n",
       "    </tr>\n",
       "    <tr>\n",
       "      <th>Терпилицы</th>\n",
       "      <td>1</td>\n",
       "      <td>38025.9</td>\n",
       "    </tr>\n",
       "    <tr>\n",
       "      <th>Кириши</th>\n",
       "      <td>120</td>\n",
       "      <td>38160.4</td>\n",
       "    </tr>\n",
       "    <tr>\n",
       "      <th>Будогощь</th>\n",
       "      <td>3</td>\n",
       "      <td>38235.3</td>\n",
       "    </tr>\n",
       "    <tr>\n",
       "      <th>Лесное</th>\n",
       "      <td>3</td>\n",
       "      <td>38356.2</td>\n",
       "    </tr>\n",
       "    <tr>\n",
       "      <th>Большое Рейзино</th>\n",
       "      <td>1</td>\n",
       "      <td>38709.7</td>\n",
       "    </tr>\n",
       "    <tr>\n",
       "      <th>Бегуницы</th>\n",
       "      <td>17</td>\n",
       "      <td>38793.1</td>\n",
       "    </tr>\n",
       "    <tr>\n",
       "      <th>Реброво</th>\n",
       "      <td>1</td>\n",
       "      <td>39237.7</td>\n",
       "    </tr>\n",
       "    <tr>\n",
       "      <th>Запорожское</th>\n",
       "      <td>8</td>\n",
       "      <td>39314.2</td>\n",
       "    </tr>\n",
       "    <tr>\n",
       "      <th>Мга</th>\n",
       "      <td>32</td>\n",
       "      <td>39493.2</td>\n",
       "    </tr>\n",
       "    <tr>\n",
       "      <th>Кобралово</th>\n",
       "      <td>9</td>\n",
       "      <td>39814.8</td>\n",
       "    </tr>\n",
       "    <tr>\n",
       "      <th>Нижние Осельки</th>\n",
       "      <td>1</td>\n",
       "      <td>39864.9</td>\n",
       "    </tr>\n",
       "    <tr>\n",
       "      <th>Волосово</th>\n",
       "      <td>36</td>\n",
       "      <td>39906.3</td>\n",
       "    </tr>\n",
       "    <tr>\n",
       "      <th>Путилово</th>\n",
       "      <td>2</td>\n",
       "      <td>39921.8</td>\n",
       "    </tr>\n",
       "    <tr>\n",
       "      <th>Тихвин</th>\n",
       "      <td>48</td>\n",
       "      <td>40227.8</td>\n",
       "    </tr>\n",
       "    <tr>\n",
       "      <th>Приозерск</th>\n",
       "      <td>66</td>\n",
       "      <td>40364.0</td>\n",
       "    </tr>\n",
       "    <tr>\n",
       "      <th>Торфяное</th>\n",
       "      <td>4</td>\n",
       "      <td>40372.3</td>\n",
       "    </tr>\n",
       "    <tr>\n",
       "      <th>Ваганово</th>\n",
       "      <td>3</td>\n",
       "      <td>40493.0</td>\n",
       "    </tr>\n",
       "    <tr>\n",
       "      <th>Парицы</th>\n",
       "      <td>4</td>\n",
       "      <td>40774.5</td>\n",
       "    </tr>\n",
       "    <tr>\n",
       "      <th>Нижняя</th>\n",
       "      <td>1</td>\n",
       "      <td>40816.3</td>\n",
       "    </tr>\n",
       "    <tr>\n",
       "      <th>Приморск</th>\n",
       "      <td>8</td>\n",
       "      <td>40833.3</td>\n",
       "    </tr>\n",
       "    <tr>\n",
       "      <th>Мины</th>\n",
       "      <td>2</td>\n",
       "      <td>41005.3</td>\n",
       "    </tr>\n",
       "    <tr>\n",
       "      <th>Молодцово</th>\n",
       "      <td>9</td>\n",
       "      <td>41025.6</td>\n",
       "    </tr>\n",
       "    <tr>\n",
       "      <th>Семрино</th>\n",
       "      <td>5</td>\n",
       "      <td>41095.9</td>\n",
       "    </tr>\n",
       "    <tr>\n",
       "      <th>Гончарово</th>\n",
       "      <td>1</td>\n",
       "      <td>41371.2</td>\n",
       "    </tr>\n",
       "    <tr>\n",
       "      <th>Дружноселье</th>\n",
       "      <td>1</td>\n",
       "      <td>41379.3</td>\n",
       "    </tr>\n",
       "    <tr>\n",
       "      <th>Петровское</th>\n",
       "      <td>5</td>\n",
       "      <td>41666.7</td>\n",
       "    </tr>\n",
       "    <tr>\n",
       "      <th>Сельцо</th>\n",
       "      <td>9</td>\n",
       "      <td>41666.7</td>\n",
       "    </tr>\n",
       "    <tr>\n",
       "      <th>Селезнёво</th>\n",
       "      <td>5</td>\n",
       "      <td>41964.3</td>\n",
       "    </tr>\n",
       "    <tr>\n",
       "      <th>Советский</th>\n",
       "      <td>11</td>\n",
       "      <td>42253.5</td>\n",
       "    </tr>\n",
       "    <tr>\n",
       "      <th>Сиверский</th>\n",
       "      <td>29</td>\n",
       "      <td>42361.1</td>\n",
       "    </tr>\n",
       "    <tr>\n",
       "      <th>Войсковицы</th>\n",
       "      <td>10</td>\n",
       "      <td>42371.3</td>\n",
       "    </tr>\n",
       "    <tr>\n",
       "      <th>Пансионат Зелёный Бор</th>\n",
       "      <td>2</td>\n",
       "      <td>42618.3</td>\n",
       "    </tr>\n",
       "    <tr>\n",
       "      <th>Поляны</th>\n",
       "      <td>6</td>\n",
       "      <td>42655.2</td>\n",
       "    </tr>\n",
       "    <tr>\n",
       "      <th>Копорье</th>\n",
       "      <td>4</td>\n",
       "      <td>42689.2</td>\n",
       "    </tr>\n",
       "    <tr>\n",
       "      <th>Новый Учхоз</th>\n",
       "      <td>6</td>\n",
       "      <td>42997.3</td>\n",
       "    </tr>\n",
       "    <tr>\n",
       "      <th>Лукаши</th>\n",
       "      <td>3</td>\n",
       "      <td>43055.6</td>\n",
       "    </tr>\n",
       "    <tr>\n",
       "      <th>Ненимяки</th>\n",
       "      <td>2</td>\n",
       "      <td>43976.4</td>\n",
       "    </tr>\n",
       "    <tr>\n",
       "      <th>Приладожский</th>\n",
       "      <td>10</td>\n",
       "      <td>44042.8</td>\n",
       "    </tr>\n",
       "    <tr>\n",
       "      <th>Луга</th>\n",
       "      <td>50</td>\n",
       "      <td>44174.2</td>\n",
       "    </tr>\n",
       "    <tr>\n",
       "      <th>Оржицы</th>\n",
       "      <td>9</td>\n",
       "      <td>44600.9</td>\n",
       "    </tr>\n",
       "    <tr>\n",
       "      <th>Кобринское</th>\n",
       "      <td>6</td>\n",
       "      <td>44665.9</td>\n",
       "    </tr>\n",
       "    <tr>\n",
       "      <th>Тарасово</th>\n",
       "      <td>2</td>\n",
       "      <td>44863.2</td>\n",
       "    </tr>\n",
       "    <tr>\n",
       "      <th>Ульяновка</th>\n",
       "      <td>13</td>\n",
       "      <td>44881.9</td>\n",
       "    </tr>\n",
       "    <tr>\n",
       "      <th>Пудомяги</th>\n",
       "      <td>6</td>\n",
       "      <td>45362.3</td>\n",
       "    </tr>\n",
       "    <tr>\n",
       "      <th>Рахья</th>\n",
       "      <td>16</td>\n",
       "      <td>46169.7</td>\n",
       "    </tr>\n",
       "    <tr>\n",
       "      <th>Новолисино</th>\n",
       "      <td>1</td>\n",
       "      <td>46848.4</td>\n",
       "    </tr>\n",
       "    <tr>\n",
       "      <th>Кингисепп</th>\n",
       "      <td>103</td>\n",
       "      <td>46875.0</td>\n",
       "    </tr>\n",
       "    <tr>\n",
       "      <th>Новый Свет</th>\n",
       "      <td>22</td>\n",
       "      <td>47065.0</td>\n",
       "    </tr>\n",
       "    <tr>\n",
       "      <th>Красный Бор</th>\n",
       "      <td>8</td>\n",
       "      <td>47272.9</td>\n",
       "    </tr>\n",
       "    <tr>\n",
       "      <th>Большие Колпаны</th>\n",
       "      <td>16</td>\n",
       "      <td>47291.3</td>\n",
       "    </tr>\n",
       "    <tr>\n",
       "      <th>Гарболово</th>\n",
       "      <td>17</td>\n",
       "      <td>47872.3</td>\n",
       "    </tr>\n",
       "    <tr>\n",
       "      <th>Синявино</th>\n",
       "      <td>20</td>\n",
       "      <td>48080.7</td>\n",
       "    </tr>\n",
       "    <tr>\n",
       "      <th>Сосново</th>\n",
       "      <td>18</td>\n",
       "      <td>48479.2</td>\n",
       "    </tr>\n",
       "    <tr>\n",
       "      <th>Снегирёвка</th>\n",
       "      <td>1</td>\n",
       "      <td>48575.3</td>\n",
       "    </tr>\n",
       "    <tr>\n",
       "      <th>Мичуринское</th>\n",
       "      <td>11</td>\n",
       "      <td>48642.5</td>\n",
       "    </tr>\n",
       "    <tr>\n",
       "      <th>Суоранда</th>\n",
       "      <td>1</td>\n",
       "      <td>48648.6</td>\n",
       "    </tr>\n",
       "    <tr>\n",
       "      <th>Ушаки</th>\n",
       "      <td>5</td>\n",
       "      <td>49000.0</td>\n",
       "    </tr>\n",
       "    <tr>\n",
       "      <th>Первомайское</th>\n",
       "      <td>8</td>\n",
       "      <td>49020.9</td>\n",
       "    </tr>\n",
       "    <tr>\n",
       "      <th>Гостилицы</th>\n",
       "      <td>11</td>\n",
       "      <td>49062.5</td>\n",
       "    </tr>\n",
       "    <tr>\n",
       "      <th>Пудость</th>\n",
       "      <td>9</td>\n",
       "      <td>49217.0</td>\n",
       "    </tr>\n",
       "    <tr>\n",
       "      <th>Лебяжье</th>\n",
       "      <td>15</td>\n",
       "      <td>49230.8</td>\n",
       "    </tr>\n",
       "    <tr>\n",
       "      <th>Разбегаево</th>\n",
       "      <td>4</td>\n",
       "      <td>49425.4</td>\n",
       "    </tr>\n",
       "    <tr>\n",
       "      <th>Дубровка</th>\n",
       "      <td>14</td>\n",
       "      <td>49752.5</td>\n",
       "    </tr>\n",
       "    <tr>\n",
       "      <th>Кипень</th>\n",
       "      <td>7</td>\n",
       "      <td>50000.0</td>\n",
       "    </tr>\n",
       "    <tr>\n",
       "      <th>Терволово</th>\n",
       "      <td>5</td>\n",
       "      <td>50000.0</td>\n",
       "    </tr>\n",
       "    <tr>\n",
       "      <th>Павлово</th>\n",
       "      <td>18</td>\n",
       "      <td>50642.4</td>\n",
       "    </tr>\n",
       "    <tr>\n",
       "      <th>Аро</th>\n",
       "      <td>3</td>\n",
       "      <td>50853.2</td>\n",
       "    </tr>\n",
       "    <tr>\n",
       "      <th>Келози</th>\n",
       "      <td>4</td>\n",
       "      <td>51102.7</td>\n",
       "    </tr>\n",
       "    <tr>\n",
       "      <th>Большая Ижора</th>\n",
       "      <td>17</td>\n",
       "      <td>51190.5</td>\n",
       "    </tr>\n",
       "    <tr>\n",
       "      <th>Лаврики</th>\n",
       "      <td>1</td>\n",
       "      <td>51551.5</td>\n",
       "    </tr>\n",
       "    <tr>\n",
       "      <th>имени Морозова</th>\n",
       "      <td>17</td>\n",
       "      <td>51565.4</td>\n",
       "    </tr>\n",
       "    <tr>\n",
       "      <th>Русско-Высоцкое</th>\n",
       "      <td>9</td>\n",
       "      <td>52060.7</td>\n",
       "    </tr>\n",
       "    <tr>\n",
       "      <th>Лесколово</th>\n",
       "      <td>20</td>\n",
       "      <td>52512.1</td>\n",
       "    </tr>\n",
       "    <tr>\n",
       "      <th>Жилгородок</th>\n",
       "      <td>3</td>\n",
       "      <td>52656.2</td>\n",
       "    </tr>\n",
       "    <tr>\n",
       "      <th>Глинка</th>\n",
       "      <td>2</td>\n",
       "      <td>52676.0</td>\n",
       "    </tr>\n",
       "    <tr>\n",
       "      <th>Лаголово</th>\n",
       "      <td>10</td>\n",
       "      <td>52847.4</td>\n",
       "    </tr>\n",
       "    <tr>\n",
       "      <th>Русско</th>\n",
       "      <td>1</td>\n",
       "      <td>53125.0</td>\n",
       "    </tr>\n",
       "    <tr>\n",
       "      <th>Пикколово</th>\n",
       "      <td>1</td>\n",
       "      <td>53250.3</td>\n",
       "    </tr>\n",
       "    <tr>\n",
       "      <th>Пеники</th>\n",
       "      <td>6</td>\n",
       "      <td>53692.7</td>\n",
       "    </tr>\n",
       "    <tr>\n",
       "      <th>Щеглово</th>\n",
       "      <td>23</td>\n",
       "      <td>53962.9</td>\n",
       "    </tr>\n",
       "    <tr>\n",
       "      <th>Романовка</th>\n",
       "      <td>36</td>\n",
       "      <td>55277.8</td>\n",
       "    </tr>\n",
       "    <tr>\n",
       "      <th>Никольское</th>\n",
       "      <td>85</td>\n",
       "      <td>55454.5</td>\n",
       "    </tr>\n",
       "    <tr>\n",
       "      <th>Форт Красная Горка</th>\n",
       "      <td>1</td>\n",
       "      <td>55749.1</td>\n",
       "    </tr>\n",
       "    <tr>\n",
       "      <th>Стеклянный</th>\n",
       "      <td>7</td>\n",
       "      <td>55873.9</td>\n",
       "    </tr>\n",
       "    <tr>\n",
       "      <th>Хапо-Ое</th>\n",
       "      <td>1</td>\n",
       "      <td>55882.4</td>\n",
       "    </tr>\n",
       "    <tr>\n",
       "      <th>Виллози</th>\n",
       "      <td>3</td>\n",
       "      <td>56085.9</td>\n",
       "    </tr>\n",
       "    <tr>\n",
       "      <th>Приветнинское</th>\n",
       "      <td>3</td>\n",
       "      <td>56144.1</td>\n",
       "    </tr>\n",
       "    <tr>\n",
       "      <th>Коммунар</th>\n",
       "      <td>83</td>\n",
       "      <td>56384.6</td>\n",
       "    </tr>\n",
       "    <tr>\n",
       "      <th>Форносово</th>\n",
       "      <td>4</td>\n",
       "      <td>56473.4</td>\n",
       "    </tr>\n",
       "    <tr>\n",
       "      <th>Углово</th>\n",
       "      <td>7</td>\n",
       "      <td>56527.6</td>\n",
       "    </tr>\n",
       "    <tr>\n",
       "      <th>Горбунки</th>\n",
       "      <td>15</td>\n",
       "      <td>56578.9</td>\n",
       "    </tr>\n",
       "    <tr>\n",
       "      <th>Войскорово</th>\n",
       "      <td>5</td>\n",
       "      <td>57142.9</td>\n",
       "    </tr>\n",
       "    <tr>\n",
       "      <th>Кировск</th>\n",
       "      <td>82</td>\n",
       "      <td>57593.4</td>\n",
       "    </tr>\n",
       "    <tr>\n",
       "      <th>Отрадное</th>\n",
       "      <td>77</td>\n",
       "      <td>57812.5</td>\n",
       "    </tr>\n",
       "    <tr>\n",
       "      <th>Вырица</th>\n",
       "      <td>17</td>\n",
       "      <td>57835.8</td>\n",
       "    </tr>\n",
       "    <tr>\n",
       "      <th>Разметелево</th>\n",
       "      <td>4</td>\n",
       "      <td>57863.5</td>\n",
       "    </tr>\n",
       "    <tr>\n",
       "      <th>Тосно</th>\n",
       "      <td>102</td>\n",
       "      <td>57977.3</td>\n",
       "    </tr>\n",
       "    <tr>\n",
       "      <th>Яльгелево</th>\n",
       "      <td>6</td>\n",
       "      <td>58079.6</td>\n",
       "    </tr>\n",
       "    <tr>\n",
       "      <th>Шлиссельбург</th>\n",
       "      <td>55</td>\n",
       "      <td>58108.1</td>\n",
       "    </tr>\n",
       "    <tr>\n",
       "      <th>Выборг</th>\n",
       "      <td>217</td>\n",
       "      <td>58407.1</td>\n",
       "    </tr>\n",
       "    <tr>\n",
       "      <th>Малое Верево</th>\n",
       "      <td>11</td>\n",
       "      <td>59490.1</td>\n",
       "    </tr>\n",
       "    <tr>\n",
       "      <th>Рощино</th>\n",
       "      <td>38</td>\n",
       "      <td>59610.7</td>\n",
       "    </tr>\n",
       "    <tr>\n",
       "      <th>Фёдоровское</th>\n",
       "      <td>15</td>\n",
       "      <td>59677.4</td>\n",
       "    </tr>\n",
       "    <tr>\n",
       "      <th>Вартемяги</th>\n",
       "      <td>20</td>\n",
       "      <td>60069.1</td>\n",
       "    </tr>\n",
       "    <tr>\n",
       "      <th>Тайцы</th>\n",
       "      <td>6</td>\n",
       "      <td>60204.7</td>\n",
       "    </tr>\n",
       "    <tr>\n",
       "      <th>Низино</th>\n",
       "      <td>10</td>\n",
       "      <td>60606.5</td>\n",
       "    </tr>\n",
       "    <tr>\n",
       "      <th>Ленинское</th>\n",
       "      <td>2</td>\n",
       "      <td>61012.8</td>\n",
       "    </tr>\n",
       "    <tr>\n",
       "      <th>имени Свердлова</th>\n",
       "      <td>36</td>\n",
       "      <td>61096.5</td>\n",
       "    </tr>\n",
       "    <tr>\n",
       "      <th>Лупполово</th>\n",
       "      <td>1</td>\n",
       "      <td>61366.3</td>\n",
       "    </tr>\n",
       "    <tr>\n",
       "      <th>Новогорелово</th>\n",
       "      <td>20</td>\n",
       "      <td>63240.7</td>\n",
       "    </tr>\n",
       "    <tr>\n",
       "      <th>Александровская</th>\n",
       "      <td>1</td>\n",
       "      <td>63559.3</td>\n",
       "    </tr>\n",
       "    <tr>\n",
       "      <th>Аннино</th>\n",
       "      <td>16</td>\n",
       "      <td>64103.1</td>\n",
       "    </tr>\n",
       "    <tr>\n",
       "      <th>Малые Колпаны</th>\n",
       "      <td>7</td>\n",
       "      <td>64320.4</td>\n",
       "    </tr>\n",
       "    <tr>\n",
       "      <th>Старая</th>\n",
       "      <td>64</td>\n",
       "      <td>64550.3</td>\n",
       "    </tr>\n",
       "    <tr>\n",
       "      <th>Счастье</th>\n",
       "      <td>1</td>\n",
       "      <td>64583.3</td>\n",
       "    </tr>\n",
       "    <tr>\n",
       "      <th>Колтуши</th>\n",
       "      <td>10</td>\n",
       "      <td>65026.3</td>\n",
       "    </tr>\n",
       "    <tr>\n",
       "      <th>Понтонный</th>\n",
       "      <td>20</td>\n",
       "      <td>65590.3</td>\n",
       "    </tr>\n",
       "    <tr>\n",
       "      <th>Сапёрный</th>\n",
       "      <td>6</td>\n",
       "      <td>65781.0</td>\n",
       "    </tr>\n",
       "    <tr>\n",
       "      <th>Всеволожск</th>\n",
       "      <td>388</td>\n",
       "      <td>65789.5</td>\n",
       "    </tr>\n",
       "    <tr>\n",
       "      <th>Усть-Ижора</th>\n",
       "      <td>2</td>\n",
       "      <td>65935.7</td>\n",
       "    </tr>\n",
       "    <tr>\n",
       "      <th>Белоостров</th>\n",
       "      <td>1</td>\n",
       "      <td>66666.7</td>\n",
       "    </tr>\n",
       "    <tr>\n",
       "      <th>Старая Пустошь</th>\n",
       "      <td>2</td>\n",
       "      <td>67205.9</td>\n",
       "    </tr>\n",
       "    <tr>\n",
       "      <th>Янино-1</th>\n",
       "      <td>67</td>\n",
       "      <td>67245.3</td>\n",
       "    </tr>\n",
       "    <tr>\n",
       "      <th>Малое Карлино</th>\n",
       "      <td>9</td>\n",
       "      <td>67506.3</td>\n",
       "    </tr>\n",
       "    <tr>\n",
       "      <th>Сертолово</th>\n",
       "      <td>136</td>\n",
       "      <td>67520.0</td>\n",
       "    </tr>\n",
       "    <tr>\n",
       "      <th>Гатчина</th>\n",
       "      <td>302</td>\n",
       "      <td>67860.6</td>\n",
       "    </tr>\n",
       "    <tr>\n",
       "      <th>Куттузи</th>\n",
       "      <td>6</td>\n",
       "      <td>68815.1</td>\n",
       "    </tr>\n",
       "    <tr>\n",
       "      <th>Рапполово</th>\n",
       "      <td>1</td>\n",
       "      <td>70000.0</td>\n",
       "    </tr>\n",
       "    <tr>\n",
       "      <th>Ломоносов</th>\n",
       "      <td>16</td>\n",
       "      <td>70347.0</td>\n",
       "    </tr>\n",
       "    <tr>\n",
       "      <th>Кузьмоловский</th>\n",
       "      <td>35</td>\n",
       "      <td>70503.6</td>\n",
       "    </tr>\n",
       "    <tr>\n",
       "      <th>Красное Село</th>\n",
       "      <td>173</td>\n",
       "      <td>71823.2</td>\n",
       "    </tr>\n",
       "    <tr>\n",
       "      <th>Новоселье</th>\n",
       "      <td>27</td>\n",
       "      <td>71981.4</td>\n",
       "    </tr>\n",
       "    <tr>\n",
       "      <th>Заневка</th>\n",
       "      <td>6</td>\n",
       "      <td>72769.5</td>\n",
       "    </tr>\n",
       "    <tr>\n",
       "      <th>Тельмана</th>\n",
       "      <td>40</td>\n",
       "      <td>73006.4</td>\n",
       "    </tr>\n",
       "    <tr>\n",
       "      <th>Кузьмолово</th>\n",
       "      <td>7</td>\n",
       "      <td>73026.3</td>\n",
       "    </tr>\n",
       "    <tr>\n",
       "      <th>Ильичёво</th>\n",
       "      <td>7</td>\n",
       "      <td>73255.8</td>\n",
       "    </tr>\n",
       "    <tr>\n",
       "      <th>Петро-Славянка</th>\n",
       "      <td>1</td>\n",
       "      <td>73333.3</td>\n",
       "    </tr>\n",
       "    <tr>\n",
       "      <th>Агалатово</th>\n",
       "      <td>4</td>\n",
       "      <td>73665.7</td>\n",
       "    </tr>\n",
       "    <tr>\n",
       "      <th>Металлострой</th>\n",
       "      <td>63</td>\n",
       "      <td>73732.7</td>\n",
       "    </tr>\n",
       "    <tr>\n",
       "      <th>Токсово</th>\n",
       "      <td>19</td>\n",
       "      <td>73809.5</td>\n",
       "    </tr>\n",
       "    <tr>\n",
       "      <th>Новое Девяткино</th>\n",
       "      <td>140</td>\n",
       "      <td>73913.0</td>\n",
       "    </tr>\n",
       "    <tr>\n",
       "      <th>Кальтино</th>\n",
       "      <td>7</td>\n",
       "      <td>74133.7</td>\n",
       "    </tr>\n",
       "    <tr>\n",
       "      <th>Сосновый Бор</th>\n",
       "      <td>84</td>\n",
       "      <td>74209.1</td>\n",
       "    </tr>\n",
       "    <tr>\n",
       "      <th>Колпино</th>\n",
       "      <td>330</td>\n",
       "      <td>74689.9</td>\n",
       "    </tr>\n",
       "    <tr>\n",
       "      <th>Старое Хинколово</th>\n",
       "      <td>1</td>\n",
       "      <td>76470.6</td>\n",
       "    </tr>\n",
       "    <tr>\n",
       "      <th>Шушары</th>\n",
       "      <td>426</td>\n",
       "      <td>76573.5</td>\n",
       "    </tr>\n",
       "    <tr>\n",
       "      <th>Песочный</th>\n",
       "      <td>4</td>\n",
       "      <td>78627.9</td>\n",
       "    </tr>\n",
       "    <tr>\n",
       "      <th>Юкки</th>\n",
       "      <td>5</td>\n",
       "      <td>79185.5</td>\n",
       "    </tr>\n",
       "    <tr>\n",
       "      <th>Бугры</th>\n",
       "      <td>106</td>\n",
       "      <td>80082.4</td>\n",
       "    </tr>\n",
       "    <tr>\n",
       "      <th>Новая Ропша</th>\n",
       "      <td>1</td>\n",
       "      <td>81081.1</td>\n",
       "    </tr>\n",
       "    <tr>\n",
       "      <th>Кронштадт</th>\n",
       "      <td>59</td>\n",
       "      <td>81818.2</td>\n",
       "    </tr>\n",
       "    <tr>\n",
       "      <th>Петергоф</th>\n",
       "      <td>196</td>\n",
       "      <td>82182.5</td>\n",
       "    </tr>\n",
       "    <tr>\n",
       "      <th>Мурино</th>\n",
       "      <td>544</td>\n",
       "      <td>84255.7</td>\n",
       "    </tr>\n",
       "    <tr>\n",
       "      <th>Павловск</th>\n",
       "      <td>34</td>\n",
       "      <td>85584.4</td>\n",
       "    </tr>\n",
       "    <tr>\n",
       "      <th>Репино</th>\n",
       "      <td>4</td>\n",
       "      <td>86542.2</td>\n",
       "    </tr>\n",
       "    <tr>\n",
       "      <th>Стрельна</th>\n",
       "      <td>42</td>\n",
       "      <td>87988.6</td>\n",
       "    </tr>\n",
       "    <tr>\n",
       "      <th>Мистолово</th>\n",
       "      <td>11</td>\n",
       "      <td>90888.9</td>\n",
       "    </tr>\n",
       "    <tr>\n",
       "      <th>Парголово</th>\n",
       "      <td>320</td>\n",
       "      <td>91579.7</td>\n",
       "    </tr>\n",
       "    <tr>\n",
       "      <th>Кудрово</th>\n",
       "      <td>435</td>\n",
       "      <td>94972.1</td>\n",
       "    </tr>\n",
       "    <tr>\n",
       "      <th>Левашово</th>\n",
       "      <td>1</td>\n",
       "      <td>96997.7</td>\n",
       "    </tr>\n",
       "    <tr>\n",
       "      <th>Сестрорецк</th>\n",
       "      <td>179</td>\n",
       "      <td>99759.6</td>\n",
       "    </tr>\n",
       "    <tr>\n",
       "      <th>Пушкин</th>\n",
       "      <td>352</td>\n",
       "      <td>99865.7</td>\n",
       "    </tr>\n",
       "    <tr>\n",
       "      <th>Санкт-Петербург</th>\n",
       "      <td>14627</td>\n",
       "      <td>103921.6</td>\n",
       "    </tr>\n",
       "    <tr>\n",
       "      <th>Лисий Нос</th>\n",
       "      <td>2</td>\n",
       "      <td>113728.3</td>\n",
       "    </tr>\n",
       "  </tbody>\n",
       "</table>\n",
       "</div>"
      ],
      "text/plain": [
       "                         count   median\n",
       "clean_locality_name                    \n",
       "Житково                      1  15648.3\n",
       "Сланцы                      29  19230.8\n",
       "Никольский                   3  19298.2\n",
       "Бокситогорск                 2  19600.1\n",
       "Лесогорский                  5  19833.3\n",
       "Оредеж                       1  19877.7\n",
       "Торковичи                    3  20458.9\n",
       "Пикалёво                     7  20905.9\n",
       "Кисельня                     1  20909.1\n",
       "Плоское                      1  20912.5\n",
       "Алексеевка                   1  22222.2\n",
       "Лесная Поляна                1  22580.6\n",
       "Куровицы                     1  22593.3\n",
       "Пижма                        1  22641.5\n",
       "Важины                       3  23706.9\n",
       "Мануйлово                    1  24477.0\n",
       "Котлы                        1  24886.9\n",
       "Сумино                       2  24979.8\n",
       "Коммунары                    1  25139.7\n",
       "Платформа 69-й километр      1  25616.7\n",
       "Рабитицы                     3  26073.6\n",
       "Каложицы                     1  26715.7\n",
       "Пчева                        1  26829.3\n",
       "Извара                       5  27027.0\n",
       "Кузнечное                   10  27303.5\n",
       "Шпаньково                    1  27352.9\n",
       "Каменногорск                12  27412.7\n",
       "Красносельское               1  27419.4\n",
       "Паша                         1  27627.1\n",
       "Свирьстрой                   1  27692.3\n",
       "Подпорожье                  16  27907.0\n",
       "Большая Пустомержа           1  28037.4\n",
       "Лодейное Поле               19  28448.3\n",
       "Глажево                      3  28571.4\n",
       "Возрождение                  3  28708.1\n",
       "Меньково                     1  28828.8\n",
       "Гаврилово                    4  28833.1\n",
       "Громово                      5  28888.9\n",
       "Суйда                        4  29155.4\n",
       "Торосово                     2  29245.7\n",
       "Дружная Горка                5  29268.3\n",
       "Батово                       9  29411.8\n",
       "Зимитицы                     4  30330.7\n",
       "Борисова Грива               1  30470.9\n",
       "Старая Малукса               4  30482.5\n",
       "Большая Вруда                3  30526.3\n",
       "Победа                       5  30612.2\n",
       "Мыза-Ивановка                1  30694.7\n",
       "Гладкое                      1  30769.2\n",
       "Заклинье                     3  30821.9\n",
       "Кингисеппский                2  31109.8\n",
       "Сапёрное                     2  31146.0\n",
       "Лампово                      6  31547.5\n",
       "Ивангород                   23  31645.6\n",
       "Плодовое                     3  31818.2\n",
       "Барышево                     2  31841.2\n",
       "Назия                       17  31847.1\n",
       "Красная Долина               2  32110.9\n",
       "Садко                        1  32142.9\n",
       "Вознесенье                   2  32222.4\n",
       "Елизаветино                 12  32299.1\n",
       "Жилпосёлок                   1  32480.3\n",
       "Камышовка                    2  32569.3\n",
       "Раздолье                     1  32812.5\n",
       "Тойворово                    1  33009.7\n",
       "Кирпичное                    1  33105.0\n",
       "Старосиверская               2  33291.4\n",
       "Рябово                       3  33422.5\n",
       "Дзержинского                 1  33439.5\n",
       "Лопухинка                    6  33470.1\n",
       "Кикерино                     4  33660.2\n",
       "Цвелодубово                  4  33675.0\n",
       "Починок                      2  33879.5\n",
       "Шум                          1  33898.3\n",
       "Высоцк                       4  34005.7\n",
       "Старая Ладога                2  34697.0\n",
       "Иссад                        1  34848.5\n",
       "Котельский                   2  34896.1\n",
       "Высокоключевой               1  34931.5\n",
       "Суходолье                    8  35059.4\n",
       "Вещево                       2  35100.2\n",
       "Сясьстрой                   23  35185.2\n",
       "Белогорка                    9  35185.2\n",
       "Волхов                     108  35187.8\n",
       "Старые Бегуницы              2  35350.3\n",
       "Любань                      10  35404.1\n",
       "Семиозерье                   1  35714.3\n",
       "Перово                       4  35808.4\n",
       "Глебычево                    3  35830.6\n",
       "Заводской                    3  35869.6\n",
       "Рождествено                  3  35897.4\n",
       "Сяськелево                  10  36073.6\n",
       "Ропша                        1  36111.1\n",
       "Мельниково                   5  36274.5\n",
       "Калитино                     6  36325.3\n",
       "Кивеннапа Север              1  36363.6\n",
       "Усть-Луга                    5  36363.6\n",
       "Светогорск                  10  36515.0\n",
       "Кривко                       1  36619.7\n",
       "Коробицыно                   2  36770.8\n",
       "Каськово                     1  37000.0\n",
       "Трубников Бор                1  37523.5\n",
       "Нурма                        9  37610.6\n",
       "Новая Ладога                13  37735.8\n",
       "Пушное                       2  37835.4\n",
       "Пригородный                  3  37837.8\n",
       "Терпилицы                    1  38025.9\n",
       "Кириши                     120  38160.4\n",
       "Будогощь                     3  38235.3\n",
       "Лесное                       3  38356.2\n",
       "Большое Рейзино              1  38709.7\n",
       "Бегуницы                    17  38793.1\n",
       "Реброво                      1  39237.7\n",
       "Запорожское                  8  39314.2\n",
       "Мга                         32  39493.2\n",
       "Кобралово                    9  39814.8\n",
       "Нижние Осельки               1  39864.9\n",
       "Волосово                    36  39906.3\n",
       "Путилово                     2  39921.8\n",
       "Тихвин                      48  40227.8\n",
       "Приозерск                   66  40364.0\n",
       "Торфяное                     4  40372.3\n",
       "Ваганово                     3  40493.0\n",
       "Парицы                       4  40774.5\n",
       "Нижняя                       1  40816.3\n",
       "Приморск                     8  40833.3\n",
       "Мины                         2  41005.3\n",
       "Молодцово                    9  41025.6\n",
       "Семрино                      5  41095.9\n",
       "Гончарово                    1  41371.2\n",
       "Дружноселье                  1  41379.3\n",
       "Петровское                   5  41666.7\n",
       "Сельцо                       9  41666.7\n",
       "Селезнёво                    5  41964.3\n",
       "Советский                   11  42253.5\n",
       "Сиверский                   29  42361.1\n",
       "Войсковицы                  10  42371.3\n",
       "Пансионат Зелёный Бор        2  42618.3\n",
       "Поляны                       6  42655.2\n",
       "Копорье                      4  42689.2\n",
       "Новый Учхоз                  6  42997.3\n",
       "Лукаши                       3  43055.6\n",
       "Ненимяки                     2  43976.4\n",
       "Приладожский                10  44042.8\n",
       "Луга                        50  44174.2\n",
       "Оржицы                       9  44600.9\n",
       "Кобринское                   6  44665.9\n",
       "Тарасово                     2  44863.2\n",
       "Ульяновка                   13  44881.9\n",
       "Пудомяги                     6  45362.3\n",
       "Рахья                       16  46169.7\n",
       "Новолисино                   1  46848.4\n",
       "Кингисепп                  103  46875.0\n",
       "Новый Свет                  22  47065.0\n",
       "Красный Бор                  8  47272.9\n",
       "Большие Колпаны             16  47291.3\n",
       "Гарболово                   17  47872.3\n",
       "Синявино                    20  48080.7\n",
       "Сосново                     18  48479.2\n",
       "Снегирёвка                   1  48575.3\n",
       "Мичуринское                 11  48642.5\n",
       "Суоранда                     1  48648.6\n",
       "Ушаки                        5  49000.0\n",
       "Первомайское                 8  49020.9\n",
       "Гостилицы                   11  49062.5\n",
       "Пудость                      9  49217.0\n",
       "Лебяжье                     15  49230.8\n",
       "Разбегаево                   4  49425.4\n",
       "Дубровка                    14  49752.5\n",
       "Кипень                       7  50000.0\n",
       "Терволово                    5  50000.0\n",
       "Павлово                     18  50642.4\n",
       "Аро                          3  50853.2\n",
       "Келози                       4  51102.7\n",
       "Большая Ижора               17  51190.5\n",
       "Лаврики                      1  51551.5\n",
       "имени Морозова              17  51565.4\n",
       "Русско-Высоцкое              9  52060.7\n",
       "Лесколово                   20  52512.1\n",
       "Жилгородок                   3  52656.2\n",
       "Глинка                       2  52676.0\n",
       "Лаголово                    10  52847.4\n",
       "Русско                       1  53125.0\n",
       "Пикколово                    1  53250.3\n",
       "Пеники                       6  53692.7\n",
       "Щеглово                     23  53962.9\n",
       "Романовка                   36  55277.8\n",
       "Никольское                  85  55454.5\n",
       "Форт Красная Горка           1  55749.1\n",
       "Стеклянный                   7  55873.9\n",
       "Хапо-Ое                      1  55882.4\n",
       "Виллози                      3  56085.9\n",
       "Приветнинское                3  56144.1\n",
       "Коммунар                    83  56384.6\n",
       "Форносово                    4  56473.4\n",
       "Углово                       7  56527.6\n",
       "Горбунки                    15  56578.9\n",
       "Войскорово                   5  57142.9\n",
       "Кировск                     82  57593.4\n",
       "Отрадное                    77  57812.5\n",
       "Вырица                      17  57835.8\n",
       "Разметелево                  4  57863.5\n",
       "Тосно                      102  57977.3\n",
       "Яльгелево                    6  58079.6\n",
       "Шлиссельбург                55  58108.1\n",
       "Выборг                     217  58407.1\n",
       "Малое Верево                11  59490.1\n",
       "Рощино                      38  59610.7\n",
       "Фёдоровское                 15  59677.4\n",
       "Вартемяги                   20  60069.1\n",
       "Тайцы                        6  60204.7\n",
       "Низино                      10  60606.5\n",
       "Ленинское                    2  61012.8\n",
       "имени Свердлова             36  61096.5\n",
       "Лупполово                    1  61366.3\n",
       "Новогорелово                20  63240.7\n",
       "Александровская              1  63559.3\n",
       "Аннино                      16  64103.1\n",
       "Малые Колпаны                7  64320.4\n",
       "Старая                      64  64550.3\n",
       "Счастье                      1  64583.3\n",
       "Колтуши                     10  65026.3\n",
       "Понтонный                   20  65590.3\n",
       "Сапёрный                     6  65781.0\n",
       "Всеволожск                 388  65789.5\n",
       "Усть-Ижора                   2  65935.7\n",
       "Белоостров                   1  66666.7\n",
       "Старая Пустошь               2  67205.9\n",
       "Янино-1                     67  67245.3\n",
       "Малое Карлино                9  67506.3\n",
       "Сертолово                  136  67520.0\n",
       "Гатчина                    302  67860.6\n",
       "Куттузи                      6  68815.1\n",
       "Рапполово                    1  70000.0\n",
       "Ломоносов                   16  70347.0\n",
       "Кузьмоловский               35  70503.6\n",
       "Красное Село               173  71823.2\n",
       "Новоселье                   27  71981.4\n",
       "Заневка                      6  72769.5\n",
       "Тельмана                    40  73006.4\n",
       "Кузьмолово                   7  73026.3\n",
       "Ильичёво                     7  73255.8\n",
       "Петро-Славянка               1  73333.3\n",
       "Агалатово                    4  73665.7\n",
       "Металлострой                63  73732.7\n",
       "Токсово                     19  73809.5\n",
       "Новое Девяткино            140  73913.0\n",
       "Кальтино                     7  74133.7\n",
       "Сосновый Бор                84  74209.1\n",
       "Колпино                    330  74689.9\n",
       "Старое Хинколово             1  76470.6\n",
       "Шушары                     426  76573.5\n",
       "Песочный                     4  78627.9\n",
       "Юкки                         5  79185.5\n",
       "Бугры                      106  80082.4\n",
       "Новая Ропша                  1  81081.1\n",
       "Кронштадт                   59  81818.2\n",
       "Петергоф                   196  82182.5\n",
       "Мурино                     544  84255.7\n",
       "Павловск                    34  85584.4\n",
       "Репино                       4  86542.2\n",
       "Стрельна                    42  87988.6\n",
       "Мистолово                   11  90888.9\n",
       "Парголово                  320  91579.7\n",
       "Кудрово                    435  94972.1\n",
       "Левашово                     1  96997.7\n",
       "Сестрорецк                 179  99759.6\n",
       "Пушкин                     352  99865.7\n",
       "Санкт-Петербург          14627 103921.6\n",
       "Лисий Нос                    2 113728.3"
      ]
     },
     "execution_count": 96,
     "metadata": {},
     "output_type": "execute_result"
    }
   ],
   "source": [
    "df.groupby('clean_locality_name')['price_per_meter'].agg(['count','median']).sort_values('median')"
   ]
  },
  {
   "cell_type": "markdown",
   "metadata": {},
   "source": [
    "Если не брать во внимание населённые пункты где количество единичные объявления то самая высокая медианная стоимость квадратного метра в Санкт-Петербурге, а самая низкая - поселке Понтонный."
   ]
  },
  {
   "cell_type": "markdown",
   "metadata": {},
   "source": [
    "**4.5. Зависимость цены от расстояния до центра по г.Санкт-Петербург**"
   ]
  },
  {
   "cell_type": "code",
   "execution_count": 97,
   "metadata": {
    "scrolled": true
   },
   "outputs": [
    {
     "data": {
      "text/html": [
       "<div>\n",
       "<style scoped>\n",
       "    .dataframe tbody tr th:only-of-type {\n",
       "        vertical-align: middle;\n",
       "    }\n",
       "\n",
       "    .dataframe tbody tr th {\n",
       "        vertical-align: top;\n",
       "    }\n",
       "\n",
       "    .dataframe thead th {\n",
       "        text-align: right;\n",
       "    }\n",
       "</style>\n",
       "<table border=\"1\" class=\"dataframe\">\n",
       "  <thead>\n",
       "    <tr style=\"text-align: right;\">\n",
       "      <th></th>\n",
       "      <th>count</th>\n",
       "      <th>median</th>\n",
       "    </tr>\n",
       "    <tr>\n",
       "      <th>distance_km</th>\n",
       "      <th></th>\n",
       "      <th></th>\n",
       "    </tr>\n",
       "  </thead>\n",
       "  <tbody>\n",
       "    <tr>\n",
       "      <th>0</th>\n",
       "      <td>100</td>\n",
       "      <td>119546.2</td>\n",
       "    </tr>\n",
       "    <tr>\n",
       "      <th>1</th>\n",
       "      <td>177</td>\n",
       "      <td>117449.7</td>\n",
       "    </tr>\n",
       "    <tr>\n",
       "      <th>2</th>\n",
       "      <td>217</td>\n",
       "      <td>112195.1</td>\n",
       "    </tr>\n",
       "    <tr>\n",
       "      <th>3</th>\n",
       "      <td>441</td>\n",
       "      <td>108214.3</td>\n",
       "    </tr>\n",
       "    <tr>\n",
       "      <th>4</th>\n",
       "      <td>734</td>\n",
       "      <td>124732.2</td>\n",
       "    </tr>\n",
       "    <tr>\n",
       "      <th>5</th>\n",
       "      <td>615</td>\n",
       "      <td>122881.4</td>\n",
       "    </tr>\n",
       "    <tr>\n",
       "      <th>6</th>\n",
       "      <td>403</td>\n",
       "      <td>126847.3</td>\n",
       "    </tr>\n",
       "    <tr>\n",
       "      <th>7</th>\n",
       "      <td>362</td>\n",
       "      <td>122858.2</td>\n",
       "    </tr>\n",
       "    <tr>\n",
       "      <th>8</th>\n",
       "      <td>634</td>\n",
       "      <td>112903.2</td>\n",
       "    </tr>\n",
       "    <tr>\n",
       "      <th>9</th>\n",
       "      <td>661</td>\n",
       "      <td>105312.5</td>\n",
       "    </tr>\n",
       "    <tr>\n",
       "      <th>10</th>\n",
       "      <td>884</td>\n",
       "      <td>105064.1</td>\n",
       "    </tr>\n",
       "    <tr>\n",
       "      <th>11</th>\n",
       "      <td>1355</td>\n",
       "      <td>103202.0</td>\n",
       "    </tr>\n",
       "    <tr>\n",
       "      <th>12</th>\n",
       "      <td>1480</td>\n",
       "      <td>104007.2</td>\n",
       "    </tr>\n",
       "    <tr>\n",
       "      <th>13</th>\n",
       "      <td>1370</td>\n",
       "      <td>104016.1</td>\n",
       "    </tr>\n",
       "    <tr>\n",
       "      <th>14</th>\n",
       "      <td>1477</td>\n",
       "      <td>102381.0</td>\n",
       "    </tr>\n",
       "    <tr>\n",
       "      <th>15</th>\n",
       "      <td>1340</td>\n",
       "      <td>98543.6</td>\n",
       "    </tr>\n",
       "    <tr>\n",
       "      <th>16</th>\n",
       "      <td>1075</td>\n",
       "      <td>97619.0</td>\n",
       "    </tr>\n",
       "    <tr>\n",
       "      <th>17</th>\n",
       "      <td>504</td>\n",
       "      <td>91901.6</td>\n",
       "    </tr>\n",
       "    <tr>\n",
       "      <th>18</th>\n",
       "      <td>168</td>\n",
       "      <td>93208.8</td>\n",
       "    </tr>\n",
       "    <tr>\n",
       "      <th>19</th>\n",
       "      <td>80</td>\n",
       "      <td>92977.9</td>\n",
       "    </tr>\n",
       "    <tr>\n",
       "      <th>20</th>\n",
       "      <td>80</td>\n",
       "      <td>106157.8</td>\n",
       "    </tr>\n",
       "    <tr>\n",
       "      <th>21</th>\n",
       "      <td>193</td>\n",
       "      <td>88753.0</td>\n",
       "    </tr>\n",
       "    <tr>\n",
       "      <th>22</th>\n",
       "      <td>135</td>\n",
       "      <td>84883.7</td>\n",
       "    </tr>\n",
       "    <tr>\n",
       "      <th>23</th>\n",
       "      <td>30</td>\n",
       "      <td>90590.8</td>\n",
       "    </tr>\n",
       "    <tr>\n",
       "      <th>24</th>\n",
       "      <td>22</td>\n",
       "      <td>86133.0</td>\n",
       "    </tr>\n",
       "    <tr>\n",
       "      <th>25</th>\n",
       "      <td>73</td>\n",
       "      <td>90163.9</td>\n",
       "    </tr>\n",
       "    <tr>\n",
       "      <th>28</th>\n",
       "      <td>10</td>\n",
       "      <td>79631.2</td>\n",
       "    </tr>\n",
       "  </tbody>\n",
       "</table>\n",
       "</div>"
      ],
      "text/plain": [
       "             count   median\n",
       "distance_km                \n",
       "0              100 119546.2\n",
       "1              177 117449.7\n",
       "2              217 112195.1\n",
       "3              441 108214.3\n",
       "4              734 124732.2\n",
       "5              615 122881.4\n",
       "6              403 126847.3\n",
       "7              362 122858.2\n",
       "8              634 112903.2\n",
       "9              661 105312.5\n",
       "10             884 105064.1\n",
       "11            1355 103202.0\n",
       "12            1480 104007.2\n",
       "13            1370 104016.1\n",
       "14            1477 102381.0\n",
       "15            1340  98543.6\n",
       "16            1075  97619.0\n",
       "17             504  91901.6\n",
       "18             168  93208.8\n",
       "19              80  92977.9\n",
       "20              80 106157.8\n",
       "21             193  88753.0\n",
       "22             135  84883.7\n",
       "23              30  90590.8\n",
       "24              22  86133.0\n",
       "25              73  90163.9\n",
       "28              10  79631.2"
      ]
     },
     "execution_count": 97,
     "metadata": {},
     "output_type": "execute_result"
    }
   ],
   "source": [
    "q = df[df['clean_locality_name']=='Санкт-Петербург'].groupby('distance_km')['price_per_meter'].agg(['count','median'])\n",
    "q[q['count']>5]"
   ]
  },
  {
   "cell_type": "code",
   "execution_count": 98,
   "metadata": {
    "scrolled": true
   },
   "outputs": [
    {
     "data": {
      "text/plain": [
       "<AxesSubplot:xlabel='distance_km'>"
      ]
     },
     "execution_count": 98,
     "metadata": {},
     "output_type": "execute_result"
    },
    {
     "data": {
      "image/png": "[encoded data removed]",
      "text/plain": [
       "<Figure size 432x288 with 1 Axes>"
      ]
     },
     "metadata": {
      "needs_background": "light"
     },
     "output_type": "display_data"
    }
   ],
   "source": [
    "q.plot(kind='bar', y='median', use_index=True, legend=True) #График зависимости стоимости кв.метра от расстояния по г.Санкт-Петербург"
   ]
  },
  {
   "cell_type": "markdown",
   "metadata": {},
   "source": [
    "С удалением от центра наблюдается снижение стоимости кв.метра жилья, но из правила есть исключения, скорее всего эти аномалии связаны с районами элитной недвижимости, и с неблагополучными районами."
   ]
  },
  {
   "cell_type": "markdown",
   "metadata": {},
   "source": [
    "<div class=\"alert alert-block alert-warning\">\n",
    " \n",
    "### Комментарий ревьюера\n",
    "    \n",
    "#### Совет\n",
    "    \n",
    "Как думаешь, а каким километражом ограничивается центр города? \n",
    "</div "
   ]
  },
  {
   "cell_type": "markdown",
   "metadata": {},
   "source": [
    "**<font color=\"maroon\">Судя по графику зависимости цены квартир от расстояния от центра, вернее по резкому падению цены на рубеже 8-9 км, центр города ограничивается 8-ми километрами. Хотя непонятно тогда что за провал на 3 километрах. Я не был и не знаком с Питером, но могу предположить, что этот провал связан с низким спросом на на жильё на островах в центре города. В 27 километрах от центра видимо есть скопление супердорогих квартир.</font>**"
   ]
  },
  {
   "cell_type": "markdown",
   "metadata": {},
   "source": [
    "### Общий вывод"
   ]
  },
  {
   "cell_type": "markdown",
   "metadata": {},
   "source": [
    "Средний (медианный) объект выглядит так:\n",
    "2-х комнатная квартира, с высотой потолков 2,6 м, общей площадью 51,5 кв.м., расположена на 5 этаже девяти этажного дома.\n",
    "Расположена наша средняя квартира в 13 км от центра, в 27 км от аэропорта, и всего в 450 метрах от ближайшего парка.\n",
    "- Медианная стоимость квартиры по выборке - 4,6 млн\n",
    "- Медианный срок продажи по выборке - 3 мес\n",
    "\n",
    "- Чем больше общая_площадь/жилая площадь/площадь_кухни тем квартира дороже\n",
    "- На первом и последнем этажах квартиры несколько дешевле чем на промежуточных этажах\n",
    "- Чем больше комнат в квартире тем она дороже\n",
    "- Чем дальше от центра тем дешевле, но есть исключения\n",
    "- В пригородных населённых пунктах цена кв.метра ниже чем в Санкт-Петербурге\n",
    "- **<font color=\"maroon\">С 2014 по 2016 наблюдался значительное снижение стоимости квартир.</font>**\n",
    "\n",
    "**<font color=\"maroon\">Рекомендации:</font>**\n",
    "В данных много пропусков в картографических данных. Чтобы в будущем минимизировать эти пропуски в данных, с целью повышения качества анализа, я бы рекомендовал использовать данные геолокации, по возможности.\n",
    "Чтобы избежать пропусков в графе высота потолка можно добавить для пользователей галочку \"стандартная высота потолка\".\n",
    "Чтобы избежать пропусков в графе is_apartment можно было бы добавить подсказку пользователям, что считается апратаментами. Я, например, не знаю что такое апартаменты. Я, конечно, погуглил в яндексе, но всё равно каша в голове по этой теме.\n",
    "Что касается колонок площадь кухни, количество балконов, то так же можно было бы добавить галочку \"без кухни\", \"совмещённая кухня\", \"без балкона\"."
   ]
  },
  {
   "cell_type": "markdown",
   "metadata": {},
   "source": [
    "**<font color=\"maroon\">Спасибо, Вячеслав! За подсказки, наводящие вопросы, и похвалу, это подбадривает</font>**"
   ]
  },
  {
   "cell_type": "markdown",
   "metadata": {},
   "source": [
    "<div class=\"alert alert-block alert-success\">\n",
    " \n",
    "# Комментарий ревьюера ver.2\n",
    "    \n",
    "#### Успех\n",
    "    \n",
    "Ты это заслуижл. \n",
    "</div "
   ]
  },
  {
   "cell_type": "markdown",
   "metadata": {},
   "source": [
    "<div class=\"alert alert-block alert-danger\">\n",
    " \n",
    "### Комментарий ревьюера\n",
    "    \n",
    "#### Ошибка\n",
    "    \n",
    "В целом, вывод хороший и информативный получился. Надо бы добавить рекомендации и пару слов о пропусках. Что мы можем сделать, чтобы минимизировать их в дальнейшем? \n",
    "</div "
   ]
  },
  {
   "cell_type": "markdown",
   "metadata": {},
   "source": [
    "<div class=\"alert alert-block alert-info\">\n",
    " \n",
    "### Итоговый комментарий ревьюера\n",
    "    \n",
    "#### Успех\n",
    "    \n",
    "Спасибо тебе за проделанную работу. У тебя, определенно, есть хорошая база, при помощи который ты здорово справился с работой. Отдельно хочу похвалить за работу с Исследовательским анализом. Отдельного внимания заслуживает раздел, где ты проходишься по каждому столбцу и смотришь выбивающиесчя значения. А еще классный вывод получился, только надо чуть дополнить.\n",
    "    \n",
    "Но в работе есть замечания, которые надо будет поправить: \n",
    "    \n",
    "* Добавить предположения по поводу пропусков.\n",
    "* Оставить в проекте больше данных и подправить выводы. \n",
    "* Убрать подсчет коррелиции от времени размещения.\n",
    "* Дополнить вывод.\n",
    "  \n",
    "    \n",
    "А еще, я оставил в работе рекомендации. Надеюсь, они тебе помогут в дальнейшем.\n",
    "    \n",
    "Буду ждать проект после доработок. Удачи. \n",
    "</div "
   ]
  },
  {
   "cell_type": "markdown",
   "metadata": {},
   "source": [
    "**Чек-лист готовности проекта**\n",
    "\n",
    "Поставьте 'x' в выполненных пунктах. Далее нажмите Shift+Enter."
   ]
  },
  {
   "cell_type": "markdown",
   "metadata": {},
   "source": [
    "- [x]  открыт файл\n",
    "- [x]  файлы изучены (выведены первые строки, метод `info()`, гистограммы и т.д.)\n",
    "- [x]  определены пропущенные значения\n",
    "- [x]  заполнены пропущенные значения там, где это возможно\n",
    "- [x]  есть пояснение, какие пропущенные значения обнаружены\n",
    "- [x]  изменены типы данных\n",
    "- [x]  есть пояснение, в каких столбцах изменены типы и почему\n",
    "- [x]  устранены неявные дубликаты в названиях населённых пунктов\n",
    "- [x]  устранены редкие и выбивающиеся значения (аномалии) во всех столбцах\n",
    "- [x]  посчитано и добавлено в таблицу: цена одного квадратного метра\n",
    "- [x]  посчитано и добавлено в таблицу: день публикации объявления (0 - понедельник, 1 - вторник и т.д.)\n",
    "- [x]  посчитано и добавлено в таблицу: месяц публикации объявления\n",
    "- [x]  посчитано и добавлено в таблицу: год публикации объявления\n",
    "- [x]  посчитано и добавлено в таблицу: тип этажа квартиры (значения — «первый», «последний», «другой»)\n",
    "- [x]  посчитано и добавлено в таблицу: расстояние в км до центра города\n",
    "- [x]  изучены и описаны следующие параметры:\n",
    "        - общая площадь;\n",
    "        - жилая площадь;\n",
    "        - площадь кухни;\n",
    "        - цена объекта;\n",
    "        - количество комнат;\n",
    "        - высота потолков;\n",
    "        - этаж квартиры;\n",
    "        - тип этажа квартиры («первый», «последний», «другой»);\n",
    "        - общее количество этажей в доме;\n",
    "        - расстояние до центра города в метрах;\n",
    "        - расстояние до ближайшего аэропорта;\n",
    "        - расстояние до ближайшего парка;\n",
    "        - день и месяц публикации объявления\n",
    "- [x]  построены гистограммы для каждого параметра\n",
    "- [x]  выполнено задание: \"Изучите, как быстро продавались квартиры (столбец days_exposition). Этот параметр показывает, сколько дней «висело» каждое объявление.\n",
    "    - Постройте гистограмму.\n",
    "    - Посчитайте среднее и медиану.\n",
    "    - В ячейке типа markdown опишите, сколько обычно занимает продажа. Какие продажи можно считать быстрыми, а какие — необычно долгими?\"\n",
    "- [x]  выполнено задание: \"Какие факторы больше всего влияют на общую (полную) стоимость объекта? Постройте графики, которые покажут зависимость цены от указанных ниже параметров. Для подготовки данных перед визуализацией вы можете использовать сводные таблицы.\"\n",
    "        - общей площади;\n",
    "        - жилой площади;\n",
    "        - площади кухни;\n",
    "        - количество комнат;\n",
    "        - типа этажа, на котором расположена квартира (первый, последний, другой);\n",
    "        - даты размещения (день недели, месяц, год);\n",
    "- [x]  выполнено задание: \"Посчитайте среднюю цену одного квадратного метра в 10 населённых пунктах с наибольшим числом объявлений. Выделите населённые пункты с самой высокой и низкой стоимостью квадратного метра. Эти данные можно найти по имени в столбце `locality_name`.\"\n",
    "- [x]  выполнено задание: \"Ранее вы посчитали расстояние до центра в километрах. Теперь выделите квартиры в Санкт-Петербурге с помощью столбца `locality_name` и вычислите среднюю цену каждого километра. Опишите, как стоимость объектов зависит от расстояния до центра города.\"\n",
    "- [x]  в каждом этапе есть промежуточные выводы\n",
    "- [x]  есть общий вывод"
   ]
  }
 ],
 "metadata": {
  "ExecuteTimeLog": [
   {
    "duration": 622,
    "start_time": "2022-07-05T10:21:28.988Z"
   },
   {
    "duration": 15,
    "start_time": "2022-07-05T10:22:04.399Z"
   },
   {
    "duration": 116,
    "start_time": "2022-07-05T10:22:28.688Z"
   },
   {
    "duration": 27,
    "start_time": "2022-07-05T10:22:34.892Z"
   },
   {
    "duration": 2678,
    "start_time": "2022-07-05T10:24:18.013Z"
   },
   {
    "duration": 2279,
    "start_time": "2022-07-05T10:26:41.643Z"
   },
   {
    "duration": 2152,
    "start_time": "2022-07-05T10:27:24.442Z"
   },
   {
    "duration": 2152,
    "start_time": "2022-07-05T10:27:40.585Z"
   },
   {
    "duration": 2170,
    "start_time": "2022-07-05T10:27:58.121Z"
   },
   {
    "duration": 2334,
    "start_time": "2022-07-05T10:28:57.675Z"
   },
   {
    "duration": 2070,
    "start_time": "2022-07-05T10:29:24.902Z"
   },
   {
    "duration": 2239,
    "start_time": "2022-07-05T10:30:40.592Z"
   },
   {
    "duration": 2051,
    "start_time": "2022-07-05T10:30:56.142Z"
   },
   {
    "duration": 90,
    "start_time": "2022-07-05T10:32:15.964Z"
   },
   {
    "duration": 2347,
    "start_time": "2022-07-05T10:32:23.197Z"
   },
   {
    "duration": 21,
    "start_time": "2022-07-05T10:38:04.992Z"
   },
   {
    "duration": 12,
    "start_time": "2022-07-05T11:03:54.004Z"
   },
   {
    "duration": 16,
    "start_time": "2022-07-05T11:04:20.537Z"
   },
   {
    "duration": 5,
    "start_time": "2022-07-05T11:04:32.758Z"
   },
   {
    "duration": 4,
    "start_time": "2022-07-05T11:05:01.341Z"
   },
   {
    "duration": 39,
    "start_time": "2022-07-05T11:06:44.861Z"
   },
   {
    "duration": 8,
    "start_time": "2022-07-05T11:06:53.095Z"
   },
   {
    "duration": 13,
    "start_time": "2022-07-05T11:07:44.891Z"
   },
   {
    "duration": 7,
    "start_time": "2022-07-05T11:07:55.195Z"
   },
   {
    "duration": 7,
    "start_time": "2022-07-05T11:08:06.505Z"
   },
   {
    "duration": 5,
    "start_time": "2022-07-05T11:08:14.633Z"
   },
   {
    "duration": 5,
    "start_time": "2022-07-05T11:08:27.705Z"
   },
   {
    "duration": 17,
    "start_time": "2022-07-05T11:08:40.361Z"
   },
   {
    "duration": 5,
    "start_time": "2022-07-05T11:08:48.425Z"
   },
   {
    "duration": 9,
    "start_time": "2022-07-05T11:09:07.264Z"
   },
   {
    "duration": 6,
    "start_time": "2022-07-05T11:09:22.239Z"
   },
   {
    "duration": 4,
    "start_time": "2022-07-05T11:09:40.553Z"
   },
   {
    "duration": 11,
    "start_time": "2022-07-05T11:09:52.283Z"
   },
   {
    "duration": 9,
    "start_time": "2022-07-05T11:10:06.462Z"
   },
   {
    "duration": 4,
    "start_time": "2022-07-05T11:10:17.054Z"
   },
   {
    "duration": 5,
    "start_time": "2022-07-05T11:10:25.350Z"
   },
   {
    "duration": 13,
    "start_time": "2022-07-05T11:10:36.362Z"
   },
   {
    "duration": 9,
    "start_time": "2022-07-05T11:10:54.785Z"
   },
   {
    "duration": 12,
    "start_time": "2022-07-05T11:11:07.141Z"
   },
   {
    "duration": 6,
    "start_time": "2022-07-05T11:11:22.005Z"
   },
   {
    "duration": 6,
    "start_time": "2022-07-05T11:11:34.316Z"
   },
   {
    "duration": 5,
    "start_time": "2022-07-05T11:11:46.316Z"
   },
   {
    "duration": 6,
    "start_time": "2022-07-05T11:11:59.887Z"
   },
   {
    "duration": 5,
    "start_time": "2022-07-05T11:12:11.436Z"
   },
   {
    "duration": 6,
    "start_time": "2022-07-05T11:12:23.323Z"
   },
   {
    "duration": 6,
    "start_time": "2022-07-05T11:12:29.538Z"
   },
   {
    "duration": 5,
    "start_time": "2022-07-05T11:15:41.007Z"
   },
   {
    "duration": 64,
    "start_time": "2022-07-05T11:20:42.762Z"
   },
   {
    "duration": 6,
    "start_time": "2022-07-05T11:21:21.926Z"
   },
   {
    "duration": 20,
    "start_time": "2022-07-05T11:25:14.962Z"
   },
   {
    "duration": 5,
    "start_time": "2022-07-05T11:25:52.521Z"
   },
   {
    "duration": 30,
    "start_time": "2022-07-05T11:26:31.608Z"
   },
   {
    "duration": 6,
    "start_time": "2022-07-05T11:28:29.539Z"
   },
   {
    "duration": 12,
    "start_time": "2022-07-05T11:29:10.453Z"
   },
   {
    "duration": 15,
    "start_time": "2022-07-05T11:32:11.387Z"
   },
   {
    "duration": 11,
    "start_time": "2022-07-05T12:28:49.297Z"
   },
   {
    "duration": 13,
    "start_time": "2022-07-05T12:29:20.475Z"
   },
   {
    "duration": 8,
    "start_time": "2022-07-05T12:29:54.297Z"
   },
   {
    "duration": 90,
    "start_time": "2022-07-06T13:18:28.167Z"
   },
   {
    "duration": 44,
    "start_time": "2022-07-06T13:19:56.310Z"
   },
   {
    "duration": 740,
    "start_time": "2022-07-06T13:20:04.769Z"
   },
   {
    "duration": 31,
    "start_time": "2022-07-06T13:20:05.512Z"
   },
   {
    "duration": 2448,
    "start_time": "2022-07-06T13:20:05.545Z"
   },
   {
    "duration": 3,
    "start_time": "2022-07-06T13:20:07.996Z"
   },
   {
    "duration": 12,
    "start_time": "2022-07-06T13:20:08.001Z"
   },
   {
    "duration": 74,
    "start_time": "2022-07-06T13:21:34.200Z"
   },
   {
    "duration": 9,
    "start_time": "2022-07-06T13:22:19.043Z"
   },
   {
    "duration": 9,
    "start_time": "2022-07-06T13:22:43.975Z"
   },
   {
    "duration": 73,
    "start_time": "2022-07-06T13:23:42.858Z"
   },
   {
    "duration": 9,
    "start_time": "2022-07-06T13:24:58.258Z"
   },
   {
    "duration": 7,
    "start_time": "2022-07-06T13:32:22.770Z"
   },
   {
    "duration": 5,
    "start_time": "2022-07-06T13:34:10.363Z"
   },
   {
    "duration": 5,
    "start_time": "2022-07-06T13:35:38.601Z"
   },
   {
    "duration": 5,
    "start_time": "2022-07-06T13:36:07.616Z"
   },
   {
    "duration": 9,
    "start_time": "2022-07-06T13:43:41.163Z"
   },
   {
    "duration": 7,
    "start_time": "2022-07-06T13:46:23.133Z"
   },
   {
    "duration": 17,
    "start_time": "2022-07-06T13:46:36.556Z"
   },
   {
    "duration": 37,
    "start_time": "2022-07-06T13:46:51.799Z"
   },
   {
    "duration": 450,
    "start_time": "2022-07-06T13:47:37.851Z"
   },
   {
    "duration": 41,
    "start_time": "2022-07-06T13:47:38.303Z"
   },
   {
    "duration": 2087,
    "start_time": "2022-07-06T13:47:38.346Z"
   },
   {
    "duration": 3,
    "start_time": "2022-07-06T13:47:40.435Z"
   },
   {
    "duration": 12,
    "start_time": "2022-07-06T13:47:40.439Z"
   },
   {
    "duration": 9,
    "start_time": "2022-07-06T13:47:40.453Z"
   },
   {
    "duration": 11,
    "start_time": "2022-07-06T13:48:47.791Z"
   },
   {
    "duration": 24,
    "start_time": "2022-07-06T13:49:46.449Z"
   },
   {
    "duration": 7,
    "start_time": "2022-07-06T13:55:13.482Z"
   },
   {
    "duration": 6,
    "start_time": "2022-07-06T13:55:35.180Z"
   },
   {
    "duration": 8,
    "start_time": "2022-07-06T13:55:47.964Z"
   },
   {
    "duration": 81,
    "start_time": "2022-07-06T14:01:20.550Z"
   },
   {
    "duration": 13,
    "start_time": "2022-07-06T14:01:36.484Z"
   },
   {
    "duration": 542,
    "start_time": "2022-07-06T14:02:16.992Z"
   },
   {
    "duration": 34,
    "start_time": "2022-07-06T14:02:17.536Z"
   },
   {
    "duration": 2393,
    "start_time": "2022-07-06T14:02:17.572Z"
   },
   {
    "duration": 5,
    "start_time": "2022-07-06T14:02:19.968Z"
   },
   {
    "duration": 34,
    "start_time": "2022-07-06T14:02:19.974Z"
   },
   {
    "duration": 7,
    "start_time": "2022-07-06T14:02:20.010Z"
   },
   {
    "duration": 13,
    "start_time": "2022-07-06T14:02:20.018Z"
   },
   {
    "duration": 10,
    "start_time": "2022-07-06T14:03:20.479Z"
   },
   {
    "duration": 6,
    "start_time": "2022-07-06T14:05:04.069Z"
   },
   {
    "duration": 6,
    "start_time": "2022-07-06T14:05:09.166Z"
   },
   {
    "duration": 19,
    "start_time": "2022-07-06T14:05:15.212Z"
   },
   {
    "duration": 73,
    "start_time": "2022-07-06T14:05:35.064Z"
   },
   {
    "duration": 15,
    "start_time": "2022-07-06T14:05:57.194Z"
   },
   {
    "duration": 491,
    "start_time": "2022-07-06T14:06:39.837Z"
   },
   {
    "duration": 29,
    "start_time": "2022-07-06T14:06:40.329Z"
   },
   {
    "duration": 2149,
    "start_time": "2022-07-06T14:06:40.360Z"
   },
   {
    "duration": 40,
    "start_time": "2022-07-06T14:06:42.511Z"
   },
   {
    "duration": 10,
    "start_time": "2022-07-06T14:06:42.553Z"
   },
   {
    "duration": 8,
    "start_time": "2022-07-06T14:06:42.564Z"
   },
   {
    "duration": 10,
    "start_time": "2022-07-06T14:06:42.573Z"
   },
   {
    "duration": 50,
    "start_time": "2022-07-06T14:08:16.023Z"
   },
   {
    "duration": 4,
    "start_time": "2022-07-06T14:08:59.670Z"
   },
   {
    "duration": 6,
    "start_time": "2022-07-06T14:09:40.820Z"
   },
   {
    "duration": 5,
    "start_time": "2022-07-06T14:14:21.222Z"
   },
   {
    "duration": 5,
    "start_time": "2022-07-06T14:14:33.013Z"
   },
   {
    "duration": 8,
    "start_time": "2022-07-06T14:15:24.709Z"
   },
   {
    "duration": 562,
    "start_time": "2022-07-07T04:14:22.071Z"
   },
   {
    "duration": 32,
    "start_time": "2022-07-07T04:14:22.636Z"
   },
   {
    "duration": 2559,
    "start_time": "2022-07-07T04:14:22.670Z"
   },
   {
    "duration": 5,
    "start_time": "2022-07-07T04:14:25.231Z"
   },
   {
    "duration": 28,
    "start_time": "2022-07-07T04:14:25.238Z"
   },
   {
    "duration": 68,
    "start_time": "2022-07-07T04:14:25.268Z"
   },
   {
    "duration": 0,
    "start_time": "2022-07-07T04:14:25.338Z"
   },
   {
    "duration": 0,
    "start_time": "2022-07-07T04:14:25.340Z"
   },
   {
    "duration": 119,
    "start_time": "2022-07-07T04:14:35.363Z"
   },
   {
    "duration": 21,
    "start_time": "2022-07-07T04:14:58.721Z"
   },
   {
    "duration": 40,
    "start_time": "2022-07-07T04:15:07.277Z"
   },
   {
    "duration": 20,
    "start_time": "2022-07-07T04:15:14.355Z"
   },
   {
    "duration": 25,
    "start_time": "2022-07-07T04:16:14.216Z"
   },
   {
    "duration": 49,
    "start_time": "2022-07-07T04:16:48.236Z"
   },
   {
    "duration": 58,
    "start_time": "2022-07-07T04:16:58.458Z"
   },
   {
    "duration": 63,
    "start_time": "2022-07-07T04:17:17.015Z"
   },
   {
    "duration": 39,
    "start_time": "2022-07-07T04:17:24.593Z"
   },
   {
    "duration": 37,
    "start_time": "2022-07-07T04:17:45.745Z"
   },
   {
    "duration": 459,
    "start_time": "2022-07-07T04:19:54.856Z"
   },
   {
    "duration": 433,
    "start_time": "2022-07-07T04:20:48.423Z"
   },
   {
    "duration": 566,
    "start_time": "2022-07-07T04:21:04.780Z"
   },
   {
    "duration": 484,
    "start_time": "2022-07-07T04:21:21.468Z"
   },
   {
    "duration": 9,
    "start_time": "2022-07-07T04:30:31.346Z"
   },
   {
    "duration": 267,
    "start_time": "2022-07-07T04:30:49.619Z"
   },
   {
    "duration": 697,
    "start_time": "2022-07-07T04:32:02.966Z"
   },
   {
    "duration": 54,
    "start_time": "2022-07-07T11:26:14.538Z"
   },
   {
    "duration": 622,
    "start_time": "2022-07-07T11:26:25.455Z"
   },
   {
    "duration": 28,
    "start_time": "2022-07-07T11:26:26.079Z"
   },
   {
    "duration": 2180,
    "start_time": "2022-07-07T11:26:26.108Z"
   },
   {
    "duration": 4,
    "start_time": "2022-07-07T11:26:28.290Z"
   },
   {
    "duration": 13,
    "start_time": "2022-07-07T11:26:28.296Z"
   },
   {
    "duration": 546,
    "start_time": "2022-07-07T11:26:28.311Z"
   },
   {
    "duration": 0,
    "start_time": "2022-07-07T11:26:28.859Z"
   },
   {
    "duration": 0,
    "start_time": "2022-07-07T11:26:28.861Z"
   },
   {
    "duration": 300,
    "start_time": "2022-07-07T11:27:18.673Z"
   },
   {
    "duration": 360,
    "start_time": "2022-07-07T11:27:49.089Z"
   },
   {
    "duration": 462,
    "start_time": "2022-07-07T11:31:18.156Z"
   },
   {
    "duration": 299,
    "start_time": "2022-07-07T11:31:38.981Z"
   },
   {
    "duration": 39,
    "start_time": "2022-07-07T11:31:49.260Z"
   },
   {
    "duration": 7,
    "start_time": "2022-07-07T11:32:09.364Z"
   },
   {
    "duration": 19,
    "start_time": "2022-07-07T11:32:59.795Z"
   },
   {
    "duration": 14,
    "start_time": "2022-07-07T11:33:17.837Z"
   },
   {
    "duration": 21,
    "start_time": "2022-07-07T11:33:34.028Z"
   },
   {
    "duration": 4,
    "start_time": "2022-07-07T11:34:12.561Z"
   },
   {
    "duration": 12,
    "start_time": "2022-07-07T11:35:02.279Z"
   },
   {
    "duration": 11,
    "start_time": "2022-07-07T11:35:20.951Z"
   },
   {
    "duration": 10,
    "start_time": "2022-07-07T11:36:22.478Z"
   },
   {
    "duration": 15,
    "start_time": "2022-07-07T11:36:29.358Z"
   },
   {
    "duration": 8,
    "start_time": "2022-07-07T11:37:46.035Z"
   },
   {
    "duration": 12,
    "start_time": "2022-07-07T11:38:17.483Z"
   },
   {
    "duration": 5,
    "start_time": "2022-07-07T11:38:42.364Z"
   },
   {
    "duration": 474,
    "start_time": "2022-07-07T11:39:21.135Z"
   },
   {
    "duration": 27,
    "start_time": "2022-07-07T11:39:21.611Z"
   },
   {
    "duration": 1944,
    "start_time": "2022-07-07T11:39:21.640Z"
   },
   {
    "duration": 4,
    "start_time": "2022-07-07T11:39:23.586Z"
   },
   {
    "duration": 20,
    "start_time": "2022-07-07T11:39:23.592Z"
   },
   {
    "duration": 15,
    "start_time": "2022-07-07T11:39:23.614Z"
   },
   {
    "duration": 6,
    "start_time": "2022-07-07T11:39:23.630Z"
   },
   {
    "duration": 7,
    "start_time": "2022-07-07T11:39:23.637Z"
   },
   {
    "duration": 20,
    "start_time": "2022-07-07T11:42:25.849Z"
   },
   {
    "duration": 10,
    "start_time": "2022-07-07T11:42:31.749Z"
   },
   {
    "duration": 11,
    "start_time": "2022-07-07T11:42:42.239Z"
   },
   {
    "duration": 9,
    "start_time": "2022-07-07T11:43:48.369Z"
   },
   {
    "duration": 6,
    "start_time": "2022-07-07T11:47:04.733Z"
   },
   {
    "duration": 10,
    "start_time": "2022-07-07T11:47:40.925Z"
   },
   {
    "duration": 10,
    "start_time": "2022-07-07T11:47:56.836Z"
   },
   {
    "duration": 115,
    "start_time": "2022-07-07T11:55:15.459Z"
   },
   {
    "duration": 78,
    "start_time": "2022-07-07T11:55:21.538Z"
   },
   {
    "duration": 13,
    "start_time": "2022-07-07T11:55:46.049Z"
   },
   {
    "duration": 8,
    "start_time": "2022-07-07T12:01:33.449Z"
   },
   {
    "duration": 19,
    "start_time": "2022-07-07T12:03:11.689Z"
   },
   {
    "duration": 8,
    "start_time": "2022-07-07T12:03:34.258Z"
   },
   {
    "duration": 5,
    "start_time": "2022-07-07T12:04:13.488Z"
   },
   {
    "duration": 25,
    "start_time": "2022-07-07T12:05:03.951Z"
   },
   {
    "duration": 13,
    "start_time": "2022-07-07T12:05:58.534Z"
   },
   {
    "duration": 12,
    "start_time": "2022-07-07T12:06:35.782Z"
   },
   {
    "duration": 11,
    "start_time": "2022-07-07T12:07:43.358Z"
   },
   {
    "duration": 12,
    "start_time": "2022-07-07T12:07:53.988Z"
   },
   {
    "duration": 13,
    "start_time": "2022-07-07T12:08:02.129Z"
   },
   {
    "duration": 12,
    "start_time": "2022-07-07T12:08:09.542Z"
   },
   {
    "duration": 12,
    "start_time": "2022-07-07T12:08:14.142Z"
   },
   {
    "duration": 13,
    "start_time": "2022-07-07T12:08:18.299Z"
   },
   {
    "duration": 13,
    "start_time": "2022-07-07T12:08:22.299Z"
   },
   {
    "duration": 13,
    "start_time": "2022-07-07T12:08:26.342Z"
   },
   {
    "duration": 13,
    "start_time": "2022-07-07T12:08:31.555Z"
   },
   {
    "duration": 15,
    "start_time": "2022-07-07T12:08:37.666Z"
   },
   {
    "duration": 5,
    "start_time": "2022-07-07T12:23:58.120Z"
   },
   {
    "duration": 22,
    "start_time": "2022-07-07T12:29:47.097Z"
   },
   {
    "duration": 19,
    "start_time": "2022-07-07T12:30:07.264Z"
   },
   {
    "duration": 18,
    "start_time": "2022-07-07T12:33:01.625Z"
   },
   {
    "duration": 6,
    "start_time": "2022-07-07T12:33:37.420Z"
   },
   {
    "duration": 5,
    "start_time": "2022-07-07T12:33:45.060Z"
   },
   {
    "duration": 11,
    "start_time": "2022-07-07T12:35:07.724Z"
   },
   {
    "duration": 14,
    "start_time": "2022-07-07T12:35:54.482Z"
   },
   {
    "duration": 44,
    "start_time": "2022-07-09T05:54:12.794Z"
   },
   {
    "duration": 534,
    "start_time": "2022-07-09T05:54:22.113Z"
   },
   {
    "duration": 37,
    "start_time": "2022-07-09T05:54:22.649Z"
   },
   {
    "duration": 2110,
    "start_time": "2022-07-09T05:54:22.687Z"
   },
   {
    "duration": 4,
    "start_time": "2022-07-09T05:54:24.799Z"
   },
   {
    "duration": 12,
    "start_time": "2022-07-09T05:54:24.805Z"
   },
   {
    "duration": 13,
    "start_time": "2022-07-09T05:54:24.818Z"
   },
   {
    "duration": 5,
    "start_time": "2022-07-09T05:54:24.832Z"
   },
   {
    "duration": 7,
    "start_time": "2022-07-09T05:54:24.838Z"
   },
   {
    "duration": 67,
    "start_time": "2022-07-09T05:54:24.847Z"
   },
   {
    "duration": 5,
    "start_time": "2022-07-09T05:55:37.654Z"
   },
   {
    "duration": 56,
    "start_time": "2022-07-09T05:58:41.857Z"
   },
   {
    "duration": 357,
    "start_time": "2022-07-09T05:58:50.651Z"
   },
   {
    "duration": 17,
    "start_time": "2022-07-09T06:00:46.554Z"
   },
   {
    "duration": 22,
    "start_time": "2022-07-09T06:01:13.233Z"
   },
   {
    "duration": 7,
    "start_time": "2022-07-09T06:02:09.016Z"
   },
   {
    "duration": 45,
    "start_time": "2022-07-09T06:03:55.454Z"
   },
   {
    "duration": 9,
    "start_time": "2022-07-09T06:06:15.154Z"
   },
   {
    "duration": 43,
    "start_time": "2022-07-09T06:06:27.915Z"
   },
   {
    "duration": 13,
    "start_time": "2022-07-09T06:06:34.019Z"
   },
   {
    "duration": 4,
    "start_time": "2022-07-09T06:06:49.491Z"
   },
   {
    "duration": 31,
    "start_time": "2022-07-09T06:07:17.682Z"
   },
   {
    "duration": 19,
    "start_time": "2022-07-09T06:07:44.930Z"
   },
   {
    "duration": 17,
    "start_time": "2022-07-09T06:09:36.496Z"
   },
   {
    "duration": 30,
    "start_time": "2022-07-09T06:09:52.848Z"
   },
   {
    "duration": 7,
    "start_time": "2022-07-09T06:11:04.830Z"
   },
   {
    "duration": 7,
    "start_time": "2022-07-09T06:11:24.326Z"
   },
   {
    "duration": 8,
    "start_time": "2022-07-09T06:11:31.437Z"
   },
   {
    "duration": 9,
    "start_time": "2022-07-09T06:13:24.204Z"
   },
   {
    "duration": 5,
    "start_time": "2022-07-09T08:27:54.401Z"
   },
   {
    "duration": 48,
    "start_time": "2022-07-09T08:28:15.870Z"
   },
   {
    "duration": 415,
    "start_time": "2022-07-09T08:35:11.065Z"
   },
   {
    "duration": 414,
    "start_time": "2022-07-09T08:35:43.186Z"
   },
   {
    "duration": 7,
    "start_time": "2022-07-09T08:36:15.033Z"
   },
   {
    "duration": 430,
    "start_time": "2022-07-09T08:36:22.713Z"
   },
   {
    "duration": 300,
    "start_time": "2022-07-09T08:39:04.669Z"
   },
   {
    "duration": 222,
    "start_time": "2022-07-09T08:42:35.618Z"
   },
   {
    "duration": 0,
    "start_time": "2022-07-09T08:43:36.130Z"
   },
   {
    "duration": 247,
    "start_time": "2022-07-09T08:43:46.624Z"
   },
   {
    "duration": 231,
    "start_time": "2022-07-09T08:43:55.267Z"
   },
   {
    "duration": 11,
    "start_time": "2022-07-09T08:44:07.672Z"
   },
   {
    "duration": 336,
    "start_time": "2022-07-09T08:45:01.038Z"
   },
   {
    "duration": 412,
    "start_time": "2022-07-09T08:46:45.516Z"
   },
   {
    "duration": 416,
    "start_time": "2022-07-09T08:47:27.794Z"
   },
   {
    "duration": 461,
    "start_time": "2022-07-09T08:47:37.626Z"
   },
   {
    "duration": 413,
    "start_time": "2022-07-09T08:47:57.089Z"
   },
   {
    "duration": 429,
    "start_time": "2022-07-09T08:48:13.905Z"
   },
   {
    "duration": 9,
    "start_time": "2022-07-09T08:48:21.157Z"
   },
   {
    "duration": 15,
    "start_time": "2022-07-09T08:48:36.240Z"
   },
   {
    "duration": 23,
    "start_time": "2022-07-09T08:49:21.905Z"
   },
   {
    "duration": 11,
    "start_time": "2022-07-09T09:00:12.005Z"
   },
   {
    "duration": 146,
    "start_time": "2022-07-09T09:01:26.963Z"
   },
   {
    "duration": 231,
    "start_time": "2022-07-09T09:01:40.635Z"
   },
   {
    "duration": 234,
    "start_time": "2022-07-09T09:03:35.281Z"
   },
   {
    "duration": 285,
    "start_time": "2022-07-09T09:03:47.512Z"
   },
   {
    "duration": 390,
    "start_time": "2022-07-09T09:03:55.823Z"
   },
   {
    "duration": 322,
    "start_time": "2022-07-09T09:04:43.184Z"
   },
   {
    "duration": 312,
    "start_time": "2022-07-09T09:04:59.678Z"
   },
   {
    "duration": 240,
    "start_time": "2022-07-09T09:05:09.270Z"
   },
   {
    "duration": 4,
    "start_time": "2022-07-09T09:06:10.662Z"
   },
   {
    "duration": 205,
    "start_time": "2022-07-09T09:06:40.773Z"
   },
   {
    "duration": 195,
    "start_time": "2022-07-09T09:07:01.870Z"
   },
   {
    "duration": 216,
    "start_time": "2022-07-09T09:07:11.339Z"
   },
   {
    "duration": 166,
    "start_time": "2022-07-09T09:07:30.072Z"
   },
   {
    "duration": 335,
    "start_time": "2022-07-09T09:08:05.218Z"
   },
   {
    "duration": 7,
    "start_time": "2022-07-09T09:33:59.319Z"
   },
   {
    "duration": 7,
    "start_time": "2022-07-09T09:34:07.912Z"
   },
   {
    "duration": 5,
    "start_time": "2022-07-09T09:34:28.518Z"
   },
   {
    "duration": 3,
    "start_time": "2022-07-09T09:34:47.359Z"
   },
   {
    "duration": 531,
    "start_time": "2022-07-09T09:35:08.830Z"
   },
   {
    "duration": 35,
    "start_time": "2022-07-09T09:35:09.363Z"
   },
   {
    "duration": 2481,
    "start_time": "2022-07-09T09:35:09.400Z"
   },
   {
    "duration": 5,
    "start_time": "2022-07-09T09:35:11.883Z"
   },
   {
    "duration": 40,
    "start_time": "2022-07-09T09:35:11.889Z"
   },
   {
    "duration": 38,
    "start_time": "2022-07-09T09:35:11.931Z"
   },
   {
    "duration": 7,
    "start_time": "2022-07-09T09:35:11.971Z"
   },
   {
    "duration": 12,
    "start_time": "2022-07-09T09:35:11.980Z"
   },
   {
    "duration": 16,
    "start_time": "2022-07-09T09:35:11.994Z"
   },
   {
    "duration": 23,
    "start_time": "2022-07-09T09:35:12.012Z"
   },
   {
    "duration": 394,
    "start_time": "2022-07-09T09:35:12.036Z"
   },
   {
    "duration": 17,
    "start_time": "2022-07-09T09:35:12.432Z"
   },
   {
    "duration": 34,
    "start_time": "2022-07-09T09:35:12.454Z"
   },
   {
    "duration": 9,
    "start_time": "2022-07-09T09:35:12.490Z"
   },
   {
    "duration": 189,
    "start_time": "2022-07-09T09:35:12.501Z"
   },
   {
    "duration": 239,
    "start_time": "2022-07-09T09:35:12.692Z"
   },
   {
    "duration": 3,
    "start_time": "2022-07-09T09:35:12.933Z"
   },
   {
    "duration": 8,
    "start_time": "2022-07-09T09:35:23.295Z"
   },
   {
    "duration": 524,
    "start_time": "2022-07-09T09:36:01.184Z"
   },
   {
    "duration": 43,
    "start_time": "2022-07-09T09:36:01.710Z"
   },
   {
    "duration": 2547,
    "start_time": "2022-07-09T09:36:01.754Z"
   },
   {
    "duration": 5,
    "start_time": "2022-07-09T09:36:04.304Z"
   },
   {
    "duration": 18,
    "start_time": "2022-07-09T09:36:04.311Z"
   },
   {
    "duration": 17,
    "start_time": "2022-07-09T09:36:04.331Z"
   },
   {
    "duration": 16,
    "start_time": "2022-07-09T09:36:04.350Z"
   },
   {
    "duration": 26,
    "start_time": "2022-07-09T09:36:04.368Z"
   },
   {
    "duration": 23,
    "start_time": "2022-07-09T09:36:04.397Z"
   },
   {
    "duration": 15,
    "start_time": "2022-07-09T09:36:04.424Z"
   },
   {
    "duration": 478,
    "start_time": "2022-07-09T09:36:04.444Z"
   },
   {
    "duration": 7,
    "start_time": "2022-07-09T09:36:04.924Z"
   },
   {
    "duration": 43,
    "start_time": "2022-07-09T09:36:04.932Z"
   },
   {
    "duration": 10,
    "start_time": "2022-07-09T09:36:04.976Z"
   },
   {
    "duration": 199,
    "start_time": "2022-07-09T09:36:04.988Z"
   },
   {
    "duration": 218,
    "start_time": "2022-07-09T09:36:05.189Z"
   },
   {
    "duration": 4,
    "start_time": "2022-07-09T09:36:05.409Z"
   },
   {
    "duration": 195,
    "start_time": "2022-07-09T09:36:13.472Z"
   },
   {
    "duration": 196,
    "start_time": "2022-07-09T09:36:18.919Z"
   },
   {
    "duration": 12,
    "start_time": "2022-07-09T09:36:34.864Z"
   },
   {
    "duration": 13,
    "start_time": "2022-07-09T09:36:38.920Z"
   },
   {
    "duration": 15,
    "start_time": "2022-07-09T09:37:06.126Z"
   },
   {
    "duration": 32,
    "start_time": "2022-07-09T09:37:14.048Z"
   },
   {
    "duration": 13,
    "start_time": "2022-07-09T09:37:45.205Z"
   },
   {
    "duration": 12,
    "start_time": "2022-07-09T09:37:56.229Z"
   },
   {
    "duration": 13,
    "start_time": "2022-07-09T09:38:50.660Z"
   },
   {
    "duration": 8,
    "start_time": "2022-07-09T09:39:49.996Z"
   },
   {
    "duration": 11,
    "start_time": "2022-07-09T09:40:01.683Z"
   },
   {
    "duration": 28,
    "start_time": "2022-07-09T09:40:32.642Z"
   },
   {
    "duration": 19,
    "start_time": "2022-07-09T09:40:39.986Z"
   },
   {
    "duration": 10,
    "start_time": "2022-07-09T09:41:03.497Z"
   },
   {
    "duration": 9,
    "start_time": "2022-07-09T09:43:32.822Z"
   },
   {
    "duration": 9,
    "start_time": "2022-07-09T09:43:37.659Z"
   },
   {
    "duration": 13,
    "start_time": "2022-07-09T09:54:48.978Z"
   },
   {
    "duration": 12,
    "start_time": "2022-07-09T09:55:25.512Z"
   },
   {
    "duration": 487,
    "start_time": "2022-07-09T09:56:38.999Z"
   },
   {
    "duration": 42,
    "start_time": "2022-07-09T09:56:39.488Z"
   },
   {
    "duration": 2477,
    "start_time": "2022-07-09T09:56:39.532Z"
   },
   {
    "duration": 4,
    "start_time": "2022-07-09T09:56:42.012Z"
   },
   {
    "duration": 42,
    "start_time": "2022-07-09T09:56:42.018Z"
   },
   {
    "duration": 21,
    "start_time": "2022-07-09T09:56:42.062Z"
   },
   {
    "duration": 25,
    "start_time": "2022-07-09T09:56:42.084Z"
   },
   {
    "duration": 13,
    "start_time": "2022-07-09T09:56:42.111Z"
   },
   {
    "duration": 29,
    "start_time": "2022-07-09T09:56:42.126Z"
   },
   {
    "duration": 22,
    "start_time": "2022-07-09T09:56:42.158Z"
   },
   {
    "duration": 428,
    "start_time": "2022-07-09T09:56:42.182Z"
   },
   {
    "duration": 8,
    "start_time": "2022-07-09T09:56:42.612Z"
   },
   {
    "duration": 51,
    "start_time": "2022-07-09T09:56:42.622Z"
   },
   {
    "duration": 12,
    "start_time": "2022-07-09T09:56:42.675Z"
   },
   {
    "duration": 210,
    "start_time": "2022-07-09T09:56:42.688Z"
   },
   {
    "duration": 207,
    "start_time": "2022-07-09T09:56:42.900Z"
   },
   {
    "duration": 12,
    "start_time": "2022-07-09T09:56:43.109Z"
   },
   {
    "duration": 28,
    "start_time": "2022-07-09T09:56:43.123Z"
   },
   {
    "duration": 9,
    "start_time": "2022-07-09T09:57:12.786Z"
   },
   {
    "duration": 186,
    "start_time": "2022-07-09T09:57:33.792Z"
   },
   {
    "duration": 516,
    "start_time": "2022-07-09T09:57:48.108Z"
   },
   {
    "duration": 45,
    "start_time": "2022-07-09T09:57:48.627Z"
   },
   {
    "duration": 2487,
    "start_time": "2022-07-09T09:57:48.674Z"
   },
   {
    "duration": 4,
    "start_time": "2022-07-09T09:57:51.163Z"
   },
   {
    "duration": 14,
    "start_time": "2022-07-09T09:57:51.169Z"
   },
   {
    "duration": 14,
    "start_time": "2022-07-09T09:57:51.185Z"
   },
   {
    "duration": 6,
    "start_time": "2022-07-09T09:57:51.201Z"
   },
   {
    "duration": 38,
    "start_time": "2022-07-09T09:57:51.209Z"
   },
   {
    "duration": 14,
    "start_time": "2022-07-09T09:57:51.256Z"
   },
   {
    "duration": 8,
    "start_time": "2022-07-09T09:57:51.272Z"
   },
   {
    "duration": 456,
    "start_time": "2022-07-09T09:57:51.282Z"
   },
   {
    "duration": 17,
    "start_time": "2022-07-09T09:57:51.744Z"
   },
   {
    "duration": 36,
    "start_time": "2022-07-09T09:57:51.763Z"
   },
   {
    "duration": 10,
    "start_time": "2022-07-09T09:57:51.802Z"
   },
   {
    "duration": 223,
    "start_time": "2022-07-09T09:57:51.814Z"
   },
   {
    "duration": 213,
    "start_time": "2022-07-09T09:57:52.042Z"
   },
   {
    "duration": 4,
    "start_time": "2022-07-09T09:57:52.258Z"
   },
   {
    "duration": 13,
    "start_time": "2022-07-09T09:57:52.265Z"
   },
   {
    "duration": 7,
    "start_time": "2022-07-09T09:58:26.284Z"
   },
   {
    "duration": 9,
    "start_time": "2022-07-09T09:58:30.530Z"
   },
   {
    "duration": 231,
    "start_time": "2022-07-09T09:58:52.738Z"
   },
   {
    "duration": 216,
    "start_time": "2022-07-09T09:59:49.089Z"
   },
   {
    "duration": 10,
    "start_time": "2022-07-09T10:01:47.006Z"
   },
   {
    "duration": 7,
    "start_time": "2022-07-09T10:02:22.986Z"
   },
   {
    "duration": 8,
    "start_time": "2022-07-09T10:04:43.563Z"
   },
   {
    "duration": 213,
    "start_time": "2022-07-09T10:04:47.002Z"
   },
   {
    "duration": 247,
    "start_time": "2022-07-09T10:04:58.059Z"
   },
   {
    "duration": 14,
    "start_time": "2022-07-09T10:05:34.386Z"
   },
   {
    "duration": 157,
    "start_time": "2022-07-09T10:05:36.862Z"
   },
   {
    "duration": 12,
    "start_time": "2022-07-09T10:06:23.218Z"
   },
   {
    "duration": 171,
    "start_time": "2022-07-09T10:06:25.289Z"
   },
   {
    "duration": 6,
    "start_time": "2022-07-09T10:08:35.406Z"
   },
   {
    "duration": 6,
    "start_time": "2022-07-09T10:08:57.062Z"
   },
   {
    "duration": 178,
    "start_time": "2022-07-09T10:09:31.277Z"
   },
   {
    "duration": 7,
    "start_time": "2022-07-09T10:09:53.285Z"
   },
   {
    "duration": 9,
    "start_time": "2022-07-09T10:10:24.456Z"
   },
   {
    "duration": 172,
    "start_time": "2022-07-09T10:11:49.387Z"
   },
   {
    "duration": 1156,
    "start_time": "2022-07-09T10:14:00.592Z"
   },
   {
    "duration": 206,
    "start_time": "2022-07-09T10:14:12.911Z"
   },
   {
    "duration": 6,
    "start_time": "2022-07-09T10:15:48.889Z"
   },
   {
    "duration": 204,
    "start_time": "2022-07-09T10:16:41.656Z"
   },
   {
    "duration": 7,
    "start_time": "2022-07-09T10:17:34.859Z"
   },
   {
    "duration": 6,
    "start_time": "2022-07-09T10:17:44.106Z"
   },
   {
    "duration": 216,
    "start_time": "2022-07-09T10:18:08.866Z"
   },
   {
    "duration": 8,
    "start_time": "2022-07-09T10:25:10.257Z"
   },
   {
    "duration": 227,
    "start_time": "2022-07-09T10:26:41.937Z"
   },
   {
    "duration": 10,
    "start_time": "2022-07-09T10:28:30.630Z"
   },
   {
    "duration": 214,
    "start_time": "2022-07-09T10:30:46.179Z"
   },
   {
    "duration": 9,
    "start_time": "2022-07-09T10:30:49.856Z"
   },
   {
    "duration": 329,
    "start_time": "2022-07-09T10:31:51.722Z"
   },
   {
    "duration": 207,
    "start_time": "2022-07-09T10:32:02.865Z"
   },
   {
    "duration": 9,
    "start_time": "2022-07-09T10:32:06.377Z"
   },
   {
    "duration": 171,
    "start_time": "2022-07-09T10:32:13.033Z"
   },
   {
    "duration": 161,
    "start_time": "2022-07-09T10:32:17.521Z"
   },
   {
    "duration": 147,
    "start_time": "2022-07-09T10:32:27.489Z"
   },
   {
    "duration": 9,
    "start_time": "2022-07-09T10:33:39.391Z"
   },
   {
    "duration": 196,
    "start_time": "2022-07-09T10:34:17.918Z"
   },
   {
    "duration": 147,
    "start_time": "2022-07-09T10:35:49.170Z"
   },
   {
    "duration": 147,
    "start_time": "2022-07-09T10:36:26.908Z"
   },
   {
    "duration": 178,
    "start_time": "2022-07-09T10:36:31.628Z"
   },
   {
    "duration": 225,
    "start_time": "2022-07-09T10:36:38.732Z"
   },
   {
    "duration": 188,
    "start_time": "2022-07-09T10:36:52.332Z"
   },
   {
    "duration": 9,
    "start_time": "2022-07-09T10:37:17.875Z"
   },
   {
    "duration": 47,
    "start_time": "2022-07-09T10:38:13.348Z"
   },
   {
    "duration": 11,
    "start_time": "2022-07-09T10:38:32.759Z"
   },
   {
    "duration": 2532,
    "start_time": "2022-07-09T10:39:06.433Z"
   },
   {
    "duration": 11,
    "start_time": "2022-07-09T10:40:36.958Z"
   },
   {
    "duration": 190,
    "start_time": "2022-07-09T10:42:18.984Z"
   },
   {
    "duration": 10,
    "start_time": "2022-07-09T10:42:31.222Z"
   },
   {
    "duration": 4,
    "start_time": "2022-07-09T10:43:47.171Z"
   },
   {
    "duration": 521,
    "start_time": "2022-07-09T10:44:50.916Z"
   },
   {
    "duration": 50,
    "start_time": "2022-07-09T10:44:51.440Z"
   },
   {
    "duration": 2565,
    "start_time": "2022-07-09T10:44:51.491Z"
   },
   {
    "duration": 5,
    "start_time": "2022-07-09T10:44:54.059Z"
   },
   {
    "duration": 17,
    "start_time": "2022-07-09T10:44:54.068Z"
   },
   {
    "duration": 19,
    "start_time": "2022-07-09T10:44:54.087Z"
   },
   {
    "duration": 7,
    "start_time": "2022-07-09T10:44:54.108Z"
   },
   {
    "duration": 39,
    "start_time": "2022-07-09T10:44:54.117Z"
   },
   {
    "duration": 13,
    "start_time": "2022-07-09T10:44:54.158Z"
   },
   {
    "duration": 7,
    "start_time": "2022-07-09T10:44:54.173Z"
   },
   {
    "duration": 523,
    "start_time": "2022-07-09T10:44:54.182Z"
   },
   {
    "duration": 10,
    "start_time": "2022-07-09T10:44:54.708Z"
   },
   {
    "duration": 57,
    "start_time": "2022-07-09T10:44:54.720Z"
   },
   {
    "duration": 232,
    "start_time": "2022-07-09T10:44:54.781Z"
   },
   {
    "duration": 11,
    "start_time": "2022-07-09T10:44:55.015Z"
   },
   {
    "duration": 185,
    "start_time": "2022-07-09T10:44:55.048Z"
   },
   {
    "duration": 220,
    "start_time": "2022-07-09T10:44:55.234Z"
   },
   {
    "duration": 8,
    "start_time": "2022-07-09T10:44:55.456Z"
   },
   {
    "duration": 9,
    "start_time": "2022-07-09T10:44:55.466Z"
   },
   {
    "duration": 6,
    "start_time": "2022-07-09T10:44:55.477Z"
   },
   {
    "duration": 8,
    "start_time": "2022-07-09T10:44:55.485Z"
   },
   {
    "duration": 195,
    "start_time": "2022-07-09T10:44:55.495Z"
   },
   {
    "duration": 216,
    "start_time": "2022-07-09T10:44:55.691Z"
   },
   {
    "duration": 7,
    "start_time": "2022-07-09T10:44:55.909Z"
   },
   {
    "duration": 266,
    "start_time": "2022-07-09T10:44:55.917Z"
   },
   {
    "duration": 188,
    "start_time": "2022-07-09T10:44:56.186Z"
   },
   {
    "duration": 10,
    "start_time": "2022-07-09T10:44:56.376Z"
   },
   {
    "duration": 12,
    "start_time": "2022-07-09T10:44:56.388Z"
   },
   {
    "duration": 239,
    "start_time": "2022-07-09T10:44:56.403Z"
   },
   {
    "duration": 210,
    "start_time": "2022-07-09T10:44:56.652Z"
   },
   {
    "duration": 11,
    "start_time": "2022-07-09T10:44:56.864Z"
   },
   {
    "duration": 10,
    "start_time": "2022-07-09T10:44:56.877Z"
   },
   {
    "duration": 188,
    "start_time": "2022-07-09T10:44:56.889Z"
   },
   {
    "duration": 11,
    "start_time": "2022-07-09T10:44:57.079Z"
   },
   {
    "duration": 5,
    "start_time": "2022-07-09T10:44:57.092Z"
   },
   {
    "duration": 15,
    "start_time": "2022-07-09T10:49:12.744Z"
   },
   {
    "duration": 197,
    "start_time": "2022-07-09T10:50:24.315Z"
   },
   {
    "duration": 165,
    "start_time": "2022-07-09T10:50:57.026Z"
   },
   {
    "duration": 13,
    "start_time": "2022-07-09T10:51:12.034Z"
   },
   {
    "duration": 4,
    "start_time": "2022-07-09T10:51:53.473Z"
   },
   {
    "duration": 470,
    "start_time": "2022-07-09T10:52:03.504Z"
   },
   {
    "duration": 37,
    "start_time": "2022-07-09T10:52:03.976Z"
   },
   {
    "duration": 2506,
    "start_time": "2022-07-09T10:52:04.015Z"
   },
   {
    "duration": 5,
    "start_time": "2022-07-09T10:52:06.523Z"
   },
   {
    "duration": 20,
    "start_time": "2022-07-09T10:52:06.529Z"
   },
   {
    "duration": 18,
    "start_time": "2022-07-09T10:52:06.551Z"
   },
   {
    "duration": 7,
    "start_time": "2022-07-09T10:52:06.571Z"
   },
   {
    "duration": 9,
    "start_time": "2022-07-09T10:52:06.579Z"
   },
   {
    "duration": 14,
    "start_time": "2022-07-09T10:52:06.589Z"
   },
   {
    "duration": 7,
    "start_time": "2022-07-09T10:52:06.605Z"
   },
   {
    "duration": 438,
    "start_time": "2022-07-09T10:52:06.614Z"
   },
   {
    "duration": 8,
    "start_time": "2022-07-09T10:52:07.057Z"
   },
   {
    "duration": 31,
    "start_time": "2022-07-09T10:52:07.067Z"
   },
   {
    "duration": 207,
    "start_time": "2022-07-09T10:52:07.100Z"
   },
   {
    "duration": 10,
    "start_time": "2022-07-09T10:52:07.308Z"
   },
   {
    "duration": 199,
    "start_time": "2022-07-09T10:52:07.320Z"
   },
   {
    "duration": 219,
    "start_time": "2022-07-09T10:52:07.521Z"
   },
   {
    "duration": 14,
    "start_time": "2022-07-09T10:52:07.744Z"
   },
   {
    "duration": 11,
    "start_time": "2022-07-09T10:52:07.760Z"
   },
   {
    "duration": 8,
    "start_time": "2022-07-09T10:52:07.773Z"
   },
   {
    "duration": 7,
    "start_time": "2022-07-09T10:52:07.783Z"
   },
   {
    "duration": 169,
    "start_time": "2022-07-09T10:52:07.792Z"
   },
   {
    "duration": 226,
    "start_time": "2022-07-09T10:52:07.963Z"
   },
   {
    "duration": 7,
    "start_time": "2022-07-09T10:52:08.191Z"
   },
   {
    "duration": 270,
    "start_time": "2022-07-09T10:52:08.200Z"
   },
   {
    "duration": 185,
    "start_time": "2022-07-09T10:52:08.472Z"
   },
   {
    "duration": 9,
    "start_time": "2022-07-09T10:52:08.661Z"
   },
   {
    "duration": 8,
    "start_time": "2022-07-09T10:52:08.674Z"
   },
   {
    "duration": 223,
    "start_time": "2022-07-09T10:52:08.684Z"
   },
   {
    "duration": 195,
    "start_time": "2022-07-09T10:52:08.909Z"
   },
   {
    "duration": 10,
    "start_time": "2022-07-09T10:52:09.106Z"
   },
   {
    "duration": 39,
    "start_time": "2022-07-09T10:52:09.118Z"
   },
   {
    "duration": 164,
    "start_time": "2022-07-09T10:52:09.159Z"
   },
   {
    "duration": 8,
    "start_time": "2022-07-09T10:52:09.325Z"
   },
   {
    "duration": 14,
    "start_time": "2022-07-09T10:52:09.342Z"
   },
   {
    "duration": 170,
    "start_time": "2022-07-09T10:52:09.358Z"
   },
   {
    "duration": 26,
    "start_time": "2022-07-09T10:52:09.530Z"
   },
   {
    "duration": 7,
    "start_time": "2022-07-09T10:52:09.561Z"
   },
   {
    "duration": 58,
    "start_time": "2022-07-09T10:54:14.604Z"
   },
   {
    "duration": 181,
    "start_time": "2022-07-09T10:55:26.210Z"
   },
   {
    "duration": 170,
    "start_time": "2022-07-09T10:55:48.402Z"
   },
   {
    "duration": 34,
    "start_time": "2022-07-09T10:59:55.005Z"
   },
   {
    "duration": 24,
    "start_time": "2022-07-09T13:56:15.540Z"
   },
   {
    "duration": 29,
    "start_time": "2022-07-09T13:57:22.770Z"
   },
   {
    "duration": 114,
    "start_time": "2022-07-09T14:08:49.860Z"
   },
   {
    "duration": 6,
    "start_time": "2022-07-09T14:09:26.971Z"
   },
   {
    "duration": 343,
    "start_time": "2022-07-09T14:16:05.827Z"
   },
   {
    "duration": 260,
    "start_time": "2022-07-09T14:17:49.391Z"
   },
   {
    "duration": 30,
    "start_time": "2022-07-09T14:18:26.390Z"
   },
   {
    "duration": 43,
    "start_time": "2022-07-09T14:18:47.792Z"
   },
   {
    "duration": 30,
    "start_time": "2022-07-09T14:18:55.511Z"
   },
   {
    "duration": 29,
    "start_time": "2022-07-09T14:19:04.216Z"
   },
   {
    "duration": 159,
    "start_time": "2022-07-09T14:23:32.841Z"
   },
   {
    "duration": 162,
    "start_time": "2022-07-09T14:23:46.898Z"
   },
   {
    "duration": 529,
    "start_time": "2022-07-09T14:23:52.404Z"
   },
   {
    "duration": 387,
    "start_time": "2022-07-09T14:23:58.185Z"
   },
   {
    "duration": 202,
    "start_time": "2022-07-09T14:24:07.905Z"
   },
   {
    "duration": 91,
    "start_time": "2022-07-09T14:24:49.032Z"
   },
   {
    "duration": 10,
    "start_time": "2022-07-09T14:25:07.968Z"
   },
   {
    "duration": 248,
    "start_time": "2022-07-09T14:26:03.678Z"
   },
   {
    "duration": 213,
    "start_time": "2022-07-09T14:27:17.444Z"
   },
   {
    "duration": 210,
    "start_time": "2022-07-09T14:27:28.047Z"
   },
   {
    "duration": 173,
    "start_time": "2022-07-09T14:27:33.268Z"
   },
   {
    "duration": 158,
    "start_time": "2022-07-09T14:27:37.364Z"
   },
   {
    "duration": 193,
    "start_time": "2022-07-09T14:27:41.588Z"
   },
   {
    "duration": 220,
    "start_time": "2022-07-09T14:27:48.500Z"
   },
   {
    "duration": 51,
    "start_time": "2022-07-10T00:51:30.921Z"
   },
   {
    "duration": 523,
    "start_time": "2022-07-10T00:51:41.631Z"
   },
   {
    "duration": 34,
    "start_time": "2022-07-10T00:51:42.156Z"
   },
   {
    "duration": 2353,
    "start_time": "2022-07-10T00:51:42.192Z"
   },
   {
    "duration": 5,
    "start_time": "2022-07-10T00:51:44.548Z"
   },
   {
    "duration": 38,
    "start_time": "2022-07-10T00:51:44.555Z"
   },
   {
    "duration": 30,
    "start_time": "2022-07-10T00:51:44.594Z"
   },
   {
    "duration": 8,
    "start_time": "2022-07-10T00:51:44.625Z"
   },
   {
    "duration": 13,
    "start_time": "2022-07-10T00:51:44.635Z"
   },
   {
    "duration": 19,
    "start_time": "2022-07-10T00:51:44.649Z"
   },
   {
    "duration": 7,
    "start_time": "2022-07-10T00:51:44.672Z"
   },
   {
    "duration": 367,
    "start_time": "2022-07-10T00:51:44.681Z"
   },
   {
    "duration": 6,
    "start_time": "2022-07-10T00:51:45.050Z"
   },
   {
    "duration": 33,
    "start_time": "2022-07-10T00:51:45.058Z"
   },
   {
    "duration": 183,
    "start_time": "2022-07-10T00:51:45.093Z"
   },
   {
    "duration": 23,
    "start_time": "2022-07-10T00:51:45.278Z"
   },
   {
    "duration": 200,
    "start_time": "2022-07-10T00:51:45.304Z"
   },
   {
    "duration": 200,
    "start_time": "2022-07-10T00:51:45.506Z"
   },
   {
    "duration": 6,
    "start_time": "2022-07-10T00:51:45.709Z"
   },
   {
    "duration": 20,
    "start_time": "2022-07-10T00:51:45.717Z"
   },
   {
    "duration": 7,
    "start_time": "2022-07-10T00:51:45.739Z"
   },
   {
    "duration": 15,
    "start_time": "2022-07-10T00:51:45.747Z"
   },
   {
    "duration": 142,
    "start_time": "2022-07-10T00:51:45.764Z"
   },
   {
    "duration": 260,
    "start_time": "2022-07-10T00:51:45.908Z"
   },
   {
    "duration": 6,
    "start_time": "2022-07-10T00:51:46.171Z"
   },
   {
    "duration": 176,
    "start_time": "2022-07-10T00:51:46.179Z"
   },
   {
    "duration": 164,
    "start_time": "2022-07-10T00:51:46.357Z"
   },
   {
    "duration": 9,
    "start_time": "2022-07-10T00:51:46.523Z"
   },
   {
    "duration": 17,
    "start_time": "2022-07-10T00:51:46.535Z"
   },
   {
    "duration": 214,
    "start_time": "2022-07-10T00:51:46.554Z"
   },
   {
    "duration": 166,
    "start_time": "2022-07-10T00:51:46.769Z"
   },
   {
    "duration": 8,
    "start_time": "2022-07-10T00:51:46.937Z"
   },
   {
    "duration": 22,
    "start_time": "2022-07-10T00:51:46.946Z"
   },
   {
    "duration": 158,
    "start_time": "2022-07-10T00:51:46.969Z"
   },
   {
    "duration": 9,
    "start_time": "2022-07-10T00:51:47.128Z"
   },
   {
    "duration": 25,
    "start_time": "2022-07-10T00:51:47.139Z"
   },
   {
    "duration": 169,
    "start_time": "2022-07-10T00:51:47.166Z"
   },
   {
    "duration": 8,
    "start_time": "2022-07-10T00:51:47.336Z"
   },
   {
    "duration": 27,
    "start_time": "2022-07-10T00:51:47.346Z"
   },
   {
    "duration": 173,
    "start_time": "2022-07-10T00:51:47.374Z"
   },
   {
    "duration": 30,
    "start_time": "2022-07-10T00:51:47.549Z"
   },
   {
    "duration": 39,
    "start_time": "2022-07-10T00:51:47.581Z"
   },
   {
    "duration": 28,
    "start_time": "2022-07-10T00:51:47.621Z"
   },
   {
    "duration": 121,
    "start_time": "2022-07-10T00:51:47.650Z"
   },
   {
    "duration": 32,
    "start_time": "2022-07-10T00:51:47.773Z"
   },
   {
    "duration": 179,
    "start_time": "2022-07-10T00:51:47.807Z"
   },
   {
    "duration": 14,
    "start_time": "2022-07-10T00:51:47.987Z"
   },
   {
    "duration": 186,
    "start_time": "2022-07-10T00:51:48.003Z"
   },
   {
    "duration": 10,
    "start_time": "2022-07-10T00:52:22.897Z"
   },
   {
    "duration": 367,
    "start_time": "2022-07-10T00:53:55.030Z"
   },
   {
    "duration": 208,
    "start_time": "2022-07-10T00:54:25.703Z"
   },
   {
    "duration": 202,
    "start_time": "2022-07-10T01:08:13.175Z"
   },
   {
    "duration": 9,
    "start_time": "2022-07-10T01:09:16.550Z"
   },
   {
    "duration": 222,
    "start_time": "2022-07-10T01:15:49.630Z"
   },
   {
    "duration": 8,
    "start_time": "2022-07-10T01:16:23.397Z"
   },
   {
    "duration": 3,
    "start_time": "2022-07-10T02:02:50.024Z"
   },
   {
    "duration": 9,
    "start_time": "2022-07-10T02:02:52.678Z"
   },
   {
    "duration": 221,
    "start_time": "2022-07-10T02:10:41.149Z"
   },
   {
    "duration": 118,
    "start_time": "2022-07-10T02:10:48.710Z"
   },
   {
    "duration": 118,
    "start_time": "2022-07-10T02:10:55.925Z"
   },
   {
    "duration": 285,
    "start_time": "2022-07-10T02:11:28.957Z"
   },
   {
    "duration": 116,
    "start_time": "2022-07-10T02:15:35.849Z"
   },
   {
    "duration": 127,
    "start_time": "2022-07-10T02:16:28.272Z"
   },
   {
    "duration": 519,
    "start_time": "2022-07-10T02:18:49.794Z"
   },
   {
    "duration": 29,
    "start_time": "2022-07-10T02:18:50.316Z"
   },
   {
    "duration": 2154,
    "start_time": "2022-07-10T02:18:50.347Z"
   },
   {
    "duration": 4,
    "start_time": "2022-07-10T02:18:52.503Z"
   },
   {
    "duration": 13,
    "start_time": "2022-07-10T02:18:52.508Z"
   },
   {
    "duration": 14,
    "start_time": "2022-07-10T02:18:52.523Z"
   },
   {
    "duration": 6,
    "start_time": "2022-07-10T02:18:52.539Z"
   },
   {
    "duration": 9,
    "start_time": "2022-07-10T02:18:52.547Z"
   },
   {
    "duration": 44,
    "start_time": "2022-07-10T02:18:52.557Z"
   },
   {
    "duration": 7,
    "start_time": "2022-07-10T02:18:52.604Z"
   },
   {
    "duration": 356,
    "start_time": "2022-07-10T02:18:52.613Z"
   },
   {
    "duration": 6,
    "start_time": "2022-07-10T02:18:52.971Z"
   },
   {
    "duration": 42,
    "start_time": "2022-07-10T02:18:52.979Z"
   },
   {
    "duration": 193,
    "start_time": "2022-07-10T02:18:53.022Z"
   },
   {
    "duration": 9,
    "start_time": "2022-07-10T02:18:53.217Z"
   },
   {
    "duration": 179,
    "start_time": "2022-07-10T02:18:53.227Z"
   },
   {
    "duration": 181,
    "start_time": "2022-07-10T02:18:53.407Z"
   },
   {
    "duration": 11,
    "start_time": "2022-07-10T02:18:53.590Z"
   },
   {
    "duration": 9,
    "start_time": "2022-07-10T02:18:53.603Z"
   },
   {
    "duration": 6,
    "start_time": "2022-07-10T02:18:53.614Z"
   },
   {
    "duration": 7,
    "start_time": "2022-07-10T02:18:53.621Z"
   },
   {
    "duration": 140,
    "start_time": "2022-07-10T02:18:53.629Z"
   },
   {
    "duration": 184,
    "start_time": "2022-07-10T02:18:53.771Z"
   },
   {
    "duration": 6,
    "start_time": "2022-07-10T02:18:53.957Z"
   },
   {
    "duration": 226,
    "start_time": "2022-07-10T02:18:53.964Z"
   },
   {
    "duration": 149,
    "start_time": "2022-07-10T02:18:54.192Z"
   },
   {
    "duration": 9,
    "start_time": "2022-07-10T02:18:54.342Z"
   },
   {
    "duration": 7,
    "start_time": "2022-07-10T02:18:54.354Z"
   },
   {
    "duration": 170,
    "start_time": "2022-07-10T02:18:54.362Z"
   },
   {
    "duration": 158,
    "start_time": "2022-07-10T02:18:54.533Z"
   },
   {
    "duration": 12,
    "start_time": "2022-07-10T02:18:54.693Z"
   },
   {
    "duration": 9,
    "start_time": "2022-07-10T02:18:54.706Z"
   },
   {
    "duration": 150,
    "start_time": "2022-07-10T02:18:54.716Z"
   },
   {
    "duration": 9,
    "start_time": "2022-07-10T02:18:54.867Z"
   },
   {
    "duration": 8,
    "start_time": "2022-07-10T02:18:54.877Z"
   },
   {
    "duration": 140,
    "start_time": "2022-07-10T02:18:54.900Z"
   },
   {
    "duration": 8,
    "start_time": "2022-07-10T02:18:55.041Z"
   },
   {
    "duration": 4,
    "start_time": "2022-07-10T02:18:55.051Z"
   },
   {
    "duration": 173,
    "start_time": "2022-07-10T02:18:55.056Z"
   },
   {
    "duration": 31,
    "start_time": "2022-07-10T02:18:55.232Z"
   },
   {
    "duration": 53,
    "start_time": "2022-07-10T02:18:55.265Z"
   },
   {
    "duration": 33,
    "start_time": "2022-07-10T02:18:55.321Z"
   },
   {
    "duration": 123,
    "start_time": "2022-07-10T02:18:55.356Z"
   },
   {
    "duration": 37,
    "start_time": "2022-07-10T02:18:55.480Z"
   },
   {
    "duration": 197,
    "start_time": "2022-07-10T02:18:55.518Z"
   },
   {
    "duration": 8,
    "start_time": "2022-07-10T02:18:55.716Z"
   },
   {
    "duration": 207,
    "start_time": "2022-07-10T02:18:55.725Z"
   },
   {
    "duration": 8,
    "start_time": "2022-07-10T02:18:55.933Z"
   },
   {
    "duration": 299,
    "start_time": "2022-07-10T02:18:55.942Z"
   },
   {
    "duration": 10,
    "start_time": "2022-07-10T02:18:56.243Z"
   },
   {
    "duration": 220,
    "start_time": "2022-07-10T02:18:56.254Z"
   },
   {
    "duration": 4,
    "start_time": "2022-07-10T02:18:56.475Z"
   },
   {
    "duration": 21,
    "start_time": "2022-07-10T02:18:56.480Z"
   },
   {
    "duration": 130,
    "start_time": "2022-07-10T02:18:56.503Z"
   },
   {
    "duration": 477,
    "start_time": "2022-07-10T02:19:45.408Z"
   },
   {
    "duration": 30,
    "start_time": "2022-07-10T02:19:45.887Z"
   },
   {
    "duration": 2001,
    "start_time": "2022-07-10T02:19:45.919Z"
   },
   {
    "duration": 4,
    "start_time": "2022-07-10T02:19:47.922Z"
   },
   {
    "duration": 14,
    "start_time": "2022-07-10T02:19:47.928Z"
   },
   {
    "duration": 11,
    "start_time": "2022-07-10T02:19:47.944Z"
   },
   {
    "duration": 5,
    "start_time": "2022-07-10T02:19:47.957Z"
   },
   {
    "duration": 9,
    "start_time": "2022-07-10T02:19:47.963Z"
   },
   {
    "duration": 11,
    "start_time": "2022-07-10T02:19:47.974Z"
   },
   {
    "duration": 14,
    "start_time": "2022-07-10T02:19:47.986Z"
   },
   {
    "duration": 326,
    "start_time": "2022-07-10T02:19:48.002Z"
   },
   {
    "duration": 6,
    "start_time": "2022-07-10T02:19:48.329Z"
   },
   {
    "duration": 27,
    "start_time": "2022-07-10T02:19:48.336Z"
   },
   {
    "duration": 184,
    "start_time": "2022-07-10T02:19:48.366Z"
   },
   {
    "duration": 10,
    "start_time": "2022-07-10T02:19:48.552Z"
   },
   {
    "duration": 168,
    "start_time": "2022-07-10T02:19:48.564Z"
   },
   {
    "duration": 178,
    "start_time": "2022-07-10T02:19:48.734Z"
   },
   {
    "duration": 7,
    "start_time": "2022-07-10T02:19:48.914Z"
   },
   {
    "duration": 9,
    "start_time": "2022-07-10T02:19:48.922Z"
   },
   {
    "duration": 5,
    "start_time": "2022-07-10T02:19:48.933Z"
   },
   {
    "duration": 6,
    "start_time": "2022-07-10T02:19:48.940Z"
   },
   {
    "duration": 146,
    "start_time": "2022-07-10T02:19:48.948Z"
   },
   {
    "duration": 172,
    "start_time": "2022-07-10T02:19:49.100Z"
   },
   {
    "duration": 5,
    "start_time": "2022-07-10T02:19:49.274Z"
   },
   {
    "duration": 242,
    "start_time": "2022-07-10T02:19:49.281Z"
   },
   {
    "duration": 158,
    "start_time": "2022-07-10T02:19:49.525Z"
   },
   {
    "duration": 19,
    "start_time": "2022-07-10T02:19:49.685Z"
   },
   {
    "duration": 8,
    "start_time": "2022-07-10T02:19:49.706Z"
   },
   {
    "duration": 186,
    "start_time": "2022-07-10T02:19:49.715Z"
   },
   {
    "duration": 175,
    "start_time": "2022-07-10T02:19:49.902Z"
   },
   {
    "duration": 9,
    "start_time": "2022-07-10T02:19:50.078Z"
   },
   {
    "duration": 18,
    "start_time": "2022-07-10T02:19:50.089Z"
   },
   {
    "duration": 168,
    "start_time": "2022-07-10T02:19:50.108Z"
   },
   {
    "duration": 8,
    "start_time": "2022-07-10T02:19:50.278Z"
   },
   {
    "duration": 17,
    "start_time": "2022-07-10T02:19:50.288Z"
   },
   {
    "duration": 164,
    "start_time": "2022-07-10T02:19:50.307Z"
   },
   {
    "duration": 9,
    "start_time": "2022-07-10T02:19:50.472Z"
   },
   {
    "duration": 4,
    "start_time": "2022-07-10T02:19:50.483Z"
   },
   {
    "duration": 161,
    "start_time": "2022-07-10T02:19:50.501Z"
   },
   {
    "duration": 38,
    "start_time": "2022-07-10T02:19:50.664Z"
   },
   {
    "duration": 27,
    "start_time": "2022-07-10T02:19:50.705Z"
   },
   {
    "duration": 26,
    "start_time": "2022-07-10T02:19:50.734Z"
   },
   {
    "duration": 132,
    "start_time": "2022-07-10T02:19:50.762Z"
   },
   {
    "duration": 27,
    "start_time": "2022-07-10T02:19:50.896Z"
   },
   {
    "duration": 208,
    "start_time": "2022-07-10T02:19:50.924Z"
   },
   {
    "duration": 9,
    "start_time": "2022-07-10T02:19:51.133Z"
   },
   {
    "duration": 229,
    "start_time": "2022-07-10T02:19:51.143Z"
   },
   {
    "duration": 9,
    "start_time": "2022-07-10T02:19:51.373Z"
   },
   {
    "duration": 332,
    "start_time": "2022-07-10T02:19:51.384Z"
   },
   {
    "duration": 9,
    "start_time": "2022-07-10T02:19:51.717Z"
   },
   {
    "duration": 240,
    "start_time": "2022-07-10T02:19:51.728Z"
   },
   {
    "duration": 3,
    "start_time": "2022-07-10T02:19:51.970Z"
   },
   {
    "duration": 14,
    "start_time": "2022-07-10T02:19:51.974Z"
   },
   {
    "duration": 459,
    "start_time": "2022-07-10T02:20:53.349Z"
   },
   {
    "duration": 32,
    "start_time": "2022-07-10T02:20:53.810Z"
   },
   {
    "duration": 2051,
    "start_time": "2022-07-10T02:20:53.845Z"
   },
   {
    "duration": 4,
    "start_time": "2022-07-10T02:20:55.898Z"
   },
   {
    "duration": 25,
    "start_time": "2022-07-10T02:20:55.904Z"
   },
   {
    "duration": 21,
    "start_time": "2022-07-10T02:20:55.930Z"
   },
   {
    "duration": 6,
    "start_time": "2022-07-10T02:20:55.952Z"
   },
   {
    "duration": 8,
    "start_time": "2022-07-10T02:20:55.959Z"
   },
   {
    "duration": 10,
    "start_time": "2022-07-10T02:20:55.968Z"
   },
   {
    "duration": 5,
    "start_time": "2022-07-10T02:20:55.980Z"
   },
   {
    "duration": 335,
    "start_time": "2022-07-10T02:20:55.986Z"
   },
   {
    "duration": 6,
    "start_time": "2022-07-10T02:20:56.322Z"
   },
   {
    "duration": 26,
    "start_time": "2022-07-10T02:20:56.329Z"
   },
   {
    "duration": 179,
    "start_time": "2022-07-10T02:20:56.358Z"
   },
   {
    "duration": 9,
    "start_time": "2022-07-10T02:20:56.539Z"
   },
   {
    "duration": 158,
    "start_time": "2022-07-10T02:20:56.550Z"
   },
   {
    "duration": 178,
    "start_time": "2022-07-10T02:20:56.709Z"
   },
   {
    "duration": 6,
    "start_time": "2022-07-10T02:20:56.888Z"
   },
   {
    "duration": 8,
    "start_time": "2022-07-10T02:20:56.900Z"
   },
   {
    "duration": 9,
    "start_time": "2022-07-10T02:20:56.909Z"
   },
   {
    "duration": 10,
    "start_time": "2022-07-10T02:20:56.920Z"
   },
   {
    "duration": 141,
    "start_time": "2022-07-10T02:20:56.932Z"
   },
   {
    "duration": 174,
    "start_time": "2022-07-10T02:20:57.075Z"
   },
   {
    "duration": 6,
    "start_time": "2022-07-10T02:20:57.250Z"
   },
   {
    "duration": 215,
    "start_time": "2022-07-10T02:20:57.258Z"
   },
   {
    "duration": 153,
    "start_time": "2022-07-10T02:20:57.475Z"
   },
   {
    "duration": 8,
    "start_time": "2022-07-10T02:20:57.629Z"
   },
   {
    "duration": 7,
    "start_time": "2022-07-10T02:20:57.639Z"
   },
   {
    "duration": 182,
    "start_time": "2022-07-10T02:20:57.648Z"
   },
   {
    "duration": 150,
    "start_time": "2022-07-10T02:20:57.832Z"
   },
   {
    "duration": 18,
    "start_time": "2022-07-10T02:20:57.984Z"
   },
   {
    "duration": 7,
    "start_time": "2022-07-10T02:20:58.004Z"
   },
   {
    "duration": 149,
    "start_time": "2022-07-10T02:20:58.012Z"
   },
   {
    "duration": 8,
    "start_time": "2022-07-10T02:20:58.163Z"
   },
   {
    "duration": 8,
    "start_time": "2022-07-10T02:20:58.172Z"
   },
   {
    "duration": 154,
    "start_time": "2022-07-10T02:20:58.181Z"
   },
   {
    "duration": 8,
    "start_time": "2022-07-10T02:20:58.336Z"
   },
   {
    "duration": 4,
    "start_time": "2022-07-10T02:20:58.345Z"
   },
   {
    "duration": 157,
    "start_time": "2022-07-10T02:20:58.350Z"
   },
   {
    "duration": 26,
    "start_time": "2022-07-10T02:20:58.508Z"
   },
   {
    "duration": 25,
    "start_time": "2022-07-10T02:20:58.537Z"
   },
   {
    "duration": 45,
    "start_time": "2022-07-10T02:20:58.563Z"
   },
   {
    "duration": 109,
    "start_time": "2022-07-10T02:20:58.610Z"
   },
   {
    "duration": 24,
    "start_time": "2022-07-10T02:20:58.721Z"
   },
   {
    "duration": 203,
    "start_time": "2022-07-10T02:20:58.746Z"
   },
   {
    "duration": 7,
    "start_time": "2022-07-10T02:20:58.951Z"
   },
   {
    "duration": 212,
    "start_time": "2022-07-10T02:20:58.959Z"
   },
   {
    "duration": 7,
    "start_time": "2022-07-10T02:20:59.173Z"
   },
   {
    "duration": 311,
    "start_time": "2022-07-10T02:20:59.182Z"
   },
   {
    "duration": 12,
    "start_time": "2022-07-10T02:20:59.495Z"
   },
   {
    "duration": 219,
    "start_time": "2022-07-10T02:20:59.509Z"
   },
   {
    "duration": 3,
    "start_time": "2022-07-10T02:20:59.729Z"
   },
   {
    "duration": 12,
    "start_time": "2022-07-10T02:20:59.734Z"
   },
   {
    "duration": 140,
    "start_time": "2022-07-10T02:20:59.747Z"
   },
   {
    "duration": 126,
    "start_time": "2022-07-10T02:21:10.491Z"
   },
   {
    "duration": 5,
    "start_time": "2022-07-10T02:21:40.443Z"
   },
   {
    "duration": 120,
    "start_time": "2022-07-10T02:21:52.210Z"
   },
   {
    "duration": 465,
    "start_time": "2022-07-10T02:26:12.027Z"
   },
   {
    "duration": 29,
    "start_time": "2022-07-10T02:26:12.495Z"
   },
   {
    "duration": 2075,
    "start_time": "2022-07-10T02:26:12.525Z"
   },
   {
    "duration": 4,
    "start_time": "2022-07-10T02:26:14.603Z"
   },
   {
    "duration": 23,
    "start_time": "2022-07-10T02:26:14.608Z"
   },
   {
    "duration": 15,
    "start_time": "2022-07-10T02:26:14.633Z"
   },
   {
    "duration": 6,
    "start_time": "2022-07-10T02:26:14.649Z"
   },
   {
    "duration": 9,
    "start_time": "2022-07-10T02:26:14.656Z"
   },
   {
    "duration": 14,
    "start_time": "2022-07-10T02:26:14.666Z"
   },
   {
    "duration": 19,
    "start_time": "2022-07-10T02:26:14.682Z"
   },
   {
    "duration": 321,
    "start_time": "2022-07-10T02:26:14.703Z"
   },
   {
    "duration": 7,
    "start_time": "2022-07-10T02:26:15.026Z"
   },
   {
    "duration": 38,
    "start_time": "2022-07-10T02:26:15.035Z"
   },
   {
    "duration": 210,
    "start_time": "2022-07-10T02:26:15.075Z"
   },
   {
    "duration": 24,
    "start_time": "2022-07-10T02:26:15.287Z"
   },
   {
    "duration": 191,
    "start_time": "2022-07-10T02:26:15.313Z"
   },
   {
    "duration": 165,
    "start_time": "2022-07-10T02:26:15.506Z"
   },
   {
    "duration": 5,
    "start_time": "2022-07-10T02:26:15.673Z"
   },
   {
    "duration": 21,
    "start_time": "2022-07-10T02:26:15.680Z"
   },
   {
    "duration": 6,
    "start_time": "2022-07-10T02:26:15.702Z"
   },
   {
    "duration": 6,
    "start_time": "2022-07-10T02:26:15.709Z"
   },
   {
    "duration": 145,
    "start_time": "2022-07-10T02:26:15.716Z"
   },
   {
    "duration": 168,
    "start_time": "2022-07-10T02:26:15.862Z"
   },
   {
    "duration": 6,
    "start_time": "2022-07-10T02:26:16.031Z"
   },
   {
    "duration": 216,
    "start_time": "2022-07-10T02:26:16.038Z"
   },
   {
    "duration": 148,
    "start_time": "2022-07-10T02:26:16.255Z"
   },
   {
    "duration": 8,
    "start_time": "2022-07-10T02:26:16.404Z"
   },
   {
    "duration": 7,
    "start_time": "2022-07-10T02:26:16.415Z"
   },
   {
    "duration": 177,
    "start_time": "2022-07-10T02:26:16.423Z"
   },
   {
    "duration": 149,
    "start_time": "2022-07-10T02:26:16.602Z"
   },
   {
    "duration": 7,
    "start_time": "2022-07-10T02:26:16.753Z"
   },
   {
    "duration": 10,
    "start_time": "2022-07-10T02:26:16.762Z"
   },
   {
    "duration": 154,
    "start_time": "2022-07-10T02:26:16.773Z"
   },
   {
    "duration": 9,
    "start_time": "2022-07-10T02:26:16.929Z"
   },
   {
    "duration": 9,
    "start_time": "2022-07-10T02:26:16.939Z"
   },
   {
    "duration": 167,
    "start_time": "2022-07-10T02:26:16.949Z"
   },
   {
    "duration": 7,
    "start_time": "2022-07-10T02:26:17.118Z"
   },
   {
    "duration": 3,
    "start_time": "2022-07-10T02:26:17.127Z"
   },
   {
    "duration": 158,
    "start_time": "2022-07-10T02:26:17.132Z"
   },
   {
    "duration": 30,
    "start_time": "2022-07-10T02:26:17.291Z"
   },
   {
    "duration": 23,
    "start_time": "2022-07-10T02:26:17.323Z"
   },
   {
    "duration": 26,
    "start_time": "2022-07-10T02:26:17.347Z"
   },
   {
    "duration": 136,
    "start_time": "2022-07-10T02:26:17.374Z"
   },
   {
    "duration": 25,
    "start_time": "2022-07-10T02:26:17.512Z"
   },
   {
    "duration": 211,
    "start_time": "2022-07-10T02:26:17.538Z"
   },
   {
    "duration": 8,
    "start_time": "2022-07-10T02:26:17.750Z"
   },
   {
    "duration": 213,
    "start_time": "2022-07-10T02:26:17.760Z"
   },
   {
    "duration": 8,
    "start_time": "2022-07-10T02:26:17.975Z"
   },
   {
    "duration": 319,
    "start_time": "2022-07-10T02:26:17.984Z"
   },
   {
    "duration": 8,
    "start_time": "2022-07-10T02:26:18.305Z"
   },
   {
    "duration": 225,
    "start_time": "2022-07-10T02:26:18.315Z"
   },
   {
    "duration": 3,
    "start_time": "2022-07-10T02:26:18.542Z"
   },
   {
    "duration": 24,
    "start_time": "2022-07-10T02:26:18.546Z"
   },
   {
    "duration": 116,
    "start_time": "2022-07-10T02:29:25.630Z"
   },
   {
    "duration": 6,
    "start_time": "2022-07-10T02:29:42.106Z"
   },
   {
    "duration": 137,
    "start_time": "2022-07-10T02:30:29.898Z"
   },
   {
    "duration": 134,
    "start_time": "2022-07-10T02:30:45.113Z"
   },
   {
    "duration": 5,
    "start_time": "2022-07-10T02:32:05.779Z"
   },
   {
    "duration": 8,
    "start_time": "2022-07-10T02:35:01.286Z"
   },
   {
    "duration": 140,
    "start_time": "2022-07-10T02:40:09.639Z"
   },
   {
    "duration": 142,
    "start_time": "2022-07-10T02:40:23.740Z"
   },
   {
    "duration": 9,
    "start_time": "2022-07-10T02:40:53.150Z"
   },
   {
    "duration": 8,
    "start_time": "2022-07-10T02:42:22.579Z"
   },
   {
    "duration": 148,
    "start_time": "2022-07-10T02:46:03.197Z"
   },
   {
    "duration": 159,
    "start_time": "2022-07-10T02:46:11.045Z"
   },
   {
    "duration": 8,
    "start_time": "2022-07-10T02:46:42.063Z"
   },
   {
    "duration": 163,
    "start_time": "2022-07-10T02:46:50.950Z"
   },
   {
    "duration": 71,
    "start_time": "2022-07-10T02:49:00.204Z"
   },
   {
    "duration": 98,
    "start_time": "2022-07-10T02:53:46.765Z"
   },
   {
    "duration": 6,
    "start_time": "2022-07-10T02:54:13.445Z"
   },
   {
    "duration": 153,
    "start_time": "2022-07-10T02:56:59.152Z"
   },
   {
    "duration": 9,
    "start_time": "2022-07-10T02:57:16.441Z"
   },
   {
    "duration": 189,
    "start_time": "2022-07-10T02:57:24.159Z"
   },
   {
    "duration": 8,
    "start_time": "2022-07-10T02:59:55.637Z"
   },
   {
    "duration": 6,
    "start_time": "2022-07-10T03:00:25.396Z"
   },
   {
    "duration": 14,
    "start_time": "2022-07-10T03:03:09.498Z"
   },
   {
    "duration": 7,
    "start_time": "2022-07-10T03:03:37.144Z"
   },
   {
    "duration": 8,
    "start_time": "2022-07-10T03:05:23.383Z"
   },
   {
    "duration": 178,
    "start_time": "2022-07-10T03:05:46.502Z"
   },
   {
    "duration": 238,
    "start_time": "2022-07-10T03:05:54.205Z"
   },
   {
    "duration": 9,
    "start_time": "2022-07-10T03:09:49.858Z"
   },
   {
    "duration": 125,
    "start_time": "2022-07-10T03:10:03.386Z"
   },
   {
    "duration": 241,
    "start_time": "2022-07-10T03:10:11.087Z"
   },
   {
    "duration": 11,
    "start_time": "2022-07-10T03:14:09.964Z"
   },
   {
    "duration": 131,
    "start_time": "2022-07-10T03:14:21.533Z"
   },
   {
    "duration": 234,
    "start_time": "2022-07-10T03:14:31.986Z"
   },
   {
    "duration": 16,
    "start_time": "2022-07-10T07:04:52.245Z"
   },
   {
    "duration": 83,
    "start_time": "2022-07-10T07:05:19.278Z"
   },
   {
    "duration": 92,
    "start_time": "2022-07-10T07:05:35.692Z"
   },
   {
    "duration": 11,
    "start_time": "2022-07-10T07:06:21.221Z"
   },
   {
    "duration": 4194,
    "start_time": "2022-07-10T07:06:46.909Z"
   },
   {
    "duration": 4496,
    "start_time": "2022-07-10T07:09:38.569Z"
   },
   {
    "duration": 4638,
    "start_time": "2022-07-10T07:09:59.513Z"
   },
   {
    "duration": 4527,
    "start_time": "2022-07-10T07:10:11.993Z"
   },
   {
    "duration": 5748,
    "start_time": "2022-07-10T07:11:08.752Z"
   },
   {
    "duration": 5998,
    "start_time": "2022-07-10T07:11:25.647Z"
   },
   {
    "duration": 4699,
    "start_time": "2022-07-10T07:11:38.031Z"
   },
   {
    "duration": 2206,
    "start_time": "2022-07-10T07:13:18.926Z"
   },
   {
    "duration": 2158,
    "start_time": "2022-07-10T07:13:52.781Z"
   },
   {
    "duration": 2031,
    "start_time": "2022-07-10T07:14:04.981Z"
   },
   {
    "duration": 110,
    "start_time": "2022-07-10T07:14:19.813Z"
   },
   {
    "duration": 10,
    "start_time": "2022-07-10T07:14:40.366Z"
   },
   {
    "duration": 504,
    "start_time": "2022-07-10T07:16:15.401Z"
   },
   {
    "duration": 30,
    "start_time": "2022-07-10T07:16:15.908Z"
   },
   {
    "duration": 2057,
    "start_time": "2022-07-10T07:16:15.939Z"
   },
   {
    "duration": 5,
    "start_time": "2022-07-10T07:16:17.999Z"
   },
   {
    "duration": 13,
    "start_time": "2022-07-10T07:16:18.005Z"
   },
   {
    "duration": 13,
    "start_time": "2022-07-10T07:16:18.020Z"
   },
   {
    "duration": 7,
    "start_time": "2022-07-10T07:16:18.034Z"
   },
   {
    "duration": 9,
    "start_time": "2022-07-10T07:16:18.042Z"
   },
   {
    "duration": 11,
    "start_time": "2022-07-10T07:16:18.052Z"
   },
   {
    "duration": 36,
    "start_time": "2022-07-10T07:16:18.065Z"
   },
   {
    "duration": 338,
    "start_time": "2022-07-10T07:16:18.102Z"
   },
   {
    "duration": 7,
    "start_time": "2022-07-10T07:16:18.441Z"
   },
   {
    "duration": 26,
    "start_time": "2022-07-10T07:16:18.450Z"
   },
   {
    "duration": 198,
    "start_time": "2022-07-10T07:16:18.477Z"
   },
   {
    "duration": 10,
    "start_time": "2022-07-10T07:16:18.677Z"
   },
   {
    "duration": 174,
    "start_time": "2022-07-10T07:16:18.688Z"
   },
   {
    "duration": 182,
    "start_time": "2022-07-10T07:16:18.864Z"
   },
   {
    "duration": 6,
    "start_time": "2022-07-10T07:16:19.048Z"
   },
   {
    "duration": 10,
    "start_time": "2022-07-10T07:16:19.055Z"
   },
   {
    "duration": 7,
    "start_time": "2022-07-10T07:16:19.066Z"
   },
   {
    "duration": 32,
    "start_time": "2022-07-10T07:16:19.074Z"
   },
   {
    "duration": 135,
    "start_time": "2022-07-10T07:16:19.107Z"
   },
   {
    "duration": 182,
    "start_time": "2022-07-10T07:16:19.244Z"
   },
   {
    "duration": 5,
    "start_time": "2022-07-10T07:16:19.428Z"
   },
   {
    "duration": 240,
    "start_time": "2022-07-10T07:16:19.435Z"
   },
   {
    "duration": 157,
    "start_time": "2022-07-10T07:16:19.676Z"
   },
   {
    "duration": 10,
    "start_time": "2022-07-10T07:16:19.834Z"
   },
   {
    "duration": 8,
    "start_time": "2022-07-10T07:16:19.847Z"
   },
   {
    "duration": 183,
    "start_time": "2022-07-10T07:16:19.857Z"
   },
   {
    "duration": 172,
    "start_time": "2022-07-10T07:16:20.042Z"
   },
   {
    "duration": 12,
    "start_time": "2022-07-10T07:16:20.216Z"
   },
   {
    "duration": 13,
    "start_time": "2022-07-10T07:16:20.229Z"
   },
   {
    "duration": 174,
    "start_time": "2022-07-10T07:16:20.244Z"
   },
   {
    "duration": 9,
    "start_time": "2022-07-10T07:16:20.419Z"
   },
   {
    "duration": 11,
    "start_time": "2022-07-10T07:16:20.429Z"
   },
   {
    "duration": 160,
    "start_time": "2022-07-10T07:16:20.442Z"
   },
   {
    "duration": 8,
    "start_time": "2022-07-10T07:16:20.604Z"
   },
   {
    "duration": 4,
    "start_time": "2022-07-10T07:16:20.614Z"
   },
   {
    "duration": 172,
    "start_time": "2022-07-10T07:16:20.620Z"
   },
   {
    "duration": 28,
    "start_time": "2022-07-10T07:16:20.793Z"
   },
   {
    "duration": 29,
    "start_time": "2022-07-10T07:16:20.822Z"
   },
   {
    "duration": 23,
    "start_time": "2022-07-10T07:16:20.853Z"
   },
   {
    "duration": 126,
    "start_time": "2022-07-10T07:16:20.902Z"
   },
   {
    "duration": 32,
    "start_time": "2022-07-10T07:16:21.031Z"
   },
   {
    "duration": 227,
    "start_time": "2022-07-10T07:16:21.064Z"
   },
   {
    "duration": 13,
    "start_time": "2022-07-10T07:16:21.293Z"
   },
   {
    "duration": 318,
    "start_time": "2022-07-10T07:16:21.308Z"
   },
   {
    "duration": 9,
    "start_time": "2022-07-10T07:16:21.628Z"
   },
   {
    "duration": 232,
    "start_time": "2022-07-10T07:16:21.639Z"
   },
   {
    "duration": 8,
    "start_time": "2022-07-10T07:16:21.873Z"
   },
   {
    "duration": 229,
    "start_time": "2022-07-10T07:16:21.883Z"
   },
   {
    "duration": 3,
    "start_time": "2022-07-10T07:16:22.113Z"
   },
   {
    "duration": 11,
    "start_time": "2022-07-10T07:16:22.118Z"
   },
   {
    "duration": 144,
    "start_time": "2022-07-10T07:16:22.130Z"
   },
   {
    "duration": 6,
    "start_time": "2022-07-10T07:16:22.276Z"
   },
   {
    "duration": 20,
    "start_time": "2022-07-10T07:16:22.283Z"
   },
   {
    "duration": 140,
    "start_time": "2022-07-10T07:16:22.305Z"
   },
   {
    "duration": 9,
    "start_time": "2022-07-10T07:16:22.447Z"
   },
   {
    "duration": 179,
    "start_time": "2022-07-10T07:16:22.458Z"
   },
   {
    "duration": 9,
    "start_time": "2022-07-10T07:16:22.638Z"
   },
   {
    "duration": 119,
    "start_time": "2022-07-10T07:16:22.648Z"
   },
   {
    "duration": 6,
    "start_time": "2022-07-10T07:16:22.769Z"
   },
   {
    "duration": 194,
    "start_time": "2022-07-10T07:16:22.776Z"
   },
   {
    "duration": 8,
    "start_time": "2022-07-10T07:16:22.972Z"
   },
   {
    "duration": 21,
    "start_time": "2022-07-10T07:16:22.982Z"
   },
   {
    "duration": 10,
    "start_time": "2022-07-10T07:16:23.005Z"
   },
   {
    "duration": 245,
    "start_time": "2022-07-10T07:16:23.017Z"
   },
   {
    "duration": 8,
    "start_time": "2022-07-10T07:16:23.264Z"
   },
   {
    "duration": 393,
    "start_time": "2022-07-10T07:16:23.274Z"
   },
   {
    "duration": 8,
    "start_time": "2022-07-10T07:16:23.668Z"
   },
   {
    "duration": 265,
    "start_time": "2022-07-10T07:16:23.678Z"
   },
   {
    "duration": 102,
    "start_time": "2022-07-10T07:16:23.945Z"
   },
   {
    "duration": 4697,
    "start_time": "2022-07-10T07:16:24.049Z"
   },
   {
    "duration": 10,
    "start_time": "2022-07-10T07:16:28.748Z"
   },
   {
    "duration": 9,
    "start_time": "2022-07-10T07:16:55.583Z"
   },
   {
    "duration": 8,
    "start_time": "2022-07-10T07:17:55.038Z"
   },
   {
    "duration": 8,
    "start_time": "2022-07-10T07:18:51.532Z"
   },
   {
    "duration": 11,
    "start_time": "2022-07-10T07:19:03.581Z"
   },
   {
    "duration": 9,
    "start_time": "2022-07-10T07:19:24.412Z"
   },
   {
    "duration": 9,
    "start_time": "2022-07-10T07:19:39.004Z"
   },
   {
    "duration": 10,
    "start_time": "2022-07-10T07:19:51.507Z"
   },
   {
    "duration": 11,
    "start_time": "2022-07-10T07:19:59.475Z"
   },
   {
    "duration": 4824,
    "start_time": "2022-07-10T07:23:54.759Z"
   },
   {
    "duration": 4643,
    "start_time": "2022-07-10T07:24:11.526Z"
   },
   {
    "duration": 4636,
    "start_time": "2022-07-10T07:25:28.220Z"
   },
   {
    "duration": 4660,
    "start_time": "2022-07-10T07:31:37.582Z"
   },
   {
    "duration": 484,
    "start_time": "2022-07-10T07:38:09.601Z"
   },
   {
    "duration": 31,
    "start_time": "2022-07-10T07:38:10.087Z"
   },
   {
    "duration": 2193,
    "start_time": "2022-07-10T07:38:10.119Z"
   },
   {
    "duration": 4,
    "start_time": "2022-07-10T07:38:12.315Z"
   },
   {
    "duration": 19,
    "start_time": "2022-07-10T07:38:12.321Z"
   },
   {
    "duration": 15,
    "start_time": "2022-07-10T07:38:12.341Z"
   },
   {
    "duration": 6,
    "start_time": "2022-07-10T07:38:12.358Z"
   },
   {
    "duration": 9,
    "start_time": "2022-07-10T07:38:12.366Z"
   },
   {
    "duration": 10,
    "start_time": "2022-07-10T07:38:12.377Z"
   },
   {
    "duration": 7,
    "start_time": "2022-07-10T07:38:12.400Z"
   },
   {
    "duration": 348,
    "start_time": "2022-07-10T07:38:12.409Z"
   },
   {
    "duration": 7,
    "start_time": "2022-07-10T07:38:12.759Z"
   },
   {
    "duration": 36,
    "start_time": "2022-07-10T07:38:12.767Z"
   },
   {
    "duration": 168,
    "start_time": "2022-07-10T07:38:12.805Z"
   },
   {
    "duration": 8,
    "start_time": "2022-07-10T07:38:12.975Z"
   },
   {
    "duration": 163,
    "start_time": "2022-07-10T07:38:12.984Z"
   },
   {
    "duration": 171,
    "start_time": "2022-07-10T07:38:13.148Z"
   },
   {
    "duration": 6,
    "start_time": "2022-07-10T07:38:13.320Z"
   },
   {
    "duration": 9,
    "start_time": "2022-07-10T07:38:13.328Z"
   },
   {
    "duration": 6,
    "start_time": "2022-07-10T07:38:13.338Z"
   },
   {
    "duration": 8,
    "start_time": "2022-07-10T07:38:13.345Z"
   },
   {
    "duration": 160,
    "start_time": "2022-07-10T07:38:13.354Z"
   },
   {
    "duration": 179,
    "start_time": "2022-07-10T07:38:13.516Z"
   },
   {
    "duration": 5,
    "start_time": "2022-07-10T07:38:13.700Z"
   },
   {
    "duration": 244,
    "start_time": "2022-07-10T07:38:13.706Z"
   },
   {
    "duration": 164,
    "start_time": "2022-07-10T07:38:13.952Z"
   },
   {
    "duration": 9,
    "start_time": "2022-07-10T07:38:14.118Z"
   },
   {
    "duration": 27,
    "start_time": "2022-07-10T07:38:14.130Z"
   },
   {
    "duration": 157,
    "start_time": "2022-07-10T07:38:14.158Z"
   },
   {
    "duration": 163,
    "start_time": "2022-07-10T07:38:14.317Z"
   },
   {
    "duration": 8,
    "start_time": "2022-07-10T07:38:14.481Z"
   },
   {
    "duration": 9,
    "start_time": "2022-07-10T07:38:14.500Z"
   },
   {
    "duration": 152,
    "start_time": "2022-07-10T07:38:14.510Z"
   },
   {
    "duration": 8,
    "start_time": "2022-07-10T07:38:14.664Z"
   },
   {
    "duration": 9,
    "start_time": "2022-07-10T07:38:14.673Z"
   },
   {
    "duration": 163,
    "start_time": "2022-07-10T07:38:14.683Z"
   },
   {
    "duration": 8,
    "start_time": "2022-07-10T07:38:14.848Z"
   },
   {
    "duration": 3,
    "start_time": "2022-07-10T07:38:14.858Z"
   },
   {
    "duration": 164,
    "start_time": "2022-07-10T07:38:14.862Z"
   },
   {
    "duration": 30,
    "start_time": "2022-07-10T07:38:15.027Z"
   },
   {
    "duration": 43,
    "start_time": "2022-07-10T07:38:15.058Z"
   },
   {
    "duration": 22,
    "start_time": "2022-07-10T07:38:15.103Z"
   },
   {
    "duration": 118,
    "start_time": "2022-07-10T07:38:15.127Z"
   },
   {
    "duration": 27,
    "start_time": "2022-07-10T07:38:15.246Z"
   },
   {
    "duration": 269,
    "start_time": "2022-07-10T07:38:15.275Z"
   },
   {
    "duration": 8,
    "start_time": "2022-07-10T07:38:15.546Z"
   },
   {
    "duration": 300,
    "start_time": "2022-07-10T07:38:15.555Z"
   },
   {
    "duration": 8,
    "start_time": "2022-07-10T07:38:15.857Z"
   },
   {
    "duration": 211,
    "start_time": "2022-07-10T07:38:15.866Z"
   },
   {
    "duration": 8,
    "start_time": "2022-07-10T07:38:16.079Z"
   },
   {
    "duration": 219,
    "start_time": "2022-07-10T07:38:16.089Z"
   },
   {
    "duration": 2,
    "start_time": "2022-07-10T07:38:16.309Z"
   },
   {
    "duration": 13,
    "start_time": "2022-07-10T07:38:16.312Z"
   },
   {
    "duration": 128,
    "start_time": "2022-07-10T07:38:16.326Z"
   },
   {
    "duration": 5,
    "start_time": "2022-07-10T07:38:16.456Z"
   },
   {
    "duration": 10,
    "start_time": "2022-07-10T07:38:16.462Z"
   },
   {
    "duration": 148,
    "start_time": "2022-07-10T07:38:16.473Z"
   },
   {
    "duration": 8,
    "start_time": "2022-07-10T07:38:16.623Z"
   },
   {
    "duration": 164,
    "start_time": "2022-07-10T07:38:16.633Z"
   },
   {
    "duration": 7,
    "start_time": "2022-07-10T07:38:16.800Z"
   },
   {
    "duration": 110,
    "start_time": "2022-07-10T07:38:16.809Z"
   },
   {
    "duration": 6,
    "start_time": "2022-07-10T07:38:16.920Z"
   },
   {
    "duration": 191,
    "start_time": "2022-07-10T07:38:16.927Z"
   },
   {
    "duration": 7,
    "start_time": "2022-07-10T07:38:17.120Z"
   },
   {
    "duration": 6,
    "start_time": "2022-07-10T07:38:17.129Z"
   },
   {
    "duration": 9,
    "start_time": "2022-07-10T07:38:17.136Z"
   },
   {
    "duration": 240,
    "start_time": "2022-07-10T07:38:17.146Z"
   },
   {
    "duration": 17,
    "start_time": "2022-07-10T07:38:17.388Z"
   },
   {
    "duration": 366,
    "start_time": "2022-07-10T07:38:17.406Z"
   },
   {
    "duration": 8,
    "start_time": "2022-07-10T07:38:17.773Z"
   },
   {
    "duration": 236,
    "start_time": "2022-07-10T07:38:17.782Z"
   },
   {
    "duration": 81,
    "start_time": "2022-07-10T07:38:18.020Z"
   },
   {
    "duration": 4407,
    "start_time": "2022-07-10T07:38:18.103Z"
   },
   {
    "duration": 9,
    "start_time": "2022-07-10T07:38:22.511Z"
   },
   {
    "duration": 8,
    "start_time": "2022-07-10T07:39:46.284Z"
   },
   {
    "duration": 9,
    "start_time": "2022-07-10T07:40:17.626Z"
   },
   {
    "duration": 181,
    "start_time": "2022-07-10T07:41:12.323Z"
   },
   {
    "duration": 9,
    "start_time": "2022-07-10T07:41:27.162Z"
   },
   {
    "duration": 112,
    "start_time": "2022-07-10T07:41:33.106Z"
   },
   {
    "duration": 519,
    "start_time": "2022-07-10T07:45:15.610Z"
   },
   {
    "duration": 31,
    "start_time": "2022-07-10T07:45:16.131Z"
   },
   {
    "duration": 2137,
    "start_time": "2022-07-10T07:45:16.163Z"
   },
   {
    "duration": 4,
    "start_time": "2022-07-10T07:45:18.303Z"
   },
   {
    "duration": 18,
    "start_time": "2022-07-10T07:45:18.308Z"
   },
   {
    "duration": 19,
    "start_time": "2022-07-10T07:45:18.328Z"
   },
   {
    "duration": 7,
    "start_time": "2022-07-10T07:45:18.349Z"
   },
   {
    "duration": 13,
    "start_time": "2022-07-10T07:45:18.357Z"
   },
   {
    "duration": 36,
    "start_time": "2022-07-10T07:45:18.371Z"
   },
   {
    "duration": 8,
    "start_time": "2022-07-10T07:45:18.410Z"
   },
   {
    "duration": 334,
    "start_time": "2022-07-10T07:45:18.419Z"
   },
   {
    "duration": 8,
    "start_time": "2022-07-10T07:45:18.754Z"
   },
   {
    "duration": 41,
    "start_time": "2022-07-10T07:45:18.763Z"
   },
   {
    "duration": 185,
    "start_time": "2022-07-10T07:45:18.807Z"
   },
   {
    "duration": 13,
    "start_time": "2022-07-10T07:45:18.994Z"
   },
   {
    "duration": 185,
    "start_time": "2022-07-10T07:45:19.008Z"
   },
   {
    "duration": 185,
    "start_time": "2022-07-10T07:45:19.195Z"
   },
   {
    "duration": 7,
    "start_time": "2022-07-10T07:45:19.382Z"
   },
   {
    "duration": 19,
    "start_time": "2022-07-10T07:45:19.390Z"
   },
   {
    "duration": 7,
    "start_time": "2022-07-10T07:45:19.411Z"
   },
   {
    "duration": 13,
    "start_time": "2022-07-10T07:45:19.419Z"
   },
   {
    "duration": 157,
    "start_time": "2022-07-10T07:45:19.433Z"
   },
   {
    "duration": 190,
    "start_time": "2022-07-10T07:45:19.591Z"
   },
   {
    "duration": 6,
    "start_time": "2022-07-10T07:45:19.783Z"
   },
   {
    "duration": 229,
    "start_time": "2022-07-10T07:45:19.790Z"
   },
   {
    "duration": 166,
    "start_time": "2022-07-10T07:45:20.021Z"
   },
   {
    "duration": 14,
    "start_time": "2022-07-10T07:45:20.190Z"
   },
   {
    "duration": 8,
    "start_time": "2022-07-10T07:45:20.209Z"
   },
   {
    "duration": 170,
    "start_time": "2022-07-10T07:45:20.218Z"
   },
   {
    "duration": 171,
    "start_time": "2022-07-10T07:45:20.389Z"
   },
   {
    "duration": 8,
    "start_time": "2022-07-10T07:45:20.562Z"
   },
   {
    "duration": 8,
    "start_time": "2022-07-10T07:45:20.571Z"
   },
   {
    "duration": 177,
    "start_time": "2022-07-10T07:45:20.581Z"
   },
   {
    "duration": 9,
    "start_time": "2022-07-10T07:45:20.760Z"
   },
   {
    "duration": 8,
    "start_time": "2022-07-10T07:45:20.770Z"
   },
   {
    "duration": 159,
    "start_time": "2022-07-10T07:45:20.780Z"
   },
   {
    "duration": 8,
    "start_time": "2022-07-10T07:45:20.941Z"
   },
   {
    "duration": 4,
    "start_time": "2022-07-10T07:45:20.950Z"
   },
   {
    "duration": 163,
    "start_time": "2022-07-10T07:45:20.956Z"
   },
   {
    "duration": 24,
    "start_time": "2022-07-10T07:45:21.121Z"
   },
   {
    "duration": 24,
    "start_time": "2022-07-10T07:45:21.147Z"
   },
   {
    "duration": 48,
    "start_time": "2022-07-10T07:45:21.172Z"
   },
   {
    "duration": 113,
    "start_time": "2022-07-10T07:45:21.221Z"
   },
   {
    "duration": 23,
    "start_time": "2022-07-10T07:45:21.336Z"
   },
   {
    "duration": 231,
    "start_time": "2022-07-10T07:45:21.361Z"
   },
   {
    "duration": 12,
    "start_time": "2022-07-10T07:45:21.594Z"
   },
   {
    "duration": 304,
    "start_time": "2022-07-10T07:45:21.607Z"
   },
   {
    "duration": 8,
    "start_time": "2022-07-10T07:45:21.913Z"
   },
   {
    "duration": 223,
    "start_time": "2022-07-10T07:45:21.922Z"
   },
   {
    "duration": 8,
    "start_time": "2022-07-10T07:45:22.146Z"
   },
   {
    "duration": 220,
    "start_time": "2022-07-10T07:45:22.156Z"
   },
   {
    "duration": 3,
    "start_time": "2022-07-10T07:45:22.379Z"
   },
   {
    "duration": 18,
    "start_time": "2022-07-10T07:45:22.383Z"
   },
   {
    "duration": 164,
    "start_time": "2022-07-10T07:45:22.403Z"
   },
   {
    "duration": 8,
    "start_time": "2022-07-10T07:45:22.568Z"
   },
   {
    "duration": 24,
    "start_time": "2022-07-10T07:45:22.577Z"
   },
   {
    "duration": 162,
    "start_time": "2022-07-10T07:45:22.603Z"
   },
   {
    "duration": 10,
    "start_time": "2022-07-10T07:45:22.767Z"
   },
   {
    "duration": 199,
    "start_time": "2022-07-10T07:45:22.780Z"
   },
   {
    "duration": 23,
    "start_time": "2022-07-10T07:45:22.981Z"
   },
   {
    "duration": 122,
    "start_time": "2022-07-10T07:45:23.006Z"
   },
   {
    "duration": 7,
    "start_time": "2022-07-10T07:45:23.130Z"
   },
   {
    "duration": 204,
    "start_time": "2022-07-10T07:45:23.139Z"
   },
   {
    "duration": 9,
    "start_time": "2022-07-10T07:45:23.345Z"
   },
   {
    "duration": 10,
    "start_time": "2022-07-10T07:45:23.356Z"
   },
   {
    "duration": 12,
    "start_time": "2022-07-10T07:45:23.368Z"
   },
   {
    "duration": 342,
    "start_time": "2022-07-10T07:45:23.381Z"
   },
   {
    "duration": 14,
    "start_time": "2022-07-10T07:45:23.726Z"
   },
   {
    "duration": 415,
    "start_time": "2022-07-10T07:45:23.743Z"
   },
   {
    "duration": 10,
    "start_time": "2022-07-10T07:45:24.160Z"
   },
   {
    "duration": 264,
    "start_time": "2022-07-10T07:45:24.171Z"
   },
   {
    "duration": 85,
    "start_time": "2022-07-10T07:45:24.437Z"
   },
   {
    "duration": 4444,
    "start_time": "2022-07-10T07:45:24.525Z"
   },
   {
    "duration": 9,
    "start_time": "2022-07-10T07:45:28.971Z"
   },
   {
    "duration": 21,
    "start_time": "2022-07-10T07:45:28.982Z"
   },
   {
    "duration": 140,
    "start_time": "2022-07-10T07:45:29.005Z"
   },
   {
    "duration": 10,
    "start_time": "2022-07-10T08:03:44.575Z"
   },
   {
    "duration": 131,
    "start_time": "2022-07-10T08:04:44.013Z"
   },
   {
    "duration": 940,
    "start_time": "2022-07-10T08:08:11.782Z"
   },
   {
    "duration": 14,
    "start_time": "2022-07-10T08:08:33.377Z"
   },
   {
    "duration": 14,
    "start_time": "2022-07-10T09:08:21.154Z"
   },
   {
    "duration": 14,
    "start_time": "2022-07-10T09:08:45.401Z"
   },
   {
    "duration": 84,
    "start_time": "2022-07-10T09:12:06.917Z"
   },
   {
    "duration": 18752,
    "start_time": "2022-07-10T09:19:10.073Z"
   },
   {
    "duration": 132,
    "start_time": "2022-07-10T09:19:53.298Z"
   },
   {
    "duration": 126,
    "start_time": "2022-07-10T09:21:03.268Z"
   },
   {
    "duration": 8,
    "start_time": "2022-07-10T09:26:52.882Z"
   },
   {
    "duration": 13,
    "start_time": "2022-07-10T09:27:00.467Z"
   },
   {
    "duration": 164,
    "start_time": "2022-07-10T09:27:36.538Z"
   },
   {
    "duration": 16,
    "start_time": "2022-07-10T09:30:19.934Z"
   },
   {
    "duration": 145,
    "start_time": "2022-07-10T09:31:19.092Z"
   },
   {
    "duration": 16,
    "start_time": "2022-07-10T09:31:29.978Z"
   },
   {
    "duration": 9,
    "start_time": "2022-07-10T09:31:36.821Z"
   },
   {
    "duration": 16,
    "start_time": "2022-07-10T09:31:39.541Z"
   },
   {
    "duration": 122,
    "start_time": "2022-07-10T09:31:41.844Z"
   },
   {
    "duration": 17,
    "start_time": "2022-07-10T09:31:44.356Z"
   },
   {
    "duration": 114,
    "start_time": "2022-07-10T09:31:45.723Z"
   },
   {
    "duration": 19,
    "start_time": "2022-07-10T09:33:13.681Z"
   },
   {
    "duration": 122,
    "start_time": "2022-07-10T09:33:37.657Z"
   },
   {
    "duration": 11,
    "start_time": "2022-07-10T09:52:23.841Z"
   },
   {
    "duration": 98,
    "start_time": "2022-07-10T09:53:40.671Z"
   },
   {
    "duration": 99,
    "start_time": "2022-07-10T09:55:42.788Z"
   },
   {
    "duration": 118,
    "start_time": "2022-07-10T09:56:22.601Z"
   },
   {
    "duration": 107,
    "start_time": "2022-07-10T09:56:37.667Z"
   },
   {
    "duration": 125,
    "start_time": "2022-07-10T09:57:44.201Z"
   },
   {
    "duration": 116,
    "start_time": "2022-07-10T09:57:52.666Z"
   },
   {
    "duration": 113,
    "start_time": "2022-07-10T09:58:20.001Z"
   },
   {
    "duration": 8,
    "start_time": "2022-07-10T10:05:16.183Z"
   },
   {
    "duration": 7,
    "start_time": "2022-07-10T10:05:34.967Z"
   },
   {
    "duration": 7,
    "start_time": "2022-07-10T10:05:43.877Z"
   },
   {
    "duration": 7,
    "start_time": "2022-07-10T10:05:48.417Z"
   },
   {
    "duration": 7,
    "start_time": "2022-07-10T10:06:08.444Z"
   },
   {
    "duration": 24,
    "start_time": "2022-07-10T10:08:44.858Z"
   },
   {
    "duration": 18,
    "start_time": "2022-07-10T10:10:37.638Z"
   },
   {
    "duration": 25,
    "start_time": "2022-07-10T10:11:30.220Z"
   },
   {
    "duration": 18,
    "start_time": "2022-07-10T10:11:52.916Z"
   },
   {
    "duration": 17,
    "start_time": "2022-07-10T10:14:15.265Z"
   },
   {
    "duration": 10,
    "start_time": "2022-07-10T10:14:23.833Z"
   },
   {
    "duration": 8,
    "start_time": "2022-07-10T10:15:31.352Z"
   },
   {
    "duration": 8,
    "start_time": "2022-07-10T10:16:06.254Z"
   },
   {
    "duration": 841,
    "start_time": "2022-07-10T10:17:15.653Z"
   },
   {
    "duration": 12,
    "start_time": "2022-07-10T10:17:25.501Z"
   },
   {
    "duration": 7,
    "start_time": "2022-07-10T10:18:10.195Z"
   },
   {
    "duration": 7,
    "start_time": "2022-07-10T10:18:20.763Z"
   },
   {
    "duration": 49,
    "start_time": "2022-07-10T10:19:06.608Z"
   },
   {
    "duration": 780,
    "start_time": "2022-07-10T10:19:13.793Z"
   },
   {
    "duration": 12,
    "start_time": "2022-07-10T10:19:22.681Z"
   },
   {
    "duration": 12,
    "start_time": "2022-07-10T10:20:14.808Z"
   },
   {
    "duration": 24,
    "start_time": "2022-07-10T10:21:17.384Z"
   },
   {
    "duration": 7,
    "start_time": "2022-07-10T10:21:35.518Z"
   },
   {
    "duration": 18,
    "start_time": "2022-07-10T10:22:24.805Z"
   },
   {
    "duration": 11,
    "start_time": "2022-07-10T10:22:45.157Z"
   },
   {
    "duration": 11,
    "start_time": "2022-07-10T10:28:23.636Z"
   },
   {
    "duration": 12,
    "start_time": "2022-07-10T10:28:47.045Z"
   },
   {
    "duration": 15,
    "start_time": "2022-07-10T10:38:40.512Z"
   },
   {
    "duration": 10,
    "start_time": "2022-07-10T10:39:55.765Z"
   },
   {
    "duration": 17,
    "start_time": "2022-07-10T10:40:05.622Z"
   },
   {
    "duration": 17,
    "start_time": "2022-07-10T10:40:41.886Z"
   },
   {
    "duration": 16,
    "start_time": "2022-07-10T10:42:08.644Z"
   },
   {
    "duration": 20,
    "start_time": "2022-07-10T10:43:37.169Z"
   },
   {
    "duration": 137,
    "start_time": "2022-07-10T10:50:06.033Z"
   },
   {
    "duration": 249,
    "start_time": "2022-07-10T10:50:33.224Z"
   },
   {
    "duration": 504,
    "start_time": "2022-07-10T14:03:26.223Z"
   },
   {
    "duration": 29,
    "start_time": "2022-07-10T14:03:26.729Z"
   },
   {
    "duration": 2175,
    "start_time": "2022-07-10T14:03:26.760Z"
   },
   {
    "duration": 4,
    "start_time": "2022-07-10T14:03:28.938Z"
   },
   {
    "duration": 15,
    "start_time": "2022-07-10T14:03:28.944Z"
   },
   {
    "duration": 16,
    "start_time": "2022-07-10T14:03:28.961Z"
   },
   {
    "duration": 7,
    "start_time": "2022-07-10T14:03:28.978Z"
   },
   {
    "duration": 10,
    "start_time": "2022-07-10T14:03:29.001Z"
   },
   {
    "duration": 11,
    "start_time": "2022-07-10T14:03:29.012Z"
   },
   {
    "duration": 5,
    "start_time": "2022-07-10T14:03:29.026Z"
   },
   {
    "duration": 336,
    "start_time": "2022-07-10T14:03:29.033Z"
   },
   {
    "duration": 6,
    "start_time": "2022-07-10T14:03:29.370Z"
   },
   {
    "duration": 39,
    "start_time": "2022-07-10T14:03:29.377Z"
   },
   {
    "duration": 180,
    "start_time": "2022-07-10T14:03:29.417Z"
   },
   {
    "duration": 12,
    "start_time": "2022-07-10T14:03:29.600Z"
   },
   {
    "duration": 170,
    "start_time": "2022-07-10T14:03:29.613Z"
   },
   {
    "duration": 181,
    "start_time": "2022-07-10T14:03:29.785Z"
   },
   {
    "duration": 6,
    "start_time": "2022-07-10T14:03:29.968Z"
   },
   {
    "duration": 10,
    "start_time": "2022-07-10T14:03:29.975Z"
   },
   {
    "duration": 20,
    "start_time": "2022-07-10T14:03:29.986Z"
   },
   {
    "duration": 19,
    "start_time": "2022-07-10T14:03:30.008Z"
   },
   {
    "duration": 131,
    "start_time": "2022-07-10T14:03:30.028Z"
   },
   {
    "duration": 251,
    "start_time": "2022-07-10T14:03:30.161Z"
   },
   {
    "duration": 5,
    "start_time": "2022-07-10T14:03:30.414Z"
   },
   {
    "duration": 169,
    "start_time": "2022-07-10T14:03:30.421Z"
   },
   {
    "duration": 159,
    "start_time": "2022-07-10T14:03:30.592Z"
   },
   {
    "duration": 9,
    "start_time": "2022-07-10T14:03:30.752Z"
   },
   {
    "duration": 42,
    "start_time": "2022-07-10T14:03:30.764Z"
   },
   {
    "duration": 198,
    "start_time": "2022-07-10T14:03:30.807Z"
   },
   {
    "duration": 173,
    "start_time": "2022-07-10T14:03:31.007Z"
   },
   {
    "duration": 18,
    "start_time": "2022-07-10T14:03:31.182Z"
   },
   {
    "duration": 25,
    "start_time": "2022-07-10T14:03:31.202Z"
   },
   {
    "duration": 156,
    "start_time": "2022-07-10T14:03:37.909Z"
   },
   {
    "duration": 8,
    "start_time": "2022-07-10T14:03:39.777Z"
   },
   {
    "duration": 9,
    "start_time": "2022-07-10T14:03:42.872Z"
   },
   {
    "duration": 149,
    "start_time": "2022-07-10T14:03:43.821Z"
   },
   {
    "duration": 8,
    "start_time": "2022-07-10T14:03:44.604Z"
   },
   {
    "duration": 4,
    "start_time": "2022-07-10T14:03:45.920Z"
   },
   {
    "duration": 74,
    "start_time": "2022-07-10T14:04:03.020Z"
   },
   {
    "duration": 88,
    "start_time": "2022-07-10T14:04:11.904Z"
   },
   {
    "duration": 25,
    "start_time": "2022-07-10T14:04:12.001Z"
   },
   {
    "duration": 2010,
    "start_time": "2022-07-10T14:04:12.028Z"
   },
   {
    "duration": 3,
    "start_time": "2022-07-10T14:04:14.040Z"
   },
   {
    "duration": 184,
    "start_time": "2022-07-10T14:04:14.045Z"
   },
   {
    "duration": 231,
    "start_time": "2022-07-10T14:04:14.230Z"
   },
   {
    "duration": 110,
    "start_time": "2022-07-10T14:04:14.463Z"
   },
   {
    "duration": 8,
    "start_time": "2022-07-10T14:04:14.574Z"
   },
   {
    "duration": 23,
    "start_time": "2022-07-10T14:04:14.584Z"
   },
   {
    "duration": 6,
    "start_time": "2022-07-10T14:04:14.610Z"
   },
   {
    "duration": 329,
    "start_time": "2022-07-10T14:04:14.617Z"
   },
   {
    "duration": 6,
    "start_time": "2022-07-10T14:04:14.948Z"
   },
   {
    "duration": 27,
    "start_time": "2022-07-10T14:04:14.955Z"
   },
   {
    "duration": 183,
    "start_time": "2022-07-10T14:04:14.984Z"
   },
   {
    "duration": 9,
    "start_time": "2022-07-10T14:04:15.168Z"
   },
   {
    "duration": 161,
    "start_time": "2022-07-10T14:04:15.178Z"
   },
   {
    "duration": 330,
    "start_time": "2022-07-10T14:04:15.340Z"
   },
   {
    "duration": 5,
    "start_time": "2022-07-10T14:04:15.672Z"
   },
   {
    "duration": 11,
    "start_time": "2022-07-10T14:04:15.679Z"
   },
   {
    "duration": 5,
    "start_time": "2022-07-10T14:04:15.701Z"
   },
   {
    "duration": 7,
    "start_time": "2022-07-10T14:04:15.708Z"
   },
   {
    "duration": 138,
    "start_time": "2022-07-10T14:04:15.716Z"
   },
   {
    "duration": 179,
    "start_time": "2022-07-10T14:04:15.856Z"
   },
   {
    "duration": 5,
    "start_time": "2022-07-10T14:04:16.037Z"
   },
   {
    "duration": 152,
    "start_time": "2022-07-10T14:04:16.043Z"
   },
   {
    "duration": 151,
    "start_time": "2022-07-10T14:04:16.200Z"
   },
   {
    "duration": 8,
    "start_time": "2022-07-10T14:04:16.352Z"
   },
   {
    "duration": 7,
    "start_time": "2022-07-10T14:04:16.363Z"
   },
   {
    "duration": 177,
    "start_time": "2022-07-10T14:04:16.372Z"
   },
   {
    "duration": 155,
    "start_time": "2022-07-10T14:04:16.551Z"
   },
   {
    "duration": 9,
    "start_time": "2022-07-10T14:04:16.708Z"
   },
   {
    "duration": 9,
    "start_time": "2022-07-10T14:04:16.718Z"
   },
   {
    "duration": 13,
    "start_time": "2022-07-10T14:04:17.480Z"
   },
   {
    "duration": 156,
    "start_time": "2022-07-10T14:04:18.222Z"
   },
   {
    "duration": 10,
    "start_time": "2022-07-10T14:04:20.426Z"
   },
   {
    "duration": 87,
    "start_time": "2022-07-10T14:04:56.520Z"
   },
   {
    "duration": 24,
    "start_time": "2022-07-10T14:04:56.609Z"
   },
   {
    "duration": 1930,
    "start_time": "2022-07-10T14:04:56.635Z"
   },
   {
    "duration": 4,
    "start_time": "2022-07-10T14:04:58.567Z"
   },
   {
    "duration": 183,
    "start_time": "2022-07-10T14:04:58.572Z"
   },
   {
    "duration": 225,
    "start_time": "2022-07-10T14:04:58.757Z"
   },
   {
    "duration": 99,
    "start_time": "2022-07-10T14:04:58.983Z"
   },
   {
    "duration": 16,
    "start_time": "2022-07-10T14:04:59.084Z"
   },
   {
    "duration": 11,
    "start_time": "2022-07-10T14:04:59.102Z"
   },
   {
    "duration": 12,
    "start_time": "2022-07-10T14:04:59.117Z"
   },
   {
    "duration": 354,
    "start_time": "2022-07-10T14:04:59.130Z"
   },
   {
    "duration": 14,
    "start_time": "2022-07-10T14:04:59.486Z"
   },
   {
    "duration": 40,
    "start_time": "2022-07-10T14:04:59.502Z"
   },
   {
    "duration": 163,
    "start_time": "2022-07-10T14:04:59.543Z"
   },
   {
    "duration": 9,
    "start_time": "2022-07-10T14:04:59.707Z"
   },
   {
    "duration": 166,
    "start_time": "2022-07-10T14:04:59.718Z"
   },
   {
    "duration": 174,
    "start_time": "2022-07-10T14:04:59.886Z"
   },
   {
    "duration": 6,
    "start_time": "2022-07-10T14:05:00.062Z"
   },
   {
    "duration": 23,
    "start_time": "2022-07-10T14:05:00.070Z"
   },
   {
    "duration": 16,
    "start_time": "2022-07-10T14:05:00.095Z"
   },
   {
    "duration": 37,
    "start_time": "2022-07-10T14:05:00.112Z"
   },
   {
    "duration": 152,
    "start_time": "2022-07-10T14:05:00.151Z"
   },
   {
    "duration": 185,
    "start_time": "2022-07-10T14:05:00.305Z"
   },
   {
    "duration": 9,
    "start_time": "2022-07-10T14:05:00.492Z"
   },
   {
    "duration": 159,
    "start_time": "2022-07-10T14:05:00.503Z"
   },
   {
    "duration": 149,
    "start_time": "2022-07-10T14:05:00.664Z"
   },
   {
    "duration": 9,
    "start_time": "2022-07-10T14:05:00.815Z"
   },
   {
    "duration": 35,
    "start_time": "2022-07-10T14:05:00.827Z"
   },
   {
    "duration": 180,
    "start_time": "2022-07-10T14:05:00.864Z"
   },
   {
    "duration": 338,
    "start_time": "2022-07-10T14:05:01.046Z"
   },
   {
    "duration": 20,
    "start_time": "2022-07-10T14:05:01.385Z"
   },
   {
    "duration": 22,
    "start_time": "2022-07-10T14:05:01.406Z"
   },
   {
    "duration": 189,
    "start_time": "2022-07-10T14:05:01.430Z"
   },
   {
    "duration": 8,
    "start_time": "2022-07-10T14:05:01.621Z"
   },
   {
    "duration": 43,
    "start_time": "2022-07-10T14:05:01.630Z"
   },
   {
    "duration": 158,
    "start_time": "2022-07-10T14:05:01.675Z"
   },
   {
    "duration": 8,
    "start_time": "2022-07-10T14:05:01.835Z"
   },
   {
    "duration": 4,
    "start_time": "2022-07-10T14:05:05.269Z"
   },
   {
    "duration": 13,
    "start_time": "2022-07-10T14:05:29.421Z"
   },
   {
    "duration": 46,
    "start_time": "2022-07-12T12:16:19.091Z"
   },
   {
    "duration": 588,
    "start_time": "2022-07-12T12:16:26.249Z"
   },
   {
    "duration": 29,
    "start_time": "2022-07-12T12:16:26.839Z"
   },
   {
    "duration": 2359,
    "start_time": "2022-07-12T12:16:26.869Z"
   },
   {
    "duration": 4,
    "start_time": "2022-07-12T12:16:29.230Z"
   },
   {
    "duration": 52,
    "start_time": "2022-07-12T12:16:29.236Z"
   },
   {
    "duration": 0,
    "start_time": "2022-07-12T12:16:29.293Z"
   },
   {
    "duration": 0,
    "start_time": "2022-07-12T12:16:29.294Z"
   },
   {
    "duration": 0,
    "start_time": "2022-07-12T12:16:29.295Z"
   },
   {
    "duration": 0,
    "start_time": "2022-07-12T12:16:29.295Z"
   },
   {
    "duration": 0,
    "start_time": "2022-07-12T12:16:29.296Z"
   },
   {
    "duration": 0,
    "start_time": "2022-07-12T12:16:29.297Z"
   },
   {
    "duration": 0,
    "start_time": "2022-07-12T12:16:29.299Z"
   },
   {
    "duration": 0,
    "start_time": "2022-07-12T12:16:29.299Z"
   },
   {
    "duration": 0,
    "start_time": "2022-07-12T12:16:29.300Z"
   },
   {
    "duration": 0,
    "start_time": "2022-07-12T12:16:29.301Z"
   },
   {
    "duration": 0,
    "start_time": "2022-07-12T12:16:29.302Z"
   },
   {
    "duration": 0,
    "start_time": "2022-07-12T12:16:29.303Z"
   },
   {
    "duration": 0,
    "start_time": "2022-07-12T12:16:29.304Z"
   },
   {
    "duration": 0,
    "start_time": "2022-07-12T12:16:29.305Z"
   },
   {
    "duration": 0,
    "start_time": "2022-07-12T12:16:29.306Z"
   },
   {
    "duration": 0,
    "start_time": "2022-07-12T12:16:29.307Z"
   },
   {
    "duration": 0,
    "start_time": "2022-07-12T12:16:29.308Z"
   },
   {
    "duration": 0,
    "start_time": "2022-07-12T12:16:29.309Z"
   },
   {
    "duration": 0,
    "start_time": "2022-07-12T12:16:29.310Z"
   },
   {
    "duration": 0,
    "start_time": "2022-07-12T12:16:29.311Z"
   },
   {
    "duration": 0,
    "start_time": "2022-07-12T12:16:29.312Z"
   },
   {
    "duration": 0,
    "start_time": "2022-07-12T12:16:29.313Z"
   },
   {
    "duration": 0,
    "start_time": "2022-07-12T12:16:29.314Z"
   },
   {
    "duration": 0,
    "start_time": "2022-07-12T12:16:29.315Z"
   },
   {
    "duration": 0,
    "start_time": "2022-07-12T12:16:29.315Z"
   },
   {
    "duration": 0,
    "start_time": "2022-07-12T12:16:29.316Z"
   },
   {
    "duration": 0,
    "start_time": "2022-07-12T12:16:29.317Z"
   },
   {
    "duration": 0,
    "start_time": "2022-07-12T12:16:29.318Z"
   },
   {
    "duration": 0,
    "start_time": "2022-07-12T12:16:29.319Z"
   },
   {
    "duration": 0,
    "start_time": "2022-07-12T12:16:29.320Z"
   },
   {
    "duration": 0,
    "start_time": "2022-07-12T12:16:29.321Z"
   },
   {
    "duration": 0,
    "start_time": "2022-07-12T12:16:29.322Z"
   },
   {
    "duration": 0,
    "start_time": "2022-07-12T12:16:29.323Z"
   },
   {
    "duration": 0,
    "start_time": "2022-07-12T12:16:29.324Z"
   },
   {
    "duration": 0,
    "start_time": "2022-07-12T12:16:29.325Z"
   },
   {
    "duration": 0,
    "start_time": "2022-07-12T12:16:29.326Z"
   },
   {
    "duration": 0,
    "start_time": "2022-07-12T12:16:29.327Z"
   },
   {
    "duration": 0,
    "start_time": "2022-07-12T12:16:29.327Z"
   },
   {
    "duration": 0,
    "start_time": "2022-07-12T12:16:29.328Z"
   },
   {
    "duration": 0,
    "start_time": "2022-07-12T12:16:29.329Z"
   },
   {
    "duration": 0,
    "start_time": "2022-07-12T12:16:29.330Z"
   },
   {
    "duration": 0,
    "start_time": "2022-07-12T12:16:29.331Z"
   },
   {
    "duration": 0,
    "start_time": "2022-07-12T12:16:29.332Z"
   },
   {
    "duration": 1,
    "start_time": "2022-07-12T12:16:29.333Z"
   },
   {
    "duration": 0,
    "start_time": "2022-07-12T12:16:29.335Z"
   },
   {
    "duration": 0,
    "start_time": "2022-07-12T12:16:29.336Z"
   },
   {
    "duration": 0,
    "start_time": "2022-07-12T12:16:29.337Z"
   },
   {
    "duration": 0,
    "start_time": "2022-07-12T12:16:29.339Z"
   },
   {
    "duration": 0,
    "start_time": "2022-07-12T12:16:29.340Z"
   },
   {
    "duration": 0,
    "start_time": "2022-07-12T12:16:29.341Z"
   },
   {
    "duration": 0,
    "start_time": "2022-07-12T12:16:29.343Z"
   },
   {
    "duration": 0,
    "start_time": "2022-07-12T12:16:29.364Z"
   },
   {
    "duration": 0,
    "start_time": "2022-07-12T12:16:29.365Z"
   },
   {
    "duration": 0,
    "start_time": "2022-07-12T12:16:29.367Z"
   },
   {
    "duration": 0,
    "start_time": "2022-07-12T12:16:29.369Z"
   },
   {
    "duration": 0,
    "start_time": "2022-07-12T12:16:29.370Z"
   },
   {
    "duration": 0,
    "start_time": "2022-07-12T12:16:29.371Z"
   },
   {
    "duration": 0,
    "start_time": "2022-07-12T12:16:29.372Z"
   },
   {
    "duration": 0,
    "start_time": "2022-07-12T12:16:29.374Z"
   },
   {
    "duration": 0,
    "start_time": "2022-07-12T12:16:29.375Z"
   },
   {
    "duration": 0,
    "start_time": "2022-07-12T12:16:29.376Z"
   },
   {
    "duration": 1,
    "start_time": "2022-07-12T12:16:29.377Z"
   },
   {
    "duration": 0,
    "start_time": "2022-07-12T12:16:29.378Z"
   },
   {
    "duration": 0,
    "start_time": "2022-07-12T12:16:29.380Z"
   },
   {
    "duration": 0,
    "start_time": "2022-07-12T12:16:29.381Z"
   },
   {
    "duration": 0,
    "start_time": "2022-07-12T12:16:29.382Z"
   },
   {
    "duration": 0,
    "start_time": "2022-07-12T12:16:29.383Z"
   },
   {
    "duration": 0,
    "start_time": "2022-07-12T12:16:29.384Z"
   },
   {
    "duration": 0,
    "start_time": "2022-07-12T12:16:29.386Z"
   },
   {
    "duration": 0,
    "start_time": "2022-07-12T12:16:29.387Z"
   },
   {
    "duration": 0,
    "start_time": "2022-07-12T12:16:29.389Z"
   },
   {
    "duration": 0,
    "start_time": "2022-07-12T12:16:29.390Z"
   },
   {
    "duration": 0,
    "start_time": "2022-07-12T12:16:29.391Z"
   },
   {
    "duration": 0,
    "start_time": "2022-07-12T12:16:29.393Z"
   },
   {
    "duration": 0,
    "start_time": "2022-07-12T12:16:29.395Z"
   },
   {
    "duration": 0,
    "start_time": "2022-07-12T12:16:29.397Z"
   },
   {
    "duration": 0,
    "start_time": "2022-07-12T12:16:29.398Z"
   },
   {
    "duration": 0,
    "start_time": "2022-07-12T12:16:29.399Z"
   },
   {
    "duration": 0,
    "start_time": "2022-07-12T12:16:29.400Z"
   },
   {
    "duration": 0,
    "start_time": "2022-07-12T12:16:29.465Z"
   },
   {
    "duration": 0,
    "start_time": "2022-07-12T12:16:29.466Z"
   },
   {
    "duration": 0,
    "start_time": "2022-07-12T12:16:29.467Z"
   },
   {
    "duration": 0,
    "start_time": "2022-07-12T12:16:29.468Z"
   },
   {
    "duration": 0,
    "start_time": "2022-07-12T12:16:29.469Z"
   },
   {
    "duration": 0,
    "start_time": "2022-07-12T12:16:29.470Z"
   },
   {
    "duration": 0,
    "start_time": "2022-07-12T12:16:29.471Z"
   },
   {
    "duration": 0,
    "start_time": "2022-07-12T12:16:29.472Z"
   },
   {
    "duration": 0,
    "start_time": "2022-07-12T12:16:29.474Z"
   },
   {
    "duration": 0,
    "start_time": "2022-07-12T12:16:29.475Z"
   },
   {
    "duration": 0,
    "start_time": "2022-07-12T12:16:29.476Z"
   },
   {
    "duration": 0,
    "start_time": "2022-07-12T12:16:29.477Z"
   },
   {
    "duration": 0,
    "start_time": "2022-07-12T12:16:29.479Z"
   },
   {
    "duration": 71,
    "start_time": "2022-07-12T12:34:30.254Z"
   },
   {
    "duration": 16,
    "start_time": "2022-07-12T12:36:08.734Z"
   },
   {
    "duration": 535,
    "start_time": "2022-07-12T12:36:39.054Z"
   },
   {
    "duration": 31,
    "start_time": "2022-07-12T12:36:39.591Z"
   },
   {
    "duration": 2125,
    "start_time": "2022-07-12T12:36:39.623Z"
   },
   {
    "duration": 4,
    "start_time": "2022-07-12T12:36:41.750Z"
   },
   {
    "duration": 8,
    "start_time": "2022-07-12T12:36:41.756Z"
   },
   {
    "duration": 16,
    "start_time": "2022-07-12T12:36:41.765Z"
   },
   {
    "duration": 13,
    "start_time": "2022-07-12T12:36:41.783Z"
   },
   {
    "duration": 6,
    "start_time": "2022-07-12T12:36:41.798Z"
   },
   {
    "duration": 8,
    "start_time": "2022-07-12T12:36:41.805Z"
   },
   {
    "duration": 9,
    "start_time": "2022-07-12T12:36:41.816Z"
   },
   {
    "duration": 6,
    "start_time": "2022-07-12T12:36:41.827Z"
   },
   {
    "duration": 347,
    "start_time": "2022-07-12T12:36:41.864Z"
   },
   {
    "duration": 7,
    "start_time": "2022-07-12T12:36:42.212Z"
   },
   {
    "duration": 33,
    "start_time": "2022-07-12T12:36:42.220Z"
   },
   {
    "duration": 185,
    "start_time": "2022-07-12T12:36:42.263Z"
   },
   {
    "duration": 15,
    "start_time": "2022-07-12T12:36:42.449Z"
   },
   {
    "duration": 189,
    "start_time": "2022-07-12T12:36:42.466Z"
   },
   {
    "duration": 222,
    "start_time": "2022-07-12T12:36:42.663Z"
   },
   {
    "duration": 6,
    "start_time": "2022-07-12T12:36:42.887Z"
   },
   {
    "duration": 12,
    "start_time": "2022-07-12T12:36:42.894Z"
   },
   {
    "duration": 5,
    "start_time": "2022-07-12T12:36:42.908Z"
   },
   {
    "duration": 6,
    "start_time": "2022-07-12T12:36:42.915Z"
   },
   {
    "duration": 151,
    "start_time": "2022-07-12T12:36:42.922Z"
   },
   {
    "duration": 188,
    "start_time": "2022-07-12T12:36:43.075Z"
   },
   {
    "duration": 6,
    "start_time": "2022-07-12T12:36:43.265Z"
   },
   {
    "duration": 235,
    "start_time": "2022-07-12T12:36:43.272Z"
   },
   {
    "duration": 150,
    "start_time": "2022-07-12T12:36:43.508Z"
   },
   {
    "duration": 10,
    "start_time": "2022-07-12T12:36:43.663Z"
   },
   {
    "duration": 7,
    "start_time": "2022-07-12T12:36:43.674Z"
   },
   {
    "duration": 180,
    "start_time": "2022-07-12T12:36:43.683Z"
   },
   {
    "duration": 162,
    "start_time": "2022-07-12T12:36:43.865Z"
   },
   {
    "duration": 9,
    "start_time": "2022-07-12T12:36:44.028Z"
   },
   {
    "duration": 8,
    "start_time": "2022-07-12T12:36:44.038Z"
   },
   {
    "duration": 160,
    "start_time": "2022-07-12T12:36:44.063Z"
   },
   {
    "duration": 8,
    "start_time": "2022-07-12T12:36:44.225Z"
   },
   {
    "duration": 17,
    "start_time": "2022-07-12T12:36:44.235Z"
   },
   {
    "duration": 161,
    "start_time": "2022-07-12T12:36:44.253Z"
   },
   {
    "duration": 9,
    "start_time": "2022-07-12T12:36:44.415Z"
   },
   {
    "duration": 4,
    "start_time": "2022-07-12T12:36:44.425Z"
   },
   {
    "duration": 169,
    "start_time": "2022-07-12T12:36:44.430Z"
   },
   {
    "duration": 26,
    "start_time": "2022-07-12T12:36:44.600Z"
   },
   {
    "duration": 39,
    "start_time": "2022-07-12T12:36:44.627Z"
   },
   {
    "duration": 26,
    "start_time": "2022-07-12T12:36:44.668Z"
   },
   {
    "duration": 131,
    "start_time": "2022-07-12T12:36:44.696Z"
   },
   {
    "duration": 25,
    "start_time": "2022-07-12T12:36:44.828Z"
   },
   {
    "duration": 212,
    "start_time": "2022-07-12T12:36:44.863Z"
   },
   {
    "duration": 9,
    "start_time": "2022-07-12T12:36:45.077Z"
   },
   {
    "duration": 345,
    "start_time": "2022-07-12T12:36:45.087Z"
   },
   {
    "duration": 9,
    "start_time": "2022-07-12T12:36:45.433Z"
   },
   {
    "duration": 234,
    "start_time": "2022-07-12T12:36:45.444Z"
   },
   {
    "duration": 9,
    "start_time": "2022-07-12T12:36:45.680Z"
   },
   {
    "duration": 237,
    "start_time": "2022-07-12T12:36:45.690Z"
   },
   {
    "duration": 3,
    "start_time": "2022-07-12T12:36:45.928Z"
   },
   {
    "duration": 19,
    "start_time": "2022-07-12T12:36:45.932Z"
   },
   {
    "duration": 138,
    "start_time": "2022-07-12T12:36:45.953Z"
   },
   {
    "duration": 6,
    "start_time": "2022-07-12T12:36:46.093Z"
   },
   {
    "duration": 11,
    "start_time": "2022-07-12T12:36:46.101Z"
   },
   {
    "duration": 167,
    "start_time": "2022-07-12T12:36:46.113Z"
   },
   {
    "duration": 8,
    "start_time": "2022-07-12T12:36:46.282Z"
   },
   {
    "duration": 188,
    "start_time": "2022-07-12T12:36:46.292Z"
   },
   {
    "duration": 9,
    "start_time": "2022-07-12T12:36:46.482Z"
   },
   {
    "duration": 115,
    "start_time": "2022-07-12T12:36:46.492Z"
   },
   {
    "duration": 7,
    "start_time": "2022-07-12T12:36:46.608Z"
   },
   {
    "duration": 199,
    "start_time": "2022-07-12T12:36:46.616Z"
   },
   {
    "duration": 10,
    "start_time": "2022-07-12T12:36:46.817Z"
   },
   {
    "duration": 7,
    "start_time": "2022-07-12T12:36:46.828Z"
   },
   {
    "duration": 29,
    "start_time": "2022-07-12T12:36:46.837Z"
   },
   {
    "duration": 237,
    "start_time": "2022-07-12T12:36:46.868Z"
   },
   {
    "duration": 9,
    "start_time": "2022-07-12T12:36:47.107Z"
   },
   {
    "duration": 392,
    "start_time": "2022-07-12T12:36:47.118Z"
   },
   {
    "duration": 9,
    "start_time": "2022-07-12T12:36:47.512Z"
   },
   {
    "duration": 254,
    "start_time": "2022-07-12T12:36:47.523Z"
   },
   {
    "duration": 90,
    "start_time": "2022-07-12T12:36:47.779Z"
   },
   {
    "duration": 4568,
    "start_time": "2022-07-12T12:36:47.872Z"
   },
   {
    "duration": 11,
    "start_time": "2022-07-12T12:36:52.442Z"
   },
   {
    "duration": 10,
    "start_time": "2022-07-12T12:36:52.464Z"
   },
   {
    "duration": 190,
    "start_time": "2022-07-12T12:36:52.475Z"
   },
   {
    "duration": 22,
    "start_time": "2022-07-12T12:36:52.668Z"
   },
   {
    "duration": 14,
    "start_time": "2022-07-12T12:36:52.692Z"
   },
   {
    "duration": 15,
    "start_time": "2022-07-12T12:36:52.709Z"
   },
   {
    "duration": 153,
    "start_time": "2022-07-12T12:36:52.726Z"
   },
   {
    "duration": 16,
    "start_time": "2022-07-12T12:36:52.885Z"
   },
   {
    "duration": 133,
    "start_time": "2022-07-12T12:36:52.903Z"
   },
   {
    "duration": 26,
    "start_time": "2022-07-12T12:36:53.039Z"
   },
   {
    "duration": 131,
    "start_time": "2022-07-12T12:36:53.066Z"
   },
   {
    "duration": 10,
    "start_time": "2022-07-12T12:36:53.199Z"
   },
   {
    "duration": 143,
    "start_time": "2022-07-12T12:36:53.211Z"
   },
   {
    "duration": 11,
    "start_time": "2022-07-12T12:36:53.363Z"
   },
   {
    "duration": 131,
    "start_time": "2022-07-12T12:36:53.375Z"
   },
   {
    "duration": 117,
    "start_time": "2022-07-12T12:36:53.508Z"
   },
   {
    "duration": 6,
    "start_time": "2022-07-12T12:36:53.627Z"
   },
   {
    "duration": 39,
    "start_time": "2022-07-12T12:36:53.634Z"
   },
   {
    "duration": 22,
    "start_time": "2022-07-12T12:36:53.675Z"
   },
   {
    "duration": 11,
    "start_time": "2022-07-12T12:36:53.699Z"
   },
   {
    "duration": 14,
    "start_time": "2022-07-12T12:36:53.711Z"
   },
   {
    "duration": 281,
    "start_time": "2022-07-12T12:36:53.726Z"
   },
   {
    "duration": 161,
    "start_time": "2022-07-12T12:40:21.190Z"
   },
   {
    "duration": 9,
    "start_time": "2022-07-12T12:44:03.115Z"
   },
   {
    "duration": 143,
    "start_time": "2022-07-12T12:44:07.035Z"
   },
   {
    "duration": 8,
    "start_time": "2022-07-12T12:44:11.627Z"
   },
   {
    "duration": 491,
    "start_time": "2022-07-12T12:44:34.787Z"
   },
   {
    "duration": 32,
    "start_time": "2022-07-12T12:44:35.280Z"
   },
   {
    "duration": 2095,
    "start_time": "2022-07-12T12:44:35.313Z"
   },
   {
    "duration": 4,
    "start_time": "2022-07-12T12:44:37.410Z"
   },
   {
    "duration": 6,
    "start_time": "2022-07-12T12:44:37.415Z"
   },
   {
    "duration": 15,
    "start_time": "2022-07-12T12:44:37.423Z"
   },
   {
    "duration": 13,
    "start_time": "2022-07-12T12:44:37.440Z"
   },
   {
    "duration": 7,
    "start_time": "2022-07-12T12:44:37.454Z"
   },
   {
    "duration": 8,
    "start_time": "2022-07-12T12:44:37.462Z"
   },
   {
    "duration": 11,
    "start_time": "2022-07-12T12:44:37.473Z"
   },
   {
    "duration": 6,
    "start_time": "2022-07-12T12:44:37.486Z"
   },
   {
    "duration": 345,
    "start_time": "2022-07-12T12:44:37.494Z"
   },
   {
    "duration": 9,
    "start_time": "2022-07-12T12:44:37.841Z"
   },
   {
    "duration": 38,
    "start_time": "2022-07-12T12:44:37.852Z"
   },
   {
    "duration": 192,
    "start_time": "2022-07-12T12:44:37.892Z"
   },
   {
    "duration": 9,
    "start_time": "2022-07-12T12:44:38.086Z"
   },
   {
    "duration": 177,
    "start_time": "2022-07-12T12:44:38.097Z"
   },
   {
    "duration": 191,
    "start_time": "2022-07-12T12:44:38.276Z"
   },
   {
    "duration": 6,
    "start_time": "2022-07-12T12:44:38.469Z"
   },
   {
    "duration": 12,
    "start_time": "2022-07-12T12:44:38.477Z"
   },
   {
    "duration": 6,
    "start_time": "2022-07-12T12:44:38.490Z"
   },
   {
    "duration": 8,
    "start_time": "2022-07-12T12:44:38.498Z"
   },
   {
    "duration": 158,
    "start_time": "2022-07-12T12:44:38.508Z"
   },
   {
    "duration": 206,
    "start_time": "2022-07-12T12:44:38.667Z"
   },
   {
    "duration": 7,
    "start_time": "2022-07-12T12:44:38.875Z"
   },
   {
    "duration": 243,
    "start_time": "2022-07-12T12:44:38.884Z"
   },
   {
    "duration": 162,
    "start_time": "2022-07-12T12:44:39.129Z"
   },
   {
    "duration": 9,
    "start_time": "2022-07-12T12:44:39.295Z"
   },
   {
    "duration": 7,
    "start_time": "2022-07-12T12:44:39.306Z"
   },
   {
    "duration": 186,
    "start_time": "2022-07-12T12:44:39.314Z"
   },
   {
    "duration": 167,
    "start_time": "2022-07-12T12:44:39.502Z"
   },
   {
    "duration": 10,
    "start_time": "2022-07-12T12:44:39.671Z"
   },
   {
    "duration": 10,
    "start_time": "2022-07-12T12:44:39.683Z"
   },
   {
    "duration": 180,
    "start_time": "2022-07-12T12:44:39.695Z"
   },
   {
    "duration": 9,
    "start_time": "2022-07-12T12:44:39.877Z"
   },
   {
    "duration": 8,
    "start_time": "2022-07-12T12:44:39.888Z"
   },
   {
    "duration": 168,
    "start_time": "2022-07-12T12:44:39.898Z"
   },
   {
    "duration": 9,
    "start_time": "2022-07-12T12:44:40.068Z"
   },
   {
    "duration": 11,
    "start_time": "2022-07-12T12:44:40.078Z"
   },
   {
    "duration": 155,
    "start_time": "2022-07-12T12:44:40.090Z"
   },
   {
    "duration": 31,
    "start_time": "2022-07-12T12:44:40.247Z"
   },
   {
    "duration": 24,
    "start_time": "2022-07-12T12:44:40.280Z"
   },
   {
    "duration": 24,
    "start_time": "2022-07-12T12:44:40.306Z"
   },
   {
    "duration": 140,
    "start_time": "2022-07-12T12:44:40.332Z"
   },
   {
    "duration": 26,
    "start_time": "2022-07-12T12:44:40.474Z"
   },
   {
    "duration": 240,
    "start_time": "2022-07-12T12:44:40.502Z"
   },
   {
    "duration": 20,
    "start_time": "2022-07-12T12:44:40.744Z"
   },
   {
    "duration": 333,
    "start_time": "2022-07-12T12:44:40.766Z"
   },
   {
    "duration": 10,
    "start_time": "2022-07-12T12:44:41.101Z"
   },
   {
    "duration": 247,
    "start_time": "2022-07-12T12:44:41.112Z"
   },
   {
    "duration": 10,
    "start_time": "2022-07-12T12:44:41.360Z"
   },
   {
    "duration": 230,
    "start_time": "2022-07-12T12:44:41.371Z"
   },
   {
    "duration": 3,
    "start_time": "2022-07-12T12:44:41.603Z"
   },
   {
    "duration": 15,
    "start_time": "2022-07-12T12:44:41.607Z"
   },
   {
    "duration": 140,
    "start_time": "2022-07-12T12:44:41.624Z"
   },
   {
    "duration": 6,
    "start_time": "2022-07-12T12:44:41.766Z"
   },
   {
    "duration": 10,
    "start_time": "2022-07-12T12:44:41.774Z"
   },
   {
    "duration": 158,
    "start_time": "2022-07-12T12:44:41.786Z"
   },
   {
    "duration": 17,
    "start_time": "2022-07-12T12:44:41.947Z"
   },
   {
    "duration": 176,
    "start_time": "2022-07-12T12:44:41.966Z"
   },
   {
    "duration": 8,
    "start_time": "2022-07-12T12:44:42.144Z"
   },
   {
    "duration": 118,
    "start_time": "2022-07-12T12:44:42.153Z"
   },
   {
    "duration": 7,
    "start_time": "2022-07-12T12:44:42.272Z"
   },
   {
    "duration": 196,
    "start_time": "2022-07-12T12:44:42.281Z"
   },
   {
    "duration": 9,
    "start_time": "2022-07-12T12:44:42.478Z"
   },
   {
    "duration": 9,
    "start_time": "2022-07-12T12:44:42.489Z"
   },
   {
    "duration": 11,
    "start_time": "2022-07-12T12:44:42.500Z"
   },
   {
    "duration": 328,
    "start_time": "2022-07-12T12:44:42.512Z"
   },
   {
    "duration": 9,
    "start_time": "2022-07-12T12:44:42.842Z"
   },
   {
    "duration": 375,
    "start_time": "2022-07-12T12:44:42.864Z"
   },
   {
    "duration": 8,
    "start_time": "2022-07-12T12:44:43.241Z"
   },
   {
    "duration": 257,
    "start_time": "2022-07-12T12:44:43.250Z"
   },
   {
    "duration": 83,
    "start_time": "2022-07-12T12:44:43.509Z"
   },
   {
    "duration": 4536,
    "start_time": "2022-07-12T12:44:43.594Z"
   },
   {
    "duration": 10,
    "start_time": "2022-07-12T12:44:48.131Z"
   },
   {
    "duration": 22,
    "start_time": "2022-07-12T12:44:48.142Z"
   },
   {
    "duration": 143,
    "start_time": "2022-07-12T12:44:48.165Z"
   },
   {
    "duration": 18,
    "start_time": "2022-07-12T12:44:48.310Z"
   },
   {
    "duration": 7,
    "start_time": "2022-07-12T12:44:48.330Z"
   },
   {
    "duration": 32,
    "start_time": "2022-07-12T12:44:48.338Z"
   },
   {
    "duration": 125,
    "start_time": "2022-07-12T12:44:48.371Z"
   },
   {
    "duration": 16,
    "start_time": "2022-07-12T12:44:48.501Z"
   },
   {
    "duration": 127,
    "start_time": "2022-07-12T12:44:48.518Z"
   },
   {
    "duration": 25,
    "start_time": "2022-07-12T12:44:48.646Z"
   },
   {
    "duration": 145,
    "start_time": "2022-07-12T12:44:48.672Z"
   },
   {
    "duration": 15,
    "start_time": "2022-07-12T12:44:48.819Z"
   },
   {
    "duration": 148,
    "start_time": "2022-07-12T12:44:48.836Z"
   },
   {
    "duration": 11,
    "start_time": "2022-07-12T12:44:48.985Z"
   },
   {
    "duration": 121,
    "start_time": "2022-07-12T12:44:48.997Z"
   },
   {
    "duration": 111,
    "start_time": "2022-07-12T12:44:49.119Z"
   },
   {
    "duration": 6,
    "start_time": "2022-07-12T12:44:49.231Z"
   },
   {
    "duration": 40,
    "start_time": "2022-07-12T12:44:49.239Z"
   },
   {
    "duration": 19,
    "start_time": "2022-07-12T12:44:49.280Z"
   },
   {
    "duration": 11,
    "start_time": "2022-07-12T12:44:49.300Z"
   },
   {
    "duration": 15,
    "start_time": "2022-07-12T12:44:49.312Z"
   },
   {
    "duration": 282,
    "start_time": "2022-07-12T12:44:49.328Z"
   },
   {
    "duration": 541,
    "start_time": "2022-07-12T12:46:22.563Z"
   },
   {
    "duration": 31,
    "start_time": "2022-07-12T12:46:23.106Z"
   },
   {
    "duration": 2133,
    "start_time": "2022-07-12T12:46:23.139Z"
   },
   {
    "duration": 4,
    "start_time": "2022-07-12T12:46:25.274Z"
   },
   {
    "duration": 6,
    "start_time": "2022-07-12T12:46:25.280Z"
   },
   {
    "duration": 16,
    "start_time": "2022-07-12T12:46:25.287Z"
   },
   {
    "duration": 12,
    "start_time": "2022-07-12T12:46:25.305Z"
   },
   {
    "duration": 6,
    "start_time": "2022-07-12T12:46:25.319Z"
   },
   {
    "duration": 9,
    "start_time": "2022-07-12T12:46:25.326Z"
   },
   {
    "duration": 34,
    "start_time": "2022-07-12T12:46:25.337Z"
   },
   {
    "duration": 6,
    "start_time": "2022-07-12T12:46:25.373Z"
   },
   {
    "duration": 356,
    "start_time": "2022-07-12T12:46:25.381Z"
   },
   {
    "duration": 7,
    "start_time": "2022-07-12T12:46:25.740Z"
   },
   {
    "duration": 39,
    "start_time": "2022-07-12T12:46:25.749Z"
   },
   {
    "duration": 186,
    "start_time": "2022-07-12T12:46:25.790Z"
   },
   {
    "duration": 9,
    "start_time": "2022-07-12T12:46:25.978Z"
   },
   {
    "duration": 166,
    "start_time": "2022-07-12T12:46:25.988Z"
   },
   {
    "duration": 190,
    "start_time": "2022-07-12T12:46:26.155Z"
   },
   {
    "duration": 6,
    "start_time": "2022-07-12T12:46:26.347Z"
   },
   {
    "duration": 17,
    "start_time": "2022-07-12T12:46:26.355Z"
   },
   {
    "duration": 7,
    "start_time": "2022-07-12T12:46:26.374Z"
   },
   {
    "duration": 8,
    "start_time": "2022-07-12T12:46:26.382Z"
   },
   {
    "duration": 149,
    "start_time": "2022-07-12T12:46:26.391Z"
   },
   {
    "duration": 187,
    "start_time": "2022-07-12T12:46:26.542Z"
   },
   {
    "duration": 6,
    "start_time": "2022-07-12T12:46:26.731Z"
   },
   {
    "duration": 243,
    "start_time": "2022-07-12T12:46:26.739Z"
   },
   {
    "duration": 154,
    "start_time": "2022-07-12T12:46:26.984Z"
   },
   {
    "duration": 9,
    "start_time": "2022-07-12T12:46:27.142Z"
   },
   {
    "duration": 30,
    "start_time": "2022-07-12T12:46:27.152Z"
   },
   {
    "duration": 165,
    "start_time": "2022-07-12T12:46:27.183Z"
   },
   {
    "duration": 173,
    "start_time": "2022-07-12T12:46:27.350Z"
   },
   {
    "duration": 9,
    "start_time": "2022-07-12T12:46:27.525Z"
   },
   {
    "duration": 27,
    "start_time": "2022-07-12T12:46:27.536Z"
   },
   {
    "duration": 172,
    "start_time": "2022-07-12T12:46:27.565Z"
   },
   {
    "duration": 9,
    "start_time": "2022-07-12T12:46:27.756Z"
   },
   {
    "duration": 35,
    "start_time": "2022-07-12T12:46:27.767Z"
   },
   {
    "duration": 143,
    "start_time": "2022-07-12T12:46:27.804Z"
   },
   {
    "duration": 15,
    "start_time": "2022-07-12T12:46:27.949Z"
   },
   {
    "duration": 4,
    "start_time": "2022-07-12T12:46:27.966Z"
   },
   {
    "duration": 161,
    "start_time": "2022-07-12T12:46:27.971Z"
   },
   {
    "duration": 43,
    "start_time": "2022-07-12T12:46:28.134Z"
   },
   {
    "duration": 29,
    "start_time": "2022-07-12T12:46:28.179Z"
   },
   {
    "duration": 36,
    "start_time": "2022-07-12T12:46:28.210Z"
   },
   {
    "duration": 162,
    "start_time": "2022-07-12T12:46:28.248Z"
   },
   {
    "duration": 87,
    "start_time": "2022-07-12T12:46:28.412Z"
   },
   {
    "duration": 0,
    "start_time": "2022-07-12T12:46:28.501Z"
   },
   {
    "duration": 0,
    "start_time": "2022-07-12T12:46:28.502Z"
   },
   {
    "duration": 0,
    "start_time": "2022-07-12T12:46:28.503Z"
   },
   {
    "duration": 0,
    "start_time": "2022-07-12T12:46:28.504Z"
   },
   {
    "duration": 0,
    "start_time": "2022-07-12T12:46:28.505Z"
   },
   {
    "duration": 0,
    "start_time": "2022-07-12T12:46:28.506Z"
   },
   {
    "duration": 0,
    "start_time": "2022-07-12T12:46:28.507Z"
   },
   {
    "duration": 0,
    "start_time": "2022-07-12T12:46:28.508Z"
   },
   {
    "duration": 0,
    "start_time": "2022-07-12T12:46:28.509Z"
   },
   {
    "duration": 0,
    "start_time": "2022-07-12T12:46:28.510Z"
   },
   {
    "duration": 0,
    "start_time": "2022-07-12T12:46:28.511Z"
   },
   {
    "duration": 0,
    "start_time": "2022-07-12T12:46:28.512Z"
   },
   {
    "duration": 0,
    "start_time": "2022-07-12T12:46:28.513Z"
   },
   {
    "duration": 0,
    "start_time": "2022-07-12T12:46:28.514Z"
   },
   {
    "duration": 0,
    "start_time": "2022-07-12T12:46:28.515Z"
   },
   {
    "duration": 0,
    "start_time": "2022-07-12T12:46:28.516Z"
   },
   {
    "duration": 0,
    "start_time": "2022-07-12T12:46:28.517Z"
   },
   {
    "duration": 0,
    "start_time": "2022-07-12T12:46:28.518Z"
   },
   {
    "duration": 0,
    "start_time": "2022-07-12T12:46:28.519Z"
   },
   {
    "duration": 0,
    "start_time": "2022-07-12T12:46:28.520Z"
   },
   {
    "duration": 0,
    "start_time": "2022-07-12T12:46:28.521Z"
   },
   {
    "duration": 0,
    "start_time": "2022-07-12T12:46:28.522Z"
   },
   {
    "duration": 0,
    "start_time": "2022-07-12T12:46:28.523Z"
   },
   {
    "duration": 0,
    "start_time": "2022-07-12T12:46:28.524Z"
   },
   {
    "duration": 0,
    "start_time": "2022-07-12T12:46:28.525Z"
   },
   {
    "duration": 0,
    "start_time": "2022-07-12T12:46:28.525Z"
   },
   {
    "duration": 0,
    "start_time": "2022-07-12T12:46:28.563Z"
   },
   {
    "duration": 0,
    "start_time": "2022-07-12T12:46:28.565Z"
   },
   {
    "duration": 0,
    "start_time": "2022-07-12T12:46:28.565Z"
   },
   {
    "duration": 0,
    "start_time": "2022-07-12T12:46:28.566Z"
   },
   {
    "duration": 0,
    "start_time": "2022-07-12T12:46:28.567Z"
   },
   {
    "duration": 0,
    "start_time": "2022-07-12T12:46:28.568Z"
   },
   {
    "duration": 0,
    "start_time": "2022-07-12T12:46:28.569Z"
   },
   {
    "duration": 0,
    "start_time": "2022-07-12T12:46:28.570Z"
   },
   {
    "duration": 0,
    "start_time": "2022-07-12T12:46:28.571Z"
   },
   {
    "duration": 0,
    "start_time": "2022-07-12T12:46:28.572Z"
   },
   {
    "duration": 0,
    "start_time": "2022-07-12T12:46:28.573Z"
   },
   {
    "duration": 1,
    "start_time": "2022-07-12T12:46:28.573Z"
   },
   {
    "duration": 0,
    "start_time": "2022-07-12T12:46:28.574Z"
   },
   {
    "duration": 0,
    "start_time": "2022-07-12T12:46:28.575Z"
   },
   {
    "duration": 0,
    "start_time": "2022-07-12T12:46:28.576Z"
   },
   {
    "duration": 0,
    "start_time": "2022-07-12T12:46:28.577Z"
   },
   {
    "duration": 0,
    "start_time": "2022-07-12T12:46:28.578Z"
   },
   {
    "duration": 0,
    "start_time": "2022-07-12T12:46:28.582Z"
   },
   {
    "duration": 0,
    "start_time": "2022-07-12T12:46:28.583Z"
   },
   {
    "duration": 0,
    "start_time": "2022-07-12T12:46:28.585Z"
   },
   {
    "duration": 0,
    "start_time": "2022-07-12T12:46:28.586Z"
   },
   {
    "duration": 0,
    "start_time": "2022-07-12T12:46:28.587Z"
   },
   {
    "duration": 0,
    "start_time": "2022-07-12T12:46:28.588Z"
   },
   {
    "duration": 0,
    "start_time": "2022-07-12T12:46:28.588Z"
   },
   {
    "duration": 0,
    "start_time": "2022-07-12T12:46:28.589Z"
   },
   {
    "duration": 139,
    "start_time": "2022-07-12T12:48:33.684Z"
   },
   {
    "duration": 3,
    "start_time": "2022-07-12T12:51:02.162Z"
   },
   {
    "duration": 522,
    "start_time": "2022-07-12T12:51:09.583Z"
   },
   {
    "duration": 34,
    "start_time": "2022-07-12T12:51:10.107Z"
   },
   {
    "duration": 2354,
    "start_time": "2022-07-12T12:51:10.142Z"
   },
   {
    "duration": 5,
    "start_time": "2022-07-12T12:51:12.498Z"
   },
   {
    "duration": 16,
    "start_time": "2022-07-12T12:51:12.504Z"
   },
   {
    "duration": 17,
    "start_time": "2022-07-12T12:51:12.521Z"
   },
   {
    "duration": 28,
    "start_time": "2022-07-12T12:51:12.540Z"
   },
   {
    "duration": 9,
    "start_time": "2022-07-12T12:51:12.570Z"
   },
   {
    "duration": 29,
    "start_time": "2022-07-12T12:51:12.581Z"
   },
   {
    "duration": 33,
    "start_time": "2022-07-12T12:51:12.614Z"
   },
   {
    "duration": 27,
    "start_time": "2022-07-12T12:51:12.649Z"
   },
   {
    "duration": 398,
    "start_time": "2022-07-12T12:51:12.678Z"
   },
   {
    "duration": 6,
    "start_time": "2022-07-12T12:51:13.078Z"
   },
   {
    "duration": 41,
    "start_time": "2022-07-12T12:51:13.086Z"
   },
   {
    "duration": 185,
    "start_time": "2022-07-12T12:51:13.129Z"
   },
   {
    "duration": 10,
    "start_time": "2022-07-12T12:51:13.316Z"
   },
   {
    "duration": 207,
    "start_time": "2022-07-12T12:51:13.328Z"
   },
   {
    "duration": 186,
    "start_time": "2022-07-12T12:51:13.537Z"
   },
   {
    "duration": 6,
    "start_time": "2022-07-12T12:51:13.725Z"
   },
   {
    "duration": 30,
    "start_time": "2022-07-12T12:51:13.733Z"
   },
   {
    "duration": 17,
    "start_time": "2022-07-12T12:51:13.765Z"
   },
   {
    "duration": 11,
    "start_time": "2022-07-12T12:51:13.784Z"
   },
   {
    "duration": 145,
    "start_time": "2022-07-12T12:51:13.796Z"
   },
   {
    "duration": 4,
    "start_time": "2022-07-12T12:51:13.942Z"
   },
   {
    "duration": 191,
    "start_time": "2022-07-12T12:51:13.948Z"
   },
   {
    "duration": 7,
    "start_time": "2022-07-12T12:51:14.141Z"
   },
   {
    "duration": 256,
    "start_time": "2022-07-12T12:51:14.150Z"
   },
   {
    "duration": 167,
    "start_time": "2022-07-12T12:51:14.410Z"
   },
   {
    "duration": 11,
    "start_time": "2022-07-12T12:51:14.578Z"
   },
   {
    "duration": 9,
    "start_time": "2022-07-12T12:51:14.591Z"
   },
   {
    "duration": 201,
    "start_time": "2022-07-12T12:51:14.602Z"
   },
   {
    "duration": 167,
    "start_time": "2022-07-12T12:51:14.805Z"
   },
   {
    "duration": 11,
    "start_time": "2022-07-12T12:51:14.974Z"
   },
   {
    "duration": 10,
    "start_time": "2022-07-12T12:51:14.987Z"
   },
   {
    "duration": 178,
    "start_time": "2022-07-12T12:51:14.999Z"
   },
   {
    "duration": 10,
    "start_time": "2022-07-12T12:51:15.180Z"
   },
   {
    "duration": 17,
    "start_time": "2022-07-12T12:51:15.192Z"
   },
   {
    "duration": 155,
    "start_time": "2022-07-12T12:51:15.210Z"
   },
   {
    "duration": 9,
    "start_time": "2022-07-12T12:51:15.367Z"
   },
   {
    "duration": 4,
    "start_time": "2022-07-12T12:51:15.377Z"
   },
   {
    "duration": 159,
    "start_time": "2022-07-12T12:51:15.383Z"
   },
   {
    "duration": 32,
    "start_time": "2022-07-12T12:51:15.544Z"
   },
   {
    "duration": 26,
    "start_time": "2022-07-12T12:51:15.578Z"
   },
   {
    "duration": 25,
    "start_time": "2022-07-12T12:51:15.605Z"
   },
   {
    "duration": 155,
    "start_time": "2022-07-12T12:51:15.631Z"
   },
   {
    "duration": 81,
    "start_time": "2022-07-12T12:51:15.787Z"
   },
   {
    "duration": 0,
    "start_time": "2022-07-12T12:51:15.870Z"
   },
   {
    "duration": 0,
    "start_time": "2022-07-12T12:51:15.871Z"
   },
   {
    "duration": 0,
    "start_time": "2022-07-12T12:51:15.872Z"
   },
   {
    "duration": 0,
    "start_time": "2022-07-12T12:51:15.873Z"
   },
   {
    "duration": 0,
    "start_time": "2022-07-12T12:51:15.874Z"
   },
   {
    "duration": 0,
    "start_time": "2022-07-12T12:51:15.875Z"
   },
   {
    "duration": 0,
    "start_time": "2022-07-12T12:51:15.877Z"
   },
   {
    "duration": 0,
    "start_time": "2022-07-12T12:51:15.878Z"
   },
   {
    "duration": 0,
    "start_time": "2022-07-12T12:51:15.879Z"
   },
   {
    "duration": 0,
    "start_time": "2022-07-12T12:51:15.880Z"
   },
   {
    "duration": 0,
    "start_time": "2022-07-12T12:51:15.881Z"
   },
   {
    "duration": 0,
    "start_time": "2022-07-12T12:51:15.883Z"
   },
   {
    "duration": 0,
    "start_time": "2022-07-12T12:51:15.884Z"
   },
   {
    "duration": 0,
    "start_time": "2022-07-12T12:51:15.885Z"
   },
   {
    "duration": 0,
    "start_time": "2022-07-12T12:51:15.886Z"
   },
   {
    "duration": 0,
    "start_time": "2022-07-12T12:51:15.887Z"
   },
   {
    "duration": 0,
    "start_time": "2022-07-12T12:51:15.888Z"
   },
   {
    "duration": 0,
    "start_time": "2022-07-12T12:51:15.889Z"
   },
   {
    "duration": 0,
    "start_time": "2022-07-12T12:51:15.890Z"
   },
   {
    "duration": 0,
    "start_time": "2022-07-12T12:51:15.891Z"
   },
   {
    "duration": 0,
    "start_time": "2022-07-12T12:51:15.892Z"
   },
   {
    "duration": 0,
    "start_time": "2022-07-12T12:51:15.895Z"
   },
   {
    "duration": 0,
    "start_time": "2022-07-12T12:51:15.896Z"
   },
   {
    "duration": 0,
    "start_time": "2022-07-12T12:51:15.897Z"
   },
   {
    "duration": 0,
    "start_time": "2022-07-12T12:51:15.898Z"
   },
   {
    "duration": 0,
    "start_time": "2022-07-12T12:51:15.899Z"
   },
   {
    "duration": 0,
    "start_time": "2022-07-12T12:51:15.900Z"
   },
   {
    "duration": 0,
    "start_time": "2022-07-12T12:51:15.901Z"
   },
   {
    "duration": 0,
    "start_time": "2022-07-12T12:51:15.902Z"
   },
   {
    "duration": 0,
    "start_time": "2022-07-12T12:51:15.903Z"
   },
   {
    "duration": 0,
    "start_time": "2022-07-12T12:51:15.904Z"
   },
   {
    "duration": 0,
    "start_time": "2022-07-12T12:51:15.964Z"
   },
   {
    "duration": 0,
    "start_time": "2022-07-12T12:51:15.966Z"
   },
   {
    "duration": 0,
    "start_time": "2022-07-12T12:51:15.966Z"
   },
   {
    "duration": 0,
    "start_time": "2022-07-12T12:51:15.968Z"
   },
   {
    "duration": 0,
    "start_time": "2022-07-12T12:51:15.969Z"
   },
   {
    "duration": 0,
    "start_time": "2022-07-12T12:51:15.970Z"
   },
   {
    "duration": 0,
    "start_time": "2022-07-12T12:51:15.971Z"
   },
   {
    "duration": 0,
    "start_time": "2022-07-12T12:51:15.973Z"
   },
   {
    "duration": 0,
    "start_time": "2022-07-12T12:51:15.974Z"
   },
   {
    "duration": 0,
    "start_time": "2022-07-12T12:51:15.975Z"
   },
   {
    "duration": 0,
    "start_time": "2022-07-12T12:51:15.976Z"
   },
   {
    "duration": 0,
    "start_time": "2022-07-12T12:51:15.977Z"
   },
   {
    "duration": 0,
    "start_time": "2022-07-12T12:51:15.978Z"
   },
   {
    "duration": 0,
    "start_time": "2022-07-12T12:51:15.979Z"
   },
   {
    "duration": 0,
    "start_time": "2022-07-12T12:51:15.980Z"
   },
   {
    "duration": 0,
    "start_time": "2022-07-12T12:51:15.982Z"
   },
   {
    "duration": 0,
    "start_time": "2022-07-12T12:51:15.983Z"
   },
   {
    "duration": 0,
    "start_time": "2022-07-12T12:51:15.984Z"
   },
   {
    "duration": 0,
    "start_time": "2022-07-12T12:51:15.985Z"
   },
   {
    "duration": 0,
    "start_time": "2022-07-12T12:51:15.985Z"
   },
   {
    "duration": 570,
    "start_time": "2022-07-12T12:53:38.670Z"
   },
   {
    "duration": 34,
    "start_time": "2022-07-12T12:53:39.241Z"
   },
   {
    "duration": 2167,
    "start_time": "2022-07-12T12:53:39.277Z"
   },
   {
    "duration": 4,
    "start_time": "2022-07-12T12:53:41.446Z"
   },
   {
    "duration": 21,
    "start_time": "2022-07-12T12:53:41.452Z"
   },
   {
    "duration": 49,
    "start_time": "2022-07-12T12:53:41.475Z"
   },
   {
    "duration": 24,
    "start_time": "2022-07-12T12:53:41.526Z"
   },
   {
    "duration": 7,
    "start_time": "2022-07-12T12:53:41.552Z"
   },
   {
    "duration": 16,
    "start_time": "2022-07-12T12:53:41.560Z"
   },
   {
    "duration": 15,
    "start_time": "2022-07-12T12:53:41.578Z"
   },
   {
    "duration": 7,
    "start_time": "2022-07-12T12:53:41.595Z"
   },
   {
    "duration": 327,
    "start_time": "2022-07-12T12:53:41.604Z"
   },
   {
    "duration": 8,
    "start_time": "2022-07-12T12:53:41.933Z"
   },
   {
    "duration": 41,
    "start_time": "2022-07-12T12:53:41.943Z"
   },
   {
    "duration": 180,
    "start_time": "2022-07-12T12:53:41.985Z"
   },
   {
    "duration": 9,
    "start_time": "2022-07-12T12:53:42.166Z"
   },
   {
    "duration": 194,
    "start_time": "2022-07-12T12:53:42.176Z"
   },
   {
    "duration": 208,
    "start_time": "2022-07-12T12:53:42.372Z"
   },
   {
    "duration": 8,
    "start_time": "2022-07-12T12:53:42.582Z"
   },
   {
    "duration": 22,
    "start_time": "2022-07-12T12:53:42.594Z"
   },
   {
    "duration": 17,
    "start_time": "2022-07-12T12:53:42.618Z"
   },
   {
    "duration": 13,
    "start_time": "2022-07-12T12:53:42.637Z"
   },
   {
    "duration": 188,
    "start_time": "2022-07-12T12:53:42.652Z"
   },
   {
    "duration": 3,
    "start_time": "2022-07-12T12:53:42.842Z"
   },
   {
    "duration": 181,
    "start_time": "2022-07-12T12:53:42.847Z"
   },
   {
    "duration": 6,
    "start_time": "2022-07-12T12:53:43.030Z"
   },
   {
    "duration": 227,
    "start_time": "2022-07-12T12:53:43.038Z"
   },
   {
    "duration": 165,
    "start_time": "2022-07-12T12:53:43.269Z"
   },
   {
    "duration": 9,
    "start_time": "2022-07-12T12:53:43.435Z"
   },
   {
    "duration": 19,
    "start_time": "2022-07-12T12:53:43.446Z"
   },
   {
    "duration": 166,
    "start_time": "2022-07-12T12:53:43.466Z"
   },
   {
    "duration": 172,
    "start_time": "2022-07-12T12:53:43.635Z"
   },
   {
    "duration": 9,
    "start_time": "2022-07-12T12:53:43.809Z"
   },
   {
    "duration": 9,
    "start_time": "2022-07-12T12:53:43.820Z"
   },
   {
    "duration": 184,
    "start_time": "2022-07-12T12:53:43.831Z"
   },
   {
    "duration": 9,
    "start_time": "2022-07-12T12:53:44.017Z"
   },
   {
    "duration": 22,
    "start_time": "2022-07-12T12:53:44.028Z"
   },
   {
    "duration": 172,
    "start_time": "2022-07-12T12:53:44.052Z"
   },
   {
    "duration": 9,
    "start_time": "2022-07-12T12:53:44.226Z"
   },
   {
    "duration": 31,
    "start_time": "2022-07-12T12:53:44.236Z"
   },
   {
    "duration": 144,
    "start_time": "2022-07-12T12:53:44.269Z"
   },
   {
    "duration": 27,
    "start_time": "2022-07-12T12:53:44.415Z"
   },
   {
    "duration": 35,
    "start_time": "2022-07-12T12:53:44.444Z"
   },
   {
    "duration": 27,
    "start_time": "2022-07-12T12:53:44.480Z"
   },
   {
    "duration": 177,
    "start_time": "2022-07-12T12:53:44.508Z"
   },
   {
    "duration": 81,
    "start_time": "2022-07-12T12:53:44.687Z"
   },
   {
    "duration": 0,
    "start_time": "2022-07-12T12:53:44.770Z"
   },
   {
    "duration": 0,
    "start_time": "2022-07-12T12:53:44.771Z"
   },
   {
    "duration": 0,
    "start_time": "2022-07-12T12:53:44.773Z"
   },
   {
    "duration": 0,
    "start_time": "2022-07-12T12:53:44.774Z"
   },
   {
    "duration": 0,
    "start_time": "2022-07-12T12:53:44.775Z"
   },
   {
    "duration": 0,
    "start_time": "2022-07-12T12:53:44.776Z"
   },
   {
    "duration": 0,
    "start_time": "2022-07-12T12:53:44.777Z"
   },
   {
    "duration": 0,
    "start_time": "2022-07-12T12:53:44.778Z"
   },
   {
    "duration": 0,
    "start_time": "2022-07-12T12:53:44.780Z"
   },
   {
    "duration": 0,
    "start_time": "2022-07-12T12:53:44.781Z"
   },
   {
    "duration": 0,
    "start_time": "2022-07-12T12:53:44.782Z"
   },
   {
    "duration": 0,
    "start_time": "2022-07-12T12:53:44.783Z"
   },
   {
    "duration": 0,
    "start_time": "2022-07-12T12:53:44.784Z"
   },
   {
    "duration": 0,
    "start_time": "2022-07-12T12:53:44.785Z"
   },
   {
    "duration": 0,
    "start_time": "2022-07-12T12:53:44.786Z"
   },
   {
    "duration": 0,
    "start_time": "2022-07-12T12:53:44.787Z"
   },
   {
    "duration": 0,
    "start_time": "2022-07-12T12:53:44.788Z"
   },
   {
    "duration": 0,
    "start_time": "2022-07-12T12:53:44.790Z"
   },
   {
    "duration": 0,
    "start_time": "2022-07-12T12:53:44.791Z"
   },
   {
    "duration": 0,
    "start_time": "2022-07-12T12:53:44.793Z"
   },
   {
    "duration": 0,
    "start_time": "2022-07-12T12:53:44.794Z"
   },
   {
    "duration": 0,
    "start_time": "2022-07-12T12:53:44.795Z"
   },
   {
    "duration": 0,
    "start_time": "2022-07-12T12:53:44.796Z"
   },
   {
    "duration": 0,
    "start_time": "2022-07-12T12:53:44.797Z"
   },
   {
    "duration": 0,
    "start_time": "2022-07-12T12:53:44.798Z"
   },
   {
    "duration": 0,
    "start_time": "2022-07-12T12:53:44.799Z"
   },
   {
    "duration": 0,
    "start_time": "2022-07-12T12:53:44.800Z"
   },
   {
    "duration": 0,
    "start_time": "2022-07-12T12:53:44.801Z"
   },
   {
    "duration": 0,
    "start_time": "2022-07-12T12:53:44.802Z"
   },
   {
    "duration": 1,
    "start_time": "2022-07-12T12:53:44.803Z"
   },
   {
    "duration": 0,
    "start_time": "2022-07-12T12:53:44.805Z"
   },
   {
    "duration": 0,
    "start_time": "2022-07-12T12:53:44.805Z"
   },
   {
    "duration": 0,
    "start_time": "2022-07-12T12:53:44.806Z"
   },
   {
    "duration": 0,
    "start_time": "2022-07-12T12:53:44.807Z"
   },
   {
    "duration": 0,
    "start_time": "2022-07-12T12:53:44.865Z"
   },
   {
    "duration": 0,
    "start_time": "2022-07-12T12:53:44.866Z"
   },
   {
    "duration": 0,
    "start_time": "2022-07-12T12:53:44.867Z"
   },
   {
    "duration": 0,
    "start_time": "2022-07-12T12:53:44.868Z"
   },
   {
    "duration": 0,
    "start_time": "2022-07-12T12:53:44.870Z"
   },
   {
    "duration": 0,
    "start_time": "2022-07-12T12:53:44.871Z"
   },
   {
    "duration": 0,
    "start_time": "2022-07-12T12:53:44.872Z"
   },
   {
    "duration": 0,
    "start_time": "2022-07-12T12:53:44.873Z"
   },
   {
    "duration": 0,
    "start_time": "2022-07-12T12:53:44.874Z"
   },
   {
    "duration": 1,
    "start_time": "2022-07-12T12:53:44.875Z"
   },
   {
    "duration": 0,
    "start_time": "2022-07-12T12:53:44.877Z"
   },
   {
    "duration": 0,
    "start_time": "2022-07-12T12:53:44.878Z"
   },
   {
    "duration": 0,
    "start_time": "2022-07-12T12:53:44.879Z"
   },
   {
    "duration": 0,
    "start_time": "2022-07-12T12:53:44.880Z"
   },
   {
    "duration": 0,
    "start_time": "2022-07-12T12:53:44.881Z"
   },
   {
    "duration": 0,
    "start_time": "2022-07-12T12:53:44.882Z"
   },
   {
    "duration": 0,
    "start_time": "2022-07-12T12:53:44.884Z"
   },
   {
    "duration": 518,
    "start_time": "2022-07-12T12:54:46.352Z"
   },
   {
    "duration": 30,
    "start_time": "2022-07-12T12:54:46.872Z"
   },
   {
    "duration": 2117,
    "start_time": "2022-07-12T12:54:46.903Z"
   },
   {
    "duration": 4,
    "start_time": "2022-07-12T12:54:49.022Z"
   },
   {
    "duration": 7,
    "start_time": "2022-07-12T12:54:49.027Z"
   },
   {
    "duration": 16,
    "start_time": "2022-07-12T12:54:49.036Z"
   },
   {
    "duration": 15,
    "start_time": "2022-07-12T12:54:49.053Z"
   },
   {
    "duration": 7,
    "start_time": "2022-07-12T12:54:49.069Z"
   },
   {
    "duration": 9,
    "start_time": "2022-07-12T12:54:49.077Z"
   },
   {
    "duration": 11,
    "start_time": "2022-07-12T12:54:49.088Z"
   },
   {
    "duration": 6,
    "start_time": "2022-07-12T12:54:49.101Z"
   },
   {
    "duration": 379,
    "start_time": "2022-07-12T12:54:49.109Z"
   },
   {
    "duration": 7,
    "start_time": "2022-07-12T12:54:49.489Z"
   },
   {
    "duration": 28,
    "start_time": "2022-07-12T12:54:49.498Z"
   },
   {
    "duration": 187,
    "start_time": "2022-07-12T12:54:49.528Z"
   },
   {
    "duration": 9,
    "start_time": "2022-07-12T12:54:49.717Z"
   },
   {
    "duration": 164,
    "start_time": "2022-07-12T12:54:49.728Z"
   },
   {
    "duration": 182,
    "start_time": "2022-07-12T12:54:49.894Z"
   },
   {
    "duration": 7,
    "start_time": "2022-07-12T12:54:50.077Z"
   },
   {
    "duration": 8,
    "start_time": "2022-07-12T12:54:50.086Z"
   },
   {
    "duration": 6,
    "start_time": "2022-07-12T12:54:50.096Z"
   },
   {
    "duration": 7,
    "start_time": "2022-07-12T12:54:50.103Z"
   },
   {
    "duration": 168,
    "start_time": "2022-07-12T12:54:50.111Z"
   },
   {
    "duration": 5,
    "start_time": "2022-07-12T12:54:50.280Z"
   },
   {
    "duration": 199,
    "start_time": "2022-07-12T12:54:50.286Z"
   },
   {
    "duration": 5,
    "start_time": "2022-07-12T12:54:50.487Z"
   },
   {
    "duration": 252,
    "start_time": "2022-07-12T12:54:50.494Z"
   },
   {
    "duration": 156,
    "start_time": "2022-07-12T12:54:50.751Z"
   },
   {
    "duration": 9,
    "start_time": "2022-07-12T12:54:50.909Z"
   },
   {
    "duration": 9,
    "start_time": "2022-07-12T12:54:50.919Z"
   },
   {
    "duration": 177,
    "start_time": "2022-07-12T12:54:50.929Z"
   },
   {
    "duration": 163,
    "start_time": "2022-07-12T12:54:51.108Z"
   },
   {
    "duration": 9,
    "start_time": "2022-07-12T12:54:51.272Z"
   },
   {
    "duration": 9,
    "start_time": "2022-07-12T12:54:51.283Z"
   },
   {
    "duration": 183,
    "start_time": "2022-07-12T12:54:51.293Z"
   },
   {
    "duration": 9,
    "start_time": "2022-07-12T12:54:51.478Z"
   },
   {
    "duration": 10,
    "start_time": "2022-07-12T12:54:51.489Z"
   },
   {
    "duration": 162,
    "start_time": "2022-07-12T12:54:51.501Z"
   },
   {
    "duration": 9,
    "start_time": "2022-07-12T12:54:51.665Z"
   },
   {
    "duration": 3,
    "start_time": "2022-07-12T12:54:51.676Z"
   },
   {
    "duration": 135,
    "start_time": "2022-07-12T12:54:51.681Z"
   },
   {
    "duration": 27,
    "start_time": "2022-07-12T12:54:51.818Z"
   },
   {
    "duration": 38,
    "start_time": "2022-07-12T12:54:51.847Z"
   },
   {
    "duration": 26,
    "start_time": "2022-07-12T12:54:51.887Z"
   },
   {
    "duration": 179,
    "start_time": "2022-07-12T12:54:51.915Z"
   },
   {
    "duration": 85,
    "start_time": "2022-07-12T12:54:52.096Z"
   },
   {
    "duration": 0,
    "start_time": "2022-07-12T12:54:52.184Z"
   },
   {
    "duration": 0,
    "start_time": "2022-07-12T12:54:52.185Z"
   },
   {
    "duration": 0,
    "start_time": "2022-07-12T12:54:52.186Z"
   },
   {
    "duration": 0,
    "start_time": "2022-07-12T12:54:52.188Z"
   },
   {
    "duration": 0,
    "start_time": "2022-07-12T12:54:52.189Z"
   },
   {
    "duration": 0,
    "start_time": "2022-07-12T12:54:52.191Z"
   },
   {
    "duration": 0,
    "start_time": "2022-07-12T12:54:52.192Z"
   },
   {
    "duration": 0,
    "start_time": "2022-07-12T12:54:52.194Z"
   },
   {
    "duration": 0,
    "start_time": "2022-07-12T12:54:52.196Z"
   },
   {
    "duration": 0,
    "start_time": "2022-07-12T12:54:52.197Z"
   },
   {
    "duration": 0,
    "start_time": "2022-07-12T12:54:52.198Z"
   },
   {
    "duration": 0,
    "start_time": "2022-07-12T12:54:52.199Z"
   },
   {
    "duration": 0,
    "start_time": "2022-07-12T12:54:52.200Z"
   },
   {
    "duration": 0,
    "start_time": "2022-07-12T12:54:52.201Z"
   },
   {
    "duration": 0,
    "start_time": "2022-07-12T12:54:52.202Z"
   },
   {
    "duration": 0,
    "start_time": "2022-07-12T12:54:52.203Z"
   },
   {
    "duration": 0,
    "start_time": "2022-07-12T12:54:52.204Z"
   },
   {
    "duration": 0,
    "start_time": "2022-07-12T12:54:52.205Z"
   },
   {
    "duration": 0,
    "start_time": "2022-07-12T12:54:52.206Z"
   },
   {
    "duration": 0,
    "start_time": "2022-07-12T12:54:52.207Z"
   },
   {
    "duration": 0,
    "start_time": "2022-07-12T12:54:52.208Z"
   },
   {
    "duration": 0,
    "start_time": "2022-07-12T12:54:52.209Z"
   },
   {
    "duration": 0,
    "start_time": "2022-07-12T12:54:52.211Z"
   },
   {
    "duration": 0,
    "start_time": "2022-07-12T12:54:52.212Z"
   },
   {
    "duration": 0,
    "start_time": "2022-07-12T12:54:52.213Z"
   },
   {
    "duration": 0,
    "start_time": "2022-07-12T12:54:52.264Z"
   },
   {
    "duration": 0,
    "start_time": "2022-07-12T12:54:52.265Z"
   },
   {
    "duration": 0,
    "start_time": "2022-07-12T12:54:52.266Z"
   },
   {
    "duration": 0,
    "start_time": "2022-07-12T12:54:52.268Z"
   },
   {
    "duration": 0,
    "start_time": "2022-07-12T12:54:52.269Z"
   },
   {
    "duration": 0,
    "start_time": "2022-07-12T12:54:52.270Z"
   },
   {
    "duration": 0,
    "start_time": "2022-07-12T12:54:52.271Z"
   },
   {
    "duration": 0,
    "start_time": "2022-07-12T12:54:52.272Z"
   },
   {
    "duration": 0,
    "start_time": "2022-07-12T12:54:52.273Z"
   },
   {
    "duration": 0,
    "start_time": "2022-07-12T12:54:52.274Z"
   },
   {
    "duration": 0,
    "start_time": "2022-07-12T12:54:52.275Z"
   },
   {
    "duration": 0,
    "start_time": "2022-07-12T12:54:52.276Z"
   },
   {
    "duration": 0,
    "start_time": "2022-07-12T12:54:52.277Z"
   },
   {
    "duration": 0,
    "start_time": "2022-07-12T12:54:52.278Z"
   },
   {
    "duration": 0,
    "start_time": "2022-07-12T12:54:52.280Z"
   },
   {
    "duration": 0,
    "start_time": "2022-07-12T12:54:52.281Z"
   },
   {
    "duration": 0,
    "start_time": "2022-07-12T12:54:52.282Z"
   },
   {
    "duration": 0,
    "start_time": "2022-07-12T12:54:52.283Z"
   },
   {
    "duration": 0,
    "start_time": "2022-07-12T12:54:52.284Z"
   },
   {
    "duration": 0,
    "start_time": "2022-07-12T12:54:52.285Z"
   },
   {
    "duration": 0,
    "start_time": "2022-07-12T12:54:52.286Z"
   },
   {
    "duration": 0,
    "start_time": "2022-07-12T12:54:52.287Z"
   },
   {
    "duration": 0,
    "start_time": "2022-07-12T12:54:52.288Z"
   },
   {
    "duration": 0,
    "start_time": "2022-07-12T12:54:52.289Z"
   },
   {
    "duration": 0,
    "start_time": "2022-07-12T12:54:52.290Z"
   },
   {
    "duration": 0,
    "start_time": "2022-07-12T12:54:52.291Z"
   },
   {
    "duration": 172,
    "start_time": "2022-07-12T12:56:49.252Z"
   },
   {
    "duration": 10,
    "start_time": "2022-07-12T12:56:55.724Z"
   },
   {
    "duration": 4,
    "start_time": "2022-07-12T12:57:02.141Z"
   },
   {
    "duration": 285,
    "start_time": "2022-07-12T12:59:22.568Z"
   },
   {
    "duration": 502,
    "start_time": "2022-07-12T13:03:11.903Z"
   },
   {
    "duration": 33,
    "start_time": "2022-07-12T13:03:12.408Z"
   },
   {
    "duration": 2225,
    "start_time": "2022-07-12T13:03:12.443Z"
   },
   {
    "duration": 4,
    "start_time": "2022-07-12T13:03:14.670Z"
   },
   {
    "duration": 7,
    "start_time": "2022-07-12T13:03:14.675Z"
   },
   {
    "duration": 18,
    "start_time": "2022-07-12T13:03:14.684Z"
   },
   {
    "duration": 16,
    "start_time": "2022-07-12T13:03:14.704Z"
   },
   {
    "duration": 6,
    "start_time": "2022-07-12T13:03:14.722Z"
   },
   {
    "duration": 17,
    "start_time": "2022-07-12T13:03:14.729Z"
   },
   {
    "duration": 12,
    "start_time": "2022-07-12T13:03:14.764Z"
   },
   {
    "duration": 6,
    "start_time": "2022-07-12T13:03:14.778Z"
   },
   {
    "duration": 355,
    "start_time": "2022-07-12T13:03:14.786Z"
   },
   {
    "duration": 6,
    "start_time": "2022-07-12T13:03:15.143Z"
   },
   {
    "duration": 35,
    "start_time": "2022-07-12T13:03:15.150Z"
   },
   {
    "duration": 205,
    "start_time": "2022-07-12T13:03:15.186Z"
   },
   {
    "duration": 11,
    "start_time": "2022-07-12T13:03:15.393Z"
   },
   {
    "duration": 207,
    "start_time": "2022-07-12T13:03:15.406Z"
   },
   {
    "duration": 214,
    "start_time": "2022-07-12T13:03:15.615Z"
   },
   {
    "duration": 7,
    "start_time": "2022-07-12T13:03:15.830Z"
   },
   {
    "duration": 13,
    "start_time": "2022-07-12T13:03:15.839Z"
   },
   {
    "duration": 7,
    "start_time": "2022-07-12T13:03:15.864Z"
   },
   {
    "duration": 11,
    "start_time": "2022-07-12T13:03:15.873Z"
   },
   {
    "duration": 156,
    "start_time": "2022-07-12T13:03:15.885Z"
   },
   {
    "duration": 4,
    "start_time": "2022-07-12T13:03:16.043Z"
   },
   {
    "duration": 206,
    "start_time": "2022-07-12T13:03:16.049Z"
   },
   {
    "duration": 10,
    "start_time": "2022-07-12T13:03:16.257Z"
   },
   {
    "duration": 247,
    "start_time": "2022-07-12T13:03:16.268Z"
   },
   {
    "duration": 169,
    "start_time": "2022-07-12T13:03:16.519Z"
   },
   {
    "duration": 9,
    "start_time": "2022-07-12T13:03:16.689Z"
   },
   {
    "duration": 8,
    "start_time": "2022-07-12T13:03:16.700Z"
   },
   {
    "duration": 209,
    "start_time": "2022-07-12T13:03:16.710Z"
   },
   {
    "duration": 184,
    "start_time": "2022-07-12T13:03:16.921Z"
   },
   {
    "duration": 9,
    "start_time": "2022-07-12T13:03:17.107Z"
   },
   {
    "duration": 8,
    "start_time": "2022-07-12T13:03:17.117Z"
   },
   {
    "duration": 208,
    "start_time": "2022-07-12T13:03:17.127Z"
   },
   {
    "duration": 9,
    "start_time": "2022-07-12T13:03:17.337Z"
   },
   {
    "duration": 22,
    "start_time": "2022-07-12T13:03:17.348Z"
   },
   {
    "duration": 191,
    "start_time": "2022-07-12T13:03:17.372Z"
   },
   {
    "duration": 10,
    "start_time": "2022-07-12T13:03:17.565Z"
   },
   {
    "duration": 4,
    "start_time": "2022-07-12T13:03:17.576Z"
   },
   {
    "duration": 152,
    "start_time": "2022-07-12T13:03:17.582Z"
   },
   {
    "duration": 40,
    "start_time": "2022-07-12T13:03:17.735Z"
   },
   {
    "duration": 26,
    "start_time": "2022-07-12T13:03:17.777Z"
   },
   {
    "duration": 25,
    "start_time": "2022-07-12T13:03:17.805Z"
   },
   {
    "duration": 169,
    "start_time": "2022-07-12T13:03:17.832Z"
   },
   {
    "duration": 25,
    "start_time": "2022-07-12T13:03:18.003Z"
   },
   {
    "duration": 274,
    "start_time": "2022-07-12T13:03:18.030Z"
   },
   {
    "duration": 9,
    "start_time": "2022-07-12T13:03:18.306Z"
   },
   {
    "duration": 271,
    "start_time": "2022-07-12T13:03:18.317Z"
   },
   {
    "duration": 8,
    "start_time": "2022-07-12T13:03:18.590Z"
   },
   {
    "duration": 349,
    "start_time": "2022-07-12T13:03:18.600Z"
   },
   {
    "duration": 18,
    "start_time": "2022-07-12T13:03:18.951Z"
   },
   {
    "duration": 265,
    "start_time": "2022-07-12T13:03:18.971Z"
   },
   {
    "duration": 3,
    "start_time": "2022-07-12T13:03:19.238Z"
   },
   {
    "duration": 21,
    "start_time": "2022-07-12T13:03:19.243Z"
   },
   {
    "duration": 158,
    "start_time": "2022-07-12T13:03:19.266Z"
   },
   {
    "duration": 6,
    "start_time": "2022-07-12T13:03:19.426Z"
   },
   {
    "duration": 15,
    "start_time": "2022-07-12T13:03:19.434Z"
   },
   {
    "duration": 190,
    "start_time": "2022-07-12T13:03:19.450Z"
   },
   {
    "duration": 22,
    "start_time": "2022-07-12T13:03:19.642Z"
   },
   {
    "duration": 201,
    "start_time": "2022-07-12T13:03:19.666Z"
   },
   {
    "duration": 8,
    "start_time": "2022-07-12T13:03:19.868Z"
   },
   {
    "duration": 145,
    "start_time": "2022-07-12T13:03:19.877Z"
   },
   {
    "duration": 7,
    "start_time": "2022-07-12T13:03:20.023Z"
   },
   {
    "duration": 230,
    "start_time": "2022-07-12T13:03:20.032Z"
   },
   {
    "duration": 9,
    "start_time": "2022-07-12T13:03:20.264Z"
   },
   {
    "duration": 6,
    "start_time": "2022-07-12T13:03:20.274Z"
   },
   {
    "duration": 14,
    "start_time": "2022-07-12T13:03:20.282Z"
   },
   {
    "duration": 280,
    "start_time": "2022-07-12T13:03:20.297Z"
   },
   {
    "duration": 10,
    "start_time": "2022-07-12T13:03:20.579Z"
   },
   {
    "duration": 432,
    "start_time": "2022-07-12T13:03:20.590Z"
   },
   {
    "duration": 9,
    "start_time": "2022-07-12T13:03:21.024Z"
   },
   {
    "duration": 278,
    "start_time": "2022-07-12T13:03:21.034Z"
   },
   {
    "duration": 123,
    "start_time": "2022-07-12T13:03:21.314Z"
   },
   {
    "duration": 4735,
    "start_time": "2022-07-12T13:03:21.438Z"
   },
   {
    "duration": 11,
    "start_time": "2022-07-12T13:03:26.174Z"
   },
   {
    "duration": 9,
    "start_time": "2022-07-12T13:03:26.186Z"
   },
   {
    "duration": 188,
    "start_time": "2022-07-12T13:03:26.196Z"
   },
   {
    "duration": 20,
    "start_time": "2022-07-12T13:03:26.386Z"
   },
   {
    "duration": 8,
    "start_time": "2022-07-12T13:03:26.407Z"
   },
   {
    "duration": 11,
    "start_time": "2022-07-12T13:03:26.417Z"
   },
   {
    "duration": 137,
    "start_time": "2022-07-12T13:03:26.434Z"
   },
   {
    "duration": 18,
    "start_time": "2022-07-12T13:03:26.573Z"
   },
   {
    "duration": 139,
    "start_time": "2022-07-12T13:03:26.592Z"
   },
   {
    "duration": 16,
    "start_time": "2022-07-12T13:03:26.733Z"
   },
   {
    "duration": 142,
    "start_time": "2022-07-12T13:03:26.750Z"
   },
   {
    "duration": 11,
    "start_time": "2022-07-12T13:03:26.893Z"
   },
   {
    "duration": 162,
    "start_time": "2022-07-12T13:03:26.905Z"
   },
   {
    "duration": 12,
    "start_time": "2022-07-12T13:03:27.068Z"
   },
   {
    "duration": 134,
    "start_time": "2022-07-12T13:03:27.082Z"
   },
   {
    "duration": 115,
    "start_time": "2022-07-12T13:03:27.218Z"
   },
   {
    "duration": 7,
    "start_time": "2022-07-12T13:03:27.335Z"
   },
   {
    "duration": 42,
    "start_time": "2022-07-12T13:03:27.343Z"
   },
   {
    "duration": 22,
    "start_time": "2022-07-12T13:03:27.386Z"
   },
   {
    "duration": 23,
    "start_time": "2022-07-12T13:03:27.410Z"
   },
   {
    "duration": 38,
    "start_time": "2022-07-12T13:03:27.435Z"
   },
   {
    "duration": 272,
    "start_time": "2022-07-12T13:03:27.475Z"
   },
   {
    "duration": 190,
    "start_time": "2022-07-12T13:08:30.370Z"
   },
   {
    "duration": 584,
    "start_time": "2022-07-12T13:09:05.852Z"
   },
   {
    "duration": 31,
    "start_time": "2022-07-12T13:09:06.438Z"
   },
   {
    "duration": 2133,
    "start_time": "2022-07-12T13:09:06.471Z"
   },
   {
    "duration": 4,
    "start_time": "2022-07-12T13:09:08.606Z"
   },
   {
    "duration": 9,
    "start_time": "2022-07-12T13:09:08.612Z"
   },
   {
    "duration": 13,
    "start_time": "2022-07-12T13:09:08.622Z"
   },
   {
    "duration": 16,
    "start_time": "2022-07-12T13:09:08.636Z"
   },
   {
    "duration": 7,
    "start_time": "2022-07-12T13:09:08.654Z"
   },
   {
    "duration": 9,
    "start_time": "2022-07-12T13:09:08.664Z"
   },
   {
    "duration": 34,
    "start_time": "2022-07-12T13:09:08.675Z"
   },
   {
    "duration": 7,
    "start_time": "2022-07-12T13:09:08.710Z"
   },
   {
    "duration": 378,
    "start_time": "2022-07-12T13:09:08.719Z"
   },
   {
    "duration": 7,
    "start_time": "2022-07-12T13:09:09.100Z"
   },
   {
    "duration": 27,
    "start_time": "2022-07-12T13:09:09.110Z"
   },
   {
    "duration": 226,
    "start_time": "2022-07-12T13:09:09.139Z"
   },
   {
    "duration": 10,
    "start_time": "2022-07-12T13:09:09.367Z"
   },
   {
    "duration": 211,
    "start_time": "2022-07-12T13:09:09.379Z"
   },
   {
    "duration": 219,
    "start_time": "2022-07-12T13:09:09.591Z"
   },
   {
    "duration": 7,
    "start_time": "2022-07-12T13:09:09.811Z"
   },
   {
    "duration": 13,
    "start_time": "2022-07-12T13:09:09.819Z"
   },
   {
    "duration": 7,
    "start_time": "2022-07-12T13:09:09.834Z"
   },
   {
    "duration": 26,
    "start_time": "2022-07-12T13:09:09.842Z"
   },
   {
    "duration": 164,
    "start_time": "2022-07-12T13:09:09.870Z"
   },
   {
    "duration": 4,
    "start_time": "2022-07-12T13:09:10.036Z"
   },
   {
    "duration": 210,
    "start_time": "2022-07-12T13:09:10.042Z"
   },
   {
    "duration": 13,
    "start_time": "2022-07-12T13:09:10.254Z"
   },
   {
    "duration": 277,
    "start_time": "2022-07-12T13:09:10.269Z"
   },
   {
    "duration": 201,
    "start_time": "2022-07-12T13:09:10.548Z"
   },
   {
    "duration": 14,
    "start_time": "2022-07-12T13:09:10.751Z"
   },
   {
    "duration": 9,
    "start_time": "2022-07-12T13:09:10.767Z"
   },
   {
    "duration": 208,
    "start_time": "2022-07-12T13:09:10.777Z"
   },
   {
    "duration": 192,
    "start_time": "2022-07-12T13:09:10.986Z"
   },
   {
    "duration": 9,
    "start_time": "2022-07-12T13:09:11.180Z"
   },
   {
    "duration": 9,
    "start_time": "2022-07-12T13:09:11.191Z"
   },
   {
    "duration": 222,
    "start_time": "2022-07-12T13:09:11.201Z"
   },
   {
    "duration": 9,
    "start_time": "2022-07-12T13:09:11.425Z"
   },
   {
    "duration": 10,
    "start_time": "2022-07-12T13:09:11.436Z"
   },
   {
    "duration": 192,
    "start_time": "2022-07-12T13:09:11.448Z"
   },
   {
    "duration": 9,
    "start_time": "2022-07-12T13:09:11.642Z"
   },
   {
    "duration": 11,
    "start_time": "2022-07-12T13:09:11.653Z"
   },
   {
    "duration": 154,
    "start_time": "2022-07-12T13:09:11.669Z"
   },
   {
    "duration": 28,
    "start_time": "2022-07-12T13:09:11.824Z"
   },
   {
    "duration": 26,
    "start_time": "2022-07-12T13:09:11.863Z"
   },
   {
    "duration": 26,
    "start_time": "2022-07-12T13:09:11.891Z"
   },
   {
    "duration": 176,
    "start_time": "2022-07-12T13:09:11.920Z"
   },
   {
    "duration": 28,
    "start_time": "2022-07-12T13:09:12.098Z"
   },
   {
    "duration": 264,
    "start_time": "2022-07-12T13:09:12.128Z"
   },
   {
    "duration": 10,
    "start_time": "2022-07-12T13:09:12.393Z"
   },
   {
    "duration": 308,
    "start_time": "2022-07-12T13:09:12.404Z"
   },
   {
    "duration": 12,
    "start_time": "2022-07-12T13:09:12.714Z"
   },
   {
    "duration": 407,
    "start_time": "2022-07-12T13:09:12.728Z"
   },
   {
    "duration": 10,
    "start_time": "2022-07-12T13:09:13.138Z"
   },
   {
    "duration": 289,
    "start_time": "2022-07-12T13:09:13.150Z"
   },
   {
    "duration": 3,
    "start_time": "2022-07-12T13:09:13.441Z"
   },
   {
    "duration": 21,
    "start_time": "2022-07-12T13:09:13.445Z"
   },
   {
    "duration": 169,
    "start_time": "2022-07-12T13:09:13.468Z"
   },
   {
    "duration": 6,
    "start_time": "2022-07-12T13:09:13.639Z"
   },
   {
    "duration": 18,
    "start_time": "2022-07-12T13:09:13.646Z"
   },
   {
    "duration": 170,
    "start_time": "2022-07-12T13:09:13.667Z"
   },
   {
    "duration": 9,
    "start_time": "2022-07-12T13:09:13.838Z"
   },
   {
    "duration": 194,
    "start_time": "2022-07-12T13:09:13.848Z"
   },
   {
    "duration": 8,
    "start_time": "2022-07-12T13:09:14.043Z"
   },
   {
    "duration": 146,
    "start_time": "2022-07-12T13:09:14.053Z"
   },
   {
    "duration": 7,
    "start_time": "2022-07-12T13:09:14.201Z"
   },
   {
    "duration": 226,
    "start_time": "2022-07-12T13:09:14.210Z"
   },
   {
    "duration": 9,
    "start_time": "2022-07-12T13:09:14.438Z"
   },
   {
    "duration": 21,
    "start_time": "2022-07-12T13:09:14.448Z"
   },
   {
    "duration": 18,
    "start_time": "2022-07-12T13:09:14.470Z"
   },
   {
    "duration": 261,
    "start_time": "2022-07-12T13:09:14.489Z"
   },
   {
    "duration": 14,
    "start_time": "2022-07-12T13:09:14.752Z"
   },
   {
    "duration": 401,
    "start_time": "2022-07-12T13:09:14.768Z"
   },
   {
    "duration": 8,
    "start_time": "2022-07-12T13:09:15.171Z"
   },
   {
    "duration": 297,
    "start_time": "2022-07-12T13:09:15.180Z"
   },
   {
    "duration": 105,
    "start_time": "2022-07-12T13:09:15.479Z"
   },
   {
    "duration": 4683,
    "start_time": "2022-07-12T13:09:15.586Z"
   },
   {
    "duration": 9,
    "start_time": "2022-07-12T13:09:20.271Z"
   },
   {
    "duration": 9,
    "start_time": "2022-07-12T13:09:20.282Z"
   },
   {
    "duration": 185,
    "start_time": "2022-07-12T13:09:20.292Z"
   },
   {
    "duration": 21,
    "start_time": "2022-07-12T13:09:20.478Z"
   },
   {
    "duration": 8,
    "start_time": "2022-07-12T13:09:20.501Z"
   },
   {
    "duration": 11,
    "start_time": "2022-07-12T13:09:20.511Z"
   },
   {
    "duration": 139,
    "start_time": "2022-07-12T13:09:20.524Z"
   },
   {
    "duration": 17,
    "start_time": "2022-07-12T13:09:20.665Z"
   },
   {
    "duration": 138,
    "start_time": "2022-07-12T13:09:20.683Z"
   },
   {
    "duration": 17,
    "start_time": "2022-07-12T13:09:20.822Z"
   },
   {
    "duration": 150,
    "start_time": "2022-07-12T13:09:20.841Z"
   },
   {
    "duration": 10,
    "start_time": "2022-07-12T13:09:20.993Z"
   },
   {
    "duration": 164,
    "start_time": "2022-07-12T13:09:21.004Z"
   },
   {
    "duration": 12,
    "start_time": "2022-07-12T13:09:21.170Z"
   },
   {
    "duration": 148,
    "start_time": "2022-07-12T13:09:21.184Z"
   },
   {
    "duration": 140,
    "start_time": "2022-07-12T13:09:21.334Z"
   },
   {
    "duration": 9,
    "start_time": "2022-07-12T13:09:21.476Z"
   },
   {
    "duration": 39,
    "start_time": "2022-07-12T13:09:21.486Z"
   },
   {
    "duration": 36,
    "start_time": "2022-07-12T13:09:21.527Z"
   },
   {
    "duration": 23,
    "start_time": "2022-07-12T13:09:21.565Z"
   },
   {
    "duration": 19,
    "start_time": "2022-07-12T13:09:21.589Z"
   },
   {
    "duration": 285,
    "start_time": "2022-07-12T13:09:21.610Z"
   },
   {
    "duration": 937,
    "start_time": "2022-07-12T13:21:33.904Z"
   },
   {
    "duration": 650,
    "start_time": "2022-07-12T13:22:06.606Z"
   },
   {
    "duration": 155,
    "start_time": "2022-07-12T13:22:13.573Z"
   },
   {
    "duration": 161,
    "start_time": "2022-07-12T13:22:30.549Z"
   },
   {
    "duration": 14,
    "start_time": "2022-07-12T13:25:46.777Z"
   },
   {
    "duration": 313,
    "start_time": "2022-07-12T13:28:11.646Z"
   },
   {
    "duration": 135,
    "start_time": "2022-07-12T13:28:21.150Z"
   },
   {
    "duration": 83,
    "start_time": "2022-07-13T02:55:48.852Z"
   },
   {
    "duration": 958,
    "start_time": "2022-07-13T02:55:55.910Z"
   },
   {
    "duration": 55,
    "start_time": "2022-07-13T02:55:56.871Z"
   },
   {
    "duration": 3189,
    "start_time": "2022-07-13T02:55:56.929Z"
   },
   {
    "duration": 6,
    "start_time": "2022-07-13T02:56:00.122Z"
   },
   {
    "duration": 13,
    "start_time": "2022-07-13T02:56:00.131Z"
   },
   {
    "duration": 30,
    "start_time": "2022-07-13T02:56:00.146Z"
   },
   {
    "duration": 32,
    "start_time": "2022-07-13T02:56:00.179Z"
   },
   {
    "duration": 11,
    "start_time": "2022-07-13T02:56:00.214Z"
   },
   {
    "duration": 13,
    "start_time": "2022-07-13T02:56:00.227Z"
   },
   {
    "duration": 19,
    "start_time": "2022-07-13T02:56:00.244Z"
   },
   {
    "duration": 10,
    "start_time": "2022-07-13T02:56:00.265Z"
   },
   {
    "duration": 457,
    "start_time": "2022-07-13T02:56:00.299Z"
   },
   {
    "duration": 10,
    "start_time": "2022-07-13T02:56:00.758Z"
   },
   {
    "duration": 58,
    "start_time": "2022-07-13T02:56:00.770Z"
   },
   {
    "duration": 281,
    "start_time": "2022-07-13T02:56:00.830Z"
   },
   {
    "duration": 10,
    "start_time": "2022-07-13T02:56:01.119Z"
   },
   {
    "duration": 274,
    "start_time": "2022-07-13T02:56:01.132Z"
   },
   {
    "duration": 286,
    "start_time": "2022-07-13T02:56:01.408Z"
   },
   {
    "duration": 20,
    "start_time": "2022-07-13T02:56:01.698Z"
   },
   {
    "duration": 34,
    "start_time": "2022-07-13T02:56:01.720Z"
   },
   {
    "duration": 10,
    "start_time": "2022-07-13T02:56:01.756Z"
   },
   {
    "duration": 23,
    "start_time": "2022-07-13T02:56:01.768Z"
   },
   {
    "duration": 232,
    "start_time": "2022-07-13T02:56:01.793Z"
   },
   {
    "duration": 5,
    "start_time": "2022-07-13T02:56:02.026Z"
   },
   {
    "duration": 391,
    "start_time": "2022-07-13T02:56:02.034Z"
   },
   {
    "duration": 6,
    "start_time": "2022-07-13T02:56:02.427Z"
   },
   {
    "duration": 234,
    "start_time": "2022-07-13T02:56:02.435Z"
   },
   {
    "duration": 244,
    "start_time": "2022-07-13T02:56:02.675Z"
   },
   {
    "duration": 16,
    "start_time": "2022-07-13T02:56:02.920Z"
   },
   {
    "duration": 10,
    "start_time": "2022-07-13T02:56:02.938Z"
   },
   {
    "duration": 373,
    "start_time": "2022-07-13T02:56:02.951Z"
   },
   {
    "duration": 217,
    "start_time": "2022-07-13T02:56:03.327Z"
   },
   {
    "duration": 15,
    "start_time": "2022-07-13T02:56:03.546Z"
   },
   {
    "duration": 12,
    "start_time": "2022-07-13T02:56:03.563Z"
   },
   {
    "duration": 300,
    "start_time": "2022-07-13T02:56:03.577Z"
   },
   {
    "duration": 25,
    "start_time": "2022-07-13T02:56:03.879Z"
   },
   {
    "duration": 26,
    "start_time": "2022-07-13T02:56:03.906Z"
   },
   {
    "duration": 240,
    "start_time": "2022-07-13T02:56:03.934Z"
   },
   {
    "duration": 11,
    "start_time": "2022-07-13T02:56:04.175Z"
   },
   {
    "duration": 11,
    "start_time": "2022-07-13T02:56:04.198Z"
   },
   {
    "duration": 212,
    "start_time": "2022-07-13T02:56:04.210Z"
   },
   {
    "duration": 31,
    "start_time": "2022-07-13T02:56:04.424Z"
   },
   {
    "duration": 52,
    "start_time": "2022-07-13T02:56:04.457Z"
   },
   {
    "duration": 33,
    "start_time": "2022-07-13T02:56:04.512Z"
   },
   {
    "duration": 206,
    "start_time": "2022-07-13T02:56:04.547Z"
   },
   {
    "duration": 28,
    "start_time": "2022-07-13T02:56:04.755Z"
   },
   {
    "duration": 335,
    "start_time": "2022-07-13T02:56:04.805Z"
   },
   {
    "duration": 11,
    "start_time": "2022-07-13T02:56:05.143Z"
   },
   {
    "duration": 484,
    "start_time": "2022-07-13T02:56:05.157Z"
   },
   {
    "duration": 12,
    "start_time": "2022-07-13T02:56:05.643Z"
   },
   {
    "duration": 355,
    "start_time": "2022-07-13T02:56:05.658Z"
   },
   {
    "duration": 13,
    "start_time": "2022-07-13T02:56:06.015Z"
   },
   {
    "duration": 454,
    "start_time": "2022-07-13T02:56:06.030Z"
   },
   {
    "duration": 3,
    "start_time": "2022-07-13T02:56:06.486Z"
   },
   {
    "duration": 32,
    "start_time": "2022-07-13T02:56:06.497Z"
   },
   {
    "duration": 207,
    "start_time": "2022-07-13T02:56:06.531Z"
   },
   {
    "duration": 14,
    "start_time": "2022-07-13T02:56:06.741Z"
   },
   {
    "duration": 15,
    "start_time": "2022-07-13T02:56:06.757Z"
   },
   {
    "duration": 282,
    "start_time": "2022-07-13T02:56:06.774Z"
   },
   {
    "duration": 19,
    "start_time": "2022-07-13T02:56:07.059Z"
   },
   {
    "duration": 350,
    "start_time": "2022-07-13T02:56:07.080Z"
   },
   {
    "duration": 12,
    "start_time": "2022-07-13T02:56:07.432Z"
   },
   {
    "duration": 190,
    "start_time": "2022-07-13T02:56:07.447Z"
   },
   {
    "duration": 10,
    "start_time": "2022-07-13T02:56:07.640Z"
   },
   {
    "duration": 322,
    "start_time": "2022-07-13T02:56:07.653Z"
   },
   {
    "duration": 13,
    "start_time": "2022-07-13T02:56:07.976Z"
   },
   {
    "duration": 19,
    "start_time": "2022-07-13T02:56:08.001Z"
   },
   {
    "duration": 21,
    "start_time": "2022-07-13T02:56:08.024Z"
   },
   {
    "duration": 382,
    "start_time": "2022-07-13T02:56:08.048Z"
   },
   {
    "duration": 10,
    "start_time": "2022-07-13T02:56:08.433Z"
   },
   {
    "duration": 511,
    "start_time": "2022-07-13T02:56:08.445Z"
   },
   {
    "duration": 16,
    "start_time": "2022-07-13T02:56:08.959Z"
   },
   {
    "duration": 388,
    "start_time": "2022-07-13T02:56:08.977Z"
   },
   {
    "duration": 194,
    "start_time": "2022-07-13T02:56:09.367Z"
   },
   {
    "duration": 229,
    "start_time": "2022-07-13T02:56:09.562Z"
   },
   {
    "duration": 13,
    "start_time": "2022-07-13T02:56:09.798Z"
   },
   {
    "duration": 34,
    "start_time": "2022-07-13T02:56:09.813Z"
   },
   {
    "duration": 235,
    "start_time": "2022-07-13T02:56:09.849Z"
   },
   {
    "duration": 34,
    "start_time": "2022-07-13T02:56:10.086Z"
   },
   {
    "duration": 10,
    "start_time": "2022-07-13T02:56:10.125Z"
   },
   {
    "duration": 17,
    "start_time": "2022-07-13T02:56:10.136Z"
   },
   {
    "duration": 179,
    "start_time": "2022-07-13T02:56:10.161Z"
   },
   {
    "duration": 19,
    "start_time": "2022-07-13T02:56:10.343Z"
   },
   {
    "duration": 227,
    "start_time": "2022-07-13T02:56:10.365Z"
   },
   {
    "duration": 31,
    "start_time": "2022-07-13T02:56:10.598Z"
   },
   {
    "duration": 185,
    "start_time": "2022-07-13T02:56:10.631Z"
   },
   {
    "duration": 18,
    "start_time": "2022-07-13T02:56:10.822Z"
   },
   {
    "duration": 197,
    "start_time": "2022-07-13T02:56:10.842Z"
   },
   {
    "duration": 14,
    "start_time": "2022-07-13T02:56:11.042Z"
   },
   {
    "duration": 227,
    "start_time": "2022-07-13T02:56:11.060Z"
   },
   {
    "duration": 234,
    "start_time": "2022-07-13T02:56:11.290Z"
   },
   {
    "duration": 199,
    "start_time": "2022-07-13T02:56:11.527Z"
   },
   {
    "duration": 12,
    "start_time": "2022-07-13T02:56:11.728Z"
   },
   {
    "duration": 30,
    "start_time": "2022-07-13T02:56:11.742Z"
   },
   {
    "duration": 53,
    "start_time": "2022-07-13T02:56:11.774Z"
   },
   {
    "duration": 42,
    "start_time": "2022-07-13T02:56:11.829Z"
   },
   {
    "duration": 45,
    "start_time": "2022-07-13T02:56:11.873Z"
   },
   {
    "duration": 341,
    "start_time": "2022-07-13T02:56:11.921Z"
   },
   {
    "duration": 143,
    "start_time": "2022-07-13T02:56:32.558Z"
   },
   {
    "duration": 93,
    "start_time": "2022-07-13T02:58:59.027Z"
   },
   {
    "duration": 216,
    "start_time": "2022-07-13T02:59:36.630Z"
   },
   {
    "duration": 117,
    "start_time": "2022-07-13T03:00:03.029Z"
   },
   {
    "duration": 104,
    "start_time": "2022-07-13T03:03:31.813Z"
   },
   {
    "duration": 181,
    "start_time": "2022-07-13T03:03:49.583Z"
   },
   {
    "duration": 464,
    "start_time": "2023-02-15T12:16:12.111Z"
   },
   {
    "duration": 174,
    "start_time": "2023-02-15T12:16:26.553Z"
   },
   {
    "duration": 106,
    "start_time": "2023-02-15T12:17:17.144Z"
   },
   {
    "duration": 36,
    "start_time": "2023-02-15T12:17:56.325Z"
   },
   {
    "duration": 2620,
    "start_time": "2023-02-15T12:18:17.081Z"
   },
   {
    "duration": 3,
    "start_time": "2023-02-15T12:18:46.684Z"
   },
   {
    "duration": 1995,
    "start_time": "2023-02-15T12:18:50.246Z"
   }
  ],
  "kernelspec": {
   "display_name": "Python 3 (ipykernel)",
   "language": "python",
   "name": "python3"
  },
  "language_info": {
   "codemirror_mode": {
    "name": "ipython",
    "version": 3
   },
   "file_extension": ".py",
   "mimetype": "text/x-python",
   "name": "python",
   "nbconvert_exporter": "python",
   "pygments_lexer": "ipython3",
   "version": "3.9.5"
  },
  "toc": {
   "base_numbering": 1,
   "nav_menu": {},
   "number_sections": true,
   "sideBar": true,
   "skip_h1_title": true,
   "title_cell": "Table of Contents",
   "title_sidebar": "Contents",
   "toc_cell": false,
   "toc_position": {},
   "toc_section_display": true,
   "toc_window_display": true
  }
 },
 "nbformat": 4,
 "nbformat_minor": 2
}
